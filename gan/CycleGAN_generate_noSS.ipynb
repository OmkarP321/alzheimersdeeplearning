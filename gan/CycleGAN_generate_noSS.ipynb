{
 "cells": [
  {
   "cell_type": "code",
   "execution_count": 2,
   "metadata": {},
   "outputs": [],
   "source": [
    "import torch\n",
    "from CycleGAN_models import *\n",
    "from tqdm.notebook import tqdm\n",
    "from torch.utils.data import DataLoader\n",
    "import matplotlib.pyplot as plt\n",
    "\n",
    "dataset = torch.load(\"../datasets/64dataset.pt\")\n",
    "dataset = [sample for sample in dataset if sample != None]\n",
    "\n",
    "NC = []\n",
    "AD = []\n",
    "\n",
    "for data in dataset:\n",
    "    if data[1] == 0:\n",
    "        NC.append(data)\n",
    "    else:\n",
    "        AD.append(data)\n",
    "        \n",
    "def process_gan(dataset, s):\n",
    "    \n",
    "    output = []\n",
    "    dataset = [sample[0] for sample in dataset]\n",
    "    for sample in dataset:\n",
    "        sample = sample[s][0]\n",
    "        sample /= torch.max(sample)\n",
    "        output.append(torch.unsqueeze(sample, 0))\n",
    "    return output\n",
    "\n",
    "        \n",
    "NCset1 = process_gan(NC, 0)\n",
    "NCset2 = process_gan(NC, 1)\n",
    "NCset3 = process_gan(NC, 2)\n",
    "\n",
    "ADset1 = process_gan(AD, 0)\n",
    "ADset2 = process_gan(AD, 1)\n",
    "ADset3 = process_gan(AD, 2)"
   ]
  },
  {
   "cell_type": "code",
   "execution_count": 5,
   "metadata": {
    "scrolled": true
   },
   "outputs": [
    {
     "data": {
      "application/vnd.jupyter.widget-view+json": {
       "model_id": "66a38cf9a74d4906b15a194ed148c67e",
       "version_major": 2,
       "version_minor": 0
      },
      "text/plain": [
       "HBox(children=(FloatProgress(value=0.0, max=705.0), HTML(value='')))"
      ]
     },
     "metadata": {},
     "output_type": "display_data"
    },
    {
     "name": "stdout",
     "output_type": "stream",
     "text": [
      "\n"
     ]
    },
    {
     "data": {
      "application/vnd.jupyter.widget-view+json": {
       "model_id": "581b20e7b4494ba09f3b8bf21d2ffada",
       "version_major": 2,
       "version_minor": 0
      },
      "text/plain": [
       "HBox(children=(FloatProgress(value=0.0, max=476.0), HTML(value='')))"
      ]
     },
     "metadata": {},
     "output_type": "display_data"
    },
    {
     "name": "stdout",
     "output_type": "stream",
     "text": [
      "\n"
     ]
    }
   ],
   "source": [
    "ADgan1 = []\n",
    "NCgan1 = []\n",
    "\n",
    "epoch = 100\n",
    "input_shape = (1, 64, 64)\n",
    "dataset_name = 'CycleGAN1'\n",
    "\n",
    "G_AB = GeneratorResNet(input_shape, 9).cuda()\n",
    "G_BA = GeneratorResNet(input_shape, 9).cuda()\n",
    "G_AB.load_state_dict(torch.load(\"saved_models/%s/G_AB_%d.pth\" % (dataset_name, epoch)))\n",
    "G_BA.load_state_dict(torch.load(\"saved_models/%s/G_BA_%d.pth\" % (dataset_name, epoch)))\n",
    "\n",
    "for imgs in tqdm(NCset1):\n",
    "\n",
    "    G_AB.eval()\n",
    "    \n",
    "    real_A = torch.unsqueeze(Variable(imgs.type(torch.cuda.FloatTensor)), 0)\n",
    "    fake_B = torch.squeeze(G_AB(real_A))\n",
    "    fake_B = fake_B.detach().cpu()\n",
    "\n",
    "    B = torch.stack([fake_B, fake_B, fake_B], 0)\n",
    "    ADgan1.append((B.reshape(3, 64, 64).double(), torch.tensor(1).long()))\n",
    "\n",
    "torch.save(ADgan1, '../datasets/GAN_noSS/64ADgan1noSS.pt')\n",
    "\n",
    "for imgs in tqdm(ADset1):\n",
    "    \n",
    "    G_BA.eval()\n",
    "    real_B = torch.unsqueeze(Variable(imgs.type(torch.cuda.FloatTensor)), 0)\n",
    "    fake_A = torch.squeeze(G_BA(real_B))\n",
    "    fake_A = fake_A.detach().cpu()\n",
    "\n",
    "    A = torch.stack([fake_A, fake_A, fake_A], 0)\n",
    "    NCgan1.append((A.reshape(3, 64, 64).double(), torch.tensor(0).long()))\n",
    "\n",
    "torch.save(NCgan1, '../datasets/GAN_noSS/64NCgan1noSS.pt')"
   ]
  },
  {
   "cell_type": "code",
   "execution_count": 3,
   "metadata": {},
   "outputs": [
    {
     "data": {
      "application/vnd.jupyter.widget-view+json": {
       "model_id": "5f25d3a00aa343ea853179e30333ca85",
       "version_major": 2,
       "version_minor": 0
      },
      "text/plain": [
       "HBox(children=(FloatProgress(value=0.0, max=705.0), HTML(value='')))"
      ]
     },
     "metadata": {},
     "output_type": "display_data"
    },
    {
     "name": "stdout",
     "output_type": "stream",
     "text": [
      "\n"
     ]
    },
    {
     "data": {
      "application/vnd.jupyter.widget-view+json": {
       "model_id": "c3506ca30dc6465aa7a331417d754d26",
       "version_major": 2,
       "version_minor": 0
      },
      "text/plain": [
       "HBox(children=(FloatProgress(value=0.0, max=476.0), HTML(value='')))"
      ]
     },
     "metadata": {},
     "output_type": "display_data"
    },
    {
     "name": "stdout",
     "output_type": "stream",
     "text": [
      "\n"
     ]
    }
   ],
   "source": [
    "ADgan2 = []\n",
    "NCgan2 = []\n",
    "\n",
    "epoch = 100\n",
    "input_shape = (1, 64, 64)\n",
    "dataset_name = 'CycleGAN2'\n",
    "\n",
    "G_AB = GeneratorResNet(input_shape, 9).cuda()\n",
    "G_BA = GeneratorResNet(input_shape, 9).cuda()\n",
    "G_AB.load_state_dict(torch.load(\"saved_models/%s/G_AB_%d.pth\" % (dataset_name, epoch)))\n",
    "G_BA.load_state_dict(torch.load(\"saved_models/%s/G_BA_%d.pth\" % (dataset_name, epoch)))\n",
    "\n",
    "\n",
    "for imgs in tqdm(NCset2):\n",
    "\n",
    "    G_AB.eval()\n",
    "    \n",
    "    real_A = torch.unsqueeze(Variable(imgs.type(torch.cuda.FloatTensor)), 0)\n",
    "    fake_B = torch.squeeze(G_AB(real_A))\n",
    "    fake_B = fake_B.detach().cpu()\n",
    "\n",
    "    B = torch.stack([fake_B, fake_B, fake_B], 0)\n",
    "    ADgan2.append((B.reshape(3, 64, 64).double(), torch.tensor(1).long()))\n",
    "\n",
    "torch.save(ADgan2, '../datasets/GAN_noSS/64ADgan2noSS.pt')\n",
    "\n",
    "\n",
    "for imgs in tqdm(ADset2):\n",
    "    \n",
    "    G_BA.eval()\n",
    "    real_B = torch.unsqueeze(Variable(imgs.type(torch.cuda.FloatTensor)), 0)\n",
    "    fake_A = torch.squeeze(G_BA(real_B))\n",
    "    fake_A = fake_A.detach().cpu()\n",
    "\n",
    "    A = torch.stack([fake_A, fake_A, fake_A], 0)\n",
    "    NCgan2.append((A.reshape(3, 64, 64).double(), torch.tensor(0).long()))\n",
    "\n",
    "torch.save(NCgan2, '../datasets/GAN_noSS/64NCgan2noSS.pt')"
   ]
  },
  {
   "cell_type": "code",
   "execution_count": 4,
   "metadata": {},
   "outputs": [
    {
     "data": {
      "application/vnd.jupyter.widget-view+json": {
       "model_id": "22830ec208e244f78a5a74d01ef72caa",
       "version_major": 2,
       "version_minor": 0
      },
      "text/plain": [
       "HBox(children=(FloatProgress(value=0.0, max=705.0), HTML(value='')))"
      ]
     },
     "metadata": {},
     "output_type": "display_data"
    },
    {
     "name": "stdout",
     "output_type": "stream",
     "text": [
      "\n"
     ]
    },
    {
     "data": {
      "application/vnd.jupyter.widget-view+json": {
       "model_id": "81454ff79eb3452e9165b01f0aa48b4d",
       "version_major": 2,
       "version_minor": 0
      },
      "text/plain": [
       "HBox(children=(FloatProgress(value=0.0, max=476.0), HTML(value='')))"
      ]
     },
     "metadata": {},
     "output_type": "display_data"
    },
    {
     "name": "stdout",
     "output_type": "stream",
     "text": [
      "\n"
     ]
    }
   ],
   "source": [
    "ADgan3 = []\n",
    "NCgan3 = []\n",
    "\n",
    "epoch = 100\n",
    "input_shape = (1, 64, 64)\n",
    "dataset_name = 'CycleGAN3'\n",
    "\n",
    "G_AB = GeneratorResNet(input_shape, 9).cuda()\n",
    "G_BA = GeneratorResNet(input_shape, 9).cuda()\n",
    "G_AB.load_state_dict(torch.load(\"saved_models/%s/G_AB_%d.pth\" % (dataset_name, epoch)))\n",
    "G_BA.load_state_dict(torch.load(\"saved_models/%s/G_BA_%d.pth\" % (dataset_name, epoch)))\n",
    "\n",
    "\n",
    "for imgs in tqdm(NCset3):\n",
    "\n",
    "    G_AB.eval()\n",
    "    \n",
    "    real_A = torch.unsqueeze(Variable(imgs.type(torch.cuda.FloatTensor)), 0)\n",
    "    fake_B = torch.squeeze(G_AB(real_A))\n",
    "    fake_B = fake_B.detach().cpu()\n",
    "\n",
    "    B = torch.stack([fake_B, fake_B, fake_B], 0)\n",
    "    ADgan3.append((B.reshape(3, 64, 64).double(), torch.tensor(1).long()))\n",
    "\n",
    "torch.save(ADgan3, '../datasets/GAN_noSS/64ADgan3noSS.pt')\n",
    "\n",
    "\n",
    "for imgs in tqdm(ADset3):\n",
    "    \n",
    "    G_BA.eval()\n",
    "    real_B = torch.unsqueeze(Variable(imgs.type(torch.cuda.FloatTensor)), 0)\n",
    "    fake_A = torch.squeeze(G_BA(real_B))\n",
    "    fake_A = fake_A.detach().cpu()\n",
    "\n",
    "    A = torch.stack([fake_A, fake_A, fake_A], 0)\n",
    "    NCgan3.append((A.reshape(3, 64, 64).double(), torch.tensor(0).long()))\n",
    "\n",
    "torch.save(NCgan3, '../datasets/GAN_noSS/64NCgan3noSS.pt')"
   ]
  }
 ],
 "metadata": {
  "kernelspec": {
   "display_name": "Python 3",
   "language": "python",
   "name": "python3"
  },
  "language_info": {
   "codemirror_mode": {
    "name": "ipython",
    "version": 3
   },
   "file_extension": ".py",
   "mimetype": "text/x-python",
   "name": "python",
   "nbconvert_exporter": "python",
   "pygments_lexer": "ipython3",
   "version": "3.7.6"
  },
  "varInspector": {
   "cols": {
    "lenName": 16,
    "lenType": 16,
    "lenVar": 40
   },
   "kernels_config": {
    "python": {
     "delete_cmd_postfix": "",
     "delete_cmd_prefix": "del ",
     "library": "var_list.py",
     "varRefreshCmd": "print(var_dic_list())"
    },
    "r": {
     "delete_cmd_postfix": ") ",
     "delete_cmd_prefix": "rm(",
     "library": "var_list.r",
     "varRefreshCmd": "cat(var_dic_list()) "
    }
   },
   "types_to_exclude": [
    "module",
    "function",
    "builtin_function_or_method",
    "instance",
    "_Feature"
   ],
   "window_display": false
  }
 },
 "nbformat": 4,
 "nbformat_minor": 4
}
