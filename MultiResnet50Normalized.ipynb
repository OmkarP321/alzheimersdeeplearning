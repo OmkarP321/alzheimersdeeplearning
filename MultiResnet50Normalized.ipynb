{
 "cells": [
  {
   "cell_type": "code",
   "execution_count": 1,
   "metadata": {},
   "outputs": [],
   "source": [
    "import numpy as np\n",
    "import pandas as pd\n",
    "from random import shuffle\n",
    "from tqdm.notebook import tqdm\n",
    "import matplotlib.pyplot as plt\n",
    "import torch\n",
    "import torch.nn as nn\n",
    "import torch.nn.functional as F\n",
    "from torch.optim import lr_scheduler\n",
    "import torchvision\n",
    "from torch.utils.data import DataLoader, Dataset, random_split\n",
    "from torchvision import transforms, datasets, models\n",
    "from train import train_model, train_loss, train_accuracy, val_loss, val_accuracy\n",
    "from torchsummary import summary\n",
    "import time\n",
    "import copy\n",
    "device = torch.device(\"cuda:0\" if torch.cuda.is_available() else \"cpu\")\n",
    "\n",
    "batch_size = 32\n",
    "\n",
    "\n",
    "dataset = torch.load('normalizeddataset.pt')\n",
    "lengths = [\n",
    "    int(len(dataset) * 0.8),\n",
    "    int(len(dataset) * 0.1),\n",
    "    int(len(dataset) * 0.1) + 1\n",
    "]\n",
    "\n",
    "trainset, valset, testset = random_split(dataset, lengths)\n",
    "image_datasets = {'train': trainset, 'val': valset, 'test': testset}\n",
    "dataloaders = {x: DataLoader(image_datasets[x], batch_size=batch_size, shuffle=True, num_workers=4)\n",
    "              for x in ['train', 'val', 'test']}\n",
    "dataset_sizes = {x: len(image_datasets[x]) for x in ['train', 'val', 'test']}  "
   ]
  },
  {
   "cell_type": "code",
   "execution_count": 2,
   "metadata": {},
   "outputs": [],
   "source": [
    "class MultiCNN(nn.Module):\n",
    "    def __init__(self):\n",
    "        super(MultiCNN, self).__init__()\n",
    "        self.fc1 = nn.Linear(6144, 256)\n",
    "        self.fc2 = nn.Linear(256, 2)\n",
    "        self.fc3 = nn.Linear(10, 2)\n",
    "        resnet = models.resnet50(pretrained=True).to(device) \n",
    "        self.new_resnet1 = nn.Sequential(*list(resnet.children())[:-1])\n",
    "        self.new_resnet2 = nn.Sequential(*list(resnet.children())[:-1])\n",
    "        self.new_resnet3 = nn.Sequential(*list(resnet.children())[:-1])\n",
    "        self.drop = nn.Dropout(p=0.5)\n",
    "        \n",
    "    def forward(self, x_slices):\n",
    "\n",
    "        x1 = x_slices[0]\n",
    "        x1 = self.new_resnet1(x1)\n",
    "        x1 = x1.view(-1, 2048)\n",
    "\n",
    "        x2 = x_slices[1]\n",
    "        x2 = self.new_resnet2(x2)\n",
    "        x2 = x2.view(-1, 2048)\n",
    "\n",
    "        x3 = x_slices[2]\n",
    "        x3 = self.new_resnet3(x3)\n",
    "        x3 = x3.view(-1, 2048)\n",
    "\n",
    "        out = torch.cat((x1, x2, x3), dim=-1)\n",
    "        out = F.relu(self.drop(self.fc1(out)))\n",
    "        out = F.relu(self.fc2(out))\n",
    "\n",
    "        return out"
   ]
  },
  {
   "cell_type": "code",
   "execution_count": 3,
   "metadata": {
    "scrolled": false
   },
   "outputs": [
    {
     "name": "stdout",
     "output_type": "stream",
     "text": [
      "Epoch 0/49\n",
      "----------------------------------------------------------------------------------------------------\n"
     ]
    },
    {
     "data": {
      "application/vnd.jupyter.widget-view+json": {
       "model_id": "667c6c93815c4ccda127f3dead2ec71f",
       "version_major": 2,
       "version_minor": 0
      },
      "text/plain": [
       "HBox(children=(FloatProgress(value=0.0, max=30.0), HTML(value='')))"
      ]
     },
     "metadata": {},
     "output_type": "display_data"
    },
    {
     "name": "stdout",
     "output_type": "stream",
     "text": [
      "\n",
      "train Loss: 0.6628 Acc: 0.5922\n"
     ]
    },
    {
     "data": {
      "application/vnd.jupyter.widget-view+json": {
       "model_id": "49c302a213ff4324a9799590188914c6",
       "version_major": 2,
       "version_minor": 0
      },
      "text/plain": [
       "HBox(children=(FloatProgress(value=0.0, max=4.0), HTML(value='')))"
      ]
     },
     "metadata": {},
     "output_type": "display_data"
    },
    {
     "name": "stdout",
     "output_type": "stream",
     "text": [
      "\n",
      "val Loss: 0.6369 Acc: 0.6186\n",
      "Epoch 1/49\n",
      "----------------------------------------------------------------------------------------------------\n"
     ]
    },
    {
     "data": {
      "application/vnd.jupyter.widget-view+json": {
       "model_id": "98ae642156564aeb9e74eb1f03574202",
       "version_major": 2,
       "version_minor": 0
      },
      "text/plain": [
       "HBox(children=(FloatProgress(value=0.0, max=30.0), HTML(value='')))"
      ]
     },
     "metadata": {},
     "output_type": "display_data"
    },
    {
     "name": "stdout",
     "output_type": "stream",
     "text": [
      "\n",
      "train Loss: 0.5353 Acc: 0.6165\n"
     ]
    },
    {
     "data": {
      "application/vnd.jupyter.widget-view+json": {
       "model_id": "45dc7d6c771d4b8b9540abebe6104b30",
       "version_major": 2,
       "version_minor": 0
      },
      "text/plain": [
       "HBox(children=(FloatProgress(value=0.0, max=4.0), HTML(value='')))"
      ]
     },
     "metadata": {},
     "output_type": "display_data"
    },
    {
     "name": "stdout",
     "output_type": "stream",
     "text": [
      "\n",
      "val Loss: 0.5723 Acc: 0.7288\n",
      "Epoch 2/49\n",
      "----------------------------------------------------------------------------------------------------\n"
     ]
    },
    {
     "data": {
      "application/vnd.jupyter.widget-view+json": {
       "model_id": "029a4131019046adb9f0de3a0c616f7a",
       "version_major": 2,
       "version_minor": 0
      },
      "text/plain": [
       "HBox(children=(FloatProgress(value=0.0, max=30.0), HTML(value='')))"
      ]
     },
     "metadata": {},
     "output_type": "display_data"
    },
    {
     "name": "stdout",
     "output_type": "stream",
     "text": [
      "\n",
      "train Loss: 0.3742 Acc: 0.8422\n"
     ]
    },
    {
     "data": {
      "application/vnd.jupyter.widget-view+json": {
       "model_id": "96216d752f06460abaaa739b9dfc1c06",
       "version_major": 2,
       "version_minor": 0
      },
      "text/plain": [
       "HBox(children=(FloatProgress(value=0.0, max=4.0), HTML(value='')))"
      ]
     },
     "metadata": {},
     "output_type": "display_data"
    },
    {
     "name": "stdout",
     "output_type": "stream",
     "text": [
      "\n",
      "val Loss: 0.4753 Acc: 0.7797\n",
      "Epoch 3/49\n",
      "----------------------------------------------------------------------------------------------------\n"
     ]
    },
    {
     "data": {
      "application/vnd.jupyter.widget-view+json": {
       "model_id": "edabe0a7a4a748439279593b33bf97ac",
       "version_major": 2,
       "version_minor": 0
      },
      "text/plain": [
       "HBox(children=(FloatProgress(value=0.0, max=30.0), HTML(value='')))"
      ]
     },
     "metadata": {},
     "output_type": "display_data"
    },
    {
     "name": "stdout",
     "output_type": "stream",
     "text": [
      "\n",
      "train Loss: 0.2812 Acc: 0.8856\n"
     ]
    },
    {
     "data": {
      "application/vnd.jupyter.widget-view+json": {
       "model_id": "698b932249464f0a94aaf540ab746024",
       "version_major": 2,
       "version_minor": 0
      },
      "text/plain": [
       "HBox(children=(FloatProgress(value=0.0, max=4.0), HTML(value='')))"
      ]
     },
     "metadata": {},
     "output_type": "display_data"
    },
    {
     "name": "stdout",
     "output_type": "stream",
     "text": [
      "\n",
      "val Loss: 0.5559 Acc: 0.7373\n",
      "Epoch 4/49\n",
      "----------------------------------------------------------------------------------------------------\n"
     ]
    },
    {
     "data": {
      "application/vnd.jupyter.widget-view+json": {
       "model_id": "2321f638e9ba4e4ba925e583d986a511",
       "version_major": 2,
       "version_minor": 0
      },
      "text/plain": [
       "HBox(children=(FloatProgress(value=0.0, max=30.0), HTML(value='')))"
      ]
     },
     "metadata": {},
     "output_type": "display_data"
    },
    {
     "name": "stdout",
     "output_type": "stream",
     "text": [
      "\n",
      "train Loss: 0.1999 Acc: 0.9269\n"
     ]
    },
    {
     "data": {
      "application/vnd.jupyter.widget-view+json": {
       "model_id": "0c90856587fa4ee08ee518665976b434",
       "version_major": 2,
       "version_minor": 0
      },
      "text/plain": [
       "HBox(children=(FloatProgress(value=0.0, max=4.0), HTML(value='')))"
      ]
     },
     "metadata": {},
     "output_type": "display_data"
    },
    {
     "name": "stdout",
     "output_type": "stream",
     "text": [
      "\n",
      "val Loss: 0.7510 Acc: 0.7373\n",
      "Epoch 5/49\n",
      "----------------------------------------------------------------------------------------------------\n"
     ]
    },
    {
     "data": {
      "application/vnd.jupyter.widget-view+json": {
       "model_id": "3e4cef05a624434a8814d9eb3144acb9",
       "version_major": 2,
       "version_minor": 0
      },
      "text/plain": [
       "HBox(children=(FloatProgress(value=0.0, max=30.0), HTML(value='')))"
      ]
     },
     "metadata": {},
     "output_type": "display_data"
    },
    {
     "name": "stdout",
     "output_type": "stream",
     "text": [
      "\n",
      "train Loss: 0.1414 Acc: 0.9492\n"
     ]
    },
    {
     "data": {
      "application/vnd.jupyter.widget-view+json": {
       "model_id": "fe2ff2bbb9ba49a8b3799846b1384a5c",
       "version_major": 2,
       "version_minor": 0
      },
      "text/plain": [
       "HBox(children=(FloatProgress(value=0.0, max=4.0), HTML(value='')))"
      ]
     },
     "metadata": {},
     "output_type": "display_data"
    },
    {
     "name": "stdout",
     "output_type": "stream",
     "text": [
      "\n",
      "val Loss: 0.5800 Acc: 0.7881\n",
      "Epoch 6/49\n",
      "----------------------------------------------------------------------------------------------------\n"
     ]
    },
    {
     "data": {
      "application/vnd.jupyter.widget-view+json": {
       "model_id": "4b5001430484455ebcc23d90e01a5e86",
       "version_major": 2,
       "version_minor": 0
      },
      "text/plain": [
       "HBox(children=(FloatProgress(value=0.0, max=30.0), HTML(value='')))"
      ]
     },
     "metadata": {},
     "output_type": "display_data"
    },
    {
     "name": "stdout",
     "output_type": "stream",
     "text": [
      "\n",
      "train Loss: 0.1578 Acc: 0.9460\n"
     ]
    },
    {
     "data": {
      "application/vnd.jupyter.widget-view+json": {
       "model_id": "a504d3eddd494f5c8ac18d6919160426",
       "version_major": 2,
       "version_minor": 0
      },
      "text/plain": [
       "HBox(children=(FloatProgress(value=0.0, max=4.0), HTML(value='')))"
      ]
     },
     "metadata": {},
     "output_type": "display_data"
    },
    {
     "name": "stdout",
     "output_type": "stream",
     "text": [
      "\n",
      "val Loss: 0.4792 Acc: 0.8559\n",
      "Epoch 7/49\n",
      "----------------------------------------------------------------------------------------------------\n"
     ]
    },
    {
     "data": {
      "application/vnd.jupyter.widget-view+json": {
       "model_id": "e8dd40faa15e4c869fb8e95bd6299354",
       "version_major": 2,
       "version_minor": 0
      },
      "text/plain": [
       "HBox(children=(FloatProgress(value=0.0, max=30.0), HTML(value='')))"
      ]
     },
     "metadata": {},
     "output_type": "display_data"
    },
    {
     "name": "stdout",
     "output_type": "stream",
     "text": [
      "\n",
      "train Loss: 0.0661 Acc: 0.9788\n"
     ]
    },
    {
     "data": {
      "application/vnd.jupyter.widget-view+json": {
       "model_id": "05578a21b4c34598a287aba2b37c3b7c",
       "version_major": 2,
       "version_minor": 0
      },
      "text/plain": [
       "HBox(children=(FloatProgress(value=0.0, max=4.0), HTML(value='')))"
      ]
     },
     "metadata": {},
     "output_type": "display_data"
    },
    {
     "name": "stdout",
     "output_type": "stream",
     "text": [
      "\n",
      "val Loss: 0.4407 Acc: 0.8814\n",
      "Epoch 8/49\n",
      "----------------------------------------------------------------------------------------------------\n"
     ]
    },
    {
     "data": {
      "application/vnd.jupyter.widget-view+json": {
       "model_id": "4a43c8c551554e258c35225d7e656b37",
       "version_major": 2,
       "version_minor": 0
      },
      "text/plain": [
       "HBox(children=(FloatProgress(value=0.0, max=30.0), HTML(value='')))"
      ]
     },
     "metadata": {},
     "output_type": "display_data"
    },
    {
     "name": "stdout",
     "output_type": "stream",
     "text": [
      "\n",
      "train Loss: 0.0399 Acc: 0.9905\n"
     ]
    },
    {
     "data": {
      "application/vnd.jupyter.widget-view+json": {
       "model_id": "106509c64680480d86701b4b7b6b430e",
       "version_major": 2,
       "version_minor": 0
      },
      "text/plain": [
       "HBox(children=(FloatProgress(value=0.0, max=4.0), HTML(value='')))"
      ]
     },
     "metadata": {},
     "output_type": "display_data"
    },
    {
     "name": "stdout",
     "output_type": "stream",
     "text": [
      "\n",
      "val Loss: 0.4313 Acc: 0.8814\n",
      "Epoch 9/49\n",
      "----------------------------------------------------------------------------------------------------\n"
     ]
    },
    {
     "data": {
      "application/vnd.jupyter.widget-view+json": {
       "model_id": "2be3657222cd43d9acc6882fb8060174",
       "version_major": 2,
       "version_minor": 0
      },
      "text/plain": [
       "HBox(children=(FloatProgress(value=0.0, max=30.0), HTML(value='')))"
      ]
     },
     "metadata": {},
     "output_type": "display_data"
    },
    {
     "name": "stdout",
     "output_type": "stream",
     "text": [
      "\n",
      "train Loss: 0.0313 Acc: 0.9926\n"
     ]
    },
    {
     "data": {
      "application/vnd.jupyter.widget-view+json": {
       "model_id": "8afb8e5185af4c64a7e9dedb3268d5c1",
       "version_major": 2,
       "version_minor": 0
      },
      "text/plain": [
       "HBox(children=(FloatProgress(value=0.0, max=4.0), HTML(value='')))"
      ]
     },
     "metadata": {},
     "output_type": "display_data"
    },
    {
     "name": "stdout",
     "output_type": "stream",
     "text": [
      "\n",
      "val Loss: 0.4555 Acc: 0.8644\n",
      "Epoch 10/49\n",
      "----------------------------------------------------------------------------------------------------\n"
     ]
    },
    {
     "data": {
      "application/vnd.jupyter.widget-view+json": {
       "model_id": "87b76d5ae54843f0bf00e7924cfbd550",
       "version_major": 2,
       "version_minor": 0
      },
      "text/plain": [
       "HBox(children=(FloatProgress(value=0.0, max=30.0), HTML(value='')))"
      ]
     },
     "metadata": {},
     "output_type": "display_data"
    },
    {
     "name": "stdout",
     "output_type": "stream",
     "text": [
      "\n",
      "train Loss: 0.0189 Acc: 0.9979\n"
     ]
    },
    {
     "data": {
      "application/vnd.jupyter.widget-view+json": {
       "model_id": "9e5a5ae147c94caa98ce1853acc71ef7",
       "version_major": 2,
       "version_minor": 0
      },
      "text/plain": [
       "HBox(children=(FloatProgress(value=0.0, max=4.0), HTML(value='')))"
      ]
     },
     "metadata": {},
     "output_type": "display_data"
    },
    {
     "name": "stdout",
     "output_type": "stream",
     "text": [
      "\n",
      "val Loss: 0.4594 Acc: 0.8644\n",
      "Epoch 11/49\n",
      "----------------------------------------------------------------------------------------------------\n"
     ]
    },
    {
     "data": {
      "application/vnd.jupyter.widget-view+json": {
       "model_id": "8e9bd1a1eab94da0be83f601c50652e5",
       "version_major": 2,
       "version_minor": 0
      },
      "text/plain": [
       "HBox(children=(FloatProgress(value=0.0, max=30.0), HTML(value='')))"
      ]
     },
     "metadata": {},
     "output_type": "display_data"
    },
    {
     "name": "stdout",
     "output_type": "stream",
     "text": [
      "\n",
      "train Loss: 0.0205 Acc: 0.9979\n"
     ]
    },
    {
     "data": {
      "application/vnd.jupyter.widget-view+json": {
       "model_id": "e6b300d715314dfd8b94e1fcea3adfe5",
       "version_major": 2,
       "version_minor": 0
      },
      "text/plain": [
       "HBox(children=(FloatProgress(value=0.0, max=4.0), HTML(value='')))"
      ]
     },
     "metadata": {},
     "output_type": "display_data"
    },
    {
     "name": "stdout",
     "output_type": "stream",
     "text": [
      "\n",
      "val Loss: 0.4645 Acc: 0.8559\n",
      "Epoch 12/49\n",
      "----------------------------------------------------------------------------------------------------\n"
     ]
    },
    {
     "data": {
      "application/vnd.jupyter.widget-view+json": {
       "model_id": "6912236f52e54a4b88c164cf584b5132",
       "version_major": 2,
       "version_minor": 0
      },
      "text/plain": [
       "HBox(children=(FloatProgress(value=0.0, max=30.0), HTML(value='')))"
      ]
     },
     "metadata": {},
     "output_type": "display_data"
    },
    {
     "name": "stdout",
     "output_type": "stream",
     "text": [
      "\n",
      "train Loss: 0.0202 Acc: 0.9968\n"
     ]
    },
    {
     "data": {
      "application/vnd.jupyter.widget-view+json": {
       "model_id": "d456441500cb400ea0240ae4b4047d43",
       "version_major": 2,
       "version_minor": 0
      },
      "text/plain": [
       "HBox(children=(FloatProgress(value=0.0, max=4.0), HTML(value='')))"
      ]
     },
     "metadata": {},
     "output_type": "display_data"
    },
    {
     "name": "stdout",
     "output_type": "stream",
     "text": [
      "\n",
      "val Loss: 0.5235 Acc: 0.8475\n",
      "Epoch 13/49\n",
      "----------------------------------------------------------------------------------------------------\n"
     ]
    },
    {
     "data": {
      "application/vnd.jupyter.widget-view+json": {
       "model_id": "6054e240767b403f9ebcf214c2d3c1b9",
       "version_major": 2,
       "version_minor": 0
      },
      "text/plain": [
       "HBox(children=(FloatProgress(value=0.0, max=30.0), HTML(value='')))"
      ]
     },
     "metadata": {},
     "output_type": "display_data"
    },
    {
     "name": "stdout",
     "output_type": "stream",
     "text": [
      "\n",
      "train Loss: 0.0133 Acc: 1.0000\n"
     ]
    },
    {
     "data": {
      "application/vnd.jupyter.widget-view+json": {
       "model_id": "26afa8b2343b4570958687163f7b13f4",
       "version_major": 2,
       "version_minor": 0
      },
      "text/plain": [
       "HBox(children=(FloatProgress(value=0.0, max=4.0), HTML(value='')))"
      ]
     },
     "metadata": {},
     "output_type": "display_data"
    },
    {
     "name": "stdout",
     "output_type": "stream",
     "text": [
      "\n",
      "val Loss: 0.4924 Acc: 0.8390\n",
      "Epoch 14/49\n",
      "----------------------------------------------------------------------------------------------------\n"
     ]
    },
    {
     "data": {
      "application/vnd.jupyter.widget-view+json": {
       "model_id": "4c22bccbe49e4c61877b3312ab134df2",
       "version_major": 2,
       "version_minor": 0
      },
      "text/plain": [
       "HBox(children=(FloatProgress(value=0.0, max=30.0), HTML(value='')))"
      ]
     },
     "metadata": {},
     "output_type": "display_data"
    },
    {
     "name": "stdout",
     "output_type": "stream",
     "text": [
      "\n",
      "train Loss: 0.0104 Acc: 0.9989\n"
     ]
    },
    {
     "data": {
      "application/vnd.jupyter.widget-view+json": {
       "model_id": "89c5bbd82ee54046b8143008c41ec20f",
       "version_major": 2,
       "version_minor": 0
      },
      "text/plain": [
       "HBox(children=(FloatProgress(value=0.0, max=4.0), HTML(value='')))"
      ]
     },
     "metadata": {},
     "output_type": "display_data"
    },
    {
     "name": "stdout",
     "output_type": "stream",
     "text": [
      "\n",
      "val Loss: 0.4720 Acc: 0.8390\n",
      "Epoch 15/49\n",
      "----------------------------------------------------------------------------------------------------\n"
     ]
    },
    {
     "data": {
      "application/vnd.jupyter.widget-view+json": {
       "model_id": "0af63c4e8d6a4f16be177f5e2f94a807",
       "version_major": 2,
       "version_minor": 0
      },
      "text/plain": [
       "HBox(children=(FloatProgress(value=0.0, max=30.0), HTML(value='')))"
      ]
     },
     "metadata": {},
     "output_type": "display_data"
    },
    {
     "name": "stdout",
     "output_type": "stream",
     "text": [
      "\n",
      "train Loss: 0.0116 Acc: 0.9989\n"
     ]
    },
    {
     "data": {
      "application/vnd.jupyter.widget-view+json": {
       "model_id": "98ae3a2d6b424d9ea8708d00595f04d8",
       "version_major": 2,
       "version_minor": 0
      },
      "text/plain": [
       "HBox(children=(FloatProgress(value=0.0, max=4.0), HTML(value='')))"
      ]
     },
     "metadata": {},
     "output_type": "display_data"
    },
    {
     "name": "stdout",
     "output_type": "stream",
     "text": [
      "\n",
      "val Loss: 0.4601 Acc: 0.8729\n",
      "Epoch 16/49\n",
      "----------------------------------------------------------------------------------------------------\n"
     ]
    },
    {
     "data": {
      "application/vnd.jupyter.widget-view+json": {
       "model_id": "a37bb365e8f949bfab86bdfde42c1a3e",
       "version_major": 2,
       "version_minor": 0
      },
      "text/plain": [
       "HBox(children=(FloatProgress(value=0.0, max=30.0), HTML(value='')))"
      ]
     },
     "metadata": {},
     "output_type": "display_data"
    },
    {
     "name": "stdout",
     "output_type": "stream",
     "text": [
      "\n",
      "train Loss: 0.0097 Acc: 1.0000\n"
     ]
    },
    {
     "data": {
      "application/vnd.jupyter.widget-view+json": {
       "model_id": "8c8843a22df649ca96d8c1a68f2780a2",
       "version_major": 2,
       "version_minor": 0
      },
      "text/plain": [
       "HBox(children=(FloatProgress(value=0.0, max=4.0), HTML(value='')))"
      ]
     },
     "metadata": {},
     "output_type": "display_data"
    },
    {
     "name": "stdout",
     "output_type": "stream",
     "text": [
      "\n",
      "val Loss: 0.4911 Acc: 0.8475\n",
      "Epoch 17/49\n",
      "----------------------------------------------------------------------------------------------------\n"
     ]
    },
    {
     "data": {
      "application/vnd.jupyter.widget-view+json": {
       "model_id": "0a5bc778bcc145ce8dcb2c3d8654c3ea",
       "version_major": 2,
       "version_minor": 0
      },
      "text/plain": [
       "HBox(children=(FloatProgress(value=0.0, max=30.0), HTML(value='')))"
      ]
     },
     "metadata": {},
     "output_type": "display_data"
    },
    {
     "name": "stdout",
     "output_type": "stream",
     "text": [
      "\n",
      "train Loss: 0.0097 Acc: 0.9989\n"
     ]
    },
    {
     "data": {
      "application/vnd.jupyter.widget-view+json": {
       "model_id": "59f0a6b44b5e471ba63f374e82923741",
       "version_major": 2,
       "version_minor": 0
      },
      "text/plain": [
       "HBox(children=(FloatProgress(value=0.0, max=4.0), HTML(value='')))"
      ]
     },
     "metadata": {},
     "output_type": "display_data"
    },
    {
     "name": "stdout",
     "output_type": "stream",
     "text": [
      "\n",
      "val Loss: 0.4806 Acc: 0.8814\n",
      "Epoch 18/49\n",
      "----------------------------------------------------------------------------------------------------\n"
     ]
    },
    {
     "data": {
      "application/vnd.jupyter.widget-view+json": {
       "model_id": "bbd959989c254130a97f3f09e86533fa",
       "version_major": 2,
       "version_minor": 0
      },
      "text/plain": [
       "HBox(children=(FloatProgress(value=0.0, max=30.0), HTML(value='')))"
      ]
     },
     "metadata": {},
     "output_type": "display_data"
    },
    {
     "name": "stdout",
     "output_type": "stream",
     "text": [
      "\n",
      "train Loss: 0.0107 Acc: 0.9989\n"
     ]
    },
    {
     "data": {
      "application/vnd.jupyter.widget-view+json": {
       "model_id": "cebec44e16964216a33c62a14425272c",
       "version_major": 2,
       "version_minor": 0
      },
      "text/plain": [
       "HBox(children=(FloatProgress(value=0.0, max=4.0), HTML(value='')))"
      ]
     },
     "metadata": {},
     "output_type": "display_data"
    },
    {
     "name": "stdout",
     "output_type": "stream",
     "text": [
      "\n",
      "val Loss: 0.5170 Acc: 0.8559\n",
      "Epoch 19/49\n",
      "----------------------------------------------------------------------------------------------------\n"
     ]
    },
    {
     "data": {
      "application/vnd.jupyter.widget-view+json": {
       "model_id": "2529a9d4c46d4d77a1d2af5a4cfc8197",
       "version_major": 2,
       "version_minor": 0
      },
      "text/plain": [
       "HBox(children=(FloatProgress(value=0.0, max=30.0), HTML(value='')))"
      ]
     },
     "metadata": {},
     "output_type": "display_data"
    },
    {
     "name": "stdout",
     "output_type": "stream",
     "text": [
      "\n",
      "train Loss: 0.0156 Acc: 0.9979\n"
     ]
    },
    {
     "data": {
      "application/vnd.jupyter.widget-view+json": {
       "model_id": "13d3f892db734ae19f96d5bfc036c1e0",
       "version_major": 2,
       "version_minor": 0
      },
      "text/plain": [
       "HBox(children=(FloatProgress(value=0.0, max=4.0), HTML(value='')))"
      ]
     },
     "metadata": {},
     "output_type": "display_data"
    },
    {
     "name": "stdout",
     "output_type": "stream",
     "text": [
      "\n",
      "val Loss: 0.4999 Acc: 0.8475\n",
      "Epoch 20/49\n",
      "----------------------------------------------------------------------------------------------------\n"
     ]
    },
    {
     "data": {
      "application/vnd.jupyter.widget-view+json": {
       "model_id": "c6fba024f80a4c34b3215f3f77447931",
       "version_major": 2,
       "version_minor": 0
      },
      "text/plain": [
       "HBox(children=(FloatProgress(value=0.0, max=30.0), HTML(value='')))"
      ]
     },
     "metadata": {},
     "output_type": "display_data"
    },
    {
     "name": "stdout",
     "output_type": "stream",
     "text": [
      "\n",
      "train Loss: 0.0133 Acc: 0.9989\n"
     ]
    },
    {
     "data": {
      "application/vnd.jupyter.widget-view+json": {
       "model_id": "43d9f002dc30471a92c50bd0fe761a71",
       "version_major": 2,
       "version_minor": 0
      },
      "text/plain": [
       "HBox(children=(FloatProgress(value=0.0, max=4.0), HTML(value='')))"
      ]
     },
     "metadata": {},
     "output_type": "display_data"
    },
    {
     "name": "stdout",
     "output_type": "stream",
     "text": [
      "\n",
      "val Loss: 0.5669 Acc: 0.8390\n",
      "Epoch 21/49\n",
      "----------------------------------------------------------------------------------------------------\n"
     ]
    },
    {
     "data": {
      "application/vnd.jupyter.widget-view+json": {
       "model_id": "425e06e9d6664a98954a78be41d5a9bc",
       "version_major": 2,
       "version_minor": 0
      },
      "text/plain": [
       "HBox(children=(FloatProgress(value=0.0, max=30.0), HTML(value='')))"
      ]
     },
     "metadata": {},
     "output_type": "display_data"
    },
    {
     "name": "stdout",
     "output_type": "stream",
     "text": [
      "\n",
      "train Loss: 0.0099 Acc: 0.9989\n"
     ]
    },
    {
     "data": {
      "application/vnd.jupyter.widget-view+json": {
       "model_id": "58fb9835e74144df81c69bbe13ac9a8b",
       "version_major": 2,
       "version_minor": 0
      },
      "text/plain": [
       "HBox(children=(FloatProgress(value=0.0, max=4.0), HTML(value='')))"
      ]
     },
     "metadata": {},
     "output_type": "display_data"
    },
    {
     "name": "stdout",
     "output_type": "stream",
     "text": [
      "\n",
      "val Loss: 0.4424 Acc: 0.8475\n",
      "Epoch 22/49\n",
      "----------------------------------------------------------------------------------------------------\n"
     ]
    },
    {
     "data": {
      "application/vnd.jupyter.widget-view+json": {
       "model_id": "1c4c88ebc5bd4641a33c4478b7d699ca",
       "version_major": 2,
       "version_minor": 0
      },
      "text/plain": [
       "HBox(children=(FloatProgress(value=0.0, max=30.0), HTML(value='')))"
      ]
     },
     "metadata": {},
     "output_type": "display_data"
    },
    {
     "name": "stdout",
     "output_type": "stream",
     "text": [
      "\n",
      "train Loss: 0.0176 Acc: 0.9968\n"
     ]
    },
    {
     "data": {
      "application/vnd.jupyter.widget-view+json": {
       "model_id": "9f1d274b6e1547c5b4c7ed2812e92776",
       "version_major": 2,
       "version_minor": 0
      },
      "text/plain": [
       "HBox(children=(FloatProgress(value=0.0, max=4.0), HTML(value='')))"
      ]
     },
     "metadata": {},
     "output_type": "display_data"
    },
    {
     "name": "stdout",
     "output_type": "stream",
     "text": [
      "\n",
      "val Loss: 0.5270 Acc: 0.8729\n",
      "Epoch 23/49\n",
      "----------------------------------------------------------------------------------------------------\n"
     ]
    },
    {
     "data": {
      "application/vnd.jupyter.widget-view+json": {
       "model_id": "7db69a19d7e84b82a97801bb1afbbe00",
       "version_major": 2,
       "version_minor": 0
      },
      "text/plain": [
       "HBox(children=(FloatProgress(value=0.0, max=30.0), HTML(value='')))"
      ]
     },
     "metadata": {},
     "output_type": "display_data"
    },
    {
     "name": "stdout",
     "output_type": "stream",
     "text": [
      "\n",
      "train Loss: 0.0101 Acc: 1.0000\n"
     ]
    },
    {
     "data": {
      "application/vnd.jupyter.widget-view+json": {
       "model_id": "527400958e824f3caa07371eb9786e66",
       "version_major": 2,
       "version_minor": 0
      },
      "text/plain": [
       "HBox(children=(FloatProgress(value=0.0, max=4.0), HTML(value='')))"
      ]
     },
     "metadata": {},
     "output_type": "display_data"
    },
    {
     "name": "stdout",
     "output_type": "stream",
     "text": [
      "\n",
      "val Loss: 0.4983 Acc: 0.8305\n",
      "Epoch 24/49\n",
      "----------------------------------------------------------------------------------------------------\n"
     ]
    },
    {
     "data": {
      "application/vnd.jupyter.widget-view+json": {
       "model_id": "57589196c0f14269a88a18349cd77426",
       "version_major": 2,
       "version_minor": 0
      },
      "text/plain": [
       "HBox(children=(FloatProgress(value=0.0, max=30.0), HTML(value='')))"
      ]
     },
     "metadata": {},
     "output_type": "display_data"
    },
    {
     "name": "stdout",
     "output_type": "stream",
     "text": [
      "\n",
      "train Loss: 0.0095 Acc: 1.0000\n"
     ]
    },
    {
     "data": {
      "application/vnd.jupyter.widget-view+json": {
       "model_id": "60f7c71a434144bc96929e46c8fef5a4",
       "version_major": 2,
       "version_minor": 0
      },
      "text/plain": [
       "HBox(children=(FloatProgress(value=0.0, max=4.0), HTML(value='')))"
      ]
     },
     "metadata": {},
     "output_type": "display_data"
    },
    {
     "name": "stdout",
     "output_type": "stream",
     "text": [
      "\n",
      "val Loss: 0.4852 Acc: 0.8559\n",
      "Epoch 25/49\n",
      "----------------------------------------------------------------------------------------------------\n"
     ]
    },
    {
     "data": {
      "application/vnd.jupyter.widget-view+json": {
       "model_id": "4a5bc56030ba41638be5cf878d751c91",
       "version_major": 2,
       "version_minor": 0
      },
      "text/plain": [
       "HBox(children=(FloatProgress(value=0.0, max=30.0), HTML(value='')))"
      ]
     },
     "metadata": {},
     "output_type": "display_data"
    },
    {
     "name": "stdout",
     "output_type": "stream",
     "text": [
      "\n",
      "train Loss: 0.0109 Acc: 0.9989\n"
     ]
    },
    {
     "data": {
      "application/vnd.jupyter.widget-view+json": {
       "model_id": "1e2a3ad41c4a438ca78ffea666ec695b",
       "version_major": 2,
       "version_minor": 0
      },
      "text/plain": [
       "HBox(children=(FloatProgress(value=0.0, max=4.0), HTML(value='')))"
      ]
     },
     "metadata": {},
     "output_type": "display_data"
    },
    {
     "name": "stdout",
     "output_type": "stream",
     "text": [
      "\n",
      "val Loss: 0.4903 Acc: 0.8559\n",
      "Epoch 26/49\n",
      "----------------------------------------------------------------------------------------------------\n"
     ]
    },
    {
     "data": {
      "application/vnd.jupyter.widget-view+json": {
       "model_id": "e05d96ec33b34ecaad810f309fab5a22",
       "version_major": 2,
       "version_minor": 0
      },
      "text/plain": [
       "HBox(children=(FloatProgress(value=0.0, max=30.0), HTML(value='')))"
      ]
     },
     "metadata": {},
     "output_type": "display_data"
    },
    {
     "name": "stdout",
     "output_type": "stream",
     "text": [
      "\n",
      "train Loss: 0.0124 Acc: 0.9989\n"
     ]
    },
    {
     "data": {
      "application/vnd.jupyter.widget-view+json": {
       "model_id": "93626f0ec046421090c92b5587b019c8",
       "version_major": 2,
       "version_minor": 0
      },
      "text/plain": [
       "HBox(children=(FloatProgress(value=0.0, max=4.0), HTML(value='')))"
      ]
     },
     "metadata": {},
     "output_type": "display_data"
    },
    {
     "name": "stdout",
     "output_type": "stream",
     "text": [
      "\n",
      "val Loss: 0.5036 Acc: 0.8475\n",
      "Epoch 27/49\n",
      "----------------------------------------------------------------------------------------------------\n"
     ]
    },
    {
     "data": {
      "application/vnd.jupyter.widget-view+json": {
       "model_id": "25d63e5a1609411baf867fb8cca8d213",
       "version_major": 2,
       "version_minor": 0
      },
      "text/plain": [
       "HBox(children=(FloatProgress(value=0.0, max=30.0), HTML(value='')))"
      ]
     },
     "metadata": {},
     "output_type": "display_data"
    },
    {
     "name": "stdout",
     "output_type": "stream",
     "text": [
      "\n",
      "train Loss: 0.0106 Acc: 0.9989\n"
     ]
    },
    {
     "data": {
      "application/vnd.jupyter.widget-view+json": {
       "model_id": "4c6cf7befa6a44888682c0b8eea44fef",
       "version_major": 2,
       "version_minor": 0
      },
      "text/plain": [
       "HBox(children=(FloatProgress(value=0.0, max=4.0), HTML(value='')))"
      ]
     },
     "metadata": {},
     "output_type": "display_data"
    },
    {
     "name": "stdout",
     "output_type": "stream",
     "text": [
      "\n",
      "val Loss: 0.5333 Acc: 0.8729\n",
      "Epoch 28/49\n",
      "----------------------------------------------------------------------------------------------------\n"
     ]
    },
    {
     "data": {
      "application/vnd.jupyter.widget-view+json": {
       "model_id": "c356000bf7b9438db8502064e34c4fb7",
       "version_major": 2,
       "version_minor": 0
      },
      "text/plain": [
       "HBox(children=(FloatProgress(value=0.0, max=30.0), HTML(value='')))"
      ]
     },
     "metadata": {},
     "output_type": "display_data"
    },
    {
     "name": "stdout",
     "output_type": "stream",
     "text": [
      "\n",
      "train Loss: 0.0103 Acc: 0.9989\n"
     ]
    },
    {
     "data": {
      "application/vnd.jupyter.widget-view+json": {
       "model_id": "0275d3dff8e84f67952fc12cafb53aa2",
       "version_major": 2,
       "version_minor": 0
      },
      "text/plain": [
       "HBox(children=(FloatProgress(value=0.0, max=4.0), HTML(value='')))"
      ]
     },
     "metadata": {},
     "output_type": "display_data"
    },
    {
     "name": "stdout",
     "output_type": "stream",
     "text": [
      "\n",
      "val Loss: 0.5006 Acc: 0.8729\n",
      "Epoch 29/49\n",
      "----------------------------------------------------------------------------------------------------\n"
     ]
    },
    {
     "data": {
      "application/vnd.jupyter.widget-view+json": {
       "model_id": "9798521694094005ae5bfeea1d22c224",
       "version_major": 2,
       "version_minor": 0
      },
      "text/plain": [
       "HBox(children=(FloatProgress(value=0.0, max=30.0), HTML(value='')))"
      ]
     },
     "metadata": {},
     "output_type": "display_data"
    },
    {
     "name": "stdout",
     "output_type": "stream",
     "text": [
      "\n",
      "train Loss: 0.0102 Acc: 1.0000\n"
     ]
    },
    {
     "data": {
      "application/vnd.jupyter.widget-view+json": {
       "model_id": "042e3a86988946b48d32189e888dbe1d",
       "version_major": 2,
       "version_minor": 0
      },
      "text/plain": [
       "HBox(children=(FloatProgress(value=0.0, max=4.0), HTML(value='')))"
      ]
     },
     "metadata": {},
     "output_type": "display_data"
    },
    {
     "name": "stdout",
     "output_type": "stream",
     "text": [
      "\n",
      "val Loss: 0.5079 Acc: 0.8475\n",
      "Epoch 30/49\n",
      "----------------------------------------------------------------------------------------------------\n"
     ]
    },
    {
     "data": {
      "application/vnd.jupyter.widget-view+json": {
       "model_id": "a00f985bc2c44a4a8be985c104384da6",
       "version_major": 2,
       "version_minor": 0
      },
      "text/plain": [
       "HBox(children=(FloatProgress(value=0.0, max=30.0), HTML(value='')))"
      ]
     },
     "metadata": {},
     "output_type": "display_data"
    },
    {
     "name": "stdout",
     "output_type": "stream",
     "text": [
      "\n",
      "train Loss: 0.0109 Acc: 0.9989\n"
     ]
    },
    {
     "data": {
      "application/vnd.jupyter.widget-view+json": {
       "model_id": "51bb51a4da0f451b884bc6fbbae86663",
       "version_major": 2,
       "version_minor": 0
      },
      "text/plain": [
       "HBox(children=(FloatProgress(value=0.0, max=4.0), HTML(value='')))"
      ]
     },
     "metadata": {},
     "output_type": "display_data"
    },
    {
     "name": "stdout",
     "output_type": "stream",
     "text": [
      "\n",
      "val Loss: 0.4732 Acc: 0.8559\n",
      "Epoch 31/49\n",
      "----------------------------------------------------------------------------------------------------\n"
     ]
    },
    {
     "data": {
      "application/vnd.jupyter.widget-view+json": {
       "model_id": "721b815de3b94fb4b8dd4e89aebfbc6c",
       "version_major": 2,
       "version_minor": 0
      },
      "text/plain": [
       "HBox(children=(FloatProgress(value=0.0, max=30.0), HTML(value='')))"
      ]
     },
     "metadata": {},
     "output_type": "display_data"
    },
    {
     "name": "stdout",
     "output_type": "stream",
     "text": [
      "\n",
      "train Loss: 0.0100 Acc: 1.0000\n"
     ]
    },
    {
     "data": {
      "application/vnd.jupyter.widget-view+json": {
       "model_id": "468f19c8a7ca42ea8a4253b149751644",
       "version_major": 2,
       "version_minor": 0
      },
      "text/plain": [
       "HBox(children=(FloatProgress(value=0.0, max=4.0), HTML(value='')))"
      ]
     },
     "metadata": {},
     "output_type": "display_data"
    },
    {
     "name": "stdout",
     "output_type": "stream",
     "text": [
      "\n",
      "val Loss: 0.5449 Acc: 0.8305\n",
      "Epoch 32/49\n",
      "----------------------------------------------------------------------------------------------------\n"
     ]
    },
    {
     "data": {
      "application/vnd.jupyter.widget-view+json": {
       "model_id": "3a05a93f064b402eb372e7dfa3ff8798",
       "version_major": 2,
       "version_minor": 0
      },
      "text/plain": [
       "HBox(children=(FloatProgress(value=0.0, max=30.0), HTML(value='')))"
      ]
     },
     "metadata": {},
     "output_type": "display_data"
    },
    {
     "name": "stdout",
     "output_type": "stream",
     "text": [
      "\n",
      "train Loss: 0.0085 Acc: 1.0000\n"
     ]
    },
    {
     "data": {
      "application/vnd.jupyter.widget-view+json": {
       "model_id": "3f910090a0e24b68b00861ef7bd2d1b1",
       "version_major": 2,
       "version_minor": 0
      },
      "text/plain": [
       "HBox(children=(FloatProgress(value=0.0, max=4.0), HTML(value='')))"
      ]
     },
     "metadata": {},
     "output_type": "display_data"
    },
    {
     "name": "stdout",
     "output_type": "stream",
     "text": [
      "\n",
      "val Loss: 0.4894 Acc: 0.8390\n",
      "Epoch 33/49\n",
      "----------------------------------------------------------------------------------------------------\n"
     ]
    },
    {
     "data": {
      "application/vnd.jupyter.widget-view+json": {
       "model_id": "24e4f50a4f48477a867c6e71845a43d5",
       "version_major": 2,
       "version_minor": 0
      },
      "text/plain": [
       "HBox(children=(FloatProgress(value=0.0, max=30.0), HTML(value='')))"
      ]
     },
     "metadata": {},
     "output_type": "display_data"
    },
    {
     "name": "stdout",
     "output_type": "stream",
     "text": [
      "\n",
      "train Loss: 0.0097 Acc: 0.9989\n"
     ]
    },
    {
     "data": {
      "application/vnd.jupyter.widget-view+json": {
       "model_id": "1721ef1d3af1441cb5b885630ccd9180",
       "version_major": 2,
       "version_minor": 0
      },
      "text/plain": [
       "HBox(children=(FloatProgress(value=0.0, max=4.0), HTML(value='')))"
      ]
     },
     "metadata": {},
     "output_type": "display_data"
    },
    {
     "name": "stdout",
     "output_type": "stream",
     "text": [
      "\n",
      "val Loss: 0.5049 Acc: 0.8305\n",
      "Epoch 34/49\n",
      "----------------------------------------------------------------------------------------------------\n"
     ]
    },
    {
     "data": {
      "application/vnd.jupyter.widget-view+json": {
       "model_id": "4f9b38ca0fc94ff5966ddc1e99aa5e2b",
       "version_major": 2,
       "version_minor": 0
      },
      "text/plain": [
       "HBox(children=(FloatProgress(value=0.0, max=30.0), HTML(value='')))"
      ]
     },
     "metadata": {},
     "output_type": "display_data"
    },
    {
     "name": "stdout",
     "output_type": "stream",
     "text": [
      "\n",
      "train Loss: 0.0128 Acc: 1.0000\n"
     ]
    },
    {
     "data": {
      "application/vnd.jupyter.widget-view+json": {
       "model_id": "ec287edb913c43e6878336ba286e068a",
       "version_major": 2,
       "version_minor": 0
      },
      "text/plain": [
       "HBox(children=(FloatProgress(value=0.0, max=4.0), HTML(value='')))"
      ]
     },
     "metadata": {},
     "output_type": "display_data"
    },
    {
     "name": "stdout",
     "output_type": "stream",
     "text": [
      "\n",
      "val Loss: 0.5144 Acc: 0.8475\n",
      "Epoch 35/49\n",
      "----------------------------------------------------------------------------------------------------\n"
     ]
    },
    {
     "data": {
      "application/vnd.jupyter.widget-view+json": {
       "model_id": "95d2971130eb4656a546b10d49f21896",
       "version_major": 2,
       "version_minor": 0
      },
      "text/plain": [
       "HBox(children=(FloatProgress(value=0.0, max=30.0), HTML(value='')))"
      ]
     },
     "metadata": {},
     "output_type": "display_data"
    },
    {
     "name": "stdout",
     "output_type": "stream",
     "text": [
      "\n",
      "train Loss: 0.0165 Acc: 0.9958\n"
     ]
    },
    {
     "data": {
      "application/vnd.jupyter.widget-view+json": {
       "model_id": "765cd7b104ea4ede9879fe430be82e6e",
       "version_major": 2,
       "version_minor": 0
      },
      "text/plain": [
       "HBox(children=(FloatProgress(value=0.0, max=4.0), HTML(value='')))"
      ]
     },
     "metadata": {},
     "output_type": "display_data"
    },
    {
     "name": "stdout",
     "output_type": "stream",
     "text": [
      "\n",
      "val Loss: 0.4827 Acc: 0.8390\n",
      "Epoch 36/49\n",
      "----------------------------------------------------------------------------------------------------\n"
     ]
    },
    {
     "data": {
      "application/vnd.jupyter.widget-view+json": {
       "model_id": "733a5e185a0c40af94c3ad433749e3c9",
       "version_major": 2,
       "version_minor": 0
      },
      "text/plain": [
       "HBox(children=(FloatProgress(value=0.0, max=30.0), HTML(value='')))"
      ]
     },
     "metadata": {},
     "output_type": "display_data"
    },
    {
     "name": "stdout",
     "output_type": "stream",
     "text": [
      "\n",
      "train Loss: 0.0118 Acc: 0.9989\n"
     ]
    },
    {
     "data": {
      "application/vnd.jupyter.widget-view+json": {
       "model_id": "4cdf203f61f34ce796062c24d1cf3127",
       "version_major": 2,
       "version_minor": 0
      },
      "text/plain": [
       "HBox(children=(FloatProgress(value=0.0, max=4.0), HTML(value='')))"
      ]
     },
     "metadata": {},
     "output_type": "display_data"
    },
    {
     "name": "stdout",
     "output_type": "stream",
     "text": [
      "\n",
      "val Loss: 0.5298 Acc: 0.8390\n",
      "Epoch 37/49\n",
      "----------------------------------------------------------------------------------------------------\n"
     ]
    },
    {
     "data": {
      "application/vnd.jupyter.widget-view+json": {
       "model_id": "5005c42e352a49dfa2409ba229520d9a",
       "version_major": 2,
       "version_minor": 0
      },
      "text/plain": [
       "HBox(children=(FloatProgress(value=0.0, max=30.0), HTML(value='')))"
      ]
     },
     "metadata": {},
     "output_type": "display_data"
    },
    {
     "name": "stdout",
     "output_type": "stream",
     "text": [
      "\n",
      "train Loss: 0.0093 Acc: 1.0000\n"
     ]
    },
    {
     "data": {
      "application/vnd.jupyter.widget-view+json": {
       "model_id": "51e6ef8e82f847b78fb48eb7f8c69dde",
       "version_major": 2,
       "version_minor": 0
      },
      "text/plain": [
       "HBox(children=(FloatProgress(value=0.0, max=4.0), HTML(value='')))"
      ]
     },
     "metadata": {},
     "output_type": "display_data"
    },
    {
     "name": "stdout",
     "output_type": "stream",
     "text": [
      "\n",
      "val Loss: 0.5290 Acc: 0.8729\n",
      "Epoch 38/49\n",
      "----------------------------------------------------------------------------------------------------\n"
     ]
    },
    {
     "data": {
      "application/vnd.jupyter.widget-view+json": {
       "model_id": "56263cd8ef3845d6a49475ca650e98da",
       "version_major": 2,
       "version_minor": 0
      },
      "text/plain": [
       "HBox(children=(FloatProgress(value=0.0, max=30.0), HTML(value='')))"
      ]
     },
     "metadata": {},
     "output_type": "display_data"
    },
    {
     "name": "stdout",
     "output_type": "stream",
     "text": [
      "\n",
      "train Loss: 0.0106 Acc: 0.9989\n"
     ]
    },
    {
     "data": {
      "application/vnd.jupyter.widget-view+json": {
       "model_id": "cc5ce1629a234a2384dce648aebdf59f",
       "version_major": 2,
       "version_minor": 0
      },
      "text/plain": [
       "HBox(children=(FloatProgress(value=0.0, max=4.0), HTML(value='')))"
      ]
     },
     "metadata": {},
     "output_type": "display_data"
    },
    {
     "name": "stdout",
     "output_type": "stream",
     "text": [
      "\n",
      "val Loss: 0.4708 Acc: 0.8390\n",
      "Epoch 39/49\n",
      "----------------------------------------------------------------------------------------------------\n"
     ]
    },
    {
     "data": {
      "application/vnd.jupyter.widget-view+json": {
       "model_id": "29cb0e2fef2f4007b2d8d522e10aa212",
       "version_major": 2,
       "version_minor": 0
      },
      "text/plain": [
       "HBox(children=(FloatProgress(value=0.0, max=30.0), HTML(value='')))"
      ]
     },
     "metadata": {},
     "output_type": "display_data"
    },
    {
     "name": "stdout",
     "output_type": "stream",
     "text": [
      "\n",
      "train Loss: 0.0104 Acc: 1.0000\n"
     ]
    },
    {
     "data": {
      "application/vnd.jupyter.widget-view+json": {
       "model_id": "1320d310c29348caab5e3c06e16384a6",
       "version_major": 2,
       "version_minor": 0
      },
      "text/plain": [
       "HBox(children=(FloatProgress(value=0.0, max=4.0), HTML(value='')))"
      ]
     },
     "metadata": {},
     "output_type": "display_data"
    },
    {
     "name": "stdout",
     "output_type": "stream",
     "text": [
      "\n",
      "val Loss: 0.5113 Acc: 0.8390\n",
      "Epoch 40/49\n",
      "----------------------------------------------------------------------------------------------------\n"
     ]
    },
    {
     "data": {
      "application/vnd.jupyter.widget-view+json": {
       "model_id": "59b7e6a869fa47389d0a473fe39fe85d",
       "version_major": 2,
       "version_minor": 0
      },
      "text/plain": [
       "HBox(children=(FloatProgress(value=0.0, max=30.0), HTML(value='')))"
      ]
     },
     "metadata": {},
     "output_type": "display_data"
    },
    {
     "name": "stdout",
     "output_type": "stream",
     "text": [
      "\n",
      "train Loss: 0.0105 Acc: 1.0000\n"
     ]
    },
    {
     "data": {
      "application/vnd.jupyter.widget-view+json": {
       "model_id": "180baa95804c488e95864ec21b6b3ec6",
       "version_major": 2,
       "version_minor": 0
      },
      "text/plain": [
       "HBox(children=(FloatProgress(value=0.0, max=4.0), HTML(value='')))"
      ]
     },
     "metadata": {},
     "output_type": "display_data"
    },
    {
     "name": "stdout",
     "output_type": "stream",
     "text": [
      "\n",
      "val Loss: 0.4982 Acc: 0.8390\n",
      "Epoch 41/49\n",
      "----------------------------------------------------------------------------------------------------\n"
     ]
    },
    {
     "data": {
      "application/vnd.jupyter.widget-view+json": {
       "model_id": "567f619b7cdd423991769cded40e2780",
       "version_major": 2,
       "version_minor": 0
      },
      "text/plain": [
       "HBox(children=(FloatProgress(value=0.0, max=30.0), HTML(value='')))"
      ]
     },
     "metadata": {},
     "output_type": "display_data"
    },
    {
     "name": "stdout",
     "output_type": "stream",
     "text": [
      "\n",
      "train Loss: 0.0181 Acc: 0.9979\n"
     ]
    },
    {
     "data": {
      "application/vnd.jupyter.widget-view+json": {
       "model_id": "d8b86d34c0c64933aabb9b07c745a682",
       "version_major": 2,
       "version_minor": 0
      },
      "text/plain": [
       "HBox(children=(FloatProgress(value=0.0, max=4.0), HTML(value='')))"
      ]
     },
     "metadata": {},
     "output_type": "display_data"
    },
    {
     "name": "stdout",
     "output_type": "stream",
     "text": [
      "\n",
      "val Loss: 0.5122 Acc: 0.8644\n",
      "Epoch 42/49\n",
      "----------------------------------------------------------------------------------------------------\n"
     ]
    },
    {
     "data": {
      "application/vnd.jupyter.widget-view+json": {
       "model_id": "663d2ad751cb40578f04f6a71f331a25",
       "version_major": 2,
       "version_minor": 0
      },
      "text/plain": [
       "HBox(children=(FloatProgress(value=0.0, max=30.0), HTML(value='')))"
      ]
     },
     "metadata": {},
     "output_type": "display_data"
    },
    {
     "name": "stdout",
     "output_type": "stream",
     "text": [
      "\n",
      "train Loss: 0.0093 Acc: 1.0000\n"
     ]
    },
    {
     "data": {
      "application/vnd.jupyter.widget-view+json": {
       "model_id": "49a42825b77f4535beff03c95deb4ac4",
       "version_major": 2,
       "version_minor": 0
      },
      "text/plain": [
       "HBox(children=(FloatProgress(value=0.0, max=4.0), HTML(value='')))"
      ]
     },
     "metadata": {},
     "output_type": "display_data"
    },
    {
     "name": "stdout",
     "output_type": "stream",
     "text": [
      "\n",
      "val Loss: 0.4436 Acc: 0.8390\n",
      "Epoch 43/49\n",
      "----------------------------------------------------------------------------------------------------\n"
     ]
    },
    {
     "data": {
      "application/vnd.jupyter.widget-view+json": {
       "model_id": "49f1777c77824e5190ead249c7103a6b",
       "version_major": 2,
       "version_minor": 0
      },
      "text/plain": [
       "HBox(children=(FloatProgress(value=0.0, max=30.0), HTML(value='')))"
      ]
     },
     "metadata": {},
     "output_type": "display_data"
    },
    {
     "name": "stdout",
     "output_type": "stream",
     "text": [
      "\n",
      "train Loss: 0.0145 Acc: 0.9989\n"
     ]
    },
    {
     "data": {
      "application/vnd.jupyter.widget-view+json": {
       "model_id": "da4e1c8dc70342d287078e08fb648111",
       "version_major": 2,
       "version_minor": 0
      },
      "text/plain": [
       "HBox(children=(FloatProgress(value=0.0, max=4.0), HTML(value='')))"
      ]
     },
     "metadata": {},
     "output_type": "display_data"
    },
    {
     "name": "stdout",
     "output_type": "stream",
     "text": [
      "\n",
      "val Loss: 0.5176 Acc: 0.8814\n",
      "Epoch 44/49\n",
      "----------------------------------------------------------------------------------------------------\n"
     ]
    },
    {
     "data": {
      "application/vnd.jupyter.widget-view+json": {
       "model_id": "eaf07b2c42f5478da55996dde97bef5c",
       "version_major": 2,
       "version_minor": 0
      },
      "text/plain": [
       "HBox(children=(FloatProgress(value=0.0, max=30.0), HTML(value='')))"
      ]
     },
     "metadata": {},
     "output_type": "display_data"
    },
    {
     "name": "stdout",
     "output_type": "stream",
     "text": [
      "\n",
      "train Loss: 0.0134 Acc: 0.9989\n"
     ]
    },
    {
     "data": {
      "application/vnd.jupyter.widget-view+json": {
       "model_id": "6161c6ab14d84478ac4ce87ad3bd1511",
       "version_major": 2,
       "version_minor": 0
      },
      "text/plain": [
       "HBox(children=(FloatProgress(value=0.0, max=4.0), HTML(value='')))"
      ]
     },
     "metadata": {},
     "output_type": "display_data"
    },
    {
     "name": "stdout",
     "output_type": "stream",
     "text": [
      "\n",
      "val Loss: 0.5021 Acc: 0.8559\n",
      "Epoch 45/49\n",
      "----------------------------------------------------------------------------------------------------\n"
     ]
    },
    {
     "data": {
      "application/vnd.jupyter.widget-view+json": {
       "model_id": "06fafedb58b646a898e12252497901fa",
       "version_major": 2,
       "version_minor": 0
      },
      "text/plain": [
       "HBox(children=(FloatProgress(value=0.0, max=30.0), HTML(value='')))"
      ]
     },
     "metadata": {},
     "output_type": "display_data"
    },
    {
     "name": "stdout",
     "output_type": "stream",
     "text": [
      "\n",
      "train Loss: 0.0122 Acc: 0.9989\n"
     ]
    },
    {
     "data": {
      "application/vnd.jupyter.widget-view+json": {
       "model_id": "809b1063a1e64f55b2d19be8a7ca5fbd",
       "version_major": 2,
       "version_minor": 0
      },
      "text/plain": [
       "HBox(children=(FloatProgress(value=0.0, max=4.0), HTML(value='')))"
      ]
     },
     "metadata": {},
     "output_type": "display_data"
    },
    {
     "name": "stdout",
     "output_type": "stream",
     "text": [
      "\n",
      "val Loss: 0.5347 Acc: 0.8559\n",
      "Epoch 46/49\n",
      "----------------------------------------------------------------------------------------------------\n"
     ]
    },
    {
     "data": {
      "application/vnd.jupyter.widget-view+json": {
       "model_id": "8669e91ed28d4c7b96f43d5827d96f9c",
       "version_major": 2,
       "version_minor": 0
      },
      "text/plain": [
       "HBox(children=(FloatProgress(value=0.0, max=30.0), HTML(value='')))"
      ]
     },
     "metadata": {},
     "output_type": "display_data"
    },
    {
     "name": "stdout",
     "output_type": "stream",
     "text": [
      "\n",
      "train Loss: 0.0097 Acc: 1.0000\n"
     ]
    },
    {
     "data": {
      "application/vnd.jupyter.widget-view+json": {
       "model_id": "d260d434f1e14e5695af0c2da7dc1fca",
       "version_major": 2,
       "version_minor": 0
      },
      "text/plain": [
       "HBox(children=(FloatProgress(value=0.0, max=4.0), HTML(value='')))"
      ]
     },
     "metadata": {},
     "output_type": "display_data"
    },
    {
     "name": "stdout",
     "output_type": "stream",
     "text": [
      "\n",
      "val Loss: 0.4580 Acc: 0.8729\n",
      "Epoch 47/49\n",
      "----------------------------------------------------------------------------------------------------\n"
     ]
    },
    {
     "data": {
      "application/vnd.jupyter.widget-view+json": {
       "model_id": "f98a8fdadc9b4f9f90222aa57bc688cc",
       "version_major": 2,
       "version_minor": 0
      },
      "text/plain": [
       "HBox(children=(FloatProgress(value=0.0, max=30.0), HTML(value='')))"
      ]
     },
     "metadata": {},
     "output_type": "display_data"
    },
    {
     "name": "stdout",
     "output_type": "stream",
     "text": [
      "\n",
      "train Loss: 0.0104 Acc: 0.9989\n"
     ]
    },
    {
     "data": {
      "application/vnd.jupyter.widget-view+json": {
       "model_id": "caddf9b8d1944b6da239472340dccdd6",
       "version_major": 2,
       "version_minor": 0
      },
      "text/plain": [
       "HBox(children=(FloatProgress(value=0.0, max=4.0), HTML(value='')))"
      ]
     },
     "metadata": {},
     "output_type": "display_data"
    },
    {
     "name": "stdout",
     "output_type": "stream",
     "text": [
      "\n",
      "val Loss: 0.4825 Acc: 0.8559\n",
      "Epoch 48/49\n",
      "----------------------------------------------------------------------------------------------------\n"
     ]
    },
    {
     "data": {
      "application/vnd.jupyter.widget-view+json": {
       "model_id": "4d9835916f26415ca28fbaf86158d3d7",
       "version_major": 2,
       "version_minor": 0
      },
      "text/plain": [
       "HBox(children=(FloatProgress(value=0.0, max=30.0), HTML(value='')))"
      ]
     },
     "metadata": {},
     "output_type": "display_data"
    },
    {
     "name": "stdout",
     "output_type": "stream",
     "text": [
      "\n",
      "train Loss: 0.0218 Acc: 0.9979\n"
     ]
    },
    {
     "data": {
      "application/vnd.jupyter.widget-view+json": {
       "model_id": "543ea0ded38747bd8f431d7fd20351cf",
       "version_major": 2,
       "version_minor": 0
      },
      "text/plain": [
       "HBox(children=(FloatProgress(value=0.0, max=4.0), HTML(value='')))"
      ]
     },
     "metadata": {},
     "output_type": "display_data"
    },
    {
     "name": "stdout",
     "output_type": "stream",
     "text": [
      "\n",
      "val Loss: 0.4837 Acc: 0.8983\n",
      "Epoch 49/49\n",
      "----------------------------------------------------------------------------------------------------\n"
     ]
    },
    {
     "data": {
      "application/vnd.jupyter.widget-view+json": {
       "model_id": "b278a6e73d0f4598a5d11a3207da88ef",
       "version_major": 2,
       "version_minor": 0
      },
      "text/plain": [
       "HBox(children=(FloatProgress(value=0.0, max=30.0), HTML(value='')))"
      ]
     },
     "metadata": {},
     "output_type": "display_data"
    },
    {
     "name": "stdout",
     "output_type": "stream",
     "text": [
      "\n",
      "train Loss: 0.0109 Acc: 1.0000\n"
     ]
    },
    {
     "data": {
      "application/vnd.jupyter.widget-view+json": {
       "model_id": "a3ee630c84074b82bf4898b28028559a",
       "version_major": 2,
       "version_minor": 0
      },
      "text/plain": [
       "HBox(children=(FloatProgress(value=0.0, max=4.0), HTML(value='')))"
      ]
     },
     "metadata": {},
     "output_type": "display_data"
    },
    {
     "name": "stdout",
     "output_type": "stream",
     "text": [
      "\n",
      "val Loss: 0.5069 Acc: 0.8390\n",
      "Training complete in 3m 26s\n",
      "Best val Acc: 0.898305\n"
     ]
    },
    {
     "data": {
      "image/png": "[encoded data removed]",
      "text/plain": [
       "<Figure size 720x360 with 1 Axes>"
      ]
     },
     "metadata": {
      "needs_background": "light"
     },
     "output_type": "display_data"
    },
    {
     "data": {
      "image/png": "[encoded data removed]",
      "text/plain": [
       "<Figure size 720x360 with 1 Axes>"
      ]
     },
     "metadata": {
      "needs_background": "light"
     },
     "output_type": "display_data"
    }
   ],
   "source": [
    "model = MultiCNN().to(device)\n",
    "criterion = nn.CrossEntropyLoss()\n",
    "optimizer = torch.optim.Adam(model.parameters(), lr=0.0001)\n",
    "exp_lr_scheduler = lr_scheduler.StepLR(optimizer, step_size=7, gamma=0.1)\n",
    "model = train_model(model, criterion, optimizer, exp_lr_scheduler, dataloaders, dataset_sizes,\n",
    "                       num_epochs=50, batch_size = batch_size)"
   ]
  },
  {
   "cell_type": "code",
   "execution_count": null,
   "metadata": {},
   "outputs": [],
   "source": []
  }
 ],
 "metadata": {
  "kernelspec": {
   "display_name": "Python 3",
   "language": "python",
   "name": "python3"
  },
  "language_info": {
   "codemirror_mode": {
    "name": "ipython",
    "version": 3
   },
   "file_extension": ".py",
   "mimetype": "text/x-python",
   "name": "python",
   "nbconvert_exporter": "python",
   "pygments_lexer": "ipython3",
   "version": "3.7.6"
  },
  "varInspector": {
   "cols": {
    "lenName": 16,
    "lenType": 16,
    "lenVar": 40
   },
   "kernels_config": {
    "python": {
     "delete_cmd_postfix": "",
     "delete_cmd_prefix": "del ",
     "library": "var_list.py",
     "varRefreshCmd": "print(var_dic_list())"
    },
    "r": {
     "delete_cmd_postfix": ") ",
     "delete_cmd_prefix": "rm(",
     "library": "var_list.r",
     "varRefreshCmd": "cat(var_dic_list()) "
    }
   },
   "types_to_exclude": [
    "module",
    "function",
    "builtin_function_or_method",
    "instance",
    "_Feature"
   ],
   "window_display": false
  },
  "widgets": {
   "application/vnd.jupyter.widget-state+json": {
    "state": {
     "00025f97a729471b933978d6ccb25624": {
      "model_module": "@jupyter-widgets/base",
      "model_module_version": "1.2.0",
      "model_name": "LayoutModel",
      "state": {}
     },
     "0025233b78f240ea8b2a24627f76ac5a": {
      "model_module": "@jupyter-widgets/controls",
      "model_module_version": "1.5.0",
      "model_name": "FloatProgressModel",
      "state": {
       "bar_style": "success",
       "description": "100%",
       "layout": "IPY_MODEL_b609bd8bd7114aaea302241379c20b9c",
       "max": 30,
       "style": "IPY_MODEL_328083dc4e6c4750aba3df24a449a63b",
       "value": 30
      }
     },
     "00a4a689fdb64009acd4f59b9c592fc7": {
      "model_module": "@jupyter-widgets/base",
      "model_module_version": "1.2.0",
      "model_name": "LayoutModel",
      "state": {}
     },
     "00b132f3b5364c1fa085db2edd7062b6": {
      "model_module": "@jupyter-widgets/base",
      "model_module_version": "1.2.0",
      "model_name": "LayoutModel",
      "state": {}
     },
     "012811cba8bc4c2682f98b28f25bd5e5": {
      "model_module": "@jupyter-widgets/base",
      "model_module_version": "1.2.0",
      "model_name": "LayoutModel",
      "state": {}
     },
     "01957a1c027143d6a0572ee477dd6fca": {
      "model_module": "@jupyter-widgets/base",
      "model_module_version": "1.2.0",
      "model_name": "LayoutModel",
      "state": {}
     },
     "01ca8eacd2324f3c87e933ba1171a053": {
      "model_module": "@jupyter-widgets/controls",
      "model_module_version": "1.5.0",
      "model_name": "HTMLModel",
      "state": {
       "layout": "IPY_MODEL_de79a957698147fd81daa52e71d2af94",
       "style": "IPY_MODEL_5c574432614044e09e26a10d414d59cc",
       "value": " 30/30 [00:04&lt;00:00,  6.79it/s]"
      }
     },
     "0224444df06545a192e4d5b8d43342c1": {
      "model_module": "@jupyter-widgets/controls",
      "model_module_version": "1.5.0",
      "model_name": "DescriptionStyleModel",
      "state": {
       "description_width": ""
      }
     },
     "0230ad1e1a3340dab96f7f4225614680": {
      "model_module": "@jupyter-widgets/controls",
      "model_module_version": "1.5.0",
      "model_name": "FloatProgressModel",
      "state": {
       "bar_style": "success",
       "description": "100%",
       "layout": "IPY_MODEL_f43188efc23e4527afff3d1fd5164f88",
       "max": 4,
       "style": "IPY_MODEL_f65fb1ba5d4242259e555f2c49d6366b",
       "value": 4
      }
     },
     "0243019ece8c418eac90e55f39a59c3b": {
      "model_module": "@jupyter-widgets/controls",
      "model_module_version": "1.5.0",
      "model_name": "HBoxModel",
      "state": {
       "children": [
        "IPY_MODEL_4c4d23fdf95e45f89c7c3be101805c07",
        "IPY_MODEL_76276e1c7f0347a1955a73671838aacf"
       ],
       "layout": "IPY_MODEL_4e4a589ea707450a92b22e76df620d2b"
      }
     },
     "024f723db86746469b9f25967b2720dd": {
      "model_module": "@jupyter-widgets/controls",
      "model_module_version": "1.5.0",
      "model_name": "HTMLModel",
      "state": {
       "layout": "IPY_MODEL_0610904bf2b14c24979d8aa44e3893e1",
       "style": "IPY_MODEL_7377a622e852439db44b33a4ad362496",
       "value": " 4/4 [00:21&lt;00:00,  5.45s/it]"
      }
     },
     "025a6ae679f04f39af1fd0f94fe3aba4": {
      "model_module": "@jupyter-widgets/controls",
      "model_module_version": "1.5.0",
      "model_name": "HTMLModel",
      "state": {
       "layout": "IPY_MODEL_facdb51ac220484e9fcc4121aeda5a02",
       "style": "IPY_MODEL_5a41019c9b57414687a2bc28b633f446",
       "value": " 4/4 [00:04&lt;00:00,  1.09s/it]"
      }
     },
     "026af511afb14a1db69ba0b8672d5ba2": {
      "model_module": "@jupyter-widgets/controls",
      "model_module_version": "1.5.0",
      "model_name": "DescriptionStyleModel",
      "state": {
       "description_width": ""
      }
     },
     "0275d3dff8e84f67952fc12cafb53aa2": {
      "model_module": "@jupyter-widgets/controls",
      "model_module_version": "1.5.0",
      "model_name": "HBoxModel",
      "state": {
       "children": [
        "IPY_MODEL_aec7169790a3401389a9d802ce49eaba",
        "IPY_MODEL_c61727d5b3c14ce7b2b87903968b76db"
       ],
       "layout": "IPY_MODEL_dde18e183b9b49aab496032e44ab7418"
      }
     },
     "02861d0cc97048cebc361313e4e1cbe0": {
      "model_module": "@jupyter-widgets/base",
      "model_module_version": "1.2.0",
      "model_name": "LayoutModel",
      "state": {}
     },
     "029150b7edb148a88c82f78f3a44dfce": {
      "model_module": "@jupyter-widgets/controls",
      "model_module_version": "1.5.0",
      "model_name": "ProgressStyleModel",
      "state": {
       "description_width": "initial"
      }
     },
     "029a4131019046adb9f0de3a0c616f7a": {
      "model_module": "@jupyter-widgets/controls",
      "model_module_version": "1.5.0",
      "model_name": "HBoxModel",
      "state": {
       "children": [
        "IPY_MODEL_02df009098db488a8f5d927c592f042f",
        "IPY_MODEL_df26d43543404338b8ac93f6576f5287"
       ],
       "layout": "IPY_MODEL_5228a717ffa145769b94d669a77959e4"
      }
     },
     "02b2df0b6dc94d0e8aabb02e1a9d135e": {
      "model_module": "@jupyter-widgets/controls",
      "model_module_version": "1.5.0",
      "model_name": "DescriptionStyleModel",
      "state": {
       "description_width": ""
      }
     },
     "02c17e67d3b2481faf9470110aabd435": {
      "model_module": "@jupyter-widgets/controls",
      "model_module_version": "1.5.0",
      "model_name": "FloatProgressModel",
      "state": {
       "bar_style": "success",
       "description": "100%",
       "layout": "IPY_MODEL_2c06d9eed79b4689a83017e7f5e7c98a",
       "max": 4,
       "style": "IPY_MODEL_be23a633f1f84208bd2fbdb4f7d11aa7",
       "value": 4
      }
     },
     "02df009098db488a8f5d927c592f042f": {
      "model_module": "@jupyter-widgets/controls",
      "model_module_version": "1.5.0",
      "model_name": "FloatProgressModel",
      "state": {
       "bar_style": "success",
       "description": "100%",
       "layout": "IPY_MODEL_572e3bbf6f094b338f0f1e6d954ce059",
       "max": 30,
       "style": "IPY_MODEL_9f9970e797394ec8961663ce2b347b3b",
       "value": 30
      }
     },
     "02f13ad6c6fb4b29be3e32929f9f17a7": {
      "model_module": "@jupyter-widgets/base",
      "model_module_version": "1.2.0",
      "model_name": "LayoutModel",
      "state": {}
     },
     "02fcee1f378843b68f99b134e3c48a76": {
      "model_module": "@jupyter-widgets/base",
      "model_module_version": "1.2.0",
      "model_name": "LayoutModel",
      "state": {}
     },
     "0306ed553e054ce7a029831d4eee958e": {
      "model_module": "@jupyter-widgets/base",
      "model_module_version": "1.2.0",
      "model_name": "LayoutModel",
      "state": {}
     },
     "031481cc025a44db97046a9f114b90a0": {
      "model_module": "@jupyter-widgets/controls",
      "model_module_version": "1.5.0",
      "model_name": "DescriptionStyleModel",
      "state": {
       "description_width": ""
      }
     },
     "0328399cf71740c0a040118c3324c458": {
      "model_module": "@jupyter-widgets/controls",
      "model_module_version": "1.5.0",
      "model_name": "ProgressStyleModel",
      "state": {
       "description_width": "initial"
      }
     },
     "035f4492785c4edfaa209820173fe161": {
      "model_module": "@jupyter-widgets/controls",
      "model_module_version": "1.5.0",
      "model_name": "HBoxModel",
      "state": {
       "children": [
        "IPY_MODEL_3041a226c7f74ad58a39d0cae1744419",
        "IPY_MODEL_dcc02fa0b8ae459188aa75f73ce8489f"
       ],
       "layout": "IPY_MODEL_1890d1c9f3cf4c4d94c3a6cacfffecc4"
      }
     },
     "042e3a86988946b48d32189e888dbe1d": {
      "model_module": "@jupyter-widgets/controls",
      "model_module_version": "1.5.0",
      "model_name": "HBoxModel",
      "state": {
       "children": [
        "IPY_MODEL_c9a3bcda4c30451e935e688be00fb0fc",
        "IPY_MODEL_32b1fdf37fb94a40bcc55778b73a0133"
       ],
       "layout": "IPY_MODEL_0c09044b207645d3b4b42d2ff3af8672"
      }
     },
     "045dedfac38340df9d1942bfbe5b1de3": {
      "model_module": "@jupyter-widgets/base",
      "model_module_version": "1.2.0",
      "model_name": "LayoutModel",
      "state": {}
     },
     "046f537eb3f0454f92f146794695b908": {
      "model_module": "@jupyter-widgets/controls",
      "model_module_version": "1.5.0",
      "model_name": "HBoxModel",
      "state": {
       "children": [
        "IPY_MODEL_1b1324be465e4896b215b1dccaeef3f7",
        "IPY_MODEL_c941058f866e48cfb9dc863763c44719"
       ],
       "layout": "IPY_MODEL_8c5676ce3e5246fb8fcc668bbde9fea3"
      }
     },
     "049fbdefbff7402ab2eff75c3c25ffea": {
      "model_module": "@jupyter-widgets/controls",
      "model_module_version": "1.5.0",
      "model_name": "FloatProgressModel",
      "state": {
       "bar_style": "success",
       "description": "100%",
       "layout": "IPY_MODEL_c365fe1c63ed4847a6ecdee5239acee0",
       "max": 30,
       "style": "IPY_MODEL_497cf04113cc4c08ae4c5ea419f0d369",
       "value": 30
      }
     },
     "04d68efab6164237bf99930a70057f9a": {
      "model_module": "@jupyter-widgets/base",
      "model_module_version": "1.2.0",
      "model_name": "LayoutModel",
      "state": {}
     },
     "04dc07b7141e4646ac94b3ff95be9054": {
      "model_module": "@jupyter-widgets/base",
      "model_module_version": "1.2.0",
      "model_name": "LayoutModel",
      "state": {}
     },
     "04f4373a10d6432791e706a8af172728": {
      "model_module": "@jupyter-widgets/base",
      "model_module_version": "1.2.0",
      "model_name": "LayoutModel",
      "state": {}
     },
     "051ec944d906442aaef9f4ca62980850": {
      "model_module": "@jupyter-widgets/base",
      "model_module_version": "1.2.0",
      "model_name": "LayoutModel",
      "state": {}
     },
     "05578a21b4c34598a287aba2b37c3b7c": {
      "model_module": "@jupyter-widgets/controls",
      "model_module_version": "1.5.0",
      "model_name": "HBoxModel",
      "state": {
       "children": [
        "IPY_MODEL_587f5ba6c99e4a08bc314faeed91b135",
        "IPY_MODEL_ff3138c967da4c57a7ad5d3c7a0c8826"
       ],
       "layout": "IPY_MODEL_cfa5cc2f260f421ba735ccadcb50ddb8"
      }
     },
     "0561c0b94de14fa39d3a299a0377b851": {
      "model_module": "@jupyter-widgets/controls",
      "model_module_version": "1.5.0",
      "model_name": "HTMLModel",
      "state": {
       "layout": "IPY_MODEL_82da260b1b7f4699a15e0b5cf6511c98",
       "style": "IPY_MODEL_6994a01add5f477fbd25f013a6b5aef1",
       "value": " 30/30 [00:25&lt;00:00,  1.18it/s]"
      }
     },
     "05ccd095243e4107943ed672430fae03": {
      "model_module": "@jupyter-widgets/controls",
      "model_module_version": "1.5.0",
      "model_name": "FloatProgressModel",
      "state": {
       "bar_style": "success",
       "description": "100%",
       "layout": "IPY_MODEL_70212846b3f24a77a7290c84a971a1f4",
       "max": 4,
       "style": "IPY_MODEL_6277885db9504f4a8fb6c1f949661c26",
       "value": 4
      }
     },
     "0610904bf2b14c24979d8aa44e3893e1": {
      "model_module": "@jupyter-widgets/base",
      "model_module_version": "1.2.0",
      "model_name": "LayoutModel",
      "state": {}
     },
     "065812fecbda4252839ab985c928994e": {
      "model_module": "@jupyter-widgets/controls",
      "model_module_version": "1.5.0",
      "model_name": "ProgressStyleModel",
      "state": {
       "description_width": "initial"
      }
     },
     "069fe7e4c8c541cd99adc59ea6aa4834": {
      "model_module": "@jupyter-widgets/controls",
      "model_module_version": "1.5.0",
      "model_name": "HBoxModel",
      "state": {
       "children": [
        "IPY_MODEL_e9e0069d3646426880a977d8f8a8aa6c",
        "IPY_MODEL_74f8b135a2834a809310fb8d61f29aa8"
       ],
       "layout": "IPY_MODEL_a6f3676ef3ff4df4bffa54dc60eb4824"
      }
     },
     "06fafedb58b646a898e12252497901fa": {
      "model_module": "@jupyter-widgets/controls",
      "model_module_version": "1.5.0",
      "model_name": "HBoxModel",
      "state": {
       "children": [
        "IPY_MODEL_e87f802cc12b4d10a009bcc56a70ce21",
        "IPY_MODEL_b290cc38e86e403bbd283a0d795540d3"
       ],
       "layout": "IPY_MODEL_baf7e27a4bec4a729791256221a19888"
      }
     },
     "07c56d8bb95b4a209a67a8e149e3218c": {
      "model_module": "@jupyter-widgets/controls",
      "model_module_version": "1.5.0",
      "model_name": "ProgressStyleModel",
      "state": {
       "description_width": "initial"
      }
     },
     "07fea59952d744058faf21b6a49d32a2": {
      "model_module": "@jupyter-widgets/base",
      "model_module_version": "1.2.0",
      "model_name": "LayoutModel",
      "state": {}
     },
     "08227fea58f1450d980451c8bc045ea4": {
      "model_module": "@jupyter-widgets/controls",
      "model_module_version": "1.5.0",
      "model_name": "HTMLModel",
      "state": {
       "layout": "IPY_MODEL_816f4ddda6ed478a96321ff563a47d3f",
       "style": "IPY_MODEL_d006988d4745410491286d2d328c5711",
       "value": " 30/30 [00:04&lt;00:00,  6.95it/s]"
      }
     },
     "0835b8aa0974411f96b4621ae54f4eeb": {
      "model_module": "@jupyter-widgets/controls",
      "model_module_version": "1.5.0",
      "model_name": "FloatProgressModel",
      "state": {
       "bar_style": "success",
       "description": "100%",
       "layout": "IPY_MODEL_d584da0933e04db59b27339ddc3075d2",
       "max": 4,
       "style": "IPY_MODEL_a250471b35f545c79a2ef8ffdaf0790d",
       "value": 4
      }
     },
     "083dd1a33353418cb037a3a445bedff1": {
      "model_module": "@jupyter-widgets/base",
      "model_module_version": "1.2.0",
      "model_name": "LayoutModel",
      "state": {}
     },
     "0889ff2412a04feb9aa352f779232f52": {
      "model_module": "@jupyter-widgets/base",
      "model_module_version": "1.2.0",
      "model_name": "LayoutModel",
      "state": {}
     },
     "08bbc8949ce541abbf18f469ebe53453": {
      "model_module": "@jupyter-widgets/controls",
      "model_module_version": "1.5.0",
      "model_name": "HTMLModel",
      "state": {
       "layout": "IPY_MODEL_4178d1ba304c472db84118510deb5bb5",
       "style": "IPY_MODEL_8b382ac07e514aed85d27be71f0f6f53",
       "value": " 30/30 [00:03&lt;00:00,  8.12it/s]"
      }
     },
     "08eb7624e4fd4d76af8494c5a2290e0c": {
      "model_module": "@jupyter-widgets/base",
      "model_module_version": "1.2.0",
      "model_name": "LayoutModel",
      "state": {}
     },
     "0902c5e9a347482dac1afd5daf1bdd20": {
      "model_module": "@jupyter-widgets/base",
      "model_module_version": "1.2.0",
      "model_name": "LayoutModel",
      "state": {}
     },
     "09233f2cdb7a45cc8e48cd077521902c": {
      "model_module": "@jupyter-widgets/controls",
      "model_module_version": "1.5.0",
      "model_name": "HBoxModel",
      "state": {
       "children": [
        "IPY_MODEL_d04a45f68efc4146a0dbe80257d5491a",
        "IPY_MODEL_1470e1086bfd4a92b6abd4632d74f3a7"
       ],
       "layout": "IPY_MODEL_44a71034e8d3499c8cc80ebc68bfe787"
      }
     },
     "0996fa2e6c1f4daca6640b826d68c189": {
      "model_module": "@jupyter-widgets/base",
      "model_module_version": "1.2.0",
      "model_name": "LayoutModel",
      "state": {}
     },
     "09a75dae1590405285bbfe58d6034575": {
      "model_module": "@jupyter-widgets/base",
      "model_module_version": "1.2.0",
      "model_name": "LayoutModel",
      "state": {}
     },
     "09bb86f9f9fc4e50b6a9238af8a02e27": {
      "model_module": "@jupyter-widgets/base",
      "model_module_version": "1.2.0",
      "model_name": "LayoutModel",
      "state": {}
     },
     "09dc0b49d83847f29faa245afa56872d": {
      "model_module": "@jupyter-widgets/base",
      "model_module_version": "1.2.0",
      "model_name": "LayoutModel",
      "state": {}
     },
     "0a05daf08b174235b31753ca82667407": {
      "model_module": "@jupyter-widgets/base",
      "model_module_version": "1.2.0",
      "model_name": "LayoutModel",
      "state": {}
     },
     "0a154d5886c4495ba2b22a1948faadae": {
      "model_module": "@jupyter-widgets/controls",
      "model_module_version": "1.5.0",
      "model_name": "ProgressStyleModel",
      "state": {
       "description_width": "initial"
      }
     },
     "0a2a518f249e47cea2436478ff2166af": {
      "model_module": "@jupyter-widgets/controls",
      "model_module_version": "1.5.0",
      "model_name": "DescriptionStyleModel",
      "state": {
       "description_width": ""
      }
     },
     "0a3dd1701f044ca8bdf078aa5f66b50e": {
      "model_module": "@jupyter-widgets/base",
      "model_module_version": "1.2.0",
      "model_name": "LayoutModel",
      "state": {}
     },
     "0a42f8fc69cb483c8866979cf0a97b60": {
      "model_module": "@jupyter-widgets/base",
      "model_module_version": "1.2.0",
      "model_name": "LayoutModel",
      "state": {}
     },
     "0a5652f6352d405c9dd0cc9e752a261f": {
      "model_module": "@jupyter-widgets/controls",
      "model_module_version": "1.5.0",
      "model_name": "ProgressStyleModel",
      "state": {
       "description_width": "initial"
      }
     },
     "0a5a0bb7d1b04dce851e73abbd93e69f": {
      "model_module": "@jupyter-widgets/controls",
      "model_module_version": "1.5.0",
      "model_name": "DescriptionStyleModel",
      "state": {
       "description_width": ""
      }
     },
     "0a5bc778bcc145ce8dcb2c3d8654c3ea": {
      "model_module": "@jupyter-widgets/controls",
      "model_module_version": "1.5.0",
      "model_name": "HBoxModel",
      "state": {
       "children": [
        "IPY_MODEL_049fbdefbff7402ab2eff75c3c25ffea",
        "IPY_MODEL_4fac3c46d3384974bb6c325ddf23f176"
       ],
       "layout": "IPY_MODEL_0996fa2e6c1f4daca6640b826d68c189"
      }
     },
     "0a5c4e9ea57b46cbae01584e5a8723f6": {
      "model_module": "@jupyter-widgets/base",
      "model_module_version": "1.2.0",
      "model_name": "LayoutModel",
      "state": {}
     },
     "0a9fb97a13764a2793b244ecfc5ca798": {
      "model_module": "@jupyter-widgets/base",
      "model_module_version": "1.2.0",
      "model_name": "LayoutModel",
      "state": {}
     },
     "0acfdb701f1c44d0add90b50b1aed3df": {
      "model_module": "@jupyter-widgets/controls",
      "model_module_version": "1.5.0",
      "model_name": "DescriptionStyleModel",
      "state": {
       "description_width": ""
      }
     },
     "0af4e8efca45423ea8ff17205e739ecc": {
      "model_module": "@jupyter-widgets/base",
      "model_module_version": "1.2.0",
      "model_name": "LayoutModel",
      "state": {}
     },
     "0af63c4e8d6a4f16be177f5e2f94a807": {
      "model_module": "@jupyter-widgets/controls",
      "model_module_version": "1.5.0",
      "model_name": "HBoxModel",
      "state": {
       "children": [
        "IPY_MODEL_71a3b7bb18e649819a6ad21648adf7aa",
        "IPY_MODEL_66d20fe598574984bcc9d2c52c73d12e"
       ],
       "layout": "IPY_MODEL_9edf3a439b7e4f52924c33dcef2659b1"
      }
     },
     "0b13e8cb62784f9eb9a0ecca17735016": {
      "model_module": "@jupyter-widgets/base",
      "model_module_version": "1.2.0",
      "model_name": "LayoutModel",
      "state": {}
     },
     "0b5bb86002354be6be9147cd3b60fdb7": {
      "model_module": "@jupyter-widgets/controls",
      "model_module_version": "1.5.0",
      "model_name": "DescriptionStyleModel",
      "state": {
       "description_width": ""
      }
     },
     "0b62f9956d7b41a1801b69e3f09e4ffd": {
      "model_module": "@jupyter-widgets/controls",
      "model_module_version": "1.5.0",
      "model_name": "HTMLModel",
      "state": {
       "layout": "IPY_MODEL_8d97e75b23144f4fa7a0678d9c38155a",
       "style": "IPY_MODEL_293c8ca79ef748998f6560add58613e5",
       "value": " 30/30 [00:17&lt;00:00,  1.75it/s]"
      }
     },
     "0b6c01af7c304618b92be1f7bbfec641": {
      "model_module": "@jupyter-widgets/controls",
      "model_module_version": "1.5.0",
      "model_name": "FloatProgressModel",
      "state": {
       "bar_style": "success",
       "description": "100%",
       "layout": "IPY_MODEL_b1e024a2ad8948a28f63987d31403f90",
       "max": 30,
       "style": "IPY_MODEL_6adc96a54afe4b608ce7136aa2114fca",
       "value": 30
      }
     },
     "0bcdf3c9d80946789c3060f1ae911f65": {
      "model_module": "@jupyter-widgets/base",
      "model_module_version": "1.2.0",
      "model_name": "LayoutModel",
      "state": {}
     },
     "0c09044b207645d3b4b42d2ff3af8672": {
      "model_module": "@jupyter-widgets/base",
      "model_module_version": "1.2.0",
      "model_name": "LayoutModel",
      "state": {}
     },
     "0c0e6973193c4a009f00baef050be18f": {
      "model_module": "@jupyter-widgets/controls",
      "model_module_version": "1.5.0",
      "model_name": "ProgressStyleModel",
      "state": {
       "description_width": "initial"
      }
     },
     "0c5b6e200de54335896e4cf191224bbb": {
      "model_module": "@jupyter-widgets/controls",
      "model_module_version": "1.5.0",
      "model_name": "ProgressStyleModel",
      "state": {
       "description_width": "initial"
      }
     },
     "0c816377e8c84356926b3e5411a63d94": {
      "model_module": "@jupyter-widgets/controls",
      "model_module_version": "1.5.0",
      "model_name": "HBoxModel",
      "state": {
       "children": [
        "IPY_MODEL_68aabd5bb28449d5a3fedf518cb86d58",
        "IPY_MODEL_fc870fb2ba25483e90a7ab3730eca954"
       ],
       "layout": "IPY_MODEL_1ec1838fffbb4dd88bd5194ec036a198"
      }
     },
     "0c90856587fa4ee08ee518665976b434": {
      "model_module": "@jupyter-widgets/controls",
      "model_module_version": "1.5.0",
      "model_name": "HBoxModel",
      "state": {
       "children": [
        "IPY_MODEL_625b0445d6dd4f33a4463ad1e7ed5e92",
        "IPY_MODEL_276a5bbf1fc24ed7969464d847423592"
       ],
       "layout": "IPY_MODEL_812ce6b6c3b94459a353d0c67fd6a4de"
      }
     },
     "0c9be2992d25493cafbc1dd298da162d": {
      "model_module": "@jupyter-widgets/controls",
      "model_module_version": "1.5.0",
      "model_name": "HTMLModel",
      "state": {
       "layout": "IPY_MODEL_62aecf099a0f4d648c0a638e1644b0cf",
       "style": "IPY_MODEL_f1bd6bca9f9946d583a16b08ee5257b8",
       "value": " 4/4 [00:01&lt;00:00,  2.63it/s]"
      }
     },
     "0cc73924f6074308ab01b51dd4661edf": {
      "model_module": "@jupyter-widgets/base",
      "model_module_version": "1.2.0",
      "model_name": "LayoutModel",
      "state": {}
     },
     "0ccd2ffb164f443dacf8ae9d93d70659": {
      "model_module": "@jupyter-widgets/controls",
      "model_module_version": "1.5.0",
      "model_name": "FloatProgressModel",
      "state": {
       "bar_style": "success",
       "description": "100%",
       "layout": "IPY_MODEL_5113e265ac1e43cb89b5383e519df573",
       "max": 30,
       "style": "IPY_MODEL_abd2eae6959349bbb695e017f170fc3f",
       "value": 30
      }
     },
     "0da8cf39110e477ab375c20dbc12cd28": {
      "model_module": "@jupyter-widgets/base",
      "model_module_version": "1.2.0",
      "model_name": "LayoutModel",
      "state": {}
     },
     "0dd1d68464ba4c328e0f32dee12a1f06": {
      "model_module": "@jupyter-widgets/base",
      "model_module_version": "1.2.0",
      "model_name": "LayoutModel",
      "state": {}
     },
     "0dd2fb2762b248d0918c39714a3594da": {
      "model_module": "@jupyter-widgets/base",
      "model_module_version": "1.2.0",
      "model_name": "LayoutModel",
      "state": {}
     },
     "0e2b128d79534f99af6e068847a20712": {
      "model_module": "@jupyter-widgets/base",
      "model_module_version": "1.2.0",
      "model_name": "LayoutModel",
      "state": {}
     },
     "0e3be6d4d1644ca7ae1f57f9bb6c62c3": {
      "model_module": "@jupyter-widgets/controls",
      "model_module_version": "1.5.0",
      "model_name": "ProgressStyleModel",
      "state": {
       "description_width": "initial"
      }
     },
     "0e5dd382cf044d76b3a006726df0fb1c": {
      "model_module": "@jupyter-widgets/controls",
      "model_module_version": "1.5.0",
      "model_name": "HBoxModel",
      "state": {
       "children": [
        "IPY_MODEL_f69f5531dcd74c1cac0f7f6d5895d4ac",
        "IPY_MODEL_d76ddb7edcc6467ca9d780dc36e6c224"
       ],
       "layout": "IPY_MODEL_4d4c897ae76244b8a86501caa268ec8c"
      }
     },
     "0e732507c5df47348e9bc6ed630b91c0": {
      "model_module": "@jupyter-widgets/base",
      "model_module_version": "1.2.0",
      "model_name": "LayoutModel",
      "state": {}
     },
     "0f31889d1a2c4fcdadb82b173d665561": {
      "model_module": "@jupyter-widgets/base",
      "model_module_version": "1.2.0",
      "model_name": "LayoutModel",
      "state": {}
     },
     "0f3b58ef12a9485890818ea71a2b57fa": {
      "model_module": "@jupyter-widgets/controls",
      "model_module_version": "1.5.0",
      "model_name": "HBoxModel",
      "state": {
       "children": [
        "IPY_MODEL_b5579273f8ee4b79a74f82495a480601",
        "IPY_MODEL_177e949a4f25435fa487f95243e06cef"
       ],
       "layout": "IPY_MODEL_f9cd0d3c0b38430f8f5a80ffdd356cfe"
      }
     },
     "0f4f419aa26f4b89b094147aebf2471e": {
      "model_module": "@jupyter-widgets/controls",
      "model_module_version": "1.5.0",
      "model_name": "ProgressStyleModel",
      "state": {
       "description_width": "initial"
      }
     },
     "0fb6460dfa214c3eb2c26ac509164477": {
      "model_module": "@jupyter-widgets/controls",
      "model_module_version": "1.5.0",
      "model_name": "HTMLModel",
      "state": {
       "layout": "IPY_MODEL_265491a97f514f36a8b3f874a5b0305f",
       "style": "IPY_MODEL_6af019b925204a06914a5ee91b41e4c7",
       "value": " 4/4 [00:04&lt;00:00,  1.10s/it]"
      }
     },
     "102abdb9ca9e4926a568730a6284e1b1": {
      "model_module": "@jupyter-widgets/controls",
      "model_module_version": "1.5.0",
      "model_name": "DescriptionStyleModel",
      "state": {
       "description_width": ""
      }
     },
     "106509c64680480d86701b4b7b6b430e": {
      "model_module": "@jupyter-widgets/controls",
      "model_module_version": "1.5.0",
      "model_name": "HBoxModel",
      "state": {
       "children": [
        "IPY_MODEL_dc894403d739432eb1dbff72cdd317fa",
        "IPY_MODEL_fb0c6e6c08c24647b0d9db0a4d5c1d15"
       ],
       "layout": "IPY_MODEL_04f4373a10d6432791e706a8af172728"
      }
     },
     "10769ea9c3ef423ca13d7bb5bc0dbf49": {
      "model_module": "@jupyter-widgets/controls",
      "model_module_version": "1.5.0",
      "model_name": "DescriptionStyleModel",
      "state": {
       "description_width": ""
      }
     },
     "10a4a050f52547dd9a864af3ef9702d5": {
      "model_module": "@jupyter-widgets/base",
      "model_module_version": "1.2.0",
      "model_name": "LayoutModel",
      "state": {}
     },
     "10c4be74e71e42ec93a6ae6404a94fba": {
      "model_module": "@jupyter-widgets/base",
      "model_module_version": "1.2.0",
      "model_name": "LayoutModel",
      "state": {}
     },
     "10e0b2987e774417b3b4f47fc0d43856": {
      "model_module": "@jupyter-widgets/controls",
      "model_module_version": "1.5.0",
      "model_name": "ProgressStyleModel",
      "state": {
       "description_width": "initial"
      }
     },
     "10e21f8e235d4208828c7c1104160209": {
      "model_module": "@jupyter-widgets/base",
      "model_module_version": "1.2.0",
      "model_name": "LayoutModel",
      "state": {}
     },
     "113998821fa945d5977e6d3cf0a2e6bc": {
      "model_module": "@jupyter-widgets/controls",
      "model_module_version": "1.5.0",
      "model_name": "DescriptionStyleModel",
      "state": {
       "description_width": ""
      }
     },
     "116ece2d8c6c490ca92c87e7f12315dc": {
      "model_module": "@jupyter-widgets/controls",
      "model_module_version": "1.5.0",
      "model_name": "DescriptionStyleModel",
      "state": {
       "description_width": ""
      }
     },
     "11b9950a1687400db02ceadc07cfefca": {
      "model_module": "@jupyter-widgets/controls",
      "model_module_version": "1.5.0",
      "model_name": "FloatProgressModel",
      "state": {
       "bar_style": "success",
       "description": "100%",
       "layout": "IPY_MODEL_74d44a5befd7495097914f034ef25b45",
       "max": 4,
       "style": "IPY_MODEL_b8ef58ffe43a42a0b9496c45b1d40d78",
       "value": 4
      }
     },
     "120dae4d9e724322ae31e2842284d9e3": {
      "model_module": "@jupyter-widgets/base",
      "model_module_version": "1.2.0",
      "model_name": "LayoutModel",
      "state": {}
     },
     "1242352350ce4b809ad3d8e59d795051": {
      "model_module": "@jupyter-widgets/controls",
      "model_module_version": "1.5.0",
      "model_name": "FloatProgressModel",
      "state": {
       "bar_style": "success",
       "description": "100%",
       "layout": "IPY_MODEL_3a2fc636ae6d4ada8e483160036d939e",
       "max": 4,
       "style": "IPY_MODEL_d03875918f494d02b08bd89f5e53a4d6",
       "value": 4
      }
     },
     "12437c43b9114420a110c99a2f7cee3e": {
      "model_module": "@jupyter-widgets/controls",
      "model_module_version": "1.5.0",
      "model_name": "DescriptionStyleModel",
      "state": {
       "description_width": ""
      }
     },
     "125e945a73134bd98dd5c181759944fc": {
      "model_module": "@jupyter-widgets/base",
      "model_module_version": "1.2.0",
      "model_name": "LayoutModel",
      "state": {}
     },
     "129e3621679445b28a5d607b28bc19ab": {
      "model_module": "@jupyter-widgets/controls",
      "model_module_version": "1.5.0",
      "model_name": "HBoxModel",
      "state": {
       "children": [
        "IPY_MODEL_2e6a2ef06d32402c8a94ba9c94a6b054",
        "IPY_MODEL_a8ebe2dafbb74dbe897ec8bd9f4cae95"
       ],
       "layout": "IPY_MODEL_637b4d61569d41d187f067f0aabf654a"
      }
     },
     "129ffa9894a24e39824bb9e67d1b91ff": {
      "model_module": "@jupyter-widgets/controls",
      "model_module_version": "1.5.0",
      "model_name": "ProgressStyleModel",
      "state": {
       "description_width": "initial"
      }
     },
     "12a04ca478444d7cbcfdecd8e0a507c5": {
      "model_module": "@jupyter-widgets/controls",
      "model_module_version": "1.5.0",
      "model_name": "HTMLModel",
      "state": {
       "layout": "IPY_MODEL_326b62bd8a404ea4bec5cf9f910831bd",
       "style": "IPY_MODEL_5049ff76675f4433afd66711bb9f377c",
       "value": " 30/30 [00:04&lt;00:00,  6.91it/s]"
      }
     },
     "12a38c3add0c4cceb808fd922209b473": {
      "model_module": "@jupyter-widgets/controls",
      "model_module_version": "1.5.0",
      "model_name": "FloatProgressModel",
      "state": {
       "bar_style": "success",
       "description": "100%",
       "layout": "IPY_MODEL_9c3decee08fc49e38c21d376465cab63",
       "max": 30,
       "style": "IPY_MODEL_43e287a6a6784d6f989d3a53227d86b7",
       "value": 30
      }
     },
     "12bf70b63cdb4a53afb82c10973228cc": {
      "model_module": "@jupyter-widgets/controls",
      "model_module_version": "1.5.0",
      "model_name": "DescriptionStyleModel",
      "state": {
       "description_width": ""
      }
     },
     "12e9030198c047b78a447aa2d270d40d": {
      "model_module": "@jupyter-widgets/controls",
      "model_module_version": "1.5.0",
      "model_name": "DescriptionStyleModel",
      "state": {
       "description_width": ""
      }
     },
     "1320d310c29348caab5e3c06e16384a6": {
      "model_module": "@jupyter-widgets/controls",
      "model_module_version": "1.5.0",
      "model_name": "HBoxModel",
      "state": {
       "children": [
        "IPY_MODEL_3bd7b28be97849cc9b46ac09f8044580",
        "IPY_MODEL_ad8efaac080246f3911886dd4edaaaf1"
       ],
       "layout": "IPY_MODEL_e1e111e1c9f84d6797cc00268082be15"
      }
     },
     "133e0ecf10574f4e9171f5c6a8edd2e8": {
      "model_module": "@jupyter-widgets/base",
      "model_module_version": "1.2.0",
      "model_name": "LayoutModel",
      "state": {}
     },
     "1349b1ddce0f4fccab7ae590798bceb6": {
      "model_module": "@jupyter-widgets/controls",
      "model_module_version": "1.5.0",
      "model_name": "FloatProgressModel",
      "state": {
       "bar_style": "success",
       "description": "100%",
       "layout": "IPY_MODEL_98d70b15506543baad2a242b0eb64f19",
       "max": 4,
       "style": "IPY_MODEL_912b56f3f25c4fee8e119279db7bcc3f",
       "value": 4
      }
     },
     "137f8323260b4aa6bca5b3acac2790c5": {
      "model_module": "@jupyter-widgets/controls",
      "model_module_version": "1.5.0",
      "model_name": "FloatProgressModel",
      "state": {
       "bar_style": "success",
       "description": "100%",
       "layout": "IPY_MODEL_fdf37cce4b8c47d1aa98f2797060635b",
       "max": 4,
       "style": "IPY_MODEL_54c7f422f0ef4ccdac06f17d280c6634",
       "value": 4
      }
     },
     "138cd9e3a21643c7a814d6a3363ff84c": {
      "model_module": "@jupyter-widgets/controls",
      "model_module_version": "1.5.0",
      "model_name": "FloatProgressModel",
      "state": {
       "bar_style": "success",
       "description": "100%",
       "layout": "IPY_MODEL_266fce73e96440ce962e20756d64936d",
       "max": 30,
       "style": "IPY_MODEL_61b9f2a44e6b4f868fb641b550c83c5f",
       "value": 30
      }
     },
     "138e7a96810d4db7bd5ac0d12c6ba350": {
      "model_module": "@jupyter-widgets/base",
      "model_module_version": "1.2.0",
      "model_name": "LayoutModel",
      "state": {}
     },
     "138ee33950564533b6ae86cb5c80273a": {
      "model_module": "@jupyter-widgets/base",
      "model_module_version": "1.2.0",
      "model_name": "LayoutModel",
      "state": {}
     },
     "1393a7f32e2140af9259ee14723ebbcc": {
      "model_module": "@jupyter-widgets/controls",
      "model_module_version": "1.5.0",
      "model_name": "FloatProgressModel",
      "state": {
       "bar_style": "success",
       "description": "100%",
       "layout": "IPY_MODEL_802ed6e122524508b29ab7946e40911b",
       "max": 4,
       "style": "IPY_MODEL_bc392247b4bc465b84a2f3051981fcec",
       "value": 4
      }
     },
     "13b1c4c8a5704c4987cfac5b5bb44347": {
      "model_module": "@jupyter-widgets/controls",
      "model_module_version": "1.5.0",
      "model_name": "HTMLModel",
      "state": {
       "layout": "IPY_MODEL_584ac45e8f0e40f18adab2db3d094fa1",
       "style": "IPY_MODEL_807bce1b39874df18437311dee30c7d7",
       "value": " 4/4 [00:15&lt;00:00,  3.90s/it]"
      }
     },
     "13bebc21a1724695a46b43f397ec14c5": {
      "model_module": "@jupyter-widgets/controls",
      "model_module_version": "1.5.0",
      "model_name": "DescriptionStyleModel",
      "state": {
       "description_width": ""
      }
     },
     "13d3f892db734ae19f96d5bfc036c1e0": {
      "model_module": "@jupyter-widgets/controls",
      "model_module_version": "1.5.0",
      "model_name": "HBoxModel",
      "state": {
       "children": [
        "IPY_MODEL_02c17e67d3b2481faf9470110aabd435",
        "IPY_MODEL_e149edbafa2a43f093bf92ded550ab4b"
       ],
       "layout": "IPY_MODEL_db7268dc56e547fd83cb3793ce1f6c71"
      }
     },
     "13d60e16638e48708de6e2ff6f1a56fc": {
      "model_module": "@jupyter-widgets/base",
      "model_module_version": "1.2.0",
      "model_name": "LayoutModel",
      "state": {}
     },
     "142a5fb835024056a450d08b14bc619f": {
      "model_module": "@jupyter-widgets/controls",
      "model_module_version": "1.5.0",
      "model_name": "ProgressStyleModel",
      "state": {
       "description_width": "initial"
      }
     },
     "145b594f909f4ccfa7bf8f6238113c53": {
      "model_module": "@jupyter-widgets/controls",
      "model_module_version": "1.5.0",
      "model_name": "DescriptionStyleModel",
      "state": {
       "description_width": ""
      }
     },
     "1470e1086bfd4a92b6abd4632d74f3a7": {
      "model_module": "@jupyter-widgets/controls",
      "model_module_version": "1.5.0",
      "model_name": "HTMLModel",
      "state": {
       "layout": "IPY_MODEL_dd54738e8d1349b9b215208f612ddb74",
       "style": "IPY_MODEL_7a553cd9956c47dc8b6ea9b06285b858",
       "value": " 4/4 [00:01&lt;00:00,  2.59it/s]"
      }
     },
     "148153e0f59147468668389dc7c8f2eb": {
      "model_module": "@jupyter-widgets/base",
      "model_module_version": "1.2.0",
      "model_name": "LayoutModel",
      "state": {}
     },
     "14a2d4724ab84e7084a76aa14e3f4821": {
      "model_module": "@jupyter-widgets/base",
      "model_module_version": "1.2.0",
      "model_name": "LayoutModel",
      "state": {}
     },
     "151b9e34dece4f149d8cd4bcf73a9647": {
      "model_module": "@jupyter-widgets/base",
      "model_module_version": "1.2.0",
      "model_name": "LayoutModel",
      "state": {}
     },
     "151ccec22dd447589ac9a95a92a46f1a": {
      "model_module": "@jupyter-widgets/controls",
      "model_module_version": "1.5.0",
      "model_name": "FloatProgressModel",
      "state": {
       "bar_style": "success",
       "description": "100%",
       "layout": "IPY_MODEL_653e5ab83f234ce08cbb93e9f6ba8287",
       "max": 30,
       "style": "IPY_MODEL_e556d17435e54026858de86e398da11b",
       "value": 30
      }
     },
     "152491a0beb047f6bf3884e9ba39505f": {
      "model_module": "@jupyter-widgets/controls",
      "model_module_version": "1.5.0",
      "model_name": "FloatProgressModel",
      "state": {
       "bar_style": "success",
       "description": "100%",
       "layout": "IPY_MODEL_b39556d040b040f38008976ed6906843",
       "max": 4,
       "style": "IPY_MODEL_7c007b6544124803b2c72bada8b7828d",
       "value": 4
      }
     },
     "152a78e635184efdac106d1ecd16897c": {
      "model_module": "@jupyter-widgets/base",
      "model_module_version": "1.2.0",
      "model_name": "LayoutModel",
      "state": {}
     },
     "15cee68cd71c4e1a8e8c3c8bdb3f0958": {
      "model_module": "@jupyter-widgets/controls",
      "model_module_version": "1.5.0",
      "model_name": "FloatProgressModel",
      "state": {
       "bar_style": "success",
       "description": "100%",
       "layout": "IPY_MODEL_2c46a7dc971a4c08b6ba2ce622b8a475",
       "max": 30,
       "style": "IPY_MODEL_eb811874bed54464b1b74942e6ee8006",
       "value": 30
      }
     },
     "15e3f00a57d5454b95513809e3362ab5": {
      "model_module": "@jupyter-widgets/base",
      "model_module_version": "1.2.0",
      "model_name": "LayoutModel",
      "state": {}
     },
     "15ec478a79f6407c870c37b8101dfaec": {
      "model_module": "@jupyter-widgets/controls",
      "model_module_version": "1.5.0",
      "model_name": "ProgressStyleModel",
      "state": {
       "description_width": "initial"
      }
     },
     "16650f42ec4f422087e1265c8226d65c": {
      "model_module": "@jupyter-widgets/base",
      "model_module_version": "1.2.0",
      "model_name": "LayoutModel",
      "state": {}
     },
     "1674ea86612845c5877f267846e6974e": {
      "model_module": "@jupyter-widgets/controls",
      "model_module_version": "1.5.0",
      "model_name": "ProgressStyleModel",
      "state": {
       "description_width": "initial"
      }
     },
     "1692a109d24a41d98d2762a74e5ce708": {
      "model_module": "@jupyter-widgets/controls",
      "model_module_version": "1.5.0",
      "model_name": "ProgressStyleModel",
      "state": {
       "description_width": "initial"
      }
     },
     "16a4284333d34b6da4bdefff8a8f148a": {
      "model_module": "@jupyter-widgets/base",
      "model_module_version": "1.2.0",
      "model_name": "LayoutModel",
      "state": {}
     },
     "16cfa296cb7f4286bc1797fcab56bcd4": {
      "model_module": "@jupyter-widgets/base",
      "model_module_version": "1.2.0",
      "model_name": "LayoutModel",
      "state": {}
     },
     "16edead4e54e4d08b3934d1e3eed0a3c": {
      "model_module": "@jupyter-widgets/controls",
      "model_module_version": "1.5.0",
      "model_name": "FloatProgressModel",
      "state": {
       "bar_style": "success",
       "description": "100%",
       "layout": "IPY_MODEL_bb7d531723e544d48f7746373f3612f4",
       "max": 4,
       "style": "IPY_MODEL_6644e6701e9b46919d2e31a0009e71e6",
       "value": 4
      }
     },
     "1709798281c34462a14c082ab1682689": {
      "model_module": "@jupyter-widgets/controls",
      "model_module_version": "1.5.0",
      "model_name": "HTMLModel",
      "state": {
       "layout": "IPY_MODEL_d8f78cfc6f744527aa3b565d933fc870",
       "style": "IPY_MODEL_fddfa9869185448ca986be27f0a3036e",
       "value": " 30/30 [00:12&lt;00:00,  2.47it/s]"
      }
     },
     "1721ef1d3af1441cb5b885630ccd9180": {
      "model_module": "@jupyter-widgets/controls",
      "model_module_version": "1.5.0",
      "model_name": "HBoxModel",
      "state": {
       "children": [
        "IPY_MODEL_a704a13330f24eac81f61eef2fcef079",
        "IPY_MODEL_74117b9ff1d24d1ca65b45c89d22f50e"
       ],
       "layout": "IPY_MODEL_6d7b93037bc2427c85bce4e24e37dd02"
      }
     },
     "1724052864f84416b7e665ed606fc7f5": {
      "model_module": "@jupyter-widgets/controls",
      "model_module_version": "1.5.0",
      "model_name": "FloatProgressModel",
      "state": {
       "bar_style": "success",
       "description": "100%",
       "layout": "IPY_MODEL_6a199be7d35844f193716971756d74ae",
       "max": 30,
       "style": "IPY_MODEL_bc320a75dac747fb8807571483fc9c97",
       "value": 30
      }
     },
     "172786c1653747d68fedbc86bfc2be0a": {
      "model_module": "@jupyter-widgets/base",
      "model_module_version": "1.2.0",
      "model_name": "LayoutModel",
      "state": {}
     },
     "177e949a4f25435fa487f95243e06cef": {
      "model_module": "@jupyter-widgets/controls",
      "model_module_version": "1.5.0",
      "model_name": "HTMLModel",
      "state": {
       "layout": "IPY_MODEL_632fb3ae630e42428309dc1ce7b01bce",
       "style": "IPY_MODEL_b31cc7f1f3474d7e820d5b9d15f622d9",
       "value": " 4/4 [00:04&lt;00:00,  1.04s/it]"
      }
     },
     "17880de859e64f4cbf10f2467ff60bb9": {
      "model_module": "@jupyter-widgets/controls",
      "model_module_version": "1.5.0",
      "model_name": "HBoxModel",
      "state": {
       "children": [
        "IPY_MODEL_d37895afb5d94138b3a81f8b351c035d",
        "IPY_MODEL_9814a6c342df4ab7ae3827b5f2a37efa"
       ],
       "layout": "IPY_MODEL_df45c3c833c3481cb0307c3b85c35184"
      }
     },
     "17c3ecf815a14326affd212dd45e24e5": {
      "model_module": "@jupyter-widgets/controls",
      "model_module_version": "1.5.0",
      "model_name": "HBoxModel",
      "state": {
       "children": [
        "IPY_MODEL_af32dbc0a23b48ce9d7ff84fbf25b5d1",
        "IPY_MODEL_0c9be2992d25493cafbc1dd298da162d"
       ],
       "layout": "IPY_MODEL_2e4f534443674334991ab6cc6912987b"
      }
     },
     "17d5bd5ef889400a959a9982a83b1bd1": {
      "model_module": "@jupyter-widgets/base",
      "model_module_version": "1.2.0",
      "model_name": "LayoutModel",
      "state": {}
     },
     "18056c5557bf4cdea063330badedebd9": {
      "model_module": "@jupyter-widgets/base",
      "model_module_version": "1.2.0",
      "model_name": "LayoutModel",
      "state": {}
     },
     "18081ca11ad3410da4227df8d620c31d": {
      "model_module": "@jupyter-widgets/base",
      "model_module_version": "1.2.0",
      "model_name": "LayoutModel",
      "state": {}
     },
     "180baa95804c488e95864ec21b6b3ec6": {
      "model_module": "@jupyter-widgets/controls",
      "model_module_version": "1.5.0",
      "model_name": "HBoxModel",
      "state": {
       "children": [
        "IPY_MODEL_6d59ba7deed44236a8c4c96e8142de7c",
        "IPY_MODEL_6726c737d378488e8b498359eb660254"
       ],
       "layout": "IPY_MODEL_5e2698196f714397953feda5a0a0f7e2"
      }
     },
     "181bb601c8134a369b7fbf21aa796580": {
      "model_module": "@jupyter-widgets/controls",
      "model_module_version": "1.5.0",
      "model_name": "HTMLModel",
      "state": {
       "layout": "IPY_MODEL_4cbcd52d13b24b3b98fea7fb7d610867",
       "style": "IPY_MODEL_63f7cf98b6bc4ac0b99fd44104041df2",
       "value": " 30/30 [00:59&lt;00:00,  1.99s/it]"
      }
     },
     "185c69da32204b3c8fe7ca6e6f2344cb": {
      "model_module": "@jupyter-widgets/base",
      "model_module_version": "1.2.0",
      "model_name": "LayoutModel",
      "state": {}
     },
     "186038a62f6644a5878997585146c8ac": {
      "model_module": "@jupyter-widgets/base",
      "model_module_version": "1.2.0",
      "model_name": "LayoutModel",
      "state": {}
     },
     "1890d1c9f3cf4c4d94c3a6cacfffecc4": {
      "model_module": "@jupyter-widgets/base",
      "model_module_version": "1.2.0",
      "model_name": "LayoutModel",
      "state": {}
     },
     "18916f9c6c554c7aae1c54bc70d0df85": {
      "model_module": "@jupyter-widgets/controls",
      "model_module_version": "1.5.0",
      "model_name": "DescriptionStyleModel",
      "state": {
       "description_width": ""
      }
     },
     "18f5a9bb1c954557abf5ecd05d486fd4": {
      "model_module": "@jupyter-widgets/base",
      "model_module_version": "1.2.0",
      "model_name": "LayoutModel",
      "state": {}
     },
     "1926cc99803d465e9adcaaf409553a39": {
      "model_module": "@jupyter-widgets/base",
      "model_module_version": "1.2.0",
      "model_name": "LayoutModel",
      "state": {}
     },
     "192a48bb0e984591a07af6285e7aa9e8": {
      "model_module": "@jupyter-widgets/base",
      "model_module_version": "1.2.0",
      "model_name": "LayoutModel",
      "state": {}
     },
     "192bde3f3cc74b0b928df44edd3d9993": {
      "model_module": "@jupyter-widgets/controls",
      "model_module_version": "1.5.0",
      "model_name": "HTMLModel",
      "state": {
       "layout": "IPY_MODEL_d76222b4df7441e5a47319f7c04b0432",
       "style": "IPY_MODEL_f0aba1e6a0894713b12e83f8326694d1",
       "value": " 4/4 [00:03&lt;00:00,  1.01it/s]"
      }
     },
     "196d363641bc4cef8556fd20bca275d7": {
      "model_module": "@jupyter-widgets/controls",
      "model_module_version": "1.5.0",
      "model_name": "HTMLModel",
      "state": {
       "layout": "IPY_MODEL_ee7b7d7b9a3146bca1954d6dc31bf89b",
       "style": "IPY_MODEL_cd2f0c6ca7464c6f9ecd102f50e3168d",
       "value": " 30/30 [00:08&lt;00:00,  3.59it/s]"
      }
     },
     "19e081027a5f4d4eb2f169b68f6d5253": {
      "model_module": "@jupyter-widgets/base",
      "model_module_version": "1.2.0",
      "model_name": "LayoutModel",
      "state": {}
     },
     "1a01a5064784477a96afe768f40c23dc": {
      "model_module": "@jupyter-widgets/base",
      "model_module_version": "1.2.0",
      "model_name": "LayoutModel",
      "state": {}
     },
     "1a15bc621c3d448cb80548a898ef5399": {
      "model_module": "@jupyter-widgets/base",
      "model_module_version": "1.2.0",
      "model_name": "LayoutModel",
      "state": {}
     },
     "1a2d124224744a938bff09cc5d63bcae": {
      "model_module": "@jupyter-widgets/controls",
      "model_module_version": "1.5.0",
      "model_name": "HTMLModel",
      "state": {
       "layout": "IPY_MODEL_26ed25b5c04341f08fa4c7edf3410f99",
       "style": "IPY_MODEL_44c3e54f2a614961987f48126550462f",
       "value": " 4/4 [00:04&lt;00:00,  1.09s/it]"
      }
     },
     "1a67bf9636a04a70a4342a19def2d656": {
      "model_module": "@jupyter-widgets/controls",
      "model_module_version": "1.5.0",
      "model_name": "HBoxModel",
      "state": {
       "children": [
        "IPY_MODEL_d70f69e178b44c5c9253d5c9294da709",
        "IPY_MODEL_ced9d4eea99548679be6377dc5fcfa62"
       ],
       "layout": "IPY_MODEL_5c00673b947a437ca87a2b93cc89362c"
      }
     },
     "1a9d25d5fb9c4d5e931760b91850c25f": {
      "model_module": "@jupyter-widgets/base",
      "model_module_version": "1.2.0",
      "model_name": "LayoutModel",
      "state": {}
     },
     "1ad0d2b6a0ed4e89916cb9e4ea3f1143": {
      "model_module": "@jupyter-widgets/base",
      "model_module_version": "1.2.0",
      "model_name": "LayoutModel",
      "state": {}
     },
     "1ad9a9bd35ca468da24268393a4cb7e1": {
      "model_module": "@jupyter-widgets/controls",
      "model_module_version": "1.5.0",
      "model_name": "DescriptionStyleModel",
      "state": {
       "description_width": ""
      }
     },
     "1b1324be465e4896b215b1dccaeef3f7": {
      "model_module": "@jupyter-widgets/controls",
      "model_module_version": "1.5.0",
      "model_name": "FloatProgressModel",
      "state": {
       "bar_style": "success",
       "description": "100%",
       "layout": "IPY_MODEL_7e90e307e1354e2d888922e33af50560",
       "max": 30,
       "style": "IPY_MODEL_4db5a08059d54089be1a083d8206f7e1",
       "value": 30
      }
     },
     "1b54726d71234342b7a8b9e8dd5b2ebd": {
      "model_module": "@jupyter-widgets/base",
      "model_module_version": "1.2.0",
      "model_name": "LayoutModel",
      "state": {}
     },
     "1b7ae269fe9f47bf8a6c4e3d1631ff4c": {
      "model_module": "@jupyter-widgets/base",
      "model_module_version": "1.2.0",
      "model_name": "LayoutModel",
      "state": {}
     },
     "1ba9b08218ad4b28b156213429330be6": {
      "model_module": "@jupyter-widgets/controls",
      "model_module_version": "1.5.0",
      "model_name": "FloatProgressModel",
      "state": {
       "bar_style": "success",
       "description": "100%",
       "layout": "IPY_MODEL_6fc36c00d7ed4db2a7386d6a8085101b",
       "max": 30,
       "style": "IPY_MODEL_0e3be6d4d1644ca7ae1f57f9bb6c62c3",
       "value": 30
      }
     },
     "1bd161202c6a42a7b93ff9da7b0ccf2d": {
      "model_module": "@jupyter-widgets/base",
      "model_module_version": "1.2.0",
      "model_name": "LayoutModel",
      "state": {}
     },
     "1beae7139d1846ffa404136dd475b8d5": {
      "model_module": "@jupyter-widgets/controls",
      "model_module_version": "1.5.0",
      "model_name": "ProgressStyleModel",
      "state": {
       "description_width": "initial"
      }
     },
     "1c18b871020646648ca3bc46f440b0bc": {
      "model_module": "@jupyter-widgets/base",
      "model_module_version": "1.2.0",
      "model_name": "LayoutModel",
      "state": {}
     },
     "1c30fab1c7c0475488057fc44da80c24": {
      "model_module": "@jupyter-widgets/base",
      "model_module_version": "1.2.0",
      "model_name": "LayoutModel",
      "state": {}
     },
     "1c3f6329f95c4899a6611c5e0a8802f9": {
      "model_module": "@jupyter-widgets/controls",
      "model_module_version": "1.5.0",
      "model_name": "ProgressStyleModel",
      "state": {
       "description_width": "initial"
      }
     },
     "1c422b69f92b43428cc66404734df369": {
      "model_module": "@jupyter-widgets/controls",
      "model_module_version": "1.5.0",
      "model_name": "HTMLModel",
      "state": {
       "layout": "IPY_MODEL_74c3b2d771814387aae1780474ee7d9c",
       "style": "IPY_MODEL_942eab98954c4e98b2b03372ae5fb524",
       "value": " 30/30 [00:03&lt;00:00,  7.79it/s]"
      }
     },
     "1c4c88ebc5bd4641a33c4478b7d699ca": {
      "model_module": "@jupyter-widgets/controls",
      "model_module_version": "1.5.0",
      "model_name": "HBoxModel",
      "state": {
       "children": [
        "IPY_MODEL_6a9dfeaf467e42cb834afd820b7be064",
        "IPY_MODEL_da3e8b20a38a4649a324d18eb7053405"
       ],
       "layout": "IPY_MODEL_2c334a957cb34ceaadf0e5498855cc5c"
      }
     },
     "1c96b79cbf5a494ba36d37161f36ec8c": {
      "model_module": "@jupyter-widgets/controls",
      "model_module_version": "1.5.0",
      "model_name": "ProgressStyleModel",
      "state": {
       "description_width": "initial"
      }
     },
     "1cb3ab13ca834bf7bdcaa4c32dd0a408": {
      "model_module": "@jupyter-widgets/controls",
      "model_module_version": "1.5.0",
      "model_name": "HTMLModel",
      "state": {
       "layout": "IPY_MODEL_ddfd856ee7a746eab3bb8f12f02af415",
       "style": "IPY_MODEL_f09ced4b9b1345c7b720bb4006f606a3",
       "value": " 30/30 [00:04&lt;00:00,  7.35it/s]"
      }
     },
     "1cb66c185d11486ca7780cf58139e9a3": {
      "model_module": "@jupyter-widgets/base",
      "model_module_version": "1.2.0",
      "model_name": "LayoutModel",
      "state": {}
     },
     "1cb7f1002f4649d6830c06f253a1e9c4": {
      "model_module": "@jupyter-widgets/base",
      "model_module_version": "1.2.0",
      "model_name": "LayoutModel",
      "state": {}
     },
     "1cdc05b83c3643b8bf0fdd99888634d6": {
      "model_module": "@jupyter-widgets/controls",
      "model_module_version": "1.5.0",
      "model_name": "HBoxModel",
      "state": {
       "children": [
        "IPY_MODEL_f4d8ea940a014be6a753000e10efc7db",
        "IPY_MODEL_d40e579f4ad540e99bd280c11a85249e"
       ],
       "layout": "IPY_MODEL_9709d9b5631e46b9874516cb4be957cd"
      }
     },
     "1ce2352d1b96442eb6a283bc3fabc54b": {
      "model_module": "@jupyter-widgets/base",
      "model_module_version": "1.2.0",
      "model_name": "LayoutModel",
      "state": {}
     },
     "1cef904a028f46468f98fdbe134d8088": {
      "model_module": "@jupyter-widgets/base",
      "model_module_version": "1.2.0",
      "model_name": "LayoutModel",
      "state": {}
     },
     "1d46b02543d145588806abd6aff7332f": {
      "model_module": "@jupyter-widgets/controls",
      "model_module_version": "1.5.0",
      "model_name": "HBoxModel",
      "state": {
       "children": [
        "IPY_MODEL_b202257237434122a30e11717c40a71c",
        "IPY_MODEL_258e4fb42cf34da29d5fde86bd2d1c43"
       ],
       "layout": "IPY_MODEL_92ba13b2af1745c7871240e910f5f7cc"
      }
     },
     "1d754cfbbf9b46dabbf324dd1dfa7e83": {
      "model_module": "@jupyter-widgets/base",
      "model_module_version": "1.2.0",
      "model_name": "LayoutModel",
      "state": {}
     },
     "1d9eea42843b4eb6affc7521e617cca2": {
      "model_module": "@jupyter-widgets/controls",
      "model_module_version": "1.5.0",
      "model_name": "DescriptionStyleModel",
      "state": {
       "description_width": ""
      }
     },
     "1deb8600fff0403abea1735dfcdb55ca": {
      "model_module": "@jupyter-widgets/controls",
      "model_module_version": "1.5.0",
      "model_name": "HTMLModel",
      "state": {
       "layout": "IPY_MODEL_9049c992263a4a75a4f2a276ca3f4bad",
       "style": "IPY_MODEL_441be74eb6d04d19ac056253aaebb5de",
       "value": " 4/4 [00:03&lt;00:00,  1.07it/s]"
      }
     },
     "1e2a3ad41c4a438ca78ffea666ec695b": {
      "model_module": "@jupyter-widgets/controls",
      "model_module_version": "1.5.0",
      "model_name": "HBoxModel",
      "state": {
       "children": [
        "IPY_MODEL_a3f1cfa250524c968615960b8426b6ea",
        "IPY_MODEL_ca52aa3b4b794cffbe461dcaa1232b3d"
       ],
       "layout": "IPY_MODEL_1ad0d2b6a0ed4e89916cb9e4ea3f1143"
      }
     },
     "1ec1838fffbb4dd88bd5194ec036a198": {
      "model_module": "@jupyter-widgets/base",
      "model_module_version": "1.2.0",
      "model_name": "LayoutModel",
      "state": {}
     },
     "1ed398e79be74c429b1e66ddc47d9063": {
      "model_module": "@jupyter-widgets/controls",
      "model_module_version": "1.5.0",
      "model_name": "DescriptionStyleModel",
      "state": {
       "description_width": ""
      }
     },
     "1ee1aef0c95f4b0c87c489ea140d3f19": {
      "model_module": "@jupyter-widgets/base",
      "model_module_version": "1.2.0",
      "model_name": "LayoutModel",
      "state": {}
     },
     "1eededee73cd49358ee12d1976aa8b17": {
      "model_module": "@jupyter-widgets/controls",
      "model_module_version": "1.5.0",
      "model_name": "FloatProgressModel",
      "state": {
       "bar_style": "success",
       "description": "100%",
       "layout": "IPY_MODEL_fb4d7d13a5374f60afdfe3ee380db63c",
       "max": 30,
       "style": "IPY_MODEL_28d442bf8b6341e6819a220fc5ebfecb",
       "value": 30
      }
     },
     "1f0c7a032fc94d11ad2d1f69b59f83a2": {
      "model_module": "@jupyter-widgets/base",
      "model_module_version": "1.2.0",
      "model_name": "LayoutModel",
      "state": {}
     },
     "1f0df3e8c2114279badb6115e3718016": {
      "model_module": "@jupyter-widgets/controls",
      "model_module_version": "1.5.0",
      "model_name": "HBoxModel",
      "state": {
       "children": [
        "IPY_MODEL_1ba9b08218ad4b28b156213429330be6",
        "IPY_MODEL_4f03b3a21a584ab2b95c8bed176dc92b"
       ],
       "layout": "IPY_MODEL_a7450240e4fd4e868ad86c37fc032261"
      }
     },
     "1f10f822d9b146fb8c6c2575689bd350": {
      "model_module": "@jupyter-widgets/base",
      "model_module_version": "1.2.0",
      "model_name": "LayoutModel",
      "state": {}
     },
     "1f6041e003c34963b04d1e7e48122f0f": {
      "model_module": "@jupyter-widgets/controls",
      "model_module_version": "1.5.0",
      "model_name": "HBoxModel",
      "state": {
       "children": [
        "IPY_MODEL_b08b4b047478445ba0f4be5b1b6f08ea",
        "IPY_MODEL_25885ac454204b62a02d6c88ffa1e6d7"
       ],
       "layout": "IPY_MODEL_cca88ebc9906462c9ba253f652819396"
      }
     },
     "1f69ee4db22b4ee685bf53824f4a0ff3": {
      "model_module": "@jupyter-widgets/base",
      "model_module_version": "1.2.0",
      "model_name": "LayoutModel",
      "state": {}
     },
     "1fccd228955e47f3902423408b858b48": {
      "model_module": "@jupyter-widgets/base",
      "model_module_version": "1.2.0",
      "model_name": "LayoutModel",
      "state": {}
     },
     "1fe8525160ef4c2493af545b70348a67": {
      "model_module": "@jupyter-widgets/base",
      "model_module_version": "1.2.0",
      "model_name": "LayoutModel",
      "state": {}
     },
     "2001aabf25d64a0db07c7ffc1cbad01c": {
      "model_module": "@jupyter-widgets/base",
      "model_module_version": "1.2.0",
      "model_name": "LayoutModel",
      "state": {}
     },
     "20180840abd8407080a113d51efc55fd": {
      "model_module": "@jupyter-widgets/controls",
      "model_module_version": "1.5.0",
      "model_name": "HTMLModel",
      "state": {
       "layout": "IPY_MODEL_b2f39dc655054d3dbff4bc62b70faa93",
       "style": "IPY_MODEL_4831bf21681643508d91324173009355",
       "value": " 4/4 [00:00&lt;00:00, 13.20it/s]"
      }
     },
     "20728bdd9e8243bea068728e78c41cfa": {
      "model_module": "@jupyter-widgets/controls",
      "model_module_version": "1.5.0",
      "model_name": "ProgressStyleModel",
      "state": {
       "description_width": "initial"
      }
     },
     "2078815e8b3c479f931baf4454e1f628": {
      "model_module": "@jupyter-widgets/base",
      "model_module_version": "1.2.0",
      "model_name": "LayoutModel",
      "state": {}
     },
     "20b877726d244831b01702d80c8306fb": {
      "model_module": "@jupyter-widgets/controls",
      "model_module_version": "1.5.0",
      "model_name": "HBoxModel",
      "state": {
       "children": [
        "IPY_MODEL_586c9f3ce65b4161a3cac3121e83c563",
        "IPY_MODEL_ef33cba4208c450e80c73daa9737e0d0"
       ],
       "layout": "IPY_MODEL_68c43a2dd21b4f17ae50feaf71bc1066"
      }
     },
     "20d298c373c44fafb5f1967c4a6989d9": {
      "model_module": "@jupyter-widgets/controls",
      "model_module_version": "1.5.0",
      "model_name": "DescriptionStyleModel",
      "state": {
       "description_width": ""
      }
     },
     "20d6052fa1954b059a5e446a12f6974b": {
      "model_module": "@jupyter-widgets/controls",
      "model_module_version": "1.5.0",
      "model_name": "HTMLModel",
      "state": {
       "layout": "IPY_MODEL_b6c36b6b5d37414c8a8026dfc3ca5ba8",
       "style": "IPY_MODEL_87f9db636d9b4273acc9d6203e5df192",
       "value": " 30/30 [00:04&lt;00:00,  7.30it/s]"
      }
     },
     "20ffb2794e744df2827b56a01e8a534d": {
      "model_module": "@jupyter-widgets/base",
      "model_module_version": "1.2.0",
      "model_name": "LayoutModel",
      "state": {}
     },
     "2138f5408e214cd7ab64d7e3ab34d864": {
      "model_module": "@jupyter-widgets/controls",
      "model_module_version": "1.5.0",
      "model_name": "DescriptionStyleModel",
      "state": {
       "description_width": ""
      }
     },
     "213c8e64176c40289c1a06ff5b251291": {
      "model_module": "@jupyter-widgets/controls",
      "model_module_version": "1.5.0",
      "model_name": "ProgressStyleModel",
      "state": {
       "description_width": "initial"
      }
     },
     "21624aca5d2a460fa2aa4bf084ee7534": {
      "model_module": "@jupyter-widgets/controls",
      "model_module_version": "1.5.0",
      "model_name": "FloatProgressModel",
      "state": {
       "bar_style": "success",
       "description": "100%",
       "layout": "IPY_MODEL_c0a7bff6d3fa409a9bb6f8808a6e3b4d",
       "max": 30,
       "style": "IPY_MODEL_065812fecbda4252839ab985c928994e",
       "value": 30
      }
     },
     "219752c081cf448db346aa2183bc35d0": {
      "model_module": "@jupyter-widgets/controls",
      "model_module_version": "1.5.0",
      "model_name": "HBoxModel",
      "state": {
       "children": [
        "IPY_MODEL_0025233b78f240ea8b2a24627f76ac5a",
        "IPY_MODEL_1c422b69f92b43428cc66404734df369"
       ],
       "layout": "IPY_MODEL_6b3f5fb65aa24809ac3c9200173ec834"
      }
     },
     "219cc1749f704648a8776ea35066927e": {
      "model_module": "@jupyter-widgets/base",
      "model_module_version": "1.2.0",
      "model_name": "LayoutModel",
      "state": {}
     },
     "21c93a174161422aa6a3220ec5d9806d": {
      "model_module": "@jupyter-widgets/base",
      "model_module_version": "1.2.0",
      "model_name": "LayoutModel",
      "state": {}
     },
     "21ce19af9e1942b498a96c029071c726": {
      "model_module": "@jupyter-widgets/controls",
      "model_module_version": "1.5.0",
      "model_name": "FloatProgressModel",
      "state": {
       "bar_style": "success",
       "description": "100%",
       "layout": "IPY_MODEL_974be80494b94ca49913b1fea39ed898",
       "max": 4,
       "style": "IPY_MODEL_40b8605069024a07834d8c242191b895",
       "value": 4
      }
     },
     "220acce6ad5240a0876fd2019ea47468": {
      "model_module": "@jupyter-widgets/controls",
      "model_module_version": "1.5.0",
      "model_name": "HBoxModel",
      "state": {
       "children": [
        "IPY_MODEL_45cfe2bc76a64e7fad7e8926b9dae25f",
        "IPY_MODEL_3bddfc064c4b4b62bb1f868ce515c7f2"
       ],
       "layout": "IPY_MODEL_7bb01a808c814de2bb42bb67eafbe59e"
      }
     },
     "225c18e20a77400385b71c26128bb2d2": {
      "model_module": "@jupyter-widgets/controls",
      "model_module_version": "1.5.0",
      "model_name": "ProgressStyleModel",
      "state": {
       "description_width": "initial"
      }
     },
     "225c6981d3564fafb55e49697f3d302a": {
      "model_module": "@jupyter-widgets/controls",
      "model_module_version": "1.5.0",
      "model_name": "ProgressStyleModel",
      "state": {
       "description_width": "initial"
      }
     },
     "226b41b35d944813953c11b847f01d73": {
      "model_module": "@jupyter-widgets/base",
      "model_module_version": "1.2.0",
      "model_name": "LayoutModel",
      "state": {}
     },
     "22af85a8267f4ddd8bf29d1c0361f8b0": {
      "model_module": "@jupyter-widgets/controls",
      "model_module_version": "1.5.0",
      "model_name": "HBoxModel",
      "state": {
       "children": [
        "IPY_MODEL_ac172b0132864e49a6cd65a232f65a4c",
        "IPY_MODEL_8597dcf9e3aa4a0e8133ea75b524ed1b"
       ],
       "layout": "IPY_MODEL_a67436685fa0413b9fcf1bc842bce42d"
      }
     },
     "22d8e2b25f2a4efca090db4f5bbb6815": {
      "model_module": "@jupyter-widgets/controls",
      "model_module_version": "1.5.0",
      "model_name": "DescriptionStyleModel",
      "state": {
       "description_width": ""
      }
     },
     "22ff130712214a2986914fbbb8b1fc22": {
      "model_module": "@jupyter-widgets/base",
      "model_module_version": "1.2.0",
      "model_name": "LayoutModel",
      "state": {}
     },
     "2321f638e9ba4e4ba925e583d986a511": {
      "model_module": "@jupyter-widgets/controls",
      "model_module_version": "1.5.0",
      "model_name": "HBoxModel",
      "state": {
       "children": [
        "IPY_MODEL_67928beb5c42429cb9ae773ab0d7b8e0",
        "IPY_MODEL_d41a3f13c6a846d29179f16d525e4302"
       ],
       "layout": "IPY_MODEL_4efa8564c2674e858d62ba50f9a8df72"
      }
     },
     "232ca27f6cc7485393862641ef2ef83f": {
      "model_module": "@jupyter-widgets/controls",
      "model_module_version": "1.5.0",
      "model_name": "ProgressStyleModel",
      "state": {
       "description_width": "initial"
      }
     },
     "2379776ef12244ab87eb55b28f4fbcdb": {
      "model_module": "@jupyter-widgets/controls",
      "model_module_version": "1.5.0",
      "model_name": "ProgressStyleModel",
      "state": {
       "description_width": "initial"
      }
     },
     "23999cba4da3400390b564a6f18a21ae": {
      "model_module": "@jupyter-widgets/controls",
      "model_module_version": "1.5.0",
      "model_name": "FloatProgressModel",
      "state": {
       "bar_style": "success",
       "description": "100%",
       "layout": "IPY_MODEL_c16d169ebc454b7a8409375ef6ea114b",
       "max": 30,
       "style": "IPY_MODEL_8e92ce70b9b64aab958b5aa3b0f6e85b",
       "value": 30
      }
     },
     "23a31f9a0f654fee95e8aabef8360466": {
      "model_module": "@jupyter-widgets/controls",
      "model_module_version": "1.5.0",
      "model_name": "DescriptionStyleModel",
      "state": {
       "description_width": ""
      }
     },
     "23adb87929594ba0836040313504aaff": {
      "model_module": "@jupyter-widgets/controls",
      "model_module_version": "1.5.0",
      "model_name": "ProgressStyleModel",
      "state": {
       "description_width": "initial"
      }
     },
     "243927a243764d65b5bbea00e6697b9f": {
      "model_module": "@jupyter-widgets/controls",
      "model_module_version": "1.5.0",
      "model_name": "DescriptionStyleModel",
      "state": {
       "description_width": ""
      }
     },
     "24810cfdeeef4e5f8c669995453fef7b": {
      "model_module": "@jupyter-widgets/controls",
      "model_module_version": "1.5.0",
      "model_name": "FloatProgressModel",
      "state": {
       "bar_style": "success",
       "description": "100%",
       "layout": "IPY_MODEL_356793d6924c46ac83fe6251a7695563",
       "max": 4,
       "style": "IPY_MODEL_5d5643e046db4c668b6daae79e86542d",
       "value": 4
      }
     },
     "24a9959aa7f340b9a2fa3dd0b56b7665": {
      "model_module": "@jupyter-widgets/controls",
      "model_module_version": "1.5.0",
      "model_name": "FloatProgressModel",
      "state": {
       "bar_style": "success",
       "description": "100%",
       "layout": "IPY_MODEL_a8d42342fbf146289c160e2d187e781b",
       "max": 30,
       "style": "IPY_MODEL_a12a7f8b2ba548d5a027dba1ad3b646d",
       "value": 30
      }
     },
     "24b064a0a7974afc9700ceb0034e21ca": {
      "model_module": "@jupyter-widgets/controls",
      "model_module_version": "1.5.0",
      "model_name": "HTMLModel",
      "state": {
       "layout": "IPY_MODEL_dacdda6c670f48718184cf77daee3488",
       "style": "IPY_MODEL_7d1fb85f6c1648e4b6f09531d05f4ce2",
       "value": " 4/4 [00:15&lt;00:00,  3.97s/it]"
      }
     },
     "24e4f50a4f48477a867c6e71845a43d5": {
      "model_module": "@jupyter-widgets/controls",
      "model_module_version": "1.5.0",
      "model_name": "HBoxModel",
      "state": {
       "children": [
        "IPY_MODEL_b002976800ad47718f1d3831dd11b1e4",
        "IPY_MODEL_bc63ae3e28414c9bbd01428935b9c77b"
       ],
       "layout": "IPY_MODEL_b54496945b804a718e93f67ffea76e44"
      }
     },
     "250067c779e843e9b2f8b50aa9de2014": {
      "model_module": "@jupyter-widgets/base",
      "model_module_version": "1.2.0",
      "model_name": "LayoutModel",
      "state": {}
     },
     "2529a9d4c46d4d77a1d2af5a4cfc8197": {
      "model_module": "@jupyter-widgets/controls",
      "model_module_version": "1.5.0",
      "model_name": "HBoxModel",
      "state": {
       "children": [
        "IPY_MODEL_2a4d1198b0b14d85b859dfaf9cf59cc3",
        "IPY_MODEL_bb795cd264be4554ab0a2e2d8ab44548"
       ],
       "layout": "IPY_MODEL_b0a378df167a43b48046fa56cc1aa12f"
      }
     },
     "2549a85c4bcd4665965fc562ed3b3bcb": {
      "model_module": "@jupyter-widgets/base",
      "model_module_version": "1.2.0",
      "model_name": "LayoutModel",
      "state": {}
     },
     "255bce3542354dbe9ad9cd2af573536f": {
      "model_module": "@jupyter-widgets/controls",
      "model_module_version": "1.5.0",
      "model_name": "HBoxModel",
      "state": {
       "children": [
        "IPY_MODEL_6c5f309106564831ad6041db524765c1",
        "IPY_MODEL_bc53e78ab8734bb6b775c9ebea05d8e0"
       ],
       "layout": "IPY_MODEL_a461f2f454674ca1adfc4875b3e41897"
      }
     },
     "256607bcb20c4a309effa7c453f8f5fa": {
      "model_module": "@jupyter-widgets/controls",
      "model_module_version": "1.5.0",
      "model_name": "ProgressStyleModel",
      "state": {
       "description_width": "initial"
      }
     },
     "25885ac454204b62a02d6c88ffa1e6d7": {
      "model_module": "@jupyter-widgets/controls",
      "model_module_version": "1.5.0",
      "model_name": "HTMLModel",
      "state": {
       "layout": "IPY_MODEL_4c7675f6729a40dfbdca06aa30ff0b73",
       "style": "IPY_MODEL_b92a855dd00441b39422889ac243461f",
       "value": " 4/4 [00:04&lt;00:00,  1.12s/it]"
      }
     },
     "258e4fb42cf34da29d5fde86bd2d1c43": {
      "model_module": "@jupyter-widgets/controls",
      "model_module_version": "1.5.0",
      "model_name": "HTMLModel",
      "state": {
       "layout": "IPY_MODEL_c2b3cc8c4524435ca5f4d0ed0d7e34a2",
       "style": "IPY_MODEL_ce1a995643e94fc08d27600868509df8",
       "value": " 30/30 [00:04&lt;00:00,  6.66it/s]"
      }
     },
     "25a34255d06447e0b1d4e56943d1ac09": {
      "model_module": "@jupyter-widgets/controls",
      "model_module_version": "1.5.0",
      "model_name": "ProgressStyleModel",
      "state": {
       "description_width": "initial"
      }
     },
     "25d63e5a1609411baf867fb8cca8d213": {
      "model_module": "@jupyter-widgets/controls",
      "model_module_version": "1.5.0",
      "model_name": "HBoxModel",
      "state": {
       "children": [
        "IPY_MODEL_fe5a8d75bcb543bfb166d9bb96382020",
        "IPY_MODEL_a5e62821f6224324b5f3a421f8d971f7"
       ],
       "layout": "IPY_MODEL_c157c451976c4514a7259c27badac34d"
      }
     },
     "260c96f285214c399bcca4e9d27ddac3": {
      "model_module": "@jupyter-widgets/controls",
      "model_module_version": "1.5.0",
      "model_name": "FloatProgressModel",
      "state": {
       "bar_style": "success",
       "description": "100%",
       "layout": "IPY_MODEL_d8263b0f45224de3830df98f38856cf0",
       "max": 4,
       "style": "IPY_MODEL_309c38f2d4464243aaa85fed05b35f08",
       "value": 4
      }
     },
     "265491a97f514f36a8b3f874a5b0305f": {
      "model_module": "@jupyter-widgets/base",
      "model_module_version": "1.2.0",
      "model_name": "LayoutModel",
      "state": {}
     },
     "266fce73e96440ce962e20756d64936d": {
      "model_module": "@jupyter-widgets/base",
      "model_module_version": "1.2.0",
      "model_name": "LayoutModel",
      "state": {}
     },
     "26afa8b2343b4570958687163f7b13f4": {
      "model_module": "@jupyter-widgets/controls",
      "model_module_version": "1.5.0",
      "model_name": "HBoxModel",
      "state": {
       "children": [
        "IPY_MODEL_94e7866ea1d949c5998720f61a9235f0",
        "IPY_MODEL_8a56a3901a0a466d92d2a2fc9e80a240"
       ],
       "layout": "IPY_MODEL_63687bad7e3d4ab2a8e62447207e990c"
      }
     },
     "26b3bc1014724ff98e18fd07ad0b3ce5": {
      "model_module": "@jupyter-widgets/base",
      "model_module_version": "1.2.0",
      "model_name": "LayoutModel",
      "state": {}
     },
     "26c250fcc1574ba5801bde8f1497786a": {
      "model_module": "@jupyter-widgets/controls",
      "model_module_version": "1.5.0",
      "model_name": "FloatProgressModel",
      "state": {
       "bar_style": "success",
       "description": "100%",
       "layout": "IPY_MODEL_4c7d100fda6b438b8ad725d7e806dbbb",
       "max": 4,
       "style": "IPY_MODEL_4e95c584a6974449a831d74620cd828b",
       "value": 4
      }
     },
     "26ed25b5c04341f08fa4c7edf3410f99": {
      "model_module": "@jupyter-widgets/base",
      "model_module_version": "1.2.0",
      "model_name": "LayoutModel",
      "state": {}
     },
     "276a5bbf1fc24ed7969464d847423592": {
      "model_module": "@jupyter-widgets/controls",
      "model_module_version": "1.5.0",
      "model_name": "HTMLModel",
      "state": {
       "layout": "IPY_MODEL_4a2ae02b80d44e98b1aef49b243bc36e",
       "style": "IPY_MODEL_968108e1d9e0418886e8fc92a3d3ba2d",
       "value": " 4/4 [00:03&lt;00:00,  1.02it/s]"
      }
     },
     "27abee41f0d2404bbe6c381260ebeec6": {
      "model_module": "@jupyter-widgets/base",
      "model_module_version": "1.2.0",
      "model_name": "LayoutModel",
      "state": {}
     },
     "27f7d94f32a34a908e6a807bc021980c": {
      "model_module": "@jupyter-widgets/base",
      "model_module_version": "1.2.0",
      "model_name": "LayoutModel",
      "state": {}
     },
     "2832d1f581b147e2bebcbe0c41a3110a": {
      "model_module": "@jupyter-widgets/base",
      "model_module_version": "1.2.0",
      "model_name": "LayoutModel",
      "state": {}
     },
     "286b2f0418e54e149de3035d8215cbfe": {
      "model_module": "@jupyter-widgets/controls",
      "model_module_version": "1.5.0",
      "model_name": "HBoxModel",
      "state": {
       "children": [
        "IPY_MODEL_260c96f285214c399bcca4e9d27ddac3",
        "IPY_MODEL_511a1af490df4903ae81b5333decdba1"
       ],
       "layout": "IPY_MODEL_43728bc255d34092a5e41cd8a62c1546"
      }
     },
     "28cdd7182c724e3f9985085245a6aa12": {
      "model_module": "@jupyter-widgets/base",
      "model_module_version": "1.2.0",
      "model_name": "LayoutModel",
      "state": {}
     },
     "28d442bf8b6341e6819a220fc5ebfecb": {
      "model_module": "@jupyter-widgets/controls",
      "model_module_version": "1.5.0",
      "model_name": "ProgressStyleModel",
      "state": {
       "description_width": "initial"
      }
     },
     "28efc9768f054b15910f069764323bfe": {
      "model_module": "@jupyter-widgets/base",
      "model_module_version": "1.2.0",
      "model_name": "LayoutModel",
      "state": {}
     },
     "28f2b3b223414a8b8ef06c7c1c6cff7e": {
      "model_module": "@jupyter-widgets/controls",
      "model_module_version": "1.5.0",
      "model_name": "HTMLModel",
      "state": {
       "layout": "IPY_MODEL_51f08c7fed8040ed83162b3f77f4af55",
       "style": "IPY_MODEL_b78ae53a29674184a2cde2839053824b",
       "value": " 4/4 [00:17&lt;00:00,  4.30s/it]"
      }
     },
     "293159589c26497dbc1cd334da79c995": {
      "model_module": "@jupyter-widgets/controls",
      "model_module_version": "1.5.0",
      "model_name": "ProgressStyleModel",
      "state": {
       "description_width": "initial"
      }
     },
     "293281e2748e47f3b6885abef539b258": {
      "model_module": "@jupyter-widgets/controls",
      "model_module_version": "1.5.0",
      "model_name": "ProgressStyleModel",
      "state": {
       "description_width": "initial"
      }
     },
     "293c8ca79ef748998f6560add58613e5": {
      "model_module": "@jupyter-widgets/controls",
      "model_module_version": "1.5.0",
      "model_name": "DescriptionStyleModel",
      "state": {
       "description_width": ""
      }
     },
     "29a299fae3344dd29476007c9575cd0c": {
      "model_module": "@jupyter-widgets/base",
      "model_module_version": "1.2.0",
      "model_name": "LayoutModel",
      "state": {}
     },
     "29cb0e2fef2f4007b2d8d522e10aa212": {
      "model_module": "@jupyter-widgets/controls",
      "model_module_version": "1.5.0",
      "model_name": "HBoxModel",
      "state": {
       "children": [
        "IPY_MODEL_c6ac663565774d43a9fb2e0cc45005e7",
        "IPY_MODEL_8c625957974848e0a7cb8a5550898768"
       ],
       "layout": "IPY_MODEL_39356bc5bfc74fc08965bfae602548e7"
      }
     },
     "29d3824d2f1044b0865dc1c6bc1fc58a": {
      "model_module": "@jupyter-widgets/controls",
      "model_module_version": "1.5.0",
      "model_name": "FloatProgressModel",
      "state": {
       "bar_style": "success",
       "description": "100%",
       "layout": "IPY_MODEL_c8bf31a5cdc84547ba1c471f98224c1f",
       "max": 4,
       "style": "IPY_MODEL_49aac1da9cff4cb7aa52692b32994810",
       "value": 4
      }
     },
     "29d7678f5bef485e8c21d1fe2dfef6cd": {
      "model_module": "@jupyter-widgets/controls",
      "model_module_version": "1.5.0",
      "model_name": "DescriptionStyleModel",
      "state": {
       "description_width": ""
      }
     },
     "2a1c653d4bf746a6a594fa6e967eefef": {
      "model_module": "@jupyter-widgets/base",
      "model_module_version": "1.2.0",
      "model_name": "LayoutModel",
      "state": {}
     },
     "2a433611db1642a0a93076f5c1e47e38": {
      "model_module": "@jupyter-widgets/controls",
      "model_module_version": "1.5.0",
      "model_name": "FloatProgressModel",
      "state": {
       "bar_style": "success",
       "description": "100%",
       "layout": "IPY_MODEL_6e4b0929a6ac4dd4844b8eadca5c42a9",
       "max": 4,
       "style": "IPY_MODEL_75253738a9d445b9832c0a0e5a33db4a",
       "value": 4
      }
     },
     "2a4d1198b0b14d85b859dfaf9cf59cc3": {
      "model_module": "@jupyter-widgets/controls",
      "model_module_version": "1.5.0",
      "model_name": "FloatProgressModel",
      "state": {
       "bar_style": "success",
       "description": "100%",
       "layout": "IPY_MODEL_b65e7320880745eeaae67ed89cc5647e",
       "max": 30,
       "style": "IPY_MODEL_769cbbdbe5314f0184903c91cf615b3a",
       "value": 30
      }
     },
     "2acdda0532154b86b584845957aca79c": {
      "model_module": "@jupyter-widgets/controls",
      "model_module_version": "1.5.0",
      "model_name": "DescriptionStyleModel",
      "state": {
       "description_width": ""
      }
     },
     "2ad2f0f75e8d4a50964e20507300a150": {
      "model_module": "@jupyter-widgets/controls",
      "model_module_version": "1.5.0",
      "model_name": "HTMLModel",
      "state": {
       "layout": "IPY_MODEL_8d679f04fc274f7fa219bd6dcec88a32",
       "style": "IPY_MODEL_c965c262125f4e8a918e28db3a5761e4",
       "value": " 4/4 [00:03&lt;00:00,  1.03it/s]"
      }
     },
     "2ad88cf87a2d43fcac1a9feeddeb16fd": {
      "model_module": "@jupyter-widgets/controls",
      "model_module_version": "1.5.0",
      "model_name": "FloatProgressModel",
      "state": {
       "bar_style": "success",
       "description": "100%",
       "layout": "IPY_MODEL_481de6e2b89a45f8bb9ed651cc51f418",
       "max": 30,
       "style": "IPY_MODEL_357a0353d9ee481191a17a4a9bbf214b",
       "value": 30
      }
     },
     "2b5a286ec3a0449fa4d7c7a91c877081": {
      "model_module": "@jupyter-widgets/controls",
      "model_module_version": "1.5.0",
      "model_name": "FloatProgressModel",
      "state": {
       "bar_style": "success",
       "description": "100%",
       "layout": "IPY_MODEL_d2be0f9bf76e4b41b1553e82d96f8ae1",
       "max": 30,
       "style": "IPY_MODEL_82ceb134d980434bb07dcb8f6ecfc5e2",
       "value": 30
      }
     },
     "2b916d4e4ec440c28ef11a4476203b77": {
      "model_module": "@jupyter-widgets/controls",
      "model_module_version": "1.5.0",
      "model_name": "ProgressStyleModel",
      "state": {
       "description_width": "initial"
      }
     },
     "2bac10eec9924924af1af73689856aca": {
      "model_module": "@jupyter-widgets/controls",
      "model_module_version": "1.5.0",
      "model_name": "FloatProgressModel",
      "state": {
       "bar_style": "success",
       "description": "100%",
       "layout": "IPY_MODEL_825bd332a4724e4780706ba74d51cee7",
       "max": 4,
       "style": "IPY_MODEL_2c54410171634131b3fb508230ad34c7",
       "value": 4
      }
     },
     "2be3657222cd43d9acc6882fb8060174": {
      "model_module": "@jupyter-widgets/controls",
      "model_module_version": "1.5.0",
      "model_name": "HBoxModel",
      "state": {
       "children": [
        "IPY_MODEL_fc5fba94ba7e456892757879882498cf",
        "IPY_MODEL_5467d8e3a6a446c38681b4ac9f206d98"
       ],
       "layout": "IPY_MODEL_1d754cfbbf9b46dabbf324dd1dfa7e83"
      }
     },
     "2bfc0468708c44f0ad244644d82bcc71": {
      "model_module": "@jupyter-widgets/controls",
      "model_module_version": "1.5.0",
      "model_name": "HBoxModel",
      "state": {
       "children": [
        "IPY_MODEL_da3d4dbd792d4643bec071513e700f2c",
        "IPY_MODEL_f5967c42c55b49b2bce50784362c237d"
       ],
       "layout": "IPY_MODEL_5ea5f5f66726455fb9f7b9f471fdb936"
      }
     },
     "2c06d9eed79b4689a83017e7f5e7c98a": {
      "model_module": "@jupyter-widgets/base",
      "model_module_version": "1.2.0",
      "model_name": "LayoutModel",
      "state": {}
     },
     "2c334a957cb34ceaadf0e5498855cc5c": {
      "model_module": "@jupyter-widgets/base",
      "model_module_version": "1.2.0",
      "model_name": "LayoutModel",
      "state": {}
     },
     "2c3ebcd4afc042fcb77d916b9334db5c": {
      "model_module": "@jupyter-widgets/controls",
      "model_module_version": "1.5.0",
      "model_name": "DescriptionStyleModel",
      "state": {
       "description_width": ""
      }
     },
     "2c46a7dc971a4c08b6ba2ce622b8a475": {
      "model_module": "@jupyter-widgets/base",
      "model_module_version": "1.2.0",
      "model_name": "LayoutModel",
      "state": {}
     },
     "2c54410171634131b3fb508230ad34c7": {
      "model_module": "@jupyter-widgets/controls",
      "model_module_version": "1.5.0",
      "model_name": "ProgressStyleModel",
      "state": {
       "description_width": "initial"
      }
     },
     "2c55d8a3c83e4c88a2f36afc2d03baaa": {
      "model_module": "@jupyter-widgets/base",
      "model_module_version": "1.2.0",
      "model_name": "LayoutModel",
      "state": {}
     },
     "2c5f2e1ed03748279191cddc3e3f544c": {
      "model_module": "@jupyter-widgets/base",
      "model_module_version": "1.2.0",
      "model_name": "LayoutModel",
      "state": {}
     },
     "2c728e2bd6164dcc806be7d967bbda37": {
      "model_module": "@jupyter-widgets/controls",
      "model_module_version": "1.5.0",
      "model_name": "FloatProgressModel",
      "state": {
       "bar_style": "success",
       "description": "100%",
       "layout": "IPY_MODEL_93c2d787ab9240b5aebffedee126b70e",
       "max": 30,
       "style": "IPY_MODEL_d9f96b40324946ac98046086709d4805",
       "value": 30
      }
     },
     "2cce7f2e03a64fabb4b807337e76cdd9": {
      "model_module": "@jupyter-widgets/base",
      "model_module_version": "1.2.0",
      "model_name": "LayoutModel",
      "state": {}
     },
     "2ccf8220d41f4a209ed21dcf304f31dd": {
      "model_module": "@jupyter-widgets/base",
      "model_module_version": "1.2.0",
      "model_name": "LayoutModel",
      "state": {}
     },
     "2cde6605b09c43ef8ebdd6639d2757da": {
      "model_module": "@jupyter-widgets/controls",
      "model_module_version": "1.5.0",
      "model_name": "FloatProgressModel",
      "state": {
       "bar_style": "success",
       "description": "100%",
       "layout": "IPY_MODEL_133e0ecf10574f4e9171f5c6a8edd2e8",
       "max": 4,
       "style": "IPY_MODEL_408803d0487a4b24b98726fbb981b66b",
       "value": 4
      }
     },
     "2d000dc2b5064d4d8d0ae4ac841a4dad": {
      "model_module": "@jupyter-widgets/controls",
      "model_module_version": "1.5.0",
      "model_name": "DescriptionStyleModel",
      "state": {
       "description_width": ""
      }
     },
     "2d098a80abe049e28aeb39f149459d9b": {
      "model_module": "@jupyter-widgets/controls",
      "model_module_version": "1.5.0",
      "model_name": "HTMLModel",
      "state": {
       "layout": "IPY_MODEL_6ecf4a140115424fbbe856d11c512b6f",
       "style": "IPY_MODEL_fc5dff2c47cb419980faa4c565b7d7d8",
       "value": " 30/30 [00:04&lt;00:00,  6.85it/s]"
      }
     },
     "2d2e63992c9e4e9c820899092f621c98": {
      "model_module": "@jupyter-widgets/controls",
      "model_module_version": "1.5.0",
      "model_name": "HTMLModel",
      "state": {
       "layout": "IPY_MODEL_b796d3f6ae6c4be7ba84e0e46585c767",
       "style": "IPY_MODEL_2c3ebcd4afc042fcb77d916b9334db5c",
       "value": " 30/30 [00:04&lt;00:00,  7.03it/s]"
      }
     },
     "2def342f97014a158388fe3ceac4fd97": {
      "model_module": "@jupyter-widgets/controls",
      "model_module_version": "1.5.0",
      "model_name": "HTMLModel",
      "state": {
       "layout": "IPY_MODEL_4fa2eafb49854e5c805933f9890af3d9",
       "style": "IPY_MODEL_b84372d0166441fb988f06dab2fcee81",
       "value": " 4/4 [00:03&lt;00:00,  1.02it/s]"
      }
     },
     "2e4f534443674334991ab6cc6912987b": {
      "model_module": "@jupyter-widgets/base",
      "model_module_version": "1.2.0",
      "model_name": "LayoutModel",
      "state": {}
     },
     "2e53c26de7e642bcb38abf805bad0623": {
      "model_module": "@jupyter-widgets/controls",
      "model_module_version": "1.5.0",
      "model_name": "HTMLModel",
      "state": {
       "layout": "IPY_MODEL_250067c779e843e9b2f8b50aa9de2014",
       "style": "IPY_MODEL_12437c43b9114420a110c99a2f7cee3e",
       "value": " 4/4 [00:51&lt;00:00, 12.98s/it]"
      }
     },
     "2e6a2ef06d32402c8a94ba9c94a6b054": {
      "model_module": "@jupyter-widgets/controls",
      "model_module_version": "1.5.0",
      "model_name": "FloatProgressModel",
      "state": {
       "bar_style": "success",
       "description": "100%",
       "layout": "IPY_MODEL_f2a700c458454cd1ab683e7d4b067251",
       "max": 30,
       "style": "IPY_MODEL_f18171c088f8427c83e7522ecce1d939",
       "value": 30
      }
     },
     "2ec4dd4922a24b118bbb2d0dfe18c001": {
      "model_module": "@jupyter-widgets/base",
      "model_module_version": "1.2.0",
      "model_name": "LayoutModel",
      "state": {}
     },
     "2ec75a50116d4854bf94ef862815ada1": {
      "model_module": "@jupyter-widgets/controls",
      "model_module_version": "1.5.0",
      "model_name": "FloatProgressModel",
      "state": {
       "bar_style": "success",
       "description": "100%",
       "layout": "IPY_MODEL_36d0d31a5410482cb045ba222f24d726",
       "max": 4,
       "style": "IPY_MODEL_e147ad3eb7b14cb1be391d645fb39f69",
       "value": 4
      }
     },
     "2f157d133c684e5f97f186b56a99291f": {
      "model_module": "@jupyter-widgets/controls",
      "model_module_version": "1.5.0",
      "model_name": "HTMLModel",
      "state": {
       "layout": "IPY_MODEL_c5e51549a92141d6af7a833926573be1",
       "style": "IPY_MODEL_9a527d2946d64c73b6721e867fe61b97",
       "value": " 4/4 [00:03&lt;00:00,  1.05it/s]"
      }
     },
     "2f2b2b2a3d92419a86da5bad15046bdf": {
      "model_module": "@jupyter-widgets/controls",
      "model_module_version": "1.5.0",
      "model_name": "HTMLModel",
      "state": {
       "layout": "IPY_MODEL_c023d9ce9515432a9b59690b919e0059",
       "style": "IPY_MODEL_78d8f14cf28f496e8604dfcce666c09d",
       "value": " 30/30 [00:03&lt;00:00,  7.65it/s]"
      }
     },
     "2f2c3a9d49fb44a9aae97a0df383a723": {
      "model_module": "@jupyter-widgets/base",
      "model_module_version": "1.2.0",
      "model_name": "LayoutModel",
      "state": {}
     },
     "2f33bb5387174619ba90cab691d1dc9f": {
      "model_module": "@jupyter-widgets/controls",
      "model_module_version": "1.5.0",
      "model_name": "DescriptionStyleModel",
      "state": {
       "description_width": ""
      }
     },
     "2f3cc50fa3e741d5b08c513208d3f6b7": {
      "model_module": "@jupyter-widgets/controls",
      "model_module_version": "1.5.0",
      "model_name": "HTMLModel",
      "state": {
       "layout": "IPY_MODEL_00a4a689fdb64009acd4f59b9c592fc7",
       "style": "IPY_MODEL_0b5bb86002354be6be9147cd3b60fdb7",
       "value": " 4/4 [00:02&lt;00:00,  1.54it/s]"
      }
     },
     "2f67e1dd8df74fccaa6c7d7800c15cf7": {
      "model_module": "@jupyter-widgets/base",
      "model_module_version": "1.2.0",
      "model_name": "LayoutModel",
      "state": {}
     },
     "2f9a5df1cb434f4ca7bf720ca8690e2f": {
      "model_module": "@jupyter-widgets/controls",
      "model_module_version": "1.5.0",
      "model_name": "DescriptionStyleModel",
      "state": {
       "description_width": ""
      }
     },
     "2f9c4357e34849a7a9b2f811331a2ebc": {
      "model_module": "@jupyter-widgets/controls",
      "model_module_version": "1.5.0",
      "model_name": "FloatProgressModel",
      "state": {
       "bar_style": "success",
       "description": "100%",
       "layout": "IPY_MODEL_49ff7e056ad743e2b73e66f6f8360969",
       "max": 4,
       "style": "IPY_MODEL_7d2a4b18277b44c1b662580084161088",
       "value": 4
      }
     },
     "2f9d05f84d984c419bd5a14891b68441": {
      "model_module": "@jupyter-widgets/controls",
      "model_module_version": "1.5.0",
      "model_name": "HTMLModel",
      "state": {
       "layout": "IPY_MODEL_ae544ba341a242d881c44e9dae9926d2",
       "style": "IPY_MODEL_622b01236fad46f1abd3a24cff4e655f",
       "value": " 4/4 [00:03&lt;00:00,  1.00it/s]"
      }
     },
     "2f9e7a64e1f044378645dd928fe9abad": {
      "model_module": "@jupyter-widgets/controls",
      "model_module_version": "1.5.0",
      "model_name": "DescriptionStyleModel",
      "state": {
       "description_width": ""
      }
     },
     "2fbc1d93ab3841718094837ba26d81c4": {
      "model_module": "@jupyter-widgets/controls",
      "model_module_version": "1.5.0",
      "model_name": "FloatProgressModel",
      "state": {
       "bar_style": "success",
       "description": "100%",
       "layout": "IPY_MODEL_fe26015ca3c54fb1ad6005fed81a70da",
       "max": 4,
       "style": "IPY_MODEL_be48e8a4a7eb4b2389137b4018907d87",
       "value": 4
      }
     },
     "2fcf62c609bf4107a14e08a775312542": {
      "model_module": "@jupyter-widgets/base",
      "model_module_version": "1.2.0",
      "model_name": "LayoutModel",
      "state": {}
     },
     "2fd97f2cc6bf415abf8f236835859df1": {
      "model_module": "@jupyter-widgets/controls",
      "model_module_version": "1.5.0",
      "model_name": "HBoxModel",
      "state": {
       "children": [
        "IPY_MODEL_15cee68cd71c4e1a8e8c3c8bdb3f0958",
        "IPY_MODEL_42f20537319a42a4b4ff7dd08015b071"
       ],
       "layout": "IPY_MODEL_8f183d117bd549bca6d9a4846f757153"
      }
     },
     "3041a226c7f74ad58a39d0cae1744419": {
      "model_module": "@jupyter-widgets/controls",
      "model_module_version": "1.5.0",
      "model_name": "FloatProgressModel",
      "state": {
       "bar_style": "success",
       "description": "100%",
       "layout": "IPY_MODEL_e67e61d16380470489b45de9853afd32",
       "max": 30,
       "style": "IPY_MODEL_23adb87929594ba0836040313504aaff",
       "value": 30
      }
     },
     "304e8c25c0474ed2b5f6de38313abda8": {
      "model_module": "@jupyter-widgets/base",
      "model_module_version": "1.2.0",
      "model_name": "LayoutModel",
      "state": {}
     },
     "304ff2459a9e49eabe6f83f3336cc474": {
      "model_module": "@jupyter-widgets/controls",
      "model_module_version": "1.5.0",
      "model_name": "HTMLModel",
      "state": {
       "layout": "IPY_MODEL_9e93debfcc014f3f8592960eb968b866",
       "style": "IPY_MODEL_595029fb164a4044b99b5625b23ccbd7",
       "value": " 4/4 [00:04&lt;00:00,  1.12s/it]"
      }
     },
     "305bbf6aba02467682342d876e91603b": {
      "model_module": "@jupyter-widgets/controls",
      "model_module_version": "1.5.0",
      "model_name": "ProgressStyleModel",
      "state": {
       "description_width": "initial"
      }
     },
     "305e94fcf83e47d2a6d43a04eac28002": {
      "model_module": "@jupyter-widgets/controls",
      "model_module_version": "1.5.0",
      "model_name": "ProgressStyleModel",
      "state": {
       "description_width": "initial"
      }
     },
     "3067ae0bc80b48cc8d4d0ac364fc9274": {
      "model_module": "@jupyter-widgets/controls",
      "model_module_version": "1.5.0",
      "model_name": "HTMLModel",
      "state": {
       "layout": "IPY_MODEL_5d654777a4e749a5aefb40b0ed1eded3",
       "style": "IPY_MODEL_5fd7dda87cdc4bcd9c3bdf8752d2ccdb",
       "value": " 30/30 [00:03&lt;00:00,  8.20it/s]"
      }
     },
     "3070ef2c6db740d19bef6debdf5622e4": {
      "model_module": "@jupyter-widgets/base",
      "model_module_version": "1.2.0",
      "model_name": "LayoutModel",
      "state": {}
     },
     "30784889837a44bca1958223b04c7da9": {
      "model_module": "@jupyter-widgets/base",
      "model_module_version": "1.2.0",
      "model_name": "LayoutModel",
      "state": {}
     },
     "30949c1445814719ad6e66fde5486087": {
      "model_module": "@jupyter-widgets/controls",
      "model_module_version": "1.5.0",
      "model_name": "HTMLModel",
      "state": {
       "layout": "IPY_MODEL_4ed63f16083645ebafb79f574f03e36d",
       "style": "IPY_MODEL_448e5a0d932748a2a9e27d2ce6539f46",
       "value": " 4/4 [00:00&lt;00:00, 10.68it/s]"
      }
     },
     "309c38f2d4464243aaa85fed05b35f08": {
      "model_module": "@jupyter-widgets/controls",
      "model_module_version": "1.5.0",
      "model_name": "ProgressStyleModel",
      "state": {
       "description_width": "initial"
      }
     },
     "30baeffc68a64027a85eeb7759a2e0ef": {
      "model_module": "@jupyter-widgets/controls",
      "model_module_version": "1.5.0",
      "model_name": "DescriptionStyleModel",
      "state": {
       "description_width": ""
      }
     },
     "30cef625ea204377b99f2793334e8496": {
      "model_module": "@jupyter-widgets/base",
      "model_module_version": "1.2.0",
      "model_name": "LayoutModel",
      "state": {}
     },
     "30d1687c9a904918b58a217b1174607a": {
      "model_module": "@jupyter-widgets/controls",
      "model_module_version": "1.5.0",
      "model_name": "FloatProgressModel",
      "state": {
       "bar_style": "success",
       "description": "100%",
       "layout": "IPY_MODEL_8398cc0beb324fe7a0ad43a0fc49c91b",
       "max": 4,
       "style": "IPY_MODEL_9611465861a849639539329a164b4c96",
       "value": 4
      }
     },
     "30d5c38ee7ea45e2b0beffee1c6536f0": {
      "model_module": "@jupyter-widgets/controls",
      "model_module_version": "1.5.0",
      "model_name": "FloatProgressModel",
      "state": {
       "bar_style": "success",
       "description": "100%",
       "layout": "IPY_MODEL_4c80c993ffae4195a7a38d40c2128871",
       "max": 30,
       "style": "IPY_MODEL_9d338e8e3e004665bd5dbe87c3f1811d",
       "value": 30
      }
     },
     "30de6f075b384fffbbf78e06cec619cc": {
      "model_module": "@jupyter-widgets/controls",
      "model_module_version": "1.5.0",
      "model_name": "HTMLModel",
      "state": {
       "layout": "IPY_MODEL_4726204538b14d79976ce836cc3547f9",
       "style": "IPY_MODEL_79dbdfa749cf4ecd91c4b6e820456618",
       "value": " 4/4 [01:01&lt;00:00, 15.47s/it]"
      }
     },
     "31010e52e366475ea340cbac71f1d4b5": {
      "model_module": "@jupyter-widgets/controls",
      "model_module_version": "1.5.0",
      "model_name": "DescriptionStyleModel",
      "state": {
       "description_width": ""
      }
     },
     "31868e74e8fa49c48dc505aa670f6a7c": {
      "model_module": "@jupyter-widgets/controls",
      "model_module_version": "1.5.0",
      "model_name": "FloatProgressModel",
      "state": {
       "bar_style": "success",
       "description": "100%",
       "layout": "IPY_MODEL_9cf968509d5b44afa9129739364bb1c7",
       "max": 30,
       "style": "IPY_MODEL_d886e2d617b04c4b8261806350832a0f",
       "value": 30
      }
     },
     "31b1b52e53534f88a86f68f4ad3f70eb": {
      "model_module": "@jupyter-widgets/base",
      "model_module_version": "1.2.0",
      "model_name": "LayoutModel",
      "state": {}
     },
     "31c67cf6c260465cb077f75e376b6403": {
      "model_module": "@jupyter-widgets/controls",
      "model_module_version": "1.5.0",
      "model_name": "FloatProgressModel",
      "state": {
       "bar_style": "success",
       "description": "100%",
       "layout": "IPY_MODEL_0f31889d1a2c4fcdadb82b173d665561",
       "max": 30,
       "style": "IPY_MODEL_b0b59a8fa3fb4b0081f3c1a96e571e53",
       "value": 30
      }
     },
     "326b62bd8a404ea4bec5cf9f910831bd": {
      "model_module": "@jupyter-widgets/base",
      "model_module_version": "1.2.0",
      "model_name": "LayoutModel",
      "state": {}
     },
     "328083dc4e6c4750aba3df24a449a63b": {
      "model_module": "@jupyter-widgets/controls",
      "model_module_version": "1.5.0",
      "model_name": "ProgressStyleModel",
      "state": {
       "description_width": "initial"
      }
     },
     "328e5415e59c46b3a75fc91a555641b6": {
      "model_module": "@jupyter-widgets/controls",
      "model_module_version": "1.5.0",
      "model_name": "ProgressStyleModel",
      "state": {
       "description_width": "initial"
      }
     },
     "329bcdf039ba4f21bc0cd1d189bfaa19": {
      "model_module": "@jupyter-widgets/controls",
      "model_module_version": "1.5.0",
      "model_name": "FloatProgressModel",
      "state": {
       "bar_style": "success",
       "description": "100%",
       "layout": "IPY_MODEL_b90214aaecca46b5b65a28adfc8aaa94",
       "max": 30,
       "style": "IPY_MODEL_c2376aa74d9a42f6a3d38988ee841bde",
       "value": 30
      }
     },
     "32b1fdf37fb94a40bcc55778b73a0133": {
      "model_module": "@jupyter-widgets/controls",
      "model_module_version": "1.5.0",
      "model_name": "HTMLModel",
      "state": {
       "layout": "IPY_MODEL_e65759a0421840aa8143d8760b491a20",
       "style": "IPY_MODEL_58a7e411857c4517ad9a107dd0e310f4",
       "value": " 4/4 [00:00&lt;00:00,  9.74it/s]"
      }
     },
     "33250db367d94e0eba85898c490d154f": {
      "model_module": "@jupyter-widgets/base",
      "model_module_version": "1.2.0",
      "model_name": "LayoutModel",
      "state": {}
     },
     "3343470169fc4a5797304baed60f2651": {
      "model_module": "@jupyter-widgets/controls",
      "model_module_version": "1.5.0",
      "model_name": "HTMLModel",
      "state": {
       "layout": "IPY_MODEL_5732171c2bc647be8b208450c44c002d",
       "style": "IPY_MODEL_9e3567d56a2d4a3086c9c51cbc38e5c8",
       "value": " 4/4 [00:00&lt;00:00, 14.32it/s]"
      }
     },
     "334b4abd151144d08e5489bdf574dcb1": {
      "model_module": "@jupyter-widgets/controls",
      "model_module_version": "1.5.0",
      "model_name": "HTMLModel",
      "state": {
       "layout": "IPY_MODEL_ac5917ed5de946ada02720f4dd74252d",
       "style": "IPY_MODEL_bfdbe19b37e1401c873c99ee78cc6e62",
       "value": " 4/4 [00:50&lt;00:00, 12.62s/it]"
      }
     },
     "336c0d8ef88048bc834394df9bdcc187": {
      "model_module": "@jupyter-widgets/controls",
      "model_module_version": "1.5.0",
      "model_name": "DescriptionStyleModel",
      "state": {
       "description_width": ""
      }
     },
     "339210bad40048d399892e3500a8c446": {
      "model_module": "@jupyter-widgets/controls",
      "model_module_version": "1.5.0",
      "model_name": "ProgressStyleModel",
      "state": {
       "description_width": "initial"
      }
     },
     "33e03684384648a79e817b0fb9a3993b": {
      "model_module": "@jupyter-widgets/controls",
      "model_module_version": "1.5.0",
      "model_name": "HBoxModel",
      "state": {
       "children": [
        "IPY_MODEL_c116de101ede47cea2b72c0197d88778",
        "IPY_MODEL_e13ef6f880f645d1ba613ffd49285a6d"
       ],
       "layout": "IPY_MODEL_d79882b79b0e4205b7c50105932b490f"
      }
     },
     "33e707863c764f35a810e7f715c0aaea": {
      "model_module": "@jupyter-widgets/base",
      "model_module_version": "1.2.0",
      "model_name": "LayoutModel",
      "state": {}
     },
     "348989e224314348b5cc91fe1fa729cb": {
      "model_module": "@jupyter-widgets/controls",
      "model_module_version": "1.5.0",
      "model_name": "HTMLModel",
      "state": {
       "layout": "IPY_MODEL_d0ab70710e674f08b3b1e0fc1af4389f",
       "style": "IPY_MODEL_dac8c4be9f9b4e31888a60f7b92b9cc6",
       "value": " 4/4 [00:03&lt;00:00,  1.01it/s]"
      }
     },
     "349494c7f3d644b7893ddc38f407578d": {
      "model_module": "@jupyter-widgets/controls",
      "model_module_version": "1.5.0",
      "model_name": "DescriptionStyleModel",
      "state": {
       "description_width": ""
      }
     },
     "3498de033e0740d882b564a56d3a5703": {
      "model_module": "@jupyter-widgets/base",
      "model_module_version": "1.2.0",
      "model_name": "LayoutModel",
      "state": {}
     },
     "34a59a2b6c0844a6bd0c558e7976c11f": {
      "model_module": "@jupyter-widgets/base",
      "model_module_version": "1.2.0",
      "model_name": "LayoutModel",
      "state": {}
     },
     "351b3a94031d4f12ae95cadeaaaf9675": {
      "model_module": "@jupyter-widgets/controls",
      "model_module_version": "1.5.0",
      "model_name": "FloatProgressModel",
      "state": {
       "bar_style": "success",
       "description": "100%",
       "layout": "IPY_MODEL_d3a447d07ab146e09463d38dfae45f1a",
       "max": 4,
       "style": "IPY_MODEL_213c8e64176c40289c1a06ff5b251291",
       "value": 4
      }
     },
     "356793d6924c46ac83fe6251a7695563": {
      "model_module": "@jupyter-widgets/base",
      "model_module_version": "1.2.0",
      "model_name": "LayoutModel",
      "state": {}
     },
     "357a0353d9ee481191a17a4a9bbf214b": {
      "model_module": "@jupyter-widgets/controls",
      "model_module_version": "1.5.0",
      "model_name": "ProgressStyleModel",
      "state": {
       "description_width": "initial"
      }
     },
     "35d7d36ba844482c834ed7cb7d093754": {
      "model_module": "@jupyter-widgets/base",
      "model_module_version": "1.2.0",
      "model_name": "LayoutModel",
      "state": {}
     },
     "35fbcb1e7686487f8935de7fc9802a28": {
      "model_module": "@jupyter-widgets/base",
      "model_module_version": "1.2.0",
      "model_name": "LayoutModel",
      "state": {}
     },
     "3607126bfa0547beb63b8d11a161dab7": {
      "model_module": "@jupyter-widgets/base",
      "model_module_version": "1.2.0",
      "model_name": "LayoutModel",
      "state": {}
     },
     "3644db087d304e5eb3d6847512c8e1cb": {
      "model_module": "@jupyter-widgets/base",
      "model_module_version": "1.2.0",
      "model_name": "LayoutModel",
      "state": {}
     },
     "365917ef6ae04805a2766ddb9d03ac45": {
      "model_module": "@jupyter-widgets/controls",
      "model_module_version": "1.5.0",
      "model_name": "ProgressStyleModel",
      "state": {
       "description_width": "initial"
      }
     },
     "367c262a7db3498bab04f1f8583c4896": {
      "model_module": "@jupyter-widgets/controls",
      "model_module_version": "1.5.0",
      "model_name": "FloatProgressModel",
      "state": {
       "bar_style": "success",
       "description": "100%",
       "layout": "IPY_MODEL_382ea40458d34a90a74012765b512430",
       "max": 30,
       "style": "IPY_MODEL_293281e2748e47f3b6885abef539b258",
       "value": 30
      }
     },
     "36815501c0c14be7b8a690c05cf01a68": {
      "model_module": "@jupyter-widgets/base",
      "model_module_version": "1.2.0",
      "model_name": "LayoutModel",
      "state": {}
     },
     "368d23e2f02f4ecab295b06503abdd5c": {
      "model_module": "@jupyter-widgets/base",
      "model_module_version": "1.2.0",
      "model_name": "LayoutModel",
      "state": {}
     },
     "36b42316c3454e7f8e1e0f30b2e12281": {
      "model_module": "@jupyter-widgets/base",
      "model_module_version": "1.2.0",
      "model_name": "LayoutModel",
      "state": {}
     },
     "36d0d31a5410482cb045ba222f24d726": {
      "model_module": "@jupyter-widgets/base",
      "model_module_version": "1.2.0",
      "model_name": "LayoutModel",
      "state": {}
     },
     "36ec4592bb6341ad8a4946e4e8a691e8": {
      "model_module": "@jupyter-widgets/controls",
      "model_module_version": "1.5.0",
      "model_name": "HBoxModel",
      "state": {
       "children": [
        "IPY_MODEL_76eac353fbff483db61c1b96720071fd",
        "IPY_MODEL_8a9c19b836b14ce1822e82fd5b58e519"
       ],
       "layout": "IPY_MODEL_fbf9c391caff4575ad9f9b1661f3e7e7"
      }
     },
     "370031f7962a457ba907668df9b11e10": {
      "model_module": "@jupyter-widgets/base",
      "model_module_version": "1.2.0",
      "model_name": "LayoutModel",
      "state": {}
     },
     "372a59ffc35945d9ae0236d88afd9e91": {
      "model_module": "@jupyter-widgets/controls",
      "model_module_version": "1.5.0",
      "model_name": "DescriptionStyleModel",
      "state": {
       "description_width": ""
      }
     },
     "377c91a33584496d8b74a02e7d21ef46": {
      "model_module": "@jupyter-widgets/base",
      "model_module_version": "1.2.0",
      "model_name": "LayoutModel",
      "state": {}
     },
     "37960c8398ea4effad1fba659e29af8d": {
      "model_module": "@jupyter-widgets/controls",
      "model_module_version": "1.5.0",
      "model_name": "FloatProgressModel",
      "state": {
       "bar_style": "success",
       "description": "100%",
       "layout": "IPY_MODEL_cf54194ec03040339e9c98a79ae6fff9",
       "max": 4,
       "style": "IPY_MODEL_79a773bb31eb40be91bd56bd9adc2488",
       "value": 4
      }
     },
     "379f43c14e9e4eb090226ae1e1359bca": {
      "model_module": "@jupyter-widgets/controls",
      "model_module_version": "1.5.0",
      "model_name": "ProgressStyleModel",
      "state": {
       "description_width": "initial"
      }
     },
     "37f34fd70e0146f2a58dcf32d449df47": {
      "model_module": "@jupyter-widgets/controls",
      "model_module_version": "1.5.0",
      "model_name": "HBoxModel",
      "state": {
       "children": [
        "IPY_MODEL_367c262a7db3498bab04f1f8583c4896",
        "IPY_MODEL_bc64199f40ca40cda15fb562c88e179c"
       ],
       "layout": "IPY_MODEL_d88535d6c14a47669e0fc508c9d095c9"
      }
     },
     "380219ceaf164a44a9e59a933985233e": {
      "model_module": "@jupyter-widgets/controls",
      "model_module_version": "1.5.0",
      "model_name": "ProgressStyleModel",
      "state": {
       "description_width": "initial"
      }
     },
     "382ea40458d34a90a74012765b512430": {
      "model_module": "@jupyter-widgets/base",
      "model_module_version": "1.2.0",
      "model_name": "LayoutModel",
      "state": {}
     },
     "38a05fd44ed64914b1b059b8abbe2963": {
      "model_module": "@jupyter-widgets/base",
      "model_module_version": "1.2.0",
      "model_name": "LayoutModel",
      "state": {}
     },
     "38af02c99727464996e846da829eb797": {
      "model_module": "@jupyter-widgets/base",
      "model_module_version": "1.2.0",
      "model_name": "LayoutModel",
      "state": {}
     },
     "38e7e88674a64141ad6c8a9f2cb39c75": {
      "model_module": "@jupyter-widgets/controls",
      "model_module_version": "1.5.0",
      "model_name": "ProgressStyleModel",
      "state": {
       "description_width": "initial"
      }
     },
     "38f6f049cadb4f3eb7575c880c2e2c95": {
      "model_module": "@jupyter-widgets/controls",
      "model_module_version": "1.5.0",
      "model_name": "ProgressStyleModel",
      "state": {
       "description_width": "initial"
      }
     },
     "392880b7667b4c40b698ce86494adb9e": {
      "model_module": "@jupyter-widgets/base",
      "model_module_version": "1.2.0",
      "model_name": "LayoutModel",
      "state": {}
     },
     "39356bc5bfc74fc08965bfae602548e7": {
      "model_module": "@jupyter-widgets/base",
      "model_module_version": "1.2.0",
      "model_name": "LayoutModel",
      "state": {}
     },
     "397af8683f3c40629717c7f1f85714fb": {
      "model_module": "@jupyter-widgets/controls",
      "model_module_version": "1.5.0",
      "model_name": "FloatProgressModel",
      "state": {
       "bar_style": "success",
       "description": "100%",
       "layout": "IPY_MODEL_c50c9917d1d44daebfbbcf632237dd8c",
       "max": 4,
       "style": "IPY_MODEL_bd80fdd1f64649159c3bac1a5aec262a",
       "value": 4
      }
     },
     "399f5f820d1c4211af7fc1da31510c29": {
      "model_module": "@jupyter-widgets/controls",
      "model_module_version": "1.5.0",
      "model_name": "HBoxModel",
      "state": {
       "children": [
        "IPY_MODEL_be460309306841879e485fe18656c059",
        "IPY_MODEL_1709798281c34462a14c082ab1682689"
       ],
       "layout": "IPY_MODEL_7db709123ae642f59663787dd7e509eb"
      }
     },
     "39c4cd5f4df6406b9de2e52e8e93d749": {
      "model_module": "@jupyter-widgets/controls",
      "model_module_version": "1.5.0",
      "model_name": "DescriptionStyleModel",
      "state": {
       "description_width": ""
      }
     },
     "3a04ab4e42f04532ba103d91c4011ce1": {
      "model_module": "@jupyter-widgets/controls",
      "model_module_version": "1.5.0",
      "model_name": "ProgressStyleModel",
      "state": {
       "description_width": "initial"
      }
     },
     "3a05a93f064b402eb372e7dfa3ff8798": {
      "model_module": "@jupyter-widgets/controls",
      "model_module_version": "1.5.0",
      "model_name": "HBoxModel",
      "state": {
       "children": [
        "IPY_MODEL_31c67cf6c260465cb077f75e376b6403",
        "IPY_MODEL_94f0112e6a1f40bda176c252103d1651"
       ],
       "layout": "IPY_MODEL_b95c3da4e02e465bb465ec86ff7ad198"
      }
     },
     "3a208906b2fc4376831c2062ec5dc1ea": {
      "model_module": "@jupyter-widgets/controls",
      "model_module_version": "1.5.0",
      "model_name": "DescriptionStyleModel",
      "state": {
       "description_width": ""
      }
     },
     "3a2fc636ae6d4ada8e483160036d939e": {
      "model_module": "@jupyter-widgets/base",
      "model_module_version": "1.2.0",
      "model_name": "LayoutModel",
      "state": {}
     },
     "3a3a0ee380fe46f0b306aeaf2bccbca9": {
      "model_module": "@jupyter-widgets/controls",
      "model_module_version": "1.5.0",
      "model_name": "DescriptionStyleModel",
      "state": {
       "description_width": ""
      }
     },
     "3a6186db7c91427e9ed53ee977a57e58": {
      "model_module": "@jupyter-widgets/controls",
      "model_module_version": "1.5.0",
      "model_name": "HBoxModel",
      "state": {
       "children": [
        "IPY_MODEL_9d87b26e630f44c38de419aaa928a248",
        "IPY_MODEL_b34f735d171244be87b6f972cad2d554"
       ],
       "layout": "IPY_MODEL_b6b8f0253149425da4b021d4fa4e54a8"
      }
     },
     "3a89fe2705664e14bb08411d7f6ad53e": {
      "model_module": "@jupyter-widgets/controls",
      "model_module_version": "1.5.0",
      "model_name": "DescriptionStyleModel",
      "state": {
       "description_width": ""
      }
     },
     "3abb922524674aa8872706705ea17656": {
      "model_module": "@jupyter-widgets/controls",
      "model_module_version": "1.5.0",
      "model_name": "FloatProgressModel",
      "state": {
       "bar_style": "success",
       "description": "100%",
       "layout": "IPY_MODEL_f42f4bbd5bf94f6e8a8a090fd9198451",
       "max": 4,
       "style": "IPY_MODEL_9bccaf9a90d840668dcd9b7f9a5e96db",
       "value": 4
      }
     },
     "3b075fab00544bc5a34533c2c3a27874": {
      "model_module": "@jupyter-widgets/base",
      "model_module_version": "1.2.0",
      "model_name": "LayoutModel",
      "state": {}
     },
     "3b9bd7874ab84d8fa59c427a4401a84c": {
      "model_module": "@jupyter-widgets/base",
      "model_module_version": "1.2.0",
      "model_name": "LayoutModel",
      "state": {}
     },
     "3ba799ecf33e49ae97a4f010123b66c9": {
      "model_module": "@jupyter-widgets/base",
      "model_module_version": "1.2.0",
      "model_name": "LayoutModel",
      "state": {}
     },
     "3bd7b28be97849cc9b46ac09f8044580": {
      "model_module": "@jupyter-widgets/controls",
      "model_module_version": "1.5.0",
      "model_name": "FloatProgressModel",
      "state": {
       "bar_style": "success",
       "description": "100%",
       "layout": "IPY_MODEL_8b01ad21cc3849d5afd996bbc9825702",
       "max": 4,
       "style": "IPY_MODEL_648b177e019c48169f04dcd02c9bd2d6",
       "value": 4
      }
     },
     "3bddfc064c4b4b62bb1f868ce515c7f2": {
      "model_module": "@jupyter-widgets/controls",
      "model_module_version": "1.5.0",
      "model_name": "HTMLModel",
      "state": {
       "layout": "IPY_MODEL_1926cc99803d465e9adcaaf409553a39",
       "style": "IPY_MODEL_ecbff2d625a4426eb9123fabf7fe4873",
       "value": " 4/4 [00:00&lt;00:00, 13.36it/s]"
      }
     },
     "3c0ccf9293b148728eb8669a7539faff": {
      "model_module": "@jupyter-widgets/controls",
      "model_module_version": "1.5.0",
      "model_name": "DescriptionStyleModel",
      "state": {
       "description_width": ""
      }
     },
     "3c162cdec3b54f758825b550215d7111": {
      "model_module": "@jupyter-widgets/controls",
      "model_module_version": "1.5.0",
      "model_name": "DescriptionStyleModel",
      "state": {
       "description_width": ""
      }
     },
     "3c389df0a6e74bbbaa884f8fb2338af6": {
      "model_module": "@jupyter-widgets/controls",
      "model_module_version": "1.5.0",
      "model_name": "FloatProgressModel",
      "state": {
       "bar_style": "success",
       "description": "100%",
       "layout": "IPY_MODEL_3e7cb0116faf4431826763bfe8486f5b",
       "max": 4,
       "style": "IPY_MODEL_8249ae5743ff4e07bac85915c5a26e25",
       "value": 4
      }
     },
     "3c3e39075f2d4a52b29517fa27ad315f": {
      "model_module": "@jupyter-widgets/controls",
      "model_module_version": "1.5.0",
      "model_name": "HBoxModel",
      "state": {
       "children": [
        "IPY_MODEL_29d3824d2f1044b0865dc1c6bc1fc58a",
        "IPY_MODEL_9183ea1fbe3742aeb954a16e04079a3c"
       ],
       "layout": "IPY_MODEL_a22485b3042f45f2945da943d9e93ce3"
      }
     },
     "3c6aaf3c64664336b0af75d30dedc55e": {
      "model_module": "@jupyter-widgets/base",
      "model_module_version": "1.2.0",
      "model_name": "LayoutModel",
      "state": {}
     },
     "3c7e2adc51d84eb9b806a2f23badd617": {
      "model_module": "@jupyter-widgets/controls",
      "model_module_version": "1.5.0",
      "model_name": "ProgressStyleModel",
      "state": {
       "description_width": "initial"
      }
     },
     "3c7f9f8563124dcdb156c653caa54db4": {
      "model_module": "@jupyter-widgets/base",
      "model_module_version": "1.2.0",
      "model_name": "LayoutModel",
      "state": {}
     },
     "3c964bd5a21d4913911ffb914c03fc13": {
      "model_module": "@jupyter-widgets/controls",
      "model_module_version": "1.5.0",
      "model_name": "HBoxModel",
      "state": {
       "children": [
        "IPY_MODEL_f6b0cc9a9fc445d8aeab0e6e3bda236f",
        "IPY_MODEL_5d8b4246747c4bd9b36d5faf71c2c6d7"
       ],
       "layout": "IPY_MODEL_4d9b930e6b8e4ea2a501a8e1044d1333"
      }
     },
     "3cd838da3cf54603a98411e20fead690": {
      "model_module": "@jupyter-widgets/controls",
      "model_module_version": "1.5.0",
      "model_name": "DescriptionStyleModel",
      "state": {
       "description_width": ""
      }
     },
     "3d0c7563c9c646318d529334ef00afbb": {
      "model_module": "@jupyter-widgets/controls",
      "model_module_version": "1.5.0",
      "model_name": "DescriptionStyleModel",
      "state": {
       "description_width": ""
      }
     },
     "3d1f62bb0e94445db2e4b278b88aa745": {
      "model_module": "@jupyter-widgets/controls",
      "model_module_version": "1.5.0",
      "model_name": "HTMLModel",
      "state": {
       "layout": "IPY_MODEL_28cdd7182c724e3f9985085245a6aa12",
       "style": "IPY_MODEL_3c162cdec3b54f758825b550215d7111",
       "value": " 4/4 [00:03&lt;00:00,  1.00it/s]"
      }
     },
     "3d5eb9ba9c2145a58dbd91adc68a876b": {
      "model_module": "@jupyter-widgets/base",
      "model_module_version": "1.2.0",
      "model_name": "LayoutModel",
      "state": {}
     },
     "3d6d64c5da894cfea61aa868189f1c79": {
      "model_module": "@jupyter-widgets/base",
      "model_module_version": "1.2.0",
      "model_name": "LayoutModel",
      "state": {}
     },
     "3d7c545eff144307806b7b3881fab1d4": {
      "model_module": "@jupyter-widgets/controls",
      "model_module_version": "1.5.0",
      "model_name": "HTMLModel",
      "state": {
       "layout": "IPY_MODEL_f873ab2754f14cd9bc05b9c283d7a275",
       "style": "IPY_MODEL_77fced309ea54d35bf7c70dc08099464",
       "value": " 4/4 [00:00&lt;00:00, 10.64it/s]"
      }
     },
     "3dfa010056fc4b08aa5d65ca5ffb14af": {
      "model_module": "@jupyter-widgets/controls",
      "model_module_version": "1.5.0",
      "model_name": "HTMLModel",
      "state": {
       "layout": "IPY_MODEL_9e9028d9efe24256af837965c1c14698",
       "style": "IPY_MODEL_116ece2d8c6c490ca92c87e7f12315dc",
       "value": " 30/30 [00:04&lt;00:00,  7.46it/s]"
      }
     },
     "3e0f8b5c67fd4274a42e302f478c8ca8": {
      "model_module": "@jupyter-widgets/controls",
      "model_module_version": "1.5.0",
      "model_name": "FloatProgressModel",
      "state": {
       "bar_style": "success",
       "description": "100%",
       "layout": "IPY_MODEL_98771db4b6734e3ca086efa951e9befc",
       "max": 4,
       "style": "IPY_MODEL_6bd8268f5d1c4a13978f2c2eef51dd19",
       "value": 4
      }
     },
     "3e2a23c120174c2694cf22e64f702457": {
      "model_module": "@jupyter-widgets/base",
      "model_module_version": "1.2.0",
      "model_name": "LayoutModel",
      "state": {}
     },
     "3e4cbfbe200843aba9e3300742121ab6": {
      "model_module": "@jupyter-widgets/controls",
      "model_module_version": "1.5.0",
      "model_name": "DescriptionStyleModel",
      "state": {
       "description_width": ""
      }
     },
     "3e4cef05a624434a8814d9eb3144acb9": {
      "model_module": "@jupyter-widgets/controls",
      "model_module_version": "1.5.0",
      "model_name": "HBoxModel",
      "state": {
       "children": [
        "IPY_MODEL_dfc98f63708b4ae29e2b95207d3e0854",
        "IPY_MODEL_40ad6f9cfc544569967bf71da80e54a5"
       ],
       "layout": "IPY_MODEL_0bcdf3c9d80946789c3060f1ae911f65"
      }
     },
     "3e5c5ffdc89e4611bd54749cbcd3cee9": {
      "model_module": "@jupyter-widgets/base",
      "model_module_version": "1.2.0",
      "model_name": "LayoutModel",
      "state": {}
     },
     "3e7cb0116faf4431826763bfe8486f5b": {
      "model_module": "@jupyter-widgets/base",
      "model_module_version": "1.2.0",
      "model_name": "LayoutModel",
      "state": {}
     },
     "3eaf458b4b0f4eb4903eca38fc7df8b4": {
      "model_module": "@jupyter-widgets/base",
      "model_module_version": "1.2.0",
      "model_name": "LayoutModel",
      "state": {}
     },
     "3ec6fb7d10a54b73af5159dc1ff4ac24": {
      "model_module": "@jupyter-widgets/controls",
      "model_module_version": "1.5.0",
      "model_name": "ProgressStyleModel",
      "state": {
       "description_width": "initial"
      }
     },
     "3f0b8e0c99e94e6594a00e13297e7d10": {
      "model_module": "@jupyter-widgets/controls",
      "model_module_version": "1.5.0",
      "model_name": "DescriptionStyleModel",
      "state": {
       "description_width": ""
      }
     },
     "3f51ca30ee8040138bdd78628218ed58": {
      "model_module": "@jupyter-widgets/base",
      "model_module_version": "1.2.0",
      "model_name": "LayoutModel",
      "state": {}
     },
     "3f910090a0e24b68b00861ef7bd2d1b1": {
      "model_module": "@jupyter-widgets/controls",
      "model_module_version": "1.5.0",
      "model_name": "HBoxModel",
      "state": {
       "children": [
        "IPY_MODEL_fafcbbf85c1a45558b5bf29abab85af5",
        "IPY_MODEL_811f666be44f4d859d30ef0f85e85bb5"
       ],
       "layout": "IPY_MODEL_a8d88b3aaff843b6a246907c0105b554"
      }
     },
     "3f9e2f4d739a4010a66a413e10533412": {
      "model_module": "@jupyter-widgets/base",
      "model_module_version": "1.2.0",
      "model_name": "LayoutModel",
      "state": {}
     },
     "408803d0487a4b24b98726fbb981b66b": {
      "model_module": "@jupyter-widgets/controls",
      "model_module_version": "1.5.0",
      "model_name": "ProgressStyleModel",
      "state": {
       "description_width": "initial"
      }
     },
     "40916cb23b554684a7c725d8bf97a2f7": {
      "model_module": "@jupyter-widgets/controls",
      "model_module_version": "1.5.0",
      "model_name": "DescriptionStyleModel",
      "state": {
       "description_width": ""
      }
     },
     "409fed98b65e457fb5fcc56fa966d9f5": {
      "model_module": "@jupyter-widgets/controls",
      "model_module_version": "1.5.0",
      "model_name": "FloatProgressModel",
      "state": {
       "bar_style": "success",
       "description": "100%",
       "layout": "IPY_MODEL_85cfe321c32349369485f3bd5df1584f",
       "max": 30,
       "style": "IPY_MODEL_914119d8b96543f98c920807aa8392f8",
       "value": 30
      }
     },
     "40ad6f9cfc544569967bf71da80e54a5": {
      "model_module": "@jupyter-widgets/controls",
      "model_module_version": "1.5.0",
      "model_name": "HTMLModel",
      "state": {
       "layout": "IPY_MODEL_16650f42ec4f422087e1265c8226d65c",
       "style": "IPY_MODEL_529d763823f04bb68a49135399182cc6",
       "value": " 30/30 [00:03&lt;00:00,  8.24it/s]"
      }
     },
     "40b8605069024a07834d8c242191b895": {
      "model_module": "@jupyter-widgets/controls",
      "model_module_version": "1.5.0",
      "model_name": "ProgressStyleModel",
      "state": {
       "description_width": "initial"
      }
     },
     "40be07e77a8949ab8c8cdb2645a089c3": {
      "model_module": "@jupyter-widgets/controls",
      "model_module_version": "1.5.0",
      "model_name": "ProgressStyleModel",
      "state": {
       "description_width": "initial"
      }
     },
     "40c77252317a4966a518fe5bf7073a22": {
      "model_module": "@jupyter-widgets/base",
      "model_module_version": "1.2.0",
      "model_name": "LayoutModel",
      "state": {}
     },
     "40f45ad03fe04b82ab62f93923c48398": {
      "model_module": "@jupyter-widgets/controls",
      "model_module_version": "1.5.0",
      "model_name": "HTMLModel",
      "state": {
       "layout": "IPY_MODEL_be56bddd3a4c433781663ca5115ec440",
       "style": "IPY_MODEL_4c0abe9aea5a4420883ae82c71acd3e6",
       "value": " 4/4 [00:04&lt;00:00,  1.06s/it]"
      }
     },
     "410108a7d3fb4087b9a58cf3cd72e6ee": {
      "model_module": "@jupyter-widgets/base",
      "model_module_version": "1.2.0",
      "model_name": "LayoutModel",
      "state": {}
     },
     "4178d1ba304c472db84118510deb5bb5": {
      "model_module": "@jupyter-widgets/base",
      "model_module_version": "1.2.0",
      "model_name": "LayoutModel",
      "state": {}
     },
     "41808aadb36d4ed8af3bf3ffda09690f": {
      "model_module": "@jupyter-widgets/base",
      "model_module_version": "1.2.0",
      "model_name": "LayoutModel",
      "state": {}
     },
     "4188f819c32a437c8cd6ee0aa2a5313a": {
      "model_module": "@jupyter-widgets/controls",
      "model_module_version": "1.5.0",
      "model_name": "HTMLModel",
      "state": {
       "layout": "IPY_MODEL_35d7d36ba844482c834ed7cb7d093754",
       "style": "IPY_MODEL_e7accbf78e834b4488565f415a88c4c1",
       "value": " 4/4 [00:03&lt;00:00,  1.02it/s]"
      }
     },
     "418b0ba9a8c34d40a3daf6d064aaec1e": {
      "model_module": "@jupyter-widgets/controls",
      "model_module_version": "1.5.0",
      "model_name": "HTMLModel",
      "state": {
       "layout": "IPY_MODEL_aec80b2df2344a28ba40fcce736a70a0",
       "style": "IPY_MODEL_a652128942294e8b858799e5b28fcad7",
       "value": " 4/4 [00:00&lt;00:00, 10.68it/s]"
      }
     },
     "41916f04e1984a79aff0556faa5d0599": {
      "model_module": "@jupyter-widgets/controls",
      "model_module_version": "1.5.0",
      "model_name": "DescriptionStyleModel",
      "state": {
       "description_width": ""
      }
     },
     "41c8e282ed114ed0b94e190db4c7c2c0": {
      "model_module": "@jupyter-widgets/controls",
      "model_module_version": "1.5.0",
      "model_name": "ProgressStyleModel",
      "state": {
       "description_width": "initial"
      }
     },
     "41caced32e7c47a4918585b2b48411fb": {
      "model_module": "@jupyter-widgets/controls",
      "model_module_version": "1.5.0",
      "model_name": "DescriptionStyleModel",
      "state": {
       "description_width": ""
      }
     },
     "4202336449cc4674b6fe714c966cf82f": {
      "model_module": "@jupyter-widgets/controls",
      "model_module_version": "1.5.0",
      "model_name": "ProgressStyleModel",
      "state": {
       "description_width": "initial"
      }
     },
     "421675a8493548d9b095858f323263a1": {
      "model_module": "@jupyter-widgets/base",
      "model_module_version": "1.2.0",
      "model_name": "LayoutModel",
      "state": {}
     },
     "42181e2afd8c4745bc471d0bc9b1584f": {
      "model_module": "@jupyter-widgets/controls",
      "model_module_version": "1.5.0",
      "model_name": "DescriptionStyleModel",
      "state": {
       "description_width": ""
      }
     },
     "4233d125418d4f9b893568fcd10963f2": {
      "model_module": "@jupyter-widgets/controls",
      "model_module_version": "1.5.0",
      "model_name": "DescriptionStyleModel",
      "state": {
       "description_width": ""
      }
     },
     "425e06e9d6664a98954a78be41d5a9bc": {
      "model_module": "@jupyter-widgets/controls",
      "model_module_version": "1.5.0",
      "model_name": "HBoxModel",
      "state": {
       "children": [
        "IPY_MODEL_81d5b5917880449a89f7de0560b1f4bc",
        "IPY_MODEL_992fbdd059b14c0eb13f7987f16805b1"
       ],
       "layout": "IPY_MODEL_33250db367d94e0eba85898c490d154f"
      }
     },
     "425fac6dd3e244d4bc7565eb43c20839": {
      "model_module": "@jupyter-widgets/base",
      "model_module_version": "1.2.0",
      "model_name": "LayoutModel",
      "state": {}
     },
     "4277b1b98cfd4a9ba5684778c507b63e": {
      "model_module": "@jupyter-widgets/controls",
      "model_module_version": "1.5.0",
      "model_name": "ProgressStyleModel",
      "state": {
       "description_width": "initial"
      }
     },
     "4277f99dbb9b4ebfbd86067866c71286": {
      "model_module": "@jupyter-widgets/base",
      "model_module_version": "1.2.0",
      "model_name": "LayoutModel",
      "state": {}
     },
     "42b48940bdd94427b1ab00c8395daabf": {
      "model_module": "@jupyter-widgets/base",
      "model_module_version": "1.2.0",
      "model_name": "LayoutModel",
      "state": {}
     },
     "42bc843f636f41459c2801473caa4dbc": {
      "model_module": "@jupyter-widgets/base",
      "model_module_version": "1.2.0",
      "model_name": "LayoutModel",
      "state": {}
     },
     "42d3fc0060ba40aa878dd73349598654": {
      "model_module": "@jupyter-widgets/controls",
      "model_module_version": "1.5.0",
      "model_name": "DescriptionStyleModel",
      "state": {
       "description_width": ""
      }
     },
     "42f20537319a42a4b4ff7dd08015b071": {
      "model_module": "@jupyter-widgets/controls",
      "model_module_version": "1.5.0",
      "model_name": "HTMLModel",
      "state": {
       "layout": "IPY_MODEL_850f7feda5eb4c818e5f045a475cc105",
       "style": "IPY_MODEL_965d30f6299c4860bba89c540c80abbe",
       "value": " 30/30 [00:55&lt;00:00,  1.85s/it]"
      }
     },
     "43728bc255d34092a5e41cd8a62c1546": {
      "model_module": "@jupyter-widgets/base",
      "model_module_version": "1.2.0",
      "model_name": "LayoutModel",
      "state": {}
     },
     "4377acb051b14c408bd97c207dbd04e2": {
      "model_module": "@jupyter-widgets/base",
      "model_module_version": "1.2.0",
      "model_name": "LayoutModel",
      "state": {}
     },
     "439e8fececfe4c0bb64545288ebc41e3": {
      "model_module": "@jupyter-widgets/controls",
      "model_module_version": "1.5.0",
      "model_name": "HTMLModel",
      "state": {
       "layout": "IPY_MODEL_ebbc2648cd3d43b3bff93e57064583cc",
       "style": "IPY_MODEL_6905d45d23dd4e1abb01068b887fa6d4",
       "value": " 30/30 [00:04&lt;00:00,  7.19it/s]"
      }
     },
     "43a6ddf720124adca038dcc16d182f76": {
      "model_module": "@jupyter-widgets/base",
      "model_module_version": "1.2.0",
      "model_name": "LayoutModel",
      "state": {}
     },
     "43aa338915414339bc454aa593dfd833": {
      "model_module": "@jupyter-widgets/controls",
      "model_module_version": "1.5.0",
      "model_name": "FloatProgressModel",
      "state": {
       "bar_style": "success",
       "description": "100%",
       "layout": "IPY_MODEL_410108a7d3fb4087b9a58cf3cd72e6ee",
       "max": 30,
       "style": "IPY_MODEL_15ec478a79f6407c870c37b8101dfaec",
       "value": 30
      }
     },
     "43d9f002dc30471a92c50bd0fe761a71": {
      "model_module": "@jupyter-widgets/controls",
      "model_module_version": "1.5.0",
      "model_name": "HBoxModel",
      "state": {
       "children": [
        "IPY_MODEL_26c250fcc1574ba5801bde8f1497786a",
        "IPY_MODEL_73655a8ed6da400dbab2f2fc54b25293"
       ],
       "layout": "IPY_MODEL_71098a25e9d34a1fb7605819cfe2c962"
      }
     },
     "43e287a6a6784d6f989d3a53227d86b7": {
      "model_module": "@jupyter-widgets/controls",
      "model_module_version": "1.5.0",
      "model_name": "ProgressStyleModel",
      "state": {
       "description_width": "initial"
      }
     },
     "4418a1d6e6ed4f29922d86a04778aff1": {
      "model_module": "@jupyter-widgets/base",
      "model_module_version": "1.2.0",
      "model_name": "LayoutModel",
      "state": {}
     },
     "441be74eb6d04d19ac056253aaebb5de": {
      "model_module": "@jupyter-widgets/controls",
      "model_module_version": "1.5.0",
      "model_name": "DescriptionStyleModel",
      "state": {
       "description_width": ""
      }
     },
     "442da06439424e128a43a1b453e2e4e5": {
      "model_module": "@jupyter-widgets/controls",
      "model_module_version": "1.5.0",
      "model_name": "HBoxModel",
      "state": {
       "children": [
        "IPY_MODEL_860bb9f5ab814d3c8ecdfb39b9abb47d",
        "IPY_MODEL_181bb601c8134a369b7fbf21aa796580"
       ],
       "layout": "IPY_MODEL_08eb7624e4fd4d76af8494c5a2290e0c"
      }
     },
     "444a6a9d44ae498b99e71f2e174b842d": {
      "model_module": "@jupyter-widgets/base",
      "model_module_version": "1.2.0",
      "model_name": "LayoutModel",
      "state": {}
     },
     "4450a26e45854526ad0c974616676a61": {
      "model_module": "@jupyter-widgets/controls",
      "model_module_version": "1.5.0",
      "model_name": "HBoxModel",
      "state": {
       "children": [
        "IPY_MODEL_de0a6952055442568d0c8db5575c9047",
        "IPY_MODEL_c58f7b3ef4a44fa69a4b6753599d6266"
       ],
       "layout": "IPY_MODEL_1b7ae269fe9f47bf8a6c4e3d1631ff4c"
      }
     },
     "44899a9a851646869629166a7a3057d7": {
      "model_module": "@jupyter-widgets/base",
      "model_module_version": "1.2.0",
      "model_name": "LayoutModel",
      "state": {}
     },
     "448e5a0d932748a2a9e27d2ce6539f46": {
      "model_module": "@jupyter-widgets/controls",
      "model_module_version": "1.5.0",
      "model_name": "DescriptionStyleModel",
      "state": {
       "description_width": ""
      }
     },
     "44a3925d7c4e41e4960bfa9bf00de13a": {
      "model_module": "@jupyter-widgets/base",
      "model_module_version": "1.2.0",
      "model_name": "LayoutModel",
      "state": {}
     },
     "44a4488dca7447259b0625d8ea6e4a58": {
      "model_module": "@jupyter-widgets/base",
      "model_module_version": "1.2.0",
      "model_name": "LayoutModel",
      "state": {}
     },
     "44a71034e8d3499c8cc80ebc68bfe787": {
      "model_module": "@jupyter-widgets/base",
      "model_module_version": "1.2.0",
      "model_name": "LayoutModel",
      "state": {}
     },
     "44afc9e57af7474697453a2e5665b724": {
      "model_module": "@jupyter-widgets/controls",
      "model_module_version": "1.5.0",
      "model_name": "ProgressStyleModel",
      "state": {
       "description_width": "initial"
      }
     },
     "44c39abec63741dabde91057cc0885da": {
      "model_module": "@jupyter-widgets/controls",
      "model_module_version": "1.5.0",
      "model_name": "ProgressStyleModel",
      "state": {
       "description_width": "initial"
      }
     },
     "44c3e54f2a614961987f48126550462f": {
      "model_module": "@jupyter-widgets/controls",
      "model_module_version": "1.5.0",
      "model_name": "DescriptionStyleModel",
      "state": {
       "description_width": ""
      }
     },
     "451ee1024cb547dbb99453f5c920988e": {
      "model_module": "@jupyter-widgets/controls",
      "model_module_version": "1.5.0",
      "model_name": "HTMLModel",
      "state": {
       "layout": "IPY_MODEL_d50c94c9c9ff49aeab9da28e339ab4d4",
       "style": "IPY_MODEL_b3584542ef96456cb54f57fe55f7eb37",
       "value": " 30/30 [00:03&lt;00:00,  8.23it/s]"
      }
     },
     "4535a36148574dd2aa045d20091f73e4": {
      "model_module": "@jupyter-widgets/controls",
      "model_module_version": "1.5.0",
      "model_name": "HTMLModel",
      "state": {
       "layout": "IPY_MODEL_02861d0cc97048cebc361313e4e1cbe0",
       "style": "IPY_MODEL_e1b83e8f5882499881e90bf9205e9826",
       "value": " 4/4 [00:00&lt;00:00, 13.34it/s]"
      }
     },
     "45b0449bef3a4771867177fc9f51827a": {
      "model_module": "@jupyter-widgets/controls",
      "model_module_version": "1.5.0",
      "model_name": "HTMLModel",
      "state": {
       "layout": "IPY_MODEL_7a920b1205ad46789d4d9288ea3c3fdb",
       "style": "IPY_MODEL_4b3c13928d00490da404dcf862f617fe",
       "value": " 30/30 [01:03&lt;00:00,  2.12s/it]"
      }
     },
     "45b6daf5e2044bbb865ab6827dbd7653": {
      "model_module": "@jupyter-widgets/controls",
      "model_module_version": "1.5.0",
      "model_name": "DescriptionStyleModel",
      "state": {
       "description_width": ""
      }
     },
     "45cfe2bc76a64e7fad7e8926b9dae25f": {
      "model_module": "@jupyter-widgets/controls",
      "model_module_version": "1.5.0",
      "model_name": "FloatProgressModel",
      "state": {
       "bar_style": "success",
       "description": "100%",
       "layout": "IPY_MODEL_9b26f7977da54af98d685276628ede87",
       "max": 4,
       "style": "IPY_MODEL_339210bad40048d399892e3500a8c446",
       "value": 4
      }
     },
     "45dc7d6c771d4b8b9540abebe6104b30": {
      "model_module": "@jupyter-widgets/controls",
      "model_module_version": "1.5.0",
      "model_name": "HBoxModel",
      "state": {
       "children": [
        "IPY_MODEL_1242352350ce4b809ad3d8e59d795051",
        "IPY_MODEL_e298b7e1092d450797106fcefbb9ea64"
       ],
       "layout": "IPY_MODEL_0af4e8efca45423ea8ff17205e739ecc"
      }
     },
     "45eb511129bb4ee0ab37fa29db9a9dbc": {
      "model_module": "@jupyter-widgets/controls",
      "model_module_version": "1.5.0",
      "model_name": "DescriptionStyleModel",
      "state": {
       "description_width": ""
      }
     },
     "468f19c8a7ca42ea8a4253b149751644": {
      "model_module": "@jupyter-widgets/controls",
      "model_module_version": "1.5.0",
      "model_name": "HBoxModel",
      "state": {
       "children": [
        "IPY_MODEL_a0a55f7578d2476697f4f79ec6ebb46b",
        "IPY_MODEL_f9a2764706e04d32918881ef07507da9"
       ],
       "layout": "IPY_MODEL_861f8c78e7a744c49f8d2eb09aa53a4f"
      }
     },
     "46a4950a50a34be08cea6ac2aaace801": {
      "model_module": "@jupyter-widgets/base",
      "model_module_version": "1.2.0",
      "model_name": "LayoutModel",
      "state": {}
     },
     "46eed79dcfd6451bb35dce76cf1d67bd": {
      "model_module": "@jupyter-widgets/base",
      "model_module_version": "1.2.0",
      "model_name": "LayoutModel",
      "state": {}
     },
     "4726204538b14d79976ce836cc3547f9": {
      "model_module": "@jupyter-widgets/base",
      "model_module_version": "1.2.0",
      "model_name": "LayoutModel",
      "state": {}
     },
     "4759fe080a68406abfa79160f552a329": {
      "model_module": "@jupyter-widgets/controls",
      "model_module_version": "1.5.0",
      "model_name": "ProgressStyleModel",
      "state": {
       "description_width": "initial"
      }
     },
     "47b36e46c33143b29a739a03f65214cf": {
      "model_module": "@jupyter-widgets/base",
      "model_module_version": "1.2.0",
      "model_name": "LayoutModel",
      "state": {}
     },
     "47e8a95e5cda45128c44f0fc82fe4293": {
      "model_module": "@jupyter-widgets/controls",
      "model_module_version": "1.5.0",
      "model_name": "FloatProgressModel",
      "state": {
       "bar_style": "success",
       "description": "100%",
       "layout": "IPY_MODEL_0e2b128d79534f99af6e068847a20712",
       "max": 4,
       "style": "IPY_MODEL_5591e024a98c4e66bf4af1e2c59eacfb",
       "value": 4
      }
     },
     "481de6e2b89a45f8bb9ed651cc51f418": {
      "model_module": "@jupyter-widgets/base",
      "model_module_version": "1.2.0",
      "model_name": "LayoutModel",
      "state": {}
     },
     "4829749ee4e1456ab774e0604ee01041": {
      "model_module": "@jupyter-widgets/controls",
      "model_module_version": "1.5.0",
      "model_name": "HTMLModel",
      "state": {
       "layout": "IPY_MODEL_3f51ca30ee8040138bdd78628218ed58",
       "style": "IPY_MODEL_4d41093994ed41429f6ae1220eaefa9f",
       "value": " 30/30 [00:03&lt;00:00,  8.09it/s]"
      }
     },
     "4831bf21681643508d91324173009355": {
      "model_module": "@jupyter-widgets/controls",
      "model_module_version": "1.5.0",
      "model_name": "DescriptionStyleModel",
      "state": {
       "description_width": ""
      }
     },
     "484c50c919934650b31366a5295c3dca": {
      "model_module": "@jupyter-widgets/base",
      "model_module_version": "1.2.0",
      "model_name": "LayoutModel",
      "state": {}
     },
     "48d4d1fdbc80415794807ac00d2a8998": {
      "model_module": "@jupyter-widgets/controls",
      "model_module_version": "1.5.0",
      "model_name": "FloatProgressModel",
      "state": {
       "bar_style": "success",
       "description": "100%",
       "layout": "IPY_MODEL_138e7a96810d4db7bd5ac0d12c6ba350",
       "max": 30,
       "style": "IPY_MODEL_68e0516b3d19469b8f111d1dc225216c",
       "value": 30
      }
     },
     "4902f80843b74911bcab9de48b805cc5": {
      "model_module": "@jupyter-widgets/controls",
      "model_module_version": "1.5.0",
      "model_name": "DescriptionStyleModel",
      "state": {
       "description_width": ""
      }
     },
     "497cf04113cc4c08ae4c5ea419f0d369": {
      "model_module": "@jupyter-widgets/controls",
      "model_module_version": "1.5.0",
      "model_name": "ProgressStyleModel",
      "state": {
       "description_width": "initial"
      }
     },
     "49a336f468a9432e9bc1014506baa41b": {
      "model_module": "@jupyter-widgets/base",
      "model_module_version": "1.2.0",
      "model_name": "LayoutModel",
      "state": {}
     },
     "49a42825b77f4535beff03c95deb4ac4": {
      "model_module": "@jupyter-widgets/controls",
      "model_module_version": "1.5.0",
      "model_name": "HBoxModel",
      "state": {
       "children": [
        "IPY_MODEL_4b0e3d40c150474b88715a7100f0b771",
        "IPY_MODEL_785bd544420e44588dca8f93bd146a56"
       ],
       "layout": "IPY_MODEL_1ce2352d1b96442eb6a283bc3fabc54b"
      }
     },
     "49aac1da9cff4cb7aa52692b32994810": {
      "model_module": "@jupyter-widgets/controls",
      "model_module_version": "1.5.0",
      "model_name": "ProgressStyleModel",
      "state": {
       "description_width": "initial"
      }
     },
     "49c302a213ff4324a9799590188914c6": {
      "model_module": "@jupyter-widgets/controls",
      "model_module_version": "1.5.0",
      "model_name": "HBoxModel",
      "state": {
       "children": [
        "IPY_MODEL_30d1687c9a904918b58a217b1174607a",
        "IPY_MODEL_20180840abd8407080a113d51efc55fd"
       ],
       "layout": "IPY_MODEL_827e20cac48341bc83ec2ced0530b066"
      }
     },
     "49f1777c77824e5190ead249c7103a6b": {
      "model_module": "@jupyter-widgets/controls",
      "model_module_version": "1.5.0",
      "model_name": "HBoxModel",
      "state": {
       "children": [
        "IPY_MODEL_329bcdf039ba4f21bc0cd1d189bfaa19",
        "IPY_MODEL_55255021bae14733a8a5de4dfc606548"
       ],
       "layout": "IPY_MODEL_df393b82caa34b4bb5bf24ed2b4c349e"
      }
     },
     "49ff7e056ad743e2b73e66f6f8360969": {
      "model_module": "@jupyter-widgets/base",
      "model_module_version": "1.2.0",
      "model_name": "LayoutModel",
      "state": {}
     },
     "4a0609f0713d4bbe8a27720bc3551911": {
      "model_module": "@jupyter-widgets/base",
      "model_module_version": "1.2.0",
      "model_name": "LayoutModel",
      "state": {}
     },
     "4a2ae02b80d44e98b1aef49b243bc36e": {
      "model_module": "@jupyter-widgets/base",
      "model_module_version": "1.2.0",
      "model_name": "LayoutModel",
      "state": {}
     },
     "4a43c8c551554e258c35225d7e656b37": {
      "model_module": "@jupyter-widgets/controls",
      "model_module_version": "1.5.0",
      "model_name": "HBoxModel",
      "state": {
       "children": [
        "IPY_MODEL_592584fc7f864b11a2a38d3dc8b85a66",
        "IPY_MODEL_12a04ca478444d7cbcfdecd8e0a507c5"
       ],
       "layout": "IPY_MODEL_2ec4dd4922a24b118bbb2d0dfe18c001"
      }
     },
     "4a5bc56030ba41638be5cf878d751c91": {
      "model_module": "@jupyter-widgets/controls",
      "model_module_version": "1.5.0",
      "model_name": "HBoxModel",
      "state": {
       "children": [
        "IPY_MODEL_7a89f5eeb9104e038c08c6ebf88fac2d",
        "IPY_MODEL_08bbc8949ce541abbf18f469ebe53453"
       ],
       "layout": "IPY_MODEL_1cef904a028f46468f98fdbe134d8088"
      }
     },
     "4a5f2074fa574378ba41bf5cd8fdd140": {
      "model_module": "@jupyter-widgets/controls",
      "model_module_version": "1.5.0",
      "model_name": "HBoxModel",
      "state": {
       "children": [
        "IPY_MODEL_2ec75a50116d4854bf94ef862815ada1",
        "IPY_MODEL_334b4abd151144d08e5489bdf574dcb1"
       ],
       "layout": "IPY_MODEL_1a9d25d5fb9c4d5e931760b91850c25f"
      }
     },
     "4a81fecb7a754072806533b1807cec76": {
      "model_module": "@jupyter-widgets/controls",
      "model_module_version": "1.5.0",
      "model_name": "FloatProgressModel",
      "state": {
       "bar_style": "success",
       "description": "100%",
       "layout": "IPY_MODEL_b98064a6a1954178bf27565711a8d61c",
       "max": 30,
       "style": "IPY_MODEL_fe8c38816cbe401b9e649765e7dd1c60",
       "value": 30
      }
     },
     "4ac7d36381bd4dc9961d66ac5d165891": {
      "model_module": "@jupyter-widgets/controls",
      "model_module_version": "1.5.0",
      "model_name": "FloatProgressModel",
      "state": {
       "bar_style": "success",
       "description": "100%",
       "layout": "IPY_MODEL_370031f7962a457ba907668df9b11e10",
       "max": 4,
       "style": "IPY_MODEL_293159589c26497dbc1cd334da79c995",
       "value": 4
      }
     },
     "4b0202c2d83d493a913b73fb03aadaf2": {
      "model_module": "@jupyter-widgets/controls",
      "model_module_version": "1.5.0",
      "model_name": "DescriptionStyleModel",
      "state": {
       "description_width": ""
      }
     },
     "4b0e3d40c150474b88715a7100f0b771": {
      "model_module": "@jupyter-widgets/controls",
      "model_module_version": "1.5.0",
      "model_name": "FloatProgressModel",
      "state": {
       "bar_style": "success",
       "description": "100%",
       "layout": "IPY_MODEL_b45f31d2d34f4ff1b2ca18f7fadbbbfc",
       "max": 4,
       "style": "IPY_MODEL_4759fe080a68406abfa79160f552a329",
       "value": 4
      }
     },
     "4b30bbb4aeb942b9a216274d73add477": {
      "model_module": "@jupyter-widgets/base",
      "model_module_version": "1.2.0",
      "model_name": "LayoutModel",
      "state": {}
     },
     "4b350c6f60a5442fa74bb9f34ea8390e": {
      "model_module": "@jupyter-widgets/base",
      "model_module_version": "1.2.0",
      "model_name": "LayoutModel",
      "state": {}
     },
     "4b3c13928d00490da404dcf862f617fe": {
      "model_module": "@jupyter-widgets/controls",
      "model_module_version": "1.5.0",
      "model_name": "DescriptionStyleModel",
      "state": {
       "description_width": ""
      }
     },
     "4b5001430484455ebcc23d90e01a5e86": {
      "model_module": "@jupyter-widgets/controls",
      "model_module_version": "1.5.0",
      "model_name": "HBoxModel",
      "state": {
       "children": [
        "IPY_MODEL_ec7d744b902348fd8fffa42604f206b2",
        "IPY_MODEL_9acc116b6e734da785d159b18a1b9558"
       ],
       "layout": "IPY_MODEL_f8c0e839224747d58692172c70bccea7"
      }
     },
     "4bb37b7c16924722aee8473fbc4ae15e": {
      "model_module": "@jupyter-widgets/controls",
      "model_module_version": "1.5.0",
      "model_name": "ProgressStyleModel",
      "state": {
       "description_width": "initial"
      }
     },
     "4be6abc9a1cc4ee69150567589fe18c3": {
      "model_module": "@jupyter-widgets/base",
      "model_module_version": "1.2.0",
      "model_name": "LayoutModel",
      "state": {}
     },
     "4c0abe9aea5a4420883ae82c71acd3e6": {
      "model_module": "@jupyter-widgets/controls",
      "model_module_version": "1.5.0",
      "model_name": "DescriptionStyleModel",
      "state": {
       "description_width": ""
      }
     },
     "4c22bccbe49e4c61877b3312ab134df2": {
      "model_module": "@jupyter-widgets/controls",
      "model_module_version": "1.5.0",
      "model_name": "HBoxModel",
      "state": {
       "children": [
        "IPY_MODEL_a57062ab1aba4245bdd58555a3a67052",
        "IPY_MODEL_d27d78d3572c4a8a91a91635f37b97f6"
       ],
       "layout": "IPY_MODEL_58db951e10dd47ba9e8a5cd7162e335c"
      }
     },
     "4c4d23fdf95e45f89c7c3be101805c07": {
      "model_module": "@jupyter-widgets/controls",
      "model_module_version": "1.5.0",
      "model_name": "FloatProgressModel",
      "state": {
       "bar_style": "success",
       "description": "100%",
       "layout": "IPY_MODEL_9dc37ad5ef0c488aacfd9e5d519c7252",
       "max": 4,
       "style": "IPY_MODEL_ada50a4565634b41ba41b647213e9ce1",
       "value": 4
      }
     },
     "4c6bb2d887b4426e82f2da35497d86a3": {
      "model_module": "@jupyter-widgets/controls",
      "model_module_version": "1.5.0",
      "model_name": "FloatProgressModel",
      "state": {
       "bar_style": "success",
       "description": "100%",
       "layout": "IPY_MODEL_19e081027a5f4d4eb2f169b68f6d5253",
       "max": 30,
       "style": "IPY_MODEL_578b0d64f97049aaafd7f9f21ca20ad4",
       "value": 30
      }
     },
     "4c6cf7befa6a44888682c0b8eea44fef": {
      "model_module": "@jupyter-widgets/controls",
      "model_module_version": "1.5.0",
      "model_name": "HBoxModel",
      "state": {
       "children": [
        "IPY_MODEL_b4f0296a27c2442e93605caaef6e9d1d",
        "IPY_MODEL_304ff2459a9e49eabe6f83f3336cc474"
       ],
       "layout": "IPY_MODEL_b27e02841c0d48d0a3a16396f1931995"
      }
     },
     "4c7675f6729a40dfbdca06aa30ff0b73": {
      "model_module": "@jupyter-widgets/base",
      "model_module_version": "1.2.0",
      "model_name": "LayoutModel",
      "state": {}
     },
     "4c7d100fda6b438b8ad725d7e806dbbb": {
      "model_module": "@jupyter-widgets/base",
      "model_module_version": "1.2.0",
      "model_name": "LayoutModel",
      "state": {}
     },
     "4c80c993ffae4195a7a38d40c2128871": {
      "model_module": "@jupyter-widgets/base",
      "model_module_version": "1.2.0",
      "model_name": "LayoutModel",
      "state": {}
     },
     "4cbcd52d13b24b3b98fea7fb7d610867": {
      "model_module": "@jupyter-widgets/base",
      "model_module_version": "1.2.0",
      "model_name": "LayoutModel",
      "state": {}
     },
     "4cd92b249a5249b5bccf8fa18b19dd85": {
      "model_module": "@jupyter-widgets/controls",
      "model_module_version": "1.5.0",
      "model_name": "DescriptionStyleModel",
      "state": {
       "description_width": ""
      }
     },
     "4cdc0c4bb63e4da399d32cc1fc031919": {
      "model_module": "@jupyter-widgets/controls",
      "model_module_version": "1.5.0",
      "model_name": "FloatProgressModel",
      "state": {
       "bar_style": "success",
       "description": "100%",
       "layout": "IPY_MODEL_d030b797873847bc82cd9f95f747797e",
       "max": 30,
       "style": "IPY_MODEL_ffcdd315449441aaa8afd7ca89813e83",
       "value": 30
      }
     },
     "4cdf203f61f34ce796062c24d1cf3127": {
      "model_module": "@jupyter-widgets/controls",
      "model_module_version": "1.5.0",
      "model_name": "HBoxModel",
      "state": {
       "children": [
        "IPY_MODEL_2a433611db1642a0a93076f5c1e47e38",
        "IPY_MODEL_5194da55c6a34053934c0a8ad7e2a0c4"
       ],
       "layout": "IPY_MODEL_a17b212a4adb482a8f0214a71f929ad5"
      }
     },
     "4d1fabf7b4d54e3dafcf099df560721e": {
      "model_module": "@jupyter-widgets/controls",
      "model_module_version": "1.5.0",
      "model_name": "HTMLModel",
      "state": {
       "layout": "IPY_MODEL_b575c0372a634057bee9c364e3b39189",
       "style": "IPY_MODEL_5c5f595df32c4d1f86f8c46f15683a3b",
       "value": " 4/4 [00:01&lt;00:00,  2.68it/s]"
      }
     },
     "4d41093994ed41429f6ae1220eaefa9f": {
      "model_module": "@jupyter-widgets/controls",
      "model_module_version": "1.5.0",
      "model_name": "DescriptionStyleModel",
      "state": {
       "description_width": ""
      }
     },
     "4d4c897ae76244b8a86501caa268ec8c": {
      "model_module": "@jupyter-widgets/base",
      "model_module_version": "1.2.0",
      "model_name": "LayoutModel",
      "state": {}
     },
     "4d66fd4761ad44b6bdba83e9e1cc9907": {
      "model_module": "@jupyter-widgets/controls",
      "model_module_version": "1.5.0",
      "model_name": "ProgressStyleModel",
      "state": {
       "description_width": "initial"
      }
     },
     "4d7557a9aa264917ae89db5525e449a0": {
      "model_module": "@jupyter-widgets/controls",
      "model_module_version": "1.5.0",
      "model_name": "ProgressStyleModel",
      "state": {
       "description_width": "initial"
      }
     },
     "4d9835916f26415ca28fbaf86158d3d7": {
      "model_module": "@jupyter-widgets/controls",
      "model_module_version": "1.5.0",
      "model_name": "HBoxModel",
      "state": {
       "children": [
        "IPY_MODEL_b0d7d0f3f739407a8a7541aa1fd901e0",
        "IPY_MODEL_aab11807474e466ab072878095e866aa"
       ],
       "layout": "IPY_MODEL_82add0c2686448dbaf87af84761ce7bc"
      }
     },
     "4d9b930e6b8e4ea2a501a8e1044d1333": {
      "model_module": "@jupyter-widgets/base",
      "model_module_version": "1.2.0",
      "model_name": "LayoutModel",
      "state": {}
     },
     "4db5a08059d54089be1a083d8206f7e1": {
      "model_module": "@jupyter-widgets/controls",
      "model_module_version": "1.5.0",
      "model_name": "ProgressStyleModel",
      "state": {
       "description_width": "initial"
      }
     },
     "4ded2f6755884064bdc1397f08f9ae49": {
      "model_module": "@jupyter-widgets/base",
      "model_module_version": "1.2.0",
      "model_name": "LayoutModel",
      "state": {}
     },
     "4e3e4c9af59a48cc820ef3b30c6385c6": {
      "model_module": "@jupyter-widgets/controls",
      "model_module_version": "1.5.0",
      "model_name": "DescriptionStyleModel",
      "state": {
       "description_width": ""
      }
     },
     "4e4a589ea707450a92b22e76df620d2b": {
      "model_module": "@jupyter-widgets/base",
      "model_module_version": "1.2.0",
      "model_name": "LayoutModel",
      "state": {}
     },
     "4e577b28202048329ce49d8a72b0f770": {
      "model_module": "@jupyter-widgets/controls",
      "model_module_version": "1.5.0",
      "model_name": "FloatProgressModel",
      "state": {
       "bar_style": "success",
       "description": "100%",
       "layout": "IPY_MODEL_7d8f969f390448ef80b3bd318b8d26b3",
       "max": 30,
       "style": "IPY_MODEL_fef0e5aa6b1649f0849651969cce7793",
       "value": 30
      }
     },
     "4e95c584a6974449a831d74620cd828b": {
      "model_module": "@jupyter-widgets/controls",
      "model_module_version": "1.5.0",
      "model_name": "ProgressStyleModel",
      "state": {
       "description_width": "initial"
      }
     },
     "4ecab56b863f44a1b263285182429937": {
      "model_module": "@jupyter-widgets/base",
      "model_module_version": "1.2.0",
      "model_name": "LayoutModel",
      "state": {}
     },
     "4ed63f16083645ebafb79f574f03e36d": {
      "model_module": "@jupyter-widgets/base",
      "model_module_version": "1.2.0",
      "model_name": "LayoutModel",
      "state": {}
     },
     "4edc5bbdd2c14854801425183264265c": {
      "model_module": "@jupyter-widgets/base",
      "model_module_version": "1.2.0",
      "model_name": "LayoutModel",
      "state": {}
     },
     "4efa8564c2674e858d62ba50f9a8df72": {
      "model_module": "@jupyter-widgets/base",
      "model_module_version": "1.2.0",
      "model_name": "LayoutModel",
      "state": {}
     },
     "4f03b3a21a584ab2b95c8bed176dc92b": {
      "model_module": "@jupyter-widgets/controls",
      "model_module_version": "1.5.0",
      "model_name": "HTMLModel",
      "state": {
       "layout": "IPY_MODEL_cb5c4838a7c6406ba81e8bb3ddfa6c5b",
       "style": "IPY_MODEL_b2992e45d0624e709d2cc77548c53445",
       "value": " 30/30 [00:04&lt;00:00,  6.95it/s]"
      }
     },
     "4f043cccfbe742afbab9f902c76f6f48": {
      "model_module": "@jupyter-widgets/base",
      "model_module_version": "1.2.0",
      "model_name": "LayoutModel",
      "state": {}
     },
     "4f13395e00824c8ca9196ed17b535ecb": {
      "model_module": "@jupyter-widgets/controls",
      "model_module_version": "1.5.0",
      "model_name": "ProgressStyleModel",
      "state": {
       "description_width": "initial"
      }
     },
     "4f1c2667d7a24335a856d42164216f2c": {
      "model_module": "@jupyter-widgets/controls",
      "model_module_version": "1.5.0",
      "model_name": "HTMLModel",
      "state": {
       "layout": "IPY_MODEL_5ba7d5456d304c6391a3138c39eabfc0",
       "style": "IPY_MODEL_3a89fe2705664e14bb08411d7f6ad53e",
       "value": " 30/30 [00:04&lt;00:00,  7.34it/s]"
      }
     },
     "4f1eda19bf714093949d6c03dac2f079": {
      "model_module": "@jupyter-widgets/controls",
      "model_module_version": "1.5.0",
      "model_name": "HTMLModel",
      "state": {
       "layout": "IPY_MODEL_18056c5557bf4cdea063330badedebd9",
       "style": "IPY_MODEL_3d0c7563c9c646318d529334ef00afbb",
       "value": " 30/30 [01:00&lt;00:00,  2.01s/it]"
      }
     },
     "4f6c749d109d45afabf169f2ac587a52": {
      "model_module": "@jupyter-widgets/base",
      "model_module_version": "1.2.0",
      "model_name": "LayoutModel",
      "state": {}
     },
     "4f9b38ca0fc94ff5966ddc1e99aa5e2b": {
      "model_module": "@jupyter-widgets/controls",
      "model_module_version": "1.5.0",
      "model_name": "HBoxModel",
      "state": {
       "children": [
        "IPY_MODEL_b0fbab2fbbba48a6917b6f7b92ef7598",
        "IPY_MODEL_73e7e7d5ee7347b1b3b82881476d652f"
       ],
       "layout": "IPY_MODEL_10a4a050f52547dd9a864af3ef9702d5"
      }
     },
     "4f9d707bd783470c8a0edd1f8c359875": {
      "model_module": "@jupyter-widgets/controls",
      "model_module_version": "1.5.0",
      "model_name": "FloatProgressModel",
      "state": {
       "bar_style": "success",
       "description": "100%",
       "layout": "IPY_MODEL_e5369cf7889942629a433ccb82d7ba5e",
       "max": 4,
       "style": "IPY_MODEL_bd2974db57144d8e901f2634441a96b7",
       "value": 4
      }
     },
     "4fa2eafb49854e5c805933f9890af3d9": {
      "model_module": "@jupyter-widgets/base",
      "model_module_version": "1.2.0",
      "model_name": "LayoutModel",
      "state": {}
     },
     "4fac3c46d3384974bb6c325ddf23f176": {
      "model_module": "@jupyter-widgets/controls",
      "model_module_version": "1.5.0",
      "model_name": "HTMLModel",
      "state": {
       "layout": "IPY_MODEL_44a3925d7c4e41e4960bfa9bf00de13a",
       "style": "IPY_MODEL_6c373e6d2c894c348e592a160facfaf7",
       "value": " 30/30 [00:03&lt;00:00,  7.83it/s]"
      }
     },
     "4fe634fad80642418fca67ec93737b6c": {
      "model_module": "@jupyter-widgets/base",
      "model_module_version": "1.2.0",
      "model_name": "LayoutModel",
      "state": {}
     },
     "5005c42e352a49dfa2409ba229520d9a": {
      "model_module": "@jupyter-widgets/controls",
      "model_module_version": "1.5.0",
      "model_name": "HBoxModel",
      "state": {
       "children": [
        "IPY_MODEL_8926759baa794c1eb5ca9cc3e9c9ae0e",
        "IPY_MODEL_7487a1f70b344b32b87f9bd0e74aca92"
       ],
       "layout": "IPY_MODEL_c70a936a82f549969772d031996ad3de"
      }
     },
     "501041624d7f420bbbc4885ea7bcb7a1": {
      "model_module": "@jupyter-widgets/base",
      "model_module_version": "1.2.0",
      "model_name": "LayoutModel",
      "state": {}
     },
     "5047674892304a4fa4c6bf83799609b0": {
      "model_module": "@jupyter-widgets/controls",
      "model_module_version": "1.5.0",
      "model_name": "HTMLModel",
      "state": {
       "layout": "IPY_MODEL_6fe1e4da094442f58f4eaf630ba13292",
       "style": "IPY_MODEL_764a43b16a8c4d3987c7a84c636b4c1c",
       "value": " 30/30 [00:03&lt;00:00,  8.29it/s]"
      }
     },
     "5049ff76675f4433afd66711bb9f377c": {
      "model_module": "@jupyter-widgets/controls",
      "model_module_version": "1.5.0",
      "model_name": "DescriptionStyleModel",
      "state": {
       "description_width": ""
      }
     },
     "504d91339d5946ce99b2636404c9d342": {
      "model_module": "@jupyter-widgets/controls",
      "model_module_version": "1.5.0",
      "model_name": "HBoxModel",
      "state": {
       "children": [
        "IPY_MODEL_7024ead6a3e54b4f98c0c0cb9d00dd96",
        "IPY_MODEL_978b164856364b77909cb34d5f501aa5"
       ],
       "layout": "IPY_MODEL_16a4284333d34b6da4bdefff8a8f148a"
      }
     },
     "50789f4e0dea42aaa58ad676498a9d7e": {
      "model_module": "@jupyter-widgets/controls",
      "model_module_version": "1.5.0",
      "model_name": "FloatProgressModel",
      "state": {
       "bar_style": "success",
       "description": "100%",
       "layout": "IPY_MODEL_0902c5e9a347482dac1afd5daf1bdd20",
       "max": 30,
       "style": "IPY_MODEL_380219ceaf164a44a9e59a933985233e",
       "value": 30
      }
     },
     "509880786d004795958061e87e48765b": {
      "model_module": "@jupyter-widgets/controls",
      "model_module_version": "1.5.0",
      "model_name": "FloatProgressModel",
      "state": {
       "bar_style": "success",
       "description": "100%",
       "layout": "IPY_MODEL_152a78e635184efdac106d1ecd16897c",
       "max": 30,
       "style": "IPY_MODEL_1674ea86612845c5877f267846e6974e",
       "value": 30
      }
     },
     "50d8065dd8354b08a0678e290b8dd4b3": {
      "model_module": "@jupyter-widgets/base",
      "model_module_version": "1.2.0",
      "model_name": "LayoutModel",
      "state": {}
     },
     "5113e265ac1e43cb89b5383e519df573": {
      "model_module": "@jupyter-widgets/base",
      "model_module_version": "1.2.0",
      "model_name": "LayoutModel",
      "state": {}
     },
     "511a1af490df4903ae81b5333decdba1": {
      "model_module": "@jupyter-widgets/controls",
      "model_module_version": "1.5.0",
      "model_name": "HTMLModel",
      "state": {
       "layout": "IPY_MODEL_82ac25045c7445c6aaf04343f189c9b7",
       "style": "IPY_MODEL_5410bd685b2146278629be85d66c048a",
       "value": " 4/4 [00:01&lt;00:00,  2.46it/s]"
      }
     },
     "512af2a88a314be092a53246fd5cbfb9": {
      "model_module": "@jupyter-widgets/base",
      "model_module_version": "1.2.0",
      "model_name": "LayoutModel",
      "state": {}
     },
     "5143d84e8af44b319e7115633c54e98a": {
      "model_module": "@jupyter-widgets/base",
      "model_module_version": "1.2.0",
      "model_name": "LayoutModel",
      "state": {}
     },
     "5194da55c6a34053934c0a8ad7e2a0c4": {
      "model_module": "@jupyter-widgets/controls",
      "model_module_version": "1.5.0",
      "model_name": "HTMLModel",
      "state": {
       "layout": "IPY_MODEL_a13df71d10a94a7f89fd472dbc56f922",
       "style": "IPY_MODEL_0a5a0bb7d1b04dce851e73abbd93e69f",
       "value": " 4/4 [00:00&lt;00:00,  9.80it/s]"
      }
     },
     "51bb51a4da0f451b884bc6fbbae86663": {
      "model_module": "@jupyter-widgets/controls",
      "model_module_version": "1.5.0",
      "model_name": "HBoxModel",
      "state": {
       "children": [
        "IPY_MODEL_58f829a8b4a84d07bef15b794b72de22",
        "IPY_MODEL_2f3cc50fa3e741d5b08c513208d3f6b7"
       ],
       "layout": "IPY_MODEL_dd8bc092c7524f14961df575c5c8bf98"
      }
     },
     "51c12613f65048e4a347d24fd1fdd571": {
      "model_module": "@jupyter-widgets/controls",
      "model_module_version": "1.5.0",
      "model_name": "HBoxModel",
      "state": {
       "children": [
        "IPY_MODEL_24a9959aa7f340b9a2fa3dd0b56b7665",
        "IPY_MODEL_2d2e63992c9e4e9c820899092f621c98"
       ],
       "layout": "IPY_MODEL_9c7860d3ad634444bcb9ab6fe43a49bf"
      }
     },
     "51e6ef8e82f847b78fb48eb7f8c69dde": {
      "model_module": "@jupyter-widgets/controls",
      "model_module_version": "1.5.0",
      "model_name": "HBoxModel",
      "state": {
       "children": [
        "IPY_MODEL_2cde6605b09c43ef8ebdd6639d2757da",
        "IPY_MODEL_025a6ae679f04f39af1fd0f94fe3aba4"
       ],
       "layout": "IPY_MODEL_6e0c7d8973ef4425b1ab879af45c4b82"
      }
     },
     "51f08c7fed8040ed83162b3f77f4af55": {
      "model_module": "@jupyter-widgets/base",
      "model_module_version": "1.2.0",
      "model_name": "LayoutModel",
      "state": {}
     },
     "5219f3b8c78a4b6caef5a5869f965b6e": {
      "model_module": "@jupyter-widgets/base",
      "model_module_version": "1.2.0",
      "model_name": "LayoutModel",
      "state": {}
     },
     "5228a717ffa145769b94d669a77959e4": {
      "model_module": "@jupyter-widgets/base",
      "model_module_version": "1.2.0",
      "model_name": "LayoutModel",
      "state": {}
     },
     "5231674392114c8cb7ea23493322ab4a": {
      "model_module": "@jupyter-widgets/base",
      "model_module_version": "1.2.0",
      "model_name": "LayoutModel",
      "state": {}
     },
     "52376650e55646d9a3988f290e04746f": {
      "model_module": "@jupyter-widgets/base",
      "model_module_version": "1.2.0",
      "model_name": "LayoutModel",
      "state": {}
     },
     "52710d73932e49729412017090188d20": {
      "model_module": "@jupyter-widgets/controls",
      "model_module_version": "1.5.0",
      "model_name": "FloatProgressModel",
      "state": {
       "bar_style": "success",
       "description": "100%",
       "layout": "IPY_MODEL_5143d84e8af44b319e7115633c54e98a",
       "max": 30,
       "style": "IPY_MODEL_2379776ef12244ab87eb55b28f4fbcdb",
       "value": 30
      }
     },
     "527400958e824f3caa07371eb9786e66": {
      "model_module": "@jupyter-widgets/controls",
      "model_module_version": "1.5.0",
      "model_name": "HBoxModel",
      "state": {
       "children": [
        "IPY_MODEL_814d56351e9c4d3a93ea371678aecd01",
        "IPY_MODEL_1a2d124224744a938bff09cc5d63bcae"
       ],
       "layout": "IPY_MODEL_f054f75d3c6243cb9c6fe9518dd39b94"
      }
     },
     "529d763823f04bb68a49135399182cc6": {
      "model_module": "@jupyter-widgets/controls",
      "model_module_version": "1.5.0",
      "model_name": "DescriptionStyleModel",
      "state": {
       "description_width": ""
      }
     },
     "52b7a687336745da9ec090f95700a8f1": {
      "model_module": "@jupyter-widgets/controls",
      "model_module_version": "1.5.0",
      "model_name": "HTMLModel",
      "state": {
       "layout": "IPY_MODEL_e51fdc86d8d1424a902937d5ee00e4f6",
       "style": "IPY_MODEL_41caced32e7c47a4918585b2b48411fb",
       "value": " 4/4 [00:00&lt;00:00,  9.18it/s]"
      }
     },
     "52c1238871e74fa5a8b72ce614745d6d": {
      "model_module": "@jupyter-widgets/controls",
      "model_module_version": "1.5.0",
      "model_name": "HTMLModel",
      "state": {
       "layout": "IPY_MODEL_d201126d70e7470390b34b7bd6556674",
       "style": "IPY_MODEL_42181e2afd8c4745bc471d0bc9b1584f",
       "value": " 30/30 [00:04&lt;00:00,  7.04it/s]"
      }
     },
     "52d0edbe65a343f8b1ca57c645d29960": {
      "model_module": "@jupyter-widgets/controls",
      "model_module_version": "1.5.0",
      "model_name": "DescriptionStyleModel",
      "state": {
       "description_width": ""
      }
     },
     "530acfc2938b4b1fb9baa245718ec0ec": {
      "model_module": "@jupyter-widgets/controls",
      "model_module_version": "1.5.0",
      "model_name": "DescriptionStyleModel",
      "state": {
       "description_width": ""
      }
     },
     "537aa04b73124f11bc531d8c7fc19227": {
      "model_module": "@jupyter-widgets/controls",
      "model_module_version": "1.5.0",
      "model_name": "FloatProgressModel",
      "state": {
       "bar_style": "success",
       "description": "100%",
       "layout": "IPY_MODEL_970837f1b108404684cc8349dce2af57",
       "max": 4,
       "style": "IPY_MODEL_f8f766cc99f5433b8c6e2ad7f9247659",
       "value": 4
      }
     },
     "537d59fb9bf644e1a6b5a1c214f74e74": {
      "model_module": "@jupyter-widgets/controls",
      "model_module_version": "1.5.0",
      "model_name": "FloatProgressModel",
      "state": {
       "bar_style": "success",
       "description": "100%",
       "layout": "IPY_MODEL_6155a397beac4e2f8a6670a92b194c1e",
       "max": 30,
       "style": "IPY_MODEL_029150b7edb148a88c82f78f3a44dfce",
       "value": 30
      }
     },
     "53f67fea8707451b80fa98e87c804953": {
      "model_module": "@jupyter-widgets/controls",
      "model_module_version": "1.5.0",
      "model_name": "HBoxModel",
      "state": {
       "children": [
        "IPY_MODEL_2f9c4357e34849a7a9b2f811331a2ebc",
        "IPY_MODEL_4d1fabf7b4d54e3dafcf099df560721e"
       ],
       "layout": "IPY_MODEL_cc24e43492dc4fb4a0166b78492874cc"
      }
     },
     "540c46e1b0ba459db113cb94c3dcd0c3": {
      "model_module": "@jupyter-widgets/base",
      "model_module_version": "1.2.0",
      "model_name": "LayoutModel",
      "state": {}
     },
     "5410bd685b2146278629be85d66c048a": {
      "model_module": "@jupyter-widgets/controls",
      "model_module_version": "1.5.0",
      "model_name": "DescriptionStyleModel",
      "state": {
       "description_width": ""
      }
     },
     "5422400ffab8459da05637be19a082aa": {
      "model_module": "@jupyter-widgets/base",
      "model_module_version": "1.2.0",
      "model_name": "LayoutModel",
      "state": {}
     },
     "5430c5f681164d898717bcf0e2d9e7c1": {
      "model_module": "@jupyter-widgets/controls",
      "model_module_version": "1.5.0",
      "model_name": "DescriptionStyleModel",
      "state": {
       "description_width": ""
      }
     },
     "543ea0ded38747bd8f431d7fd20351cf": {
      "model_module": "@jupyter-widgets/controls",
      "model_module_version": "1.5.0",
      "model_name": "HBoxModel",
      "state": {
       "children": [
        "IPY_MODEL_828fb722403e4ce59dce37f75d8e8a42",
        "IPY_MODEL_ba5aeaa31a9e48769de5a04792251f30"
       ],
       "layout": "IPY_MODEL_8ffd3a025edc43169af1c29481de5766"
      }
     },
     "54505c7a4410483a91117f75b47eb7c8": {
      "model_module": "@jupyter-widgets/controls",
      "model_module_version": "1.5.0",
      "model_name": "HTMLModel",
      "state": {
       "layout": "IPY_MODEL_c7abb6407cbe4ebca66b655e4b55b4a2",
       "style": "IPY_MODEL_abcb5e1f485c4f0ebbaf4efb114f0a75",
       "value": " 30/30 [00:11&lt;00:00,  2.61it/s]"
      }
     },
     "5467d8e3a6a446c38681b4ac9f206d98": {
      "model_module": "@jupyter-widgets/controls",
      "model_module_version": "1.5.0",
      "model_name": "HTMLModel",
      "state": {
       "layout": "IPY_MODEL_49a336f468a9432e9bc1014506baa41b",
       "style": "IPY_MODEL_7dd85a347988433d8ba04925995ff255",
       "value": " 30/30 [00:57&lt;00:00,  1.92s/it]"
      }
     },
     "54831b1ed3e84eff90100426b52383d3": {
      "model_module": "@jupyter-widgets/base",
      "model_module_version": "1.2.0",
      "model_name": "LayoutModel",
      "state": {}
     },
     "54c7f422f0ef4ccdac06f17d280c6634": {
      "model_module": "@jupyter-widgets/controls",
      "model_module_version": "1.5.0",
      "model_name": "ProgressStyleModel",
      "state": {
       "description_width": "initial"
      }
     },
     "5524ec744c5b4c2fa3c78a63200d0201": {
      "model_module": "@jupyter-widgets/controls",
      "model_module_version": "1.5.0",
      "model_name": "HTMLModel",
      "state": {
       "layout": "IPY_MODEL_9b60ee72df714793961056593ffda86b",
       "style": "IPY_MODEL_afb8837611874f05b03d6402b4a8f1fa",
       "value": " 30/30 [00:04&lt;00:00,  7.34it/s]"
      }
     },
     "55255021bae14733a8a5de4dfc606548": {
      "model_module": "@jupyter-widgets/controls",
      "model_module_version": "1.5.0",
      "model_name": "HTMLModel",
      "state": {
       "layout": "IPY_MODEL_46eed79dcfd6451bb35dce76cf1d67bd",
       "style": "IPY_MODEL_243927a243764d65b5bbea00e6697b9f",
       "value": " 30/30 [00:30&lt;00:00,  1.01s/it]"
      }
     },
     "5591e024a98c4e66bf4af1e2c59eacfb": {
      "model_module": "@jupyter-widgets/controls",
      "model_module_version": "1.5.0",
      "model_name": "ProgressStyleModel",
      "state": {
       "description_width": "initial"
      }
     },
     "55fda7e2d9434ee3ad4d0ee439fd3086": {
      "model_module": "@jupyter-widgets/controls",
      "model_module_version": "1.5.0",
      "model_name": "FloatProgressModel",
      "state": {
       "bar_style": "success",
       "description": "100%",
       "layout": "IPY_MODEL_42b48940bdd94427b1ab00c8395daabf",
       "max": 4,
       "style": "IPY_MODEL_914f934d07754235a5aa275f58a7a8e5",
       "value": 4
      }
     },
     "561298458238445689d812b25aa660b5": {
      "model_module": "@jupyter-widgets/controls",
      "model_module_version": "1.5.0",
      "model_name": "HBoxModel",
      "state": {
       "children": [
        "IPY_MODEL_72c6325157fd48cf9c59c87726f02adb",
        "IPY_MODEL_fba227cc644849e99fd0979ad1b4116c"
       ],
       "layout": "IPY_MODEL_4edc5bbdd2c14854801425183264265c"
      }
     },
     "5619217bc11f450b92148c1bc4f64624": {
      "model_module": "@jupyter-widgets/controls",
      "model_module_version": "1.5.0",
      "model_name": "HBoxModel",
      "state": {
       "children": [
        "IPY_MODEL_aeec9e509257423d88083954d29c94cd",
        "IPY_MODEL_8943d0586cca48379af4e6dc87280989"
       ],
       "layout": "IPY_MODEL_5d1bc0cc7e5445e1ac03496ff9b8326e"
      }
     },
     "56263cd8ef3845d6a49475ca650e98da": {
      "model_module": "@jupyter-widgets/controls",
      "model_module_version": "1.5.0",
      "model_name": "HBoxModel",
      "state": {
       "children": [
        "IPY_MODEL_0b6c01af7c304618b92be1f7bbfec641",
        "IPY_MODEL_5e89318889f84971b9204b288d76f8db"
       ],
       "layout": "IPY_MODEL_3e2a23c120174c2694cf22e64f702457"
      }
     },
     "567f619b7cdd423991769cded40e2780": {
      "model_module": "@jupyter-widgets/controls",
      "model_module_version": "1.5.0",
      "model_name": "HBoxModel",
      "state": {
       "children": [
        "IPY_MODEL_151ccec22dd447589ac9a95a92a46f1a",
        "IPY_MODEL_1cb3ab13ca834bf7bdcaa4c32dd0a408"
       ],
       "layout": "IPY_MODEL_d78a86e9faad46aeb3da359c4000fadd"
      }
     },
     "568baf3084a5468a98c14453b5863a30": {
      "model_module": "@jupyter-widgets/controls",
      "model_module_version": "1.5.0",
      "model_name": "HBoxModel",
      "state": {
       "children": [
        "IPY_MODEL_0230ad1e1a3340dab96f7f4225614680",
        "IPY_MODEL_3d7c545eff144307806b7b3881fab1d4"
       ],
       "layout": "IPY_MODEL_b88e0a2711c14e00abece8ec955e478f"
      }
     },
     "56c0b4e212334700aa74ad651d055029": {
      "model_module": "@jupyter-widgets/controls",
      "model_module_version": "1.5.0",
      "model_name": "HBoxModel",
      "state": {
       "children": [
        "IPY_MODEL_fa9e661ee66f4c1da4f040e21cc3c31a",
        "IPY_MODEL_b084f9311a504f6d905a4743d915d340"
       ],
       "layout": "IPY_MODEL_ca82afeb9d034ff4a363c8ccae207c60"
      }
     },
     "56d16d4ba67d467ea6666e974ee8a70d": {
      "model_module": "@jupyter-widgets/base",
      "model_module_version": "1.2.0",
      "model_name": "LayoutModel",
      "state": {}
     },
     "5705bc5b071c4669bbb9ef9f78ced5fa": {
      "model_module": "@jupyter-widgets/controls",
      "model_module_version": "1.5.0",
      "model_name": "ProgressStyleModel",
      "state": {
       "description_width": "initial"
      }
     },
     "572e3bbf6f094b338f0f1e6d954ce059": {
      "model_module": "@jupyter-widgets/base",
      "model_module_version": "1.2.0",
      "model_name": "LayoutModel",
      "state": {}
     },
     "5732171c2bc647be8b208450c44c002d": {
      "model_module": "@jupyter-widgets/base",
      "model_module_version": "1.2.0",
      "model_name": "LayoutModel",
      "state": {}
     },
     "57589196c0f14269a88a18349cd77426": {
      "model_module": "@jupyter-widgets/controls",
      "model_module_version": "1.5.0",
      "model_name": "HBoxModel",
      "state": {
       "children": [
        "IPY_MODEL_1eededee73cd49358ee12d1976aa8b17",
        "IPY_MODEL_4f1c2667d7a24335a856d42164216f2c"
       ],
       "layout": "IPY_MODEL_e55300d9eda44a078b146cf181d3e9d9"
      }
     },
     "5771d87b5dec4345b2f116f650051b37": {
      "model_module": "@jupyter-widgets/controls",
      "model_module_version": "1.5.0",
      "model_name": "ProgressStyleModel",
      "state": {
       "description_width": "initial"
      }
     },
     "578b0d64f97049aaafd7f9f21ca20ad4": {
      "model_module": "@jupyter-widgets/controls",
      "model_module_version": "1.5.0",
      "model_name": "ProgressStyleModel",
      "state": {
       "description_width": "initial"
      }
     },
     "57d458ec2e8946bcb9660bbe89a8f083": {
      "model_module": "@jupyter-widgets/controls",
      "model_module_version": "1.5.0",
      "model_name": "ProgressStyleModel",
      "state": {
       "description_width": "initial"
      }
     },
     "5803d893212b4c13962f4e1b6b6c8931": {
      "model_module": "@jupyter-widgets/controls",
      "model_module_version": "1.5.0",
      "model_name": "FloatProgressModel",
      "state": {
       "bar_style": "success",
       "description": "100%",
       "layout": "IPY_MODEL_e9237c37916b4511806ad99fb0042522",
       "max": 4,
       "style": "IPY_MODEL_954ffd287af34926bca8ce1d336a157c",
       "value": 4
      }
     },
     "581a3e3697944bc0a0dbc8440e5bb280": {
      "model_module": "@jupyter-widgets/base",
      "model_module_version": "1.2.0",
      "model_name": "LayoutModel",
      "state": {}
     },
     "581a72500f63443eaf3a55f73c2702e2": {
      "model_module": "@jupyter-widgets/base",
      "model_module_version": "1.2.0",
      "model_name": "LayoutModel",
      "state": {}
     },
     "5831ccc233734f8b93e4c09e0c03c116": {
      "model_module": "@jupyter-widgets/base",
      "model_module_version": "1.2.0",
      "model_name": "LayoutModel",
      "state": {}
     },
     "584ac45e8f0e40f18adab2db3d094fa1": {
      "model_module": "@jupyter-widgets/base",
      "model_module_version": "1.2.0",
      "model_name": "LayoutModel",
      "state": {}
     },
     "586c9f3ce65b4161a3cac3121e83c563": {
      "model_module": "@jupyter-widgets/controls",
      "model_module_version": "1.5.0",
      "model_name": "FloatProgressModel",
      "state": {
       "bar_style": "success",
       "description": "100%",
       "layout": "IPY_MODEL_99b5cb2fe2a44606aa6fd06e31dfb464",
       "max": 4,
       "style": "IPY_MODEL_0a154d5886c4495ba2b22a1948faadae",
       "value": 4
      }
     },
     "587f5ba6c99e4a08bc314faeed91b135": {
      "model_module": "@jupyter-widgets/controls",
      "model_module_version": "1.5.0",
      "model_name": "FloatProgressModel",
      "state": {
       "bar_style": "success",
       "description": "100%",
       "layout": "IPY_MODEL_ad3fe572cca94afbb8517e7a300ad2e5",
       "max": 4,
       "style": "IPY_MODEL_225c18e20a77400385b71c26128bb2d2",
       "value": 4
      }
     },
     "58a7e411857c4517ad9a107dd0e310f4": {
      "model_module": "@jupyter-widgets/controls",
      "model_module_version": "1.5.0",
      "model_name": "DescriptionStyleModel",
      "state": {
       "description_width": ""
      }
     },
     "58db951e10dd47ba9e8a5cd7162e335c": {
      "model_module": "@jupyter-widgets/base",
      "model_module_version": "1.2.0",
      "model_name": "LayoutModel",
      "state": {}
     },
     "58f4bcfda007432a92435b4ccb836b0b": {
      "model_module": "@jupyter-widgets/controls",
      "model_module_version": "1.5.0",
      "model_name": "DescriptionStyleModel",
      "state": {
       "description_width": ""
      }
     },
     "58f829a8b4a84d07bef15b794b72de22": {
      "model_module": "@jupyter-widgets/controls",
      "model_module_version": "1.5.0",
      "model_name": "FloatProgressModel",
      "state": {
       "bar_style": "success",
       "description": "100%",
       "layout": "IPY_MODEL_3070ef2c6db740d19bef6debdf5622e4",
       "max": 4,
       "style": "IPY_MODEL_fca992242e0242cda4803877e26d2b58",
       "value": 4
      }
     },
     "58fb9835e74144df81c69bbe13ac9a8b": {
      "model_module": "@jupyter-widgets/controls",
      "model_module_version": "1.5.0",
      "model_name": "HBoxModel",
      "state": {
       "children": [
        "IPY_MODEL_beed6050184646f3acc7bf0d9845658d",
        "IPY_MODEL_b43c292c561c40d2bb6751448469ac4d"
       ],
       "layout": "IPY_MODEL_ef715a73cfd34c1d8d7fed07786dce0b"
      }
     },
     "5920f6ef5935487bbd237d4cfb215190": {
      "model_module": "@jupyter-widgets/controls",
      "model_module_version": "1.5.0",
      "model_name": "DescriptionStyleModel",
      "state": {
       "description_width": ""
      }
     },
     "592584fc7f864b11a2a38d3dc8b85a66": {
      "model_module": "@jupyter-widgets/controls",
      "model_module_version": "1.5.0",
      "model_name": "FloatProgressModel",
      "state": {
       "bar_style": "success",
       "description": "100%",
       "layout": "IPY_MODEL_ffab6af87f36456b93732d586a9193e6",
       "max": 30,
       "style": "IPY_MODEL_8d45b01bfe4d4ff7a87055b0f6e27fd3",
       "value": 30
      }
     },
     "595029fb164a4044b99b5625b23ccbd7": {
      "model_module": "@jupyter-widgets/controls",
      "model_module_version": "1.5.0",
      "model_name": "DescriptionStyleModel",
      "state": {
       "description_width": ""
      }
     },
     "59522ffa5b83482d879cc5256261b592": {
      "model_module": "@jupyter-widgets/controls",
      "model_module_version": "1.5.0",
      "model_name": "DescriptionStyleModel",
      "state": {
       "description_width": ""
      }
     },
     "59b7e6a869fa47389d0a473fe39fe85d": {
      "model_module": "@jupyter-widgets/controls",
      "model_module_version": "1.5.0",
      "model_name": "HBoxModel",
      "state": {
       "children": [
        "IPY_MODEL_76852c69b86748b581dab473394c87dd",
        "IPY_MODEL_196d363641bc4cef8556fd20bca275d7"
       ],
       "layout": "IPY_MODEL_925528a78b804dca89c42c8161e4b4ce"
      }
     },
     "59d2c33ee9a141edb19dc7ef275f6685": {
      "model_module": "@jupyter-widgets/controls",
      "model_module_version": "1.5.0",
      "model_name": "ProgressStyleModel",
      "state": {
       "description_width": "initial"
      }
     },
     "59f0a6b44b5e471ba63f374e82923741": {
      "model_module": "@jupyter-widgets/controls",
      "model_module_version": "1.5.0",
      "model_name": "HBoxModel",
      "state": {
       "children": [
        "IPY_MODEL_f7741792d1f24a14bb8496630174c5fc",
        "IPY_MODEL_9cfa5f8dc4bc4af19a1e9d9d4f0e14bf"
       ],
       "layout": "IPY_MODEL_0dd2fb2762b248d0918c39714a3594da"
      }
     },
     "5a21dc720b314e7e90e999ead79dad3b": {
      "model_module": "@jupyter-widgets/controls",
      "model_module_version": "1.5.0",
      "model_name": "FloatProgressModel",
      "state": {
       "bar_style": "success",
       "description": "100%",
       "layout": "IPY_MODEL_d6aa8be14f954c6cbc2720c9663834b4",
       "max": 4,
       "style": "IPY_MODEL_305e94fcf83e47d2a6d43a04eac28002",
       "value": 4
      }
     },
     "5a3a90946af845ca93211fd7958c4cb2": {
      "model_module": "@jupyter-widgets/base",
      "model_module_version": "1.2.0",
      "model_name": "LayoutModel",
      "state": {}
     },
     "5a41019c9b57414687a2bc28b633f446": {
      "model_module": "@jupyter-widgets/controls",
      "model_module_version": "1.5.0",
      "model_name": "DescriptionStyleModel",
      "state": {
       "description_width": ""
      }
     },
     "5a5d4f61dd534b248cf84403626c4156": {
      "model_module": "@jupyter-widgets/controls",
      "model_module_version": "1.5.0",
      "model_name": "HBoxModel",
      "state": {
       "children": [
        "IPY_MODEL_939a6048a69f41d198c1501b425296fb",
        "IPY_MODEL_2f2b2b2a3d92419a86da5bad15046bdf"
       ],
       "layout": "IPY_MODEL_998b75cd3e9e43eb9e00a2ca9b1a1d55"
      }
     },
     "5a70d8193b0242898263eb7225ba5883": {
      "model_module": "@jupyter-widgets/base",
      "model_module_version": "1.2.0",
      "model_name": "LayoutModel",
      "state": {}
     },
     "5a73de04395f4bc08edfc4f90b18d409": {
      "model_module": "@jupyter-widgets/controls",
      "model_module_version": "1.5.0",
      "model_name": "FloatProgressModel",
      "state": {
       "bar_style": "success",
       "description": "100%",
       "layout": "IPY_MODEL_f7a6cf48ec0b487e9309bd65da6c8bb2",
       "max": 4,
       "style": "IPY_MODEL_839b6d5a3c854d5fbfdaaabd4db7a167",
       "value": 4
      }
     },
     "5aacc77ee8c141e5bd4f750dd82c12c2": {
      "model_module": "@jupyter-widgets/controls",
      "model_module_version": "1.5.0",
      "model_name": "HTMLModel",
      "state": {
       "layout": "IPY_MODEL_2549a85c4bcd4665965fc562ed3b3bcb",
       "style": "IPY_MODEL_bbcf0dea5c3745c1b66cab93ffc49e8b",
       "value": " 4/4 [00:04&lt;00:00,  1.10s/it]"
      }
     },
     "5af267ff17654286af7522bf7b0be6ff": {
      "model_module": "@jupyter-widgets/controls",
      "model_module_version": "1.5.0",
      "model_name": "HTMLModel",
      "state": {
       "layout": "IPY_MODEL_5422400ffab8459da05637be19a082aa",
       "style": "IPY_MODEL_5c9f1fa2c995472aa33df243770dd740",
       "value": " 30/30 [00:04&lt;00:00,  6.76it/s]"
      }
     },
     "5b47625046b240529fed32cdfa84546d": {
      "model_module": "@jupyter-widgets/controls",
      "model_module_version": "1.5.0",
      "model_name": "DescriptionStyleModel",
      "state": {
       "description_width": ""
      }
     },
     "5ba7d5456d304c6391a3138c39eabfc0": {
      "model_module": "@jupyter-widgets/base",
      "model_module_version": "1.2.0",
      "model_name": "LayoutModel",
      "state": {}
     },
     "5bbb3a4484344f7ab6b0241f7f6fab0a": {
      "model_module": "@jupyter-widgets/controls",
      "model_module_version": "1.5.0",
      "model_name": "HTMLModel",
      "state": {
       "layout": "IPY_MODEL_148153e0f59147468668389dc7c8f2eb",
       "style": "IPY_MODEL_6d5b98ce0ecc48c68571b3087e5d2030",
       "value": " 4/4 [00:26&lt;00:00,  6.71s/it]"
      }
     },
     "5bc1ff6ec7ee4733827fb66b065b31f0": {
      "model_module": "@jupyter-widgets/controls",
      "model_module_version": "1.5.0",
      "model_name": "ProgressStyleModel",
      "state": {
       "description_width": "initial"
      }
     },
     "5c00673b947a437ca87a2b93cc89362c": {
      "model_module": "@jupyter-widgets/base",
      "model_module_version": "1.2.0",
      "model_name": "LayoutModel",
      "state": {}
     },
     "5c325d5f6ae845efb31dda2ad3753712": {
      "model_module": "@jupyter-widgets/controls",
      "model_module_version": "1.5.0",
      "model_name": "FloatProgressModel",
      "state": {
       "bar_style": "success",
       "description": "100%",
       "layout": "IPY_MODEL_50d8065dd8354b08a0678e290b8dd4b3",
       "max": 30,
       "style": "IPY_MODEL_5705bc5b071c4669bbb9ef9f78ced5fa",
       "value": 30
      }
     },
     "5c574432614044e09e26a10d414d59cc": {
      "model_module": "@jupyter-widgets/controls",
      "model_module_version": "1.5.0",
      "model_name": "DescriptionStyleModel",
      "state": {
       "description_width": ""
      }
     },
     "5c5f595df32c4d1f86f8c46f15683a3b": {
      "model_module": "@jupyter-widgets/controls",
      "model_module_version": "1.5.0",
      "model_name": "DescriptionStyleModel",
      "state": {
       "description_width": ""
      }
     },
     "5c9f1fa2c995472aa33df243770dd740": {
      "model_module": "@jupyter-widgets/controls",
      "model_module_version": "1.5.0",
      "model_name": "DescriptionStyleModel",
      "state": {
       "description_width": ""
      }
     },
     "5cc47998acf8431c81ba76c52085e343": {
      "model_module": "@jupyter-widgets/base",
      "model_module_version": "1.2.0",
      "model_name": "LayoutModel",
      "state": {}
     },
     "5cd6c438a3ab47808d90c21d9f9daaa0": {
      "model_module": "@jupyter-widgets/controls",
      "model_module_version": "1.5.0",
      "model_name": "HTMLModel",
      "state": {
       "layout": "IPY_MODEL_77b392c76e4740498e541ee6a9bd4385",
       "style": "IPY_MODEL_f23aa33e91814304a391c3f38c86cc8e",
       "value": " 30/30 [00:12&lt;00:00,  2.36it/s]"
      }
     },
     "5cf42d8a587642ebad1766034cef61d6": {
      "model_module": "@jupyter-widgets/controls",
      "model_module_version": "1.5.0",
      "model_name": "DescriptionStyleModel",
      "state": {
       "description_width": ""
      }
     },
     "5d1bc0cc7e5445e1ac03496ff9b8326e": {
      "model_module": "@jupyter-widgets/base",
      "model_module_version": "1.2.0",
      "model_name": "LayoutModel",
      "state": {}
     },
     "5d55435cfc5b47849f0b2a386d021ee6": {
      "model_module": "@jupyter-widgets/controls",
      "model_module_version": "1.5.0",
      "model_name": "ProgressStyleModel",
      "state": {
       "description_width": "initial"
      }
     },
     "5d5643e046db4c668b6daae79e86542d": {
      "model_module": "@jupyter-widgets/controls",
      "model_module_version": "1.5.0",
      "model_name": "ProgressStyleModel",
      "state": {
       "description_width": "initial"
      }
     },
     "5d654777a4e749a5aefb40b0ed1eded3": {
      "model_module": "@jupyter-widgets/base",
      "model_module_version": "1.2.0",
      "model_name": "LayoutModel",
      "state": {}
     },
     "5d8b4246747c4bd9b36d5faf71c2c6d7": {
      "model_module": "@jupyter-widgets/controls",
      "model_module_version": "1.5.0",
      "model_name": "HTMLModel",
      "state": {
       "layout": "IPY_MODEL_fddb9e44159747a5930f0be7dc765f75",
       "style": "IPY_MODEL_1ed398e79be74c429b1e66ddc47d9063",
       "value": " 4/4 [00:04&lt;00:00,  1.10s/it]"
      }
     },
     "5dc4d0344945486e97c8e4e15089ad40": {
      "model_module": "@jupyter-widgets/base",
      "model_module_version": "1.2.0",
      "model_name": "LayoutModel",
      "state": {}
     },
     "5e2698196f714397953feda5a0a0f7e2": {
      "model_module": "@jupyter-widgets/base",
      "model_module_version": "1.2.0",
      "model_name": "LayoutModel",
      "state": {}
     },
     "5e870a9c30a8445ba9f3757adb2530fa": {
      "model_module": "@jupyter-widgets/controls",
      "model_module_version": "1.5.0",
      "model_name": "ProgressStyleModel",
      "state": {
       "description_width": "initial"
      }
     },
     "5e89318889f84971b9204b288d76f8db": {
      "model_module": "@jupyter-widgets/controls",
      "model_module_version": "1.5.0",
      "model_name": "HTMLModel",
      "state": {
       "layout": "IPY_MODEL_cd23235a7bcc4174b71515cbf2b493dd",
       "style": "IPY_MODEL_e01d1e7f1a3d438791cf5db35550a189",
       "value": " 30/30 [00:04&lt;00:00,  7.36it/s]"
      }
     },
     "5e8d0f0f2bb04d14a908e98282b55caf": {
      "model_module": "@jupyter-widgets/controls",
      "model_module_version": "1.5.0",
      "model_name": "FloatProgressModel",
      "state": {
       "bar_style": "success",
       "description": "100%",
       "layout": "IPY_MODEL_3607126bfa0547beb63b8d11a161dab7",
       "max": 30,
       "style": "IPY_MODEL_a1968a10f1d5423f94e1ba5faaf0cdd5",
       "value": 30
      }
     },
     "5ea5f5f66726455fb9f7b9f471fdb936": {
      "model_module": "@jupyter-widgets/base",
      "model_module_version": "1.2.0",
      "model_name": "LayoutModel",
      "state": {}
     },
     "5ef061f97e8a422a9262b75c1b62ca56": {
      "model_module": "@jupyter-widgets/controls",
      "model_module_version": "1.5.0",
      "model_name": "ProgressStyleModel",
      "state": {
       "description_width": "initial"
      }
     },
     "5f0f1f20ba3147fe85e53cc1195d5fd5": {
      "model_module": "@jupyter-widgets/controls",
      "model_module_version": "1.5.0",
      "model_name": "FloatProgressModel",
      "state": {
       "bar_style": "success",
       "description": "100%",
       "layout": "IPY_MODEL_e731711fa7e74d7f8bb8f573a432f9f3",
       "max": 4,
       "style": "IPY_MODEL_40be07e77a8949ab8c8cdb2645a089c3",
       "value": 4
      }
     },
     "5f29a9e5c4d742e18090fe5eb55389c9": {
      "model_module": "@jupyter-widgets/base",
      "model_module_version": "1.2.0",
      "model_name": "LayoutModel",
      "state": {}
     },
     "5f3bc6dfec61426987a9c35a682b02f0": {
      "model_module": "@jupyter-widgets/base",
      "model_module_version": "1.2.0",
      "model_name": "LayoutModel",
      "state": {}
     },
     "5f60dd52d68242ada1ad27367c0f86c6": {
      "model_module": "@jupyter-widgets/controls",
      "model_module_version": "1.5.0",
      "model_name": "HTMLModel",
      "state": {
       "layout": "IPY_MODEL_8154955368184008816147493f21696d",
       "style": "IPY_MODEL_7855716ad699418ab299c9dd0a869762",
       "value": " 4/4 [00:00&lt;00:00, 12.91it/s]"
      }
     },
     "5fd7dda87cdc4bcd9c3bdf8752d2ccdb": {
      "model_module": "@jupyter-widgets/controls",
      "model_module_version": "1.5.0",
      "model_name": "DescriptionStyleModel",
      "state": {
       "description_width": ""
      }
     },
     "600eb563f4c041a3b80b657a412521ad": {
      "model_module": "@jupyter-widgets/controls",
      "model_module_version": "1.5.0",
      "model_name": "ProgressStyleModel",
      "state": {
       "description_width": "initial"
      }
     },
     "60504d83a632468b917d18b5d396eff3": {
      "model_module": "@jupyter-widgets/controls",
      "model_module_version": "1.5.0",
      "model_name": "ProgressStyleModel",
      "state": {
       "description_width": "initial"
      }
     },
     "6054e240767b403f9ebcf214c2d3c1b9": {
      "model_module": "@jupyter-widgets/controls",
      "model_module_version": "1.5.0",
      "model_name": "HBoxModel",
      "state": {
       "children": [
        "IPY_MODEL_f64e167c19d04d5fbe0c0871df4a6e12",
        "IPY_MODEL_ed02d5b6c5e54863b1efbc60f523b494"
       ],
       "layout": "IPY_MODEL_2cce7f2e03a64fabb4b807337e76cdd9"
      }
     },
     "6074d7ab533a4acd8089e28160353282": {
      "model_module": "@jupyter-widgets/controls",
      "model_module_version": "1.5.0",
      "model_name": "DescriptionStyleModel",
      "state": {
       "description_width": ""
      }
     },
     "60e7160ac15a495fa37648d29801db3d": {
      "model_module": "@jupyter-widgets/controls",
      "model_module_version": "1.5.0",
      "model_name": "HBoxModel",
      "state": {
       "children": [
        "IPY_MODEL_81b0fe4e53b545b3a38ff9249218f175",
        "IPY_MODEL_843ed198ff7a4e1f8c8bdcda76831764"
       ],
       "layout": "IPY_MODEL_1fccd228955e47f3902423408b858b48"
      }
     },
     "60f7c71a434144bc96929e46c8fef5a4": {
      "model_module": "@jupyter-widgets/controls",
      "model_module_version": "1.5.0",
      "model_name": "HBoxModel",
      "state": {
       "children": [
        "IPY_MODEL_4f9d707bd783470c8a0edd1f8c359875",
        "IPY_MODEL_911aa1747eb8496c88c0f05414386a7b"
       ],
       "layout": "IPY_MODEL_dbdfe0042c5d487fadda7edf130bd314"
      }
     },
     "6155a397beac4e2f8a6670a92b194c1e": {
      "model_module": "@jupyter-widgets/base",
      "model_module_version": "1.2.0",
      "model_name": "LayoutModel",
      "state": {}
     },
     "6161c6ab14d84478ac4ce87ad3bd1511": {
      "model_module": "@jupyter-widgets/controls",
      "model_module_version": "1.5.0",
      "model_name": "HBoxModel",
      "state": {
       "children": [
        "IPY_MODEL_152491a0beb047f6bf3884e9ba39505f",
        "IPY_MODEL_024f723db86746469b9f25967b2720dd"
       ],
       "layout": "IPY_MODEL_27f7d94f32a34a908e6a807bc021980c"
      }
     },
     "61b7b466be954680ab25433ac2610461": {
      "model_module": "@jupyter-widgets/controls",
      "model_module_version": "1.5.0",
      "model_name": "DescriptionStyleModel",
      "state": {
       "description_width": ""
      }
     },
     "61b9f2a44e6b4f868fb641b550c83c5f": {
      "model_module": "@jupyter-widgets/controls",
      "model_module_version": "1.5.0",
      "model_name": "ProgressStyleModel",
      "state": {
       "description_width": "initial"
      }
     },
     "61ebcb5ccd9d44339ad81494ec9fdd71": {
      "model_module": "@jupyter-widgets/base",
      "model_module_version": "1.2.0",
      "model_name": "LayoutModel",
      "state": {}
     },
     "6207da2ba1be4faca8fd167cec7bef1e": {
      "model_module": "@jupyter-widgets/base",
      "model_module_version": "1.2.0",
      "model_name": "LayoutModel",
      "state": {}
     },
     "622b01236fad46f1abd3a24cff4e655f": {
      "model_module": "@jupyter-widgets/controls",
      "model_module_version": "1.5.0",
      "model_name": "DescriptionStyleModel",
      "state": {
       "description_width": ""
      }
     },
     "6253892f39a94b229aab35cd3fbb2439": {
      "model_module": "@jupyter-widgets/base",
      "model_module_version": "1.2.0",
      "model_name": "LayoutModel",
      "state": {}
     },
     "625b0445d6dd4f33a4463ad1e7ed5e92": {
      "model_module": "@jupyter-widgets/controls",
      "model_module_version": "1.5.0",
      "model_name": "FloatProgressModel",
      "state": {
       "bar_style": "success",
       "description": "100%",
       "layout": "IPY_MODEL_18081ca11ad3410da4227df8d620c31d",
       "max": 4,
       "style": "IPY_MODEL_6e0c347e8b9f4893a9c8c5492ec340b0",
       "value": 4
      }
     },
     "6277885db9504f4a8fb6c1f949661c26": {
      "model_module": "@jupyter-widgets/controls",
      "model_module_version": "1.5.0",
      "model_name": "ProgressStyleModel",
      "state": {
       "description_width": "initial"
      }
     },
     "62aecf099a0f4d648c0a638e1644b0cf": {
      "model_module": "@jupyter-widgets/base",
      "model_module_version": "1.2.0",
      "model_name": "LayoutModel",
      "state": {}
     },
     "62dc3d24edc241418a8d18ff0e717db4": {
      "model_module": "@jupyter-widgets/controls",
      "model_module_version": "1.5.0",
      "model_name": "HTMLModel",
      "state": {
       "layout": "IPY_MODEL_bf107e4bcc4a402d8c2a80ba880c0d6e",
       "style": "IPY_MODEL_336c0d8ef88048bc834394df9bdcc187",
       "value": " 30/30 [00:04&lt;00:00,  7.32it/s]"
      }
     },
     "632fb3ae630e42428309dc1ce7b01bce": {
      "model_module": "@jupyter-widgets/base",
      "model_module_version": "1.2.0",
      "model_name": "LayoutModel",
      "state": {}
     },
     "6339626b1b2d49d99fe87e6b259a2ed8": {
      "model_module": "@jupyter-widgets/base",
      "model_module_version": "1.2.0",
      "model_name": "LayoutModel",
      "state": {}
     },
     "634b6d9829a84bc68a1615afeaa0f5df": {
      "model_module": "@jupyter-widgets/base",
      "model_module_version": "1.2.0",
      "model_name": "LayoutModel",
      "state": {}
     },
     "63687bad7e3d4ab2a8e62447207e990c": {
      "model_module": "@jupyter-widgets/base",
      "model_module_version": "1.2.0",
      "model_name": "LayoutModel",
      "state": {}
     },
     "637b4d61569d41d187f067f0aabf654a": {
      "model_module": "@jupyter-widgets/base",
      "model_module_version": "1.2.0",
      "model_name": "LayoutModel",
      "state": {}
     },
     "63a73ac7196d47428bf2d21333238deb": {
      "model_module": "@jupyter-widgets/base",
      "model_module_version": "1.2.0",
      "model_name": "LayoutModel",
      "state": {}
     },
     "63d8ae81b0434aa89a2e6363d757e30a": {
      "model_module": "@jupyter-widgets/controls",
      "model_module_version": "1.5.0",
      "model_name": "ProgressStyleModel",
      "state": {
       "description_width": "initial"
      }
     },
     "63f7cf98b6bc4ac0b99fd44104041df2": {
      "model_module": "@jupyter-widgets/controls",
      "model_module_version": "1.5.0",
      "model_name": "DescriptionStyleModel",
      "state": {
       "description_width": ""
      }
     },
     "646698335bf74e8b8222a3eda92a2a0c": {
      "model_module": "@jupyter-widgets/base",
      "model_module_version": "1.2.0",
      "model_name": "LayoutModel",
      "state": {}
     },
     "648b177e019c48169f04dcd02c9bd2d6": {
      "model_module": "@jupyter-widgets/controls",
      "model_module_version": "1.5.0",
      "model_name": "ProgressStyleModel",
      "state": {
       "description_width": "initial"
      }
     },
     "64c1a3a3d3e44f45ba13c1d6ff243ec8": {
      "model_module": "@jupyter-widgets/controls",
      "model_module_version": "1.5.0",
      "model_name": "HTMLModel",
      "state": {
       "layout": "IPY_MODEL_681fa283d95d4444937cbba3bc849ee7",
       "style": "IPY_MODEL_42d3fc0060ba40aa878dd73349598654",
       "value": " 4/4 [00:03&lt;00:00,  1.01it/s]"
      }
     },
     "64e33ac8ffbf4169a84793d1428fb5ed": {
      "model_module": "@jupyter-widgets/controls",
      "model_module_version": "1.5.0",
      "model_name": "DescriptionStyleModel",
      "state": {
       "description_width": ""
      }
     },
     "6516893d27e14d75822bf98a924c3768": {
      "model_module": "@jupyter-widgets/base",
      "model_module_version": "1.2.0",
      "model_name": "LayoutModel",
      "state": {}
     },
     "653bc367880043b490ade3848f38bdac": {
      "model_module": "@jupyter-widgets/controls",
      "model_module_version": "1.5.0",
      "model_name": "HBoxModel",
      "state": {
       "children": [
        "IPY_MODEL_ec016d0ebb094b11b0c05d7e20048152",
        "IPY_MODEL_6bad6a3793fa43eb838b963c903daa66"
       ],
       "layout": "IPY_MODEL_4fe634fad80642418fca67ec93737b6c"
      }
     },
     "653e5ab83f234ce08cbb93e9f6ba8287": {
      "model_module": "@jupyter-widgets/base",
      "model_module_version": "1.2.0",
      "model_name": "LayoutModel",
      "state": {}
     },
     "6563403998f346b48bc7f24a741be184": {
      "model_module": "@jupyter-widgets/controls",
      "model_module_version": "1.5.0",
      "model_name": "HTMLModel",
      "state": {
       "layout": "IPY_MODEL_6fc6272bb3af44a68048fe58f37e7c63",
       "style": "IPY_MODEL_cb625d16c1104c10a7737cb3a1eda2dc",
       "value": " 30/30 [01:08&lt;00:00,  2.28s/it]"
      }
     },
     "65bd390bf44d45a4b46c12b6a2ec2c37": {
      "model_module": "@jupyter-widgets/base",
      "model_module_version": "1.2.0",
      "model_name": "LayoutModel",
      "state": {}
     },
     "66028db985254a1f8eb525c3536fef99": {
      "model_module": "@jupyter-widgets/controls",
      "model_module_version": "1.5.0",
      "model_name": "HTMLModel",
      "state": {
       "layout": "IPY_MODEL_368d23e2f02f4ecab295b06503abdd5c",
       "style": "IPY_MODEL_40916cb23b554684a7c725d8bf97a2f7",
       "value": " 4/4 [00:01&lt;00:00,  2.35it/s]"
      }
     },
     "6605c4d513e546d7a4c4da32a870be02": {
      "model_module": "@jupyter-widgets/controls",
      "model_module_version": "1.5.0",
      "model_name": "HBoxModel",
      "state": {
       "children": [
        "IPY_MODEL_137f8323260b4aa6bca5b3acac2790c5",
        "IPY_MODEL_2e53c26de7e642bcb38abf805bad0623"
       ],
       "layout": "IPY_MODEL_3498de033e0740d882b564a56d3a5703"
      }
     },
     "662800c9adf94115a61b52b515591f40": {
      "model_module": "@jupyter-widgets/controls",
      "model_module_version": "1.5.0",
      "model_name": "ProgressStyleModel",
      "state": {
       "description_width": "initial"
      }
     },
     "6628942f848f477eb860c0688e5a6adb": {
      "model_module": "@jupyter-widgets/controls",
      "model_module_version": "1.5.0",
      "model_name": "FloatProgressModel",
      "state": {
       "bar_style": "success",
       "description": "100%",
       "layout": "IPY_MODEL_5cc47998acf8431c81ba76c52085e343",
       "max": 30,
       "style": "IPY_MODEL_811d3d2cbf9d44efb699f8a6f9a7f4f5",
       "value": 30
      }
     },
     "66327a8dba9d4dab8a83e7c73101439a": {
      "model_module": "@jupyter-widgets/controls",
      "model_module_version": "1.5.0",
      "model_name": "ProgressStyleModel",
      "state": {
       "description_width": "initial"
      }
     },
     "663d2ad751cb40578f04f6a71f331a25": {
      "model_module": "@jupyter-widgets/controls",
      "model_module_version": "1.5.0",
      "model_name": "HBoxModel",
      "state": {
       "children": [
        "IPY_MODEL_0ccd2ffb164f443dacf8ae9d93d70659",
        "IPY_MODEL_01ca8eacd2324f3c87e933ba1171a053"
       ],
       "layout": "IPY_MODEL_fc792f2acb9043a08ebefa6bbd49e9ec"
      }
     },
     "6644e6701e9b46919d2e31a0009e71e6": {
      "model_module": "@jupyter-widgets/controls",
      "model_module_version": "1.5.0",
      "model_name": "ProgressStyleModel",
      "state": {
       "description_width": "initial"
      }
     },
     "667c6c93815c4ccda127f3dead2ec71f": {
      "model_module": "@jupyter-widgets/controls",
      "model_module_version": "1.5.0",
      "model_name": "HBoxModel",
      "state": {
       "children": [
        "IPY_MODEL_43aa338915414339bc454aa593dfd833",
        "IPY_MODEL_bceb1da0be8043098bd762612c9c0b71"
       ],
       "layout": "IPY_MODEL_501041624d7f420bbbc4885ea7bcb7a1"
      }
     },
     "66d20fe598574984bcc9d2c52c73d12e": {
      "model_module": "@jupyter-widgets/controls",
      "model_module_version": "1.5.0",
      "model_name": "HTMLModel",
      "state": {
       "layout": "IPY_MODEL_d54465481aab4521b367d8ad2de2c05e",
       "style": "IPY_MODEL_3e4cbfbe200843aba9e3300742121ab6",
       "value": " 30/30 [00:34&lt;00:00,  1.14s/it]"
      }
     },
     "6703db34fe3a4007875236921456b878": {
      "model_module": "@jupyter-widgets/base",
      "model_module_version": "1.2.0",
      "model_name": "LayoutModel",
      "state": {}
     },
     "6726c737d378488e8b498359eb660254": {
      "model_module": "@jupyter-widgets/controls",
      "model_module_version": "1.5.0",
      "model_name": "HTMLModel",
      "state": {
       "layout": "IPY_MODEL_d89fc02ca7824494b933ea37098a50bf",
       "style": "IPY_MODEL_026af511afb14a1db69ba0b8672d5ba2",
       "value": " 4/4 [00:04&lt;00:00,  1.10s/it]"
      }
     },
     "672f03a9c1f4477c88cd5a0dd4b5520e": {
      "model_module": "@jupyter-widgets/controls",
      "model_module_version": "1.5.0",
      "model_name": "ProgressStyleModel",
      "state": {
       "description_width": "initial"
      }
     },
     "6747ae91da7f4bb4b943f013bb1ab104": {
      "model_module": "@jupyter-widgets/base",
      "model_module_version": "1.2.0",
      "model_name": "LayoutModel",
      "state": {}
     },
     "67486e4754a74c0486b37b3e9adff7fd": {
      "model_module": "@jupyter-widgets/controls",
      "model_module_version": "1.5.0",
      "model_name": "HBoxModel",
      "state": {
       "children": [
        "IPY_MODEL_c51fe0f1826948968d45e8c55784b586",
        "IPY_MODEL_2ad2f0f75e8d4a50964e20507300a150"
       ],
       "layout": "IPY_MODEL_8ac522dbaabe4355aefac6c600e5d253"
      }
     },
     "67928beb5c42429cb9ae773ab0d7b8e0": {
      "model_module": "@jupyter-widgets/controls",
      "model_module_version": "1.5.0",
      "model_name": "FloatProgressModel",
      "state": {
       "bar_style": "success",
       "description": "100%",
       "layout": "IPY_MODEL_2c5f2e1ed03748279191cddc3e3f544c",
       "max": 30,
       "style": "IPY_MODEL_92fa866e5fdd4065800e0aa2bd4ffc8b",
       "value": 30
      }
     },
     "681fa283d95d4444937cbba3bc849ee7": {
      "model_module": "@jupyter-widgets/base",
      "model_module_version": "1.2.0",
      "model_name": "LayoutModel",
      "state": {}
     },
     "68666f59ecdf4e77b1ed62f79d82bbf1": {
      "model_module": "@jupyter-widgets/controls",
      "model_module_version": "1.5.0",
      "model_name": "ProgressStyleModel",
      "state": {
       "description_width": "initial"
      }
     },
     "68aabd5bb28449d5a3fedf518cb86d58": {
      "model_module": "@jupyter-widgets/controls",
      "model_module_version": "1.5.0",
      "model_name": "FloatProgressModel",
      "state": {
       "bar_style": "success",
       "description": "100%",
       "layout": "IPY_MODEL_fe78deac4a5349f29dea18497d562069",
       "max": 30,
       "style": "IPY_MODEL_6cadbdea29724237ac322efb636aa383",
       "value": 30
      }
     },
     "68c43a2dd21b4f17ae50feaf71bc1066": {
      "model_module": "@jupyter-widgets/base",
      "model_module_version": "1.2.0",
      "model_name": "LayoutModel",
      "state": {}
     },
     "68e0516b3d19469b8f111d1dc225216c": {
      "model_module": "@jupyter-widgets/controls",
      "model_module_version": "1.5.0",
      "model_name": "ProgressStyleModel",
      "state": {
       "description_width": "initial"
      }
     },
     "68ed8ef35dc94da4abbd094de090baf6": {
      "model_module": "@jupyter-widgets/controls",
      "model_module_version": "1.5.0",
      "model_name": "DescriptionStyleModel",
      "state": {
       "description_width": ""
      }
     },
     "68ffefcd23284861a7fb5b52b7368bdd": {
      "model_module": "@jupyter-widgets/controls",
      "model_module_version": "1.5.0",
      "model_name": "FloatProgressModel",
      "state": {
       "bar_style": "success",
       "description": "100%",
       "layout": "IPY_MODEL_9db1fbb9b874424089f33499bf3b53d8",
       "max": 4,
       "style": "IPY_MODEL_44afc9e57af7474697453a2e5665b724",
       "value": 4
      }
     },
     "6905d45d23dd4e1abb01068b887fa6d4": {
      "model_module": "@jupyter-widgets/controls",
      "model_module_version": "1.5.0",
      "model_name": "DescriptionStyleModel",
      "state": {
       "description_width": ""
      }
     },
     "6912236f52e54a4b88c164cf584b5132": {
      "model_module": "@jupyter-widgets/controls",
      "model_module_version": "1.5.0",
      "model_name": "HBoxModel",
      "state": {
       "children": [
        "IPY_MODEL_2b5a286ec3a0449fa4d7c7a91c877081",
        "IPY_MODEL_a57c02d5aa17468b83f724c70b589a5a"
       ],
       "layout": "IPY_MODEL_5831ccc233734f8b93e4c09e0c03c116"
      }
     },
     "698b932249464f0a94aaf540ab746024": {
      "model_module": "@jupyter-widgets/controls",
      "model_module_version": "1.5.0",
      "model_name": "HBoxModel",
      "state": {
       "children": [
        "IPY_MODEL_37960c8398ea4effad1fba659e29af8d",
        "IPY_MODEL_c279f681eaf94b7f86ab18d019fa884a"
       ],
       "layout": "IPY_MODEL_30784889837a44bca1958223b04c7da9"
      }
     },
     "6994a01add5f477fbd25f013a6b5aef1": {
      "model_module": "@jupyter-widgets/controls",
      "model_module_version": "1.5.0",
      "model_name": "DescriptionStyleModel",
      "state": {
       "description_width": ""
      }
     },
     "69ff3fcb95c24e24b51a0c236ee33eff": {
      "model_module": "@jupyter-widgets/controls",
      "model_module_version": "1.5.0",
      "model_name": "ProgressStyleModel",
      "state": {
       "description_width": "initial"
      }
     },
     "6a199be7d35844f193716971756d74ae": {
      "model_module": "@jupyter-widgets/base",
      "model_module_version": "1.2.0",
      "model_name": "LayoutModel",
      "state": {}
     },
     "6a52fd71891944578d10eb22807f55e0": {
      "model_module": "@jupyter-widgets/base",
      "model_module_version": "1.2.0",
      "model_name": "LayoutModel",
      "state": {}
     },
     "6a9dfeaf467e42cb834afd820b7be064": {
      "model_module": "@jupyter-widgets/controls",
      "model_module_version": "1.5.0",
      "model_name": "FloatProgressModel",
      "state": {
       "bar_style": "success",
       "description": "100%",
       "layout": "IPY_MODEL_226b41b35d944813953c11b847f01d73",
       "max": 30,
       "style": "IPY_MODEL_f1b152b833674dbaa5fa4f6e5af38b18",
       "value": 30
      }
     },
     "6aa031631bd54f65a2eb8f0b1a5b4912": {
      "model_module": "@jupyter-widgets/base",
      "model_module_version": "1.2.0",
      "model_name": "LayoutModel",
      "state": {}
     },
     "6adc96a54afe4b608ce7136aa2114fca": {
      "model_module": "@jupyter-widgets/controls",
      "model_module_version": "1.5.0",
      "model_name": "ProgressStyleModel",
      "state": {
       "description_width": "initial"
      }
     },
     "6ae19e6e317247f09546e8b0d4d9b470": {
      "model_module": "@jupyter-widgets/controls",
      "model_module_version": "1.5.0",
      "model_name": "DescriptionStyleModel",
      "state": {
       "description_width": ""
      }
     },
     "6af019b925204a06914a5ee91b41e4c7": {
      "model_module": "@jupyter-widgets/controls",
      "model_module_version": "1.5.0",
      "model_name": "DescriptionStyleModel",
      "state": {
       "description_width": ""
      }
     },
     "6af63d2853a64311a3e5b9796b9a8994": {
      "model_module": "@jupyter-widgets/base",
      "model_module_version": "1.2.0",
      "model_name": "LayoutModel",
      "state": {}
     },
     "6b28fa65406b4f29a717a62ccf60641a": {
      "model_module": "@jupyter-widgets/controls",
      "model_module_version": "1.5.0",
      "model_name": "DescriptionStyleModel",
      "state": {
       "description_width": ""
      }
     },
     "6b3c87a4a3db42f087500cf729c4407f": {
      "model_module": "@jupyter-widgets/controls",
      "model_module_version": "1.5.0",
      "model_name": "DescriptionStyleModel",
      "state": {
       "description_width": ""
      }
     },
     "6b3f5fb65aa24809ac3c9200173ec834": {
      "model_module": "@jupyter-widgets/base",
      "model_module_version": "1.2.0",
      "model_name": "LayoutModel",
      "state": {}
     },
     "6bad6a3793fa43eb838b963c903daa66": {
      "model_module": "@jupyter-widgets/controls",
      "model_module_version": "1.5.0",
      "model_name": "HTMLModel",
      "state": {
       "layout": "IPY_MODEL_5a3a90946af845ca93211fd7958c4cb2",
       "style": "IPY_MODEL_ecd237f1aa534bad8ccbc97755b27dd8",
       "value": " 4/4 [00:00&lt;00:00, 10.20it/s]"
      }
     },
     "6bd8268f5d1c4a13978f2c2eef51dd19": {
      "model_module": "@jupyter-widgets/controls",
      "model_module_version": "1.5.0",
      "model_name": "ProgressStyleModel",
      "state": {
       "description_width": "initial"
      }
     },
     "6c1f04a358fc498a91822b29278b3342": {
      "model_module": "@jupyter-widgets/controls",
      "model_module_version": "1.5.0",
      "model_name": "HBoxModel",
      "state": {
       "children": [
        "IPY_MODEL_f19964cf620b46fbbf92b267d70a3175",
        "IPY_MODEL_dfdc1c275fae4fe9b5449680d2c84ee1"
       ],
       "layout": "IPY_MODEL_3c7f9f8563124dcdb156c653caa54db4"
      }
     },
     "6c373e6d2c894c348e592a160facfaf7": {
      "model_module": "@jupyter-widgets/controls",
      "model_module_version": "1.5.0",
      "model_name": "DescriptionStyleModel",
      "state": {
       "description_width": ""
      }
     },
     "6c5f309106564831ad6041db524765c1": {
      "model_module": "@jupyter-widgets/controls",
      "model_module_version": "1.5.0",
      "model_name": "FloatProgressModel",
      "state": {
       "bar_style": "success",
       "description": "100%",
       "layout": "IPY_MODEL_33e707863c764f35a810e7f715c0aaea",
       "max": 4,
       "style": "IPY_MODEL_979eeb089714452ab748954f001cf5fc",
       "value": 4
      }
     },
     "6cadbdea29724237ac322efb636aa383": {
      "model_module": "@jupyter-widgets/controls",
      "model_module_version": "1.5.0",
      "model_name": "ProgressStyleModel",
      "state": {
       "description_width": "initial"
      }
     },
     "6cb3809630ea481bb40084c8fce115d8": {
      "model_module": "@jupyter-widgets/controls",
      "model_module_version": "1.5.0",
      "model_name": "ProgressStyleModel",
      "state": {
       "description_width": "initial"
      }
     },
     "6d12eee364e24f44b86d8e3f7b4e65f7": {
      "model_module": "@jupyter-widgets/base",
      "model_module_version": "1.2.0",
      "model_name": "LayoutModel",
      "state": {}
     },
     "6d59ba7deed44236a8c4c96e8142de7c": {
      "model_module": "@jupyter-widgets/controls",
      "model_module_version": "1.5.0",
      "model_name": "FloatProgressModel",
      "state": {
       "bar_style": "success",
       "description": "100%",
       "layout": "IPY_MODEL_dc7dee95a61348a386e57858a691237a",
       "max": 4,
       "style": "IPY_MODEL_8bc78baf21d140ceb8b744a946a3ebec",
       "value": 4
      }
     },
     "6d5b98ce0ecc48c68571b3087e5d2030": {
      "model_module": "@jupyter-widgets/controls",
      "model_module_version": "1.5.0",
      "model_name": "DescriptionStyleModel",
      "state": {
       "description_width": ""
      }
     },
     "6d7b93037bc2427c85bce4e24e37dd02": {
      "model_module": "@jupyter-widgets/base",
      "model_module_version": "1.2.0",
      "model_name": "LayoutModel",
      "state": {}
     },
     "6d9f35119caa4a7f9d77817ca0519a8e": {
      "model_module": "@jupyter-widgets/base",
      "model_module_version": "1.2.0",
      "model_name": "LayoutModel",
      "state": {}
     },
     "6dd8fe6ec2f94321a7c472cf7af3479f": {
      "model_module": "@jupyter-widgets/controls",
      "model_module_version": "1.5.0",
      "model_name": "DescriptionStyleModel",
      "state": {
       "description_width": ""
      }
     },
     "6deee255ec264f77a04653523e02f07e": {
      "model_module": "@jupyter-widgets/controls",
      "model_module_version": "1.5.0",
      "model_name": "ProgressStyleModel",
      "state": {
       "description_width": "initial"
      }
     },
     "6e0c347e8b9f4893a9c8c5492ec340b0": {
      "model_module": "@jupyter-widgets/controls",
      "model_module_version": "1.5.0",
      "model_name": "ProgressStyleModel",
      "state": {
       "description_width": "initial"
      }
     },
     "6e0c7d8973ef4425b1ab879af45c4b82": {
      "model_module": "@jupyter-widgets/base",
      "model_module_version": "1.2.0",
      "model_name": "LayoutModel",
      "state": {}
     },
     "6e27b7a24ecc4ff28324cf19e8cc411f": {
      "model_module": "@jupyter-widgets/base",
      "model_module_version": "1.2.0",
      "model_name": "LayoutModel",
      "state": {}
     },
     "6e4b0929a6ac4dd4844b8eadca5c42a9": {
      "model_module": "@jupyter-widgets/base",
      "model_module_version": "1.2.0",
      "model_name": "LayoutModel",
      "state": {}
     },
     "6e4f7b64c32944e690ce6db688ae9c8c": {
      "model_module": "@jupyter-widgets/base",
      "model_module_version": "1.2.0",
      "model_name": "LayoutModel",
      "state": {}
     },
     "6e551bd1288448ee86806ce1bed29b16": {
      "model_module": "@jupyter-widgets/controls",
      "model_module_version": "1.5.0",
      "model_name": "HBoxModel",
      "state": {
       "children": [
        "IPY_MODEL_1724052864f84416b7e665ed606fc7f5",
        "IPY_MODEL_fc34c6879bd2441ea194f16992cb13f4"
       ],
       "layout": "IPY_MODEL_3e5c5ffdc89e4611bd54749cbcd3cee9"
      }
     },
     "6ead86c83fa24520a890c3d5d7f3076c": {
      "model_module": "@jupyter-widgets/controls",
      "model_module_version": "1.5.0",
      "model_name": "DescriptionStyleModel",
      "state": {
       "description_width": ""
      }
     },
     "6ecf4a140115424fbbe856d11c512b6f": {
      "model_module": "@jupyter-widgets/base",
      "model_module_version": "1.2.0",
      "model_name": "LayoutModel",
      "state": {}
     },
     "6edcf6ff8cce4d629d4e2da162cd16ad": {
      "model_module": "@jupyter-widgets/base",
      "model_module_version": "1.2.0",
      "model_name": "LayoutModel",
      "state": {}
     },
     "6eef7c40cff447b88445d917998bee08": {
      "model_module": "@jupyter-widgets/controls",
      "model_module_version": "1.5.0",
      "model_name": "HBoxModel",
      "state": {
       "children": [
        "IPY_MODEL_e20cd01b4404464385d54e45b2dbfa21",
        "IPY_MODEL_a4cd0b85a409492795bf1147a406a50b"
       ],
       "layout": "IPY_MODEL_0889ff2412a04feb9aa352f779232f52"
      }
     },
     "6f03f12a14b24a4c9d8b99ca32ada360": {
      "model_module": "@jupyter-widgets/controls",
      "model_module_version": "1.5.0",
      "model_name": "HBoxModel",
      "state": {
       "children": [
        "IPY_MODEL_5e8d0f0f2bb04d14a908e98282b55caf",
        "IPY_MODEL_77c66f95d0a24682b0b48c4c493bcc1a"
       ],
       "layout": "IPY_MODEL_7d3183d6adb240f2a4fce077017ac4a2"
      }
     },
     "6f335ee0781f4c009688943fe19933e5": {
      "model_module": "@jupyter-widgets/base",
      "model_module_version": "1.2.0",
      "model_name": "LayoutModel",
      "state": {}
     },
     "6fc36c00d7ed4db2a7386d6a8085101b": {
      "model_module": "@jupyter-widgets/base",
      "model_module_version": "1.2.0",
      "model_name": "LayoutModel",
      "state": {}
     },
     "6fc6272bb3af44a68048fe58f37e7c63": {
      "model_module": "@jupyter-widgets/base",
      "model_module_version": "1.2.0",
      "model_name": "LayoutModel",
      "state": {}
     },
     "6fe1e4da094442f58f4eaf630ba13292": {
      "model_module": "@jupyter-widgets/base",
      "model_module_version": "1.2.0",
      "model_name": "LayoutModel",
      "state": {}
     },
     "6ff9352fec1e47b082354b662e120746": {
      "model_module": "@jupyter-widgets/base",
      "model_module_version": "1.2.0",
      "model_name": "LayoutModel",
      "state": {}
     },
     "70212846b3f24a77a7290c84a971a1f4": {
      "model_module": "@jupyter-widgets/base",
      "model_module_version": "1.2.0",
      "model_name": "LayoutModel",
      "state": {}
     },
     "7024ead6a3e54b4f98c0c0cb9d00dd96": {
      "model_module": "@jupyter-widgets/controls",
      "model_module_version": "1.5.0",
      "model_name": "FloatProgressModel",
      "state": {
       "bar_style": "success",
       "description": "100%",
       "layout": "IPY_MODEL_ad1cc6ab07a349f2a34ecd2dc6ea13cd",
       "max": 4,
       "style": "IPY_MODEL_94c4b26518a54adab03b8a6a4e707725",
       "value": 4
      }
     },
     "702fc0a7fe584c3eba4a62166a7b44df": {
      "model_module": "@jupyter-widgets/controls",
      "model_module_version": "1.5.0",
      "model_name": "HTMLModel",
      "state": {
       "layout": "IPY_MODEL_04dc07b7141e4646ac94b3ff95be9054",
       "style": "IPY_MODEL_c0d7c81c102a42fc8bf3288ebddfef19",
       "value": " 30/30 [00:04&lt;00:00,  6.95it/s]"
      }
     },
     "703bb08599604d7fa54536da8b9eea30": {
      "model_module": "@jupyter-widgets/controls",
      "model_module_version": "1.5.0",
      "model_name": "FloatProgressModel",
      "state": {
       "bar_style": "success",
       "description": "100%",
       "layout": "IPY_MODEL_09a75dae1590405285bbfe58d6034575",
       "max": 30,
       "style": "IPY_MODEL_4202336449cc4674b6fe714c966cf82f",
       "value": 30
      }
     },
     "70a7497b28b54c18b4f0222a2f76a7d5": {
      "model_module": "@jupyter-widgets/controls",
      "model_module_version": "1.5.0",
      "model_name": "HTMLModel",
      "state": {
       "layout": "IPY_MODEL_4be6abc9a1cc4ee69150567589fe18c3",
       "style": "IPY_MODEL_f142532ec2a347ef85d599f514ddd75a",
       "value": " 30/30 [00:29&lt;00:00,  1.02it/s]"
      }
     },
     "71098a25e9d34a1fb7605819cfe2c962": {
      "model_module": "@jupyter-widgets/base",
      "model_module_version": "1.2.0",
      "model_name": "LayoutModel",
      "state": {}
     },
     "7115d9ca1f8c4ab3ae9b5fe034feb35b": {
      "model_module": "@jupyter-widgets/base",
      "model_module_version": "1.2.0",
      "model_name": "LayoutModel",
      "state": {}
     },
     "716023be76f343c8aaea5ec0cb72b62a": {
      "model_module": "@jupyter-widgets/controls",
      "model_module_version": "1.5.0",
      "model_name": "HTMLModel",
      "state": {
       "layout": "IPY_MODEL_1b54726d71234342b7a8b9e8dd5b2ebd",
       "style": "IPY_MODEL_9f3395fa61d44c65a03a6bd3619cfff3",
       "value": " 4/4 [00:04&lt;00:00,  1.15s/it]"
      }
     },
     "71a3b7bb18e649819a6ad21648adf7aa": {
      "model_module": "@jupyter-widgets/controls",
      "model_module_version": "1.5.0",
      "model_name": "FloatProgressModel",
      "state": {
       "bar_style": "success",
       "description": "100%",
       "layout": "IPY_MODEL_916fceaf33b8402f8628d86e3fc6e5f1",
       "max": 30,
       "style": "IPY_MODEL_4d66fd4761ad44b6bdba83e9e1cc9907",
       "value": 30
      }
     },
     "721b815de3b94fb4b8dd4e89aebfbc6c": {
      "model_module": "@jupyter-widgets/controls",
      "model_module_version": "1.5.0",
      "model_name": "HBoxModel",
      "state": {
       "children": [
        "IPY_MODEL_2ad88cf87a2d43fcac1a9feeddeb16fd",
        "IPY_MODEL_77c94cd642784f37bb68736922da8993"
       ],
       "layout": "IPY_MODEL_c18656860f7b48ceabac2c250e5f421d"
      }
     },
     "723ddbc2339c44eabb31cef77380cb69": {
      "model_module": "@jupyter-widgets/controls",
      "model_module_version": "1.5.0",
      "model_name": "DescriptionStyleModel",
      "state": {
       "description_width": ""
      }
     },
     "72bf09a6ba18486383f74ef57e21bd31": {
      "model_module": "@jupyter-widgets/base",
      "model_module_version": "1.2.0",
      "model_name": "LayoutModel",
      "state": {}
     },
     "72c6325157fd48cf9c59c87726f02adb": {
      "model_module": "@jupyter-widgets/controls",
      "model_module_version": "1.5.0",
      "model_name": "FloatProgressModel",
      "state": {
       "bar_style": "success",
       "description": "100%",
       "layout": "IPY_MODEL_e6476ece82cd467786123d5c0b2a3065",
       "max": 30,
       "style": "IPY_MODEL_379f43c14e9e4eb090226ae1e1359bca",
       "value": 30
      }
     },
     "733a5e185a0c40af94c3ad433749e3c9": {
      "model_module": "@jupyter-widgets/controls",
      "model_module_version": "1.5.0",
      "model_name": "HBoxModel",
      "state": {
       "children": [
        "IPY_MODEL_f240abeb86454e78a1f63af2ff66c590",
        "IPY_MODEL_e0d8d97267714ee9a539da4b298f7577"
       ],
       "layout": "IPY_MODEL_f2155104c7fe4e66b4542fb2b611aa7b"
      }
     },
     "733ee50f42924af18a1643a9286a7d2d": {
      "model_module": "@jupyter-widgets/controls",
      "model_module_version": "1.5.0",
      "model_name": "DescriptionStyleModel",
      "state": {
       "description_width": ""
      }
     },
     "73655a8ed6da400dbab2f2fc54b25293": {
      "model_module": "@jupyter-widgets/controls",
      "model_module_version": "1.5.0",
      "model_name": "HTMLModel",
      "state": {
       "layout": "IPY_MODEL_86da09e06f274994a88bcb1a291d9eba",
       "style": "IPY_MODEL_59522ffa5b83482d879cc5256261b592",
       "value": " 4/4 [00:00&lt;00:00,  9.45it/s]"
      }
     },
     "7377a622e852439db44b33a4ad362496": {
      "model_module": "@jupyter-widgets/controls",
      "model_module_version": "1.5.0",
      "model_name": "DescriptionStyleModel",
      "state": {
       "description_width": ""
      }
     },
     "73d37254719f448bb919303966729105": {
      "model_module": "@jupyter-widgets/controls",
      "model_module_version": "1.5.0",
      "model_name": "HBoxModel",
      "state": {
       "children": [
        "IPY_MODEL_16edead4e54e4d08b3934d1e3eed0a3c",
        "IPY_MODEL_e0ba174733d24d4e8cade70c703eec01"
       ],
       "layout": "IPY_MODEL_17d5bd5ef889400a959a9982a83b1bd1"
      }
     },
     "73e7e7d5ee7347b1b3b82881476d652f": {
      "model_module": "@jupyter-widgets/controls",
      "model_module_version": "1.5.0",
      "model_name": "HTMLModel",
      "state": {
       "layout": "IPY_MODEL_e67ea1fdf69f413ba58514ddb1a53ac6",
       "style": "IPY_MODEL_41916f04e1984a79aff0556faa5d0599",
       "value": " 30/30 [00:33&lt;00:00,  1.13s/it]"
      }
     },
     "7405e04cdd6d4159bb2873b57f243c41": {
      "model_module": "@jupyter-widgets/controls",
      "model_module_version": "1.5.0",
      "model_name": "HBoxModel",
      "state": {
       "children": [
        "IPY_MODEL_fff97404169f44f0a338bccece9bfa0c",
        "IPY_MODEL_2d098a80abe049e28aeb39f149459d9b"
       ],
       "layout": "IPY_MODEL_9d97c92a4ee14b5f8a2f0e45879fa183"
      }
     },
     "74117b9ff1d24d1ca65b45c89d22f50e": {
      "model_module": "@jupyter-widgets/controls",
      "model_module_version": "1.5.0",
      "model_name": "HTMLModel",
      "state": {
       "layout": "IPY_MODEL_b3613b49b9d14e298da81fcc89a06186",
       "style": "IPY_MODEL_10769ea9c3ef423ca13d7bb5bc0dbf49",
       "value": " 4/4 [00:00&lt;00:00,  9.20it/s]"
      }
     },
     "7443b99e56834b259de33b64e00d68c9": {
      "model_module": "@jupyter-widgets/base",
      "model_module_version": "1.2.0",
      "model_name": "LayoutModel",
      "state": {}
     },
     "7487a1f70b344b32b87f9bd0e74aca92": {
      "model_module": "@jupyter-widgets/controls",
      "model_module_version": "1.5.0",
      "model_name": "HTMLModel",
      "state": {
       "layout": "IPY_MODEL_c247ff46df3f4f3393c4b40fbbdaa254",
       "style": "IPY_MODEL_6b3c87a4a3db42f087500cf729c4407f",
       "value": " 30/30 [00:21&lt;00:00,  1.42it/s]"
      }
     },
     "74b744439c7e4ecc89a1b6edf8a4bfb5": {
      "model_module": "@jupyter-widgets/base",
      "model_module_version": "1.2.0",
      "model_name": "LayoutModel",
      "state": {}
     },
     "74b8e99d7a7f43df902387c4690748bf": {
      "model_module": "@jupyter-widgets/controls",
      "model_module_version": "1.5.0",
      "model_name": "HBoxModel",
      "state": {
       "children": [
        "IPY_MODEL_703bb08599604d7fa54536da8b9eea30",
        "IPY_MODEL_be1a3d44af834d60b4b05ddaa1fb2fa0"
       ],
       "layout": "IPY_MODEL_192a48bb0e984591a07af6285e7aa9e8"
      }
     },
     "74c20b93e0c041f183617ee481551194": {
      "model_module": "@jupyter-widgets/base",
      "model_module_version": "1.2.0",
      "model_name": "LayoutModel",
      "state": {}
     },
     "74c3b2d771814387aae1780474ee7d9c": {
      "model_module": "@jupyter-widgets/base",
      "model_module_version": "1.2.0",
      "model_name": "LayoutModel",
      "state": {}
     },
     "74ce4401b47a48238e908729360e489d": {
      "model_module": "@jupyter-widgets/base",
      "model_module_version": "1.2.0",
      "model_name": "LayoutModel",
      "state": {}
     },
     "74d44a5befd7495097914f034ef25b45": {
      "model_module": "@jupyter-widgets/base",
      "model_module_version": "1.2.0",
      "model_name": "LayoutModel",
      "state": {}
     },
     "74f8b135a2834a809310fb8d61f29aa8": {
      "model_module": "@jupyter-widgets/controls",
      "model_module_version": "1.5.0",
      "model_name": "HTMLModel",
      "state": {
       "layout": "IPY_MODEL_30cef625ea204377b99f2793334e8496",
       "style": "IPY_MODEL_102abdb9ca9e4926a568730a6284e1b1",
       "value": " 4/4 [00:00&lt;00:00, 10.22it/s]"
      }
     },
     "75001853543541159c1c9040cc0f3256": {
      "model_module": "@jupyter-widgets/controls",
      "model_module_version": "1.5.0",
      "model_name": "DescriptionStyleModel",
      "state": {
       "description_width": ""
      }
     },
     "751f46be13004a4bbf728bbf09720a25": {
      "model_module": "@jupyter-widgets/controls",
      "model_module_version": "1.5.0",
      "model_name": "HBoxModel",
      "state": {
       "children": [
        "IPY_MODEL_21624aca5d2a460fa2aa4bf084ee7534",
        "IPY_MODEL_439e8fececfe4c0bb64545288ebc41e3"
       ],
       "layout": "IPY_MODEL_3c6aaf3c64664336b0af75d30dedc55e"
      }
     },
     "75253738a9d445b9832c0a0e5a33db4a": {
      "model_module": "@jupyter-widgets/controls",
      "model_module_version": "1.5.0",
      "model_name": "ProgressStyleModel",
      "state": {
       "description_width": "initial"
      }
     },
     "75581ad5352249daa0a63014fc64d814": {
      "model_module": "@jupyter-widgets/base",
      "model_module_version": "1.2.0",
      "model_name": "LayoutModel",
      "state": {}
     },
     "75a48a797f9a41648eb62810d7959cc5": {
      "model_module": "@jupyter-widgets/controls",
      "model_module_version": "1.5.0",
      "model_name": "FloatProgressModel",
      "state": {
       "bar_style": "success",
       "description": "100%",
       "layout": "IPY_MODEL_cc0b2b7e968b40e7aeb7c3190060eb6c",
       "max": 30,
       "style": "IPY_MODEL_365917ef6ae04805a2766ddb9d03ac45",
       "value": 30
      }
     },
     "75f57f804313463db86eba7a252ce68a": {
      "model_module": "@jupyter-widgets/controls",
      "model_module_version": "1.5.0",
      "model_name": "DescriptionStyleModel",
      "state": {
       "description_width": ""
      }
     },
     "761bf52bacfa4f0a8f049e4e86c369a5": {
      "model_module": "@jupyter-widgets/controls",
      "model_module_version": "1.5.0",
      "model_name": "HTMLModel",
      "state": {
       "layout": "IPY_MODEL_bb3e7b790114452ba2e5443312438a36",
       "style": "IPY_MODEL_5cf42d8a587642ebad1766034cef61d6",
       "value": " 30/30 [00:03&lt;00:00,  7.70it/s]"
      }
     },
     "76276e1c7f0347a1955a73671838aacf": {
      "model_module": "@jupyter-widgets/controls",
      "model_module_version": "1.5.0",
      "model_name": "HTMLModel",
      "state": {
       "layout": "IPY_MODEL_34a59a2b6c0844a6bd0c558e7976c11f",
       "style": "IPY_MODEL_3a3a0ee380fe46f0b306aeaf2bccbca9",
       "value": " 4/4 [00:04&lt;00:00,  1.08s/it]"
      }
     },
     "764a43b16a8c4d3987c7a84c636b4c1c": {
      "model_module": "@jupyter-widgets/controls",
      "model_module_version": "1.5.0",
      "model_name": "DescriptionStyleModel",
      "state": {
       "description_width": ""
      }
     },
     "765cd7b104ea4ede9879fe430be82e6e": {
      "model_module": "@jupyter-widgets/controls",
      "model_module_version": "1.5.0",
      "model_name": "HBoxModel",
      "state": {
       "children": [
        "IPY_MODEL_f62b158105784e58bb0a474a9b38f79f",
        "IPY_MODEL_dabcc465ac444bbe82572e3f1af3d6f0"
       ],
       "layout": "IPY_MODEL_b04469b3fade4de1a9094e19961a83ed"
      }
     },
     "76852c69b86748b581dab473394c87dd": {
      "model_module": "@jupyter-widgets/controls",
      "model_module_version": "1.5.0",
      "model_name": "FloatProgressModel",
      "state": {
       "bar_style": "success",
       "description": "100%",
       "layout": "IPY_MODEL_cfda3aa5fcf141ae821c902b82464e61",
       "max": 30,
       "style": "IPY_MODEL_af80c7264f604efc8423a10b37f9c2d1",
       "value": 30
      }
     },
     "769cbbdbe5314f0184903c91cf615b3a": {
      "model_module": "@jupyter-widgets/controls",
      "model_module_version": "1.5.0",
      "model_name": "ProgressStyleModel",
      "state": {
       "description_width": "initial"
      }
     },
     "76b5cef5f6094a5797e1374c13ec96bb": {
      "model_module": "@jupyter-widgets/base",
      "model_module_version": "1.2.0",
      "model_name": "LayoutModel",
      "state": {}
     },
     "76d992b94b4246b0909fa6fef801f84a": {
      "model_module": "@jupyter-widgets/base",
      "model_module_version": "1.2.0",
      "model_name": "LayoutModel",
      "state": {}
     },
     "76eac353fbff483db61c1b96720071fd": {
      "model_module": "@jupyter-widgets/controls",
      "model_module_version": "1.5.0",
      "model_name": "FloatProgressModel",
      "state": {
       "bar_style": "success",
       "description": "100%",
       "layout": "IPY_MODEL_6339626b1b2d49d99fe87e6b259a2ed8",
       "max": 30,
       "style": "IPY_MODEL_41c8e282ed114ed0b94e190db4c7c2c0",
       "value": 30
      }
     },
     "772e28cf0f684ac48189ee5efd86f927": {
      "model_module": "@jupyter-widgets/base",
      "model_module_version": "1.2.0",
      "model_name": "LayoutModel",
      "state": {}
     },
     "77621951d53640afbc092ef064c07e6e": {
      "model_module": "@jupyter-widgets/controls",
      "model_module_version": "1.5.0",
      "model_name": "FloatProgressModel",
      "state": {
       "bar_style": "success",
       "description": "100%",
       "layout": "IPY_MODEL_377c91a33584496d8b74a02e7d21ef46",
       "max": 4,
       "style": "IPY_MODEL_66327a8dba9d4dab8a83e7c73101439a",
       "value": 4
      }
     },
     "77a097a5288449fc8352b5dc8a04bff8": {
      "model_module": "@jupyter-widgets/controls",
      "model_module_version": "1.5.0",
      "model_name": "FloatProgressModel",
      "state": {
       "bar_style": "success",
       "description": "100%",
       "layout": "IPY_MODEL_e958d0f3b13343c8b49902ea98bdd37b",
       "max": 30,
       "style": "IPY_MODEL_e1d30eb3eae54066b1e713f24675f140",
       "value": 30
      }
     },
     "77b392c76e4740498e541ee6a9bd4385": {
      "model_module": "@jupyter-widgets/base",
      "model_module_version": "1.2.0",
      "model_name": "LayoutModel",
      "state": {}
     },
     "77c66f95d0a24682b0b48c4c493bcc1a": {
      "model_module": "@jupyter-widgets/controls",
      "model_module_version": "1.5.0",
      "model_name": "HTMLModel",
      "state": {
       "layout": "IPY_MODEL_d90d13d8879e4392b55bdea54141f0ef",
       "style": "IPY_MODEL_4e3e4c9af59a48cc820ef3b30c6385c6",
       "value": " 30/30 [00:03&lt;00:00,  7.72it/s]"
      }
     },
     "77c94cd642784f37bb68736922da8993": {
      "model_module": "@jupyter-widgets/controls",
      "model_module_version": "1.5.0",
      "model_name": "HTMLModel",
      "state": {
       "layout": "IPY_MODEL_4277f99dbb9b4ebfbd86067866c71286",
       "style": "IPY_MODEL_7a475ad3e4734fcfb446786f71252f00",
       "value": " 30/30 [00:46&lt;00:00,  1.55s/it]"
      }
     },
     "77e1c613497d42dc876f2192ec8d2e3c": {
      "model_module": "@jupyter-widgets/controls",
      "model_module_version": "1.5.0",
      "model_name": "HBoxModel",
      "state": {
       "children": [
        "IPY_MODEL_5803d893212b4c13962f4e1b6b6c8931",
        "IPY_MODEL_30949c1445814719ad6e66fde5486087"
       ],
       "layout": "IPY_MODEL_3b9bd7874ab84d8fa59c427a4401a84c"
      }
     },
     "77fced309ea54d35bf7c70dc08099464": {
      "model_module": "@jupyter-widgets/controls",
      "model_module_version": "1.5.0",
      "model_name": "DescriptionStyleModel",
      "state": {
       "description_width": ""
      }
     },
     "780be7892ac2484b8b8c07ecf27b3a24": {
      "model_module": "@jupyter-widgets/base",
      "model_module_version": "1.2.0",
      "model_name": "LayoutModel",
      "state": {}
     },
     "78268e3c123b4c63aa6ffe7c243b837f": {
      "model_module": "@jupyter-widgets/base",
      "model_module_version": "1.2.0",
      "model_name": "LayoutModel",
      "state": {}
     },
     "78338c51eeb24a8db36e65855f623888": {
      "model_module": "@jupyter-widgets/controls",
      "model_module_version": "1.5.0",
      "model_name": "HTMLModel",
      "state": {
       "layout": "IPY_MODEL_1c30fab1c7c0475488057fc44da80c24",
       "style": "IPY_MODEL_7957b025631a41458d5a7d14e7258860",
       "value": " 4/4 [00:00&lt;00:00, 10.94it/s]"
      }
     },
     "783435f52b8448afbebe682b8f4f463c": {
      "model_module": "@jupyter-widgets/controls",
      "model_module_version": "1.5.0",
      "model_name": "FloatProgressModel",
      "state": {
       "bar_style": "success",
       "description": "100%",
       "layout": "IPY_MODEL_fa2635958df24968ad023493be051332",
       "max": 4,
       "style": "IPY_MODEL_80e055ba1f6c4604b15388fa032f7a11",
       "value": 4
      }
     },
     "7855716ad699418ab299c9dd0a869762": {
      "model_module": "@jupyter-widgets/controls",
      "model_module_version": "1.5.0",
      "model_name": "DescriptionStyleModel",
      "state": {
       "description_width": ""
      }
     },
     "785bd544420e44588dca8f93bd146a56": {
      "model_module": "@jupyter-widgets/controls",
      "model_module_version": "1.5.0",
      "model_name": "HTMLModel",
      "state": {
       "layout": "IPY_MODEL_5f29a9e5c4d742e18090fe5eb55389c9",
       "style": "IPY_MODEL_8e192bc7a86742e49b3cc214e5626bb2",
       "value": " 4/4 [00:00&lt;00:00,  9.24it/s]"
      }
     },
     "78ccb51633cc4191a373a60faa602f41": {
      "model_module": "@jupyter-widgets/controls",
      "model_module_version": "1.5.0",
      "model_name": "ProgressStyleModel",
      "state": {
       "description_width": "initial"
      }
     },
     "78d8f14cf28f496e8604dfcce666c09d": {
      "model_module": "@jupyter-widgets/controls",
      "model_module_version": "1.5.0",
      "model_name": "DescriptionStyleModel",
      "state": {
       "description_width": ""
      }
     },
     "791b14afa82348398573192020b006a0": {
      "model_module": "@jupyter-widgets/controls",
      "model_module_version": "1.5.0",
      "model_name": "HBoxModel",
      "state": {
       "children": [
        "IPY_MODEL_5a73de04395f4bc08edfc4f90b18d409",
        "IPY_MODEL_bd7d54c6452c4fce92179f71401bdecb"
       ],
       "layout": "IPY_MODEL_012811cba8bc4c2682f98b28f25bd5e5"
      }
     },
     "793d480f5e08483b8eabe836d5303b36": {
      "model_module": "@jupyter-widgets/controls",
      "model_module_version": "1.5.0",
      "model_name": "DescriptionStyleModel",
      "state": {
       "description_width": ""
      }
     },
     "795022b8c84548cfa0a6ae78bb68eaba": {
      "model_module": "@jupyter-widgets/base",
      "model_module_version": "1.2.0",
      "model_name": "LayoutModel",
      "state": {}
     },
     "7957b025631a41458d5a7d14e7258860": {
      "model_module": "@jupyter-widgets/controls",
      "model_module_version": "1.5.0",
      "model_name": "DescriptionStyleModel",
      "state": {
       "description_width": ""
      }
     },
     "796480c2dff14f4daf4f1002cb636e8b": {
      "model_module": "@jupyter-widgets/base",
      "model_module_version": "1.2.0",
      "model_name": "LayoutModel",
      "state": {}
     },
     "798425cfc7354b009858f4e3d4b73a2a": {
      "model_module": "@jupyter-widgets/controls",
      "model_module_version": "1.5.0",
      "model_name": "ProgressStyleModel",
      "state": {
       "description_width": "initial"
      }
     },
     "799d378cef2847cd8c7bca1f0c4102b6": {
      "model_module": "@jupyter-widgets/controls",
      "model_module_version": "1.5.0",
      "model_name": "ProgressStyleModel",
      "state": {
       "description_width": "initial"
      }
     },
     "79a773bb31eb40be91bd56bd9adc2488": {
      "model_module": "@jupyter-widgets/controls",
      "model_module_version": "1.5.0",
      "model_name": "ProgressStyleModel",
      "state": {
       "description_width": "initial"
      }
     },
     "79dbdfa749cf4ecd91c4b6e820456618": {
      "model_module": "@jupyter-widgets/controls",
      "model_module_version": "1.5.0",
      "model_name": "DescriptionStyleModel",
      "state": {
       "description_width": ""
      }
     },
     "79eb232ea6be404281734765c5e50f02": {
      "model_module": "@jupyter-widgets/base",
      "model_module_version": "1.2.0",
      "model_name": "LayoutModel",
      "state": {}
     },
     "7a2c8c19fecc4efdb041188baef2bc9b": {
      "model_module": "@jupyter-widgets/base",
      "model_module_version": "1.2.0",
      "model_name": "LayoutModel",
      "state": {}
     },
     "7a475ad3e4734fcfb446786f71252f00": {
      "model_module": "@jupyter-widgets/controls",
      "model_module_version": "1.5.0",
      "model_name": "DescriptionStyleModel",
      "state": {
       "description_width": ""
      }
     },
     "7a5221379f2c462382cdb25807c3beb0": {
      "model_module": "@jupyter-widgets/base",
      "model_module_version": "1.2.0",
      "model_name": "LayoutModel",
      "state": {}
     },
     "7a553cd9956c47dc8b6ea9b06285b858": {
      "model_module": "@jupyter-widgets/controls",
      "model_module_version": "1.5.0",
      "model_name": "DescriptionStyleModel",
      "state": {
       "description_width": ""
      }
     },
     "7a5e2db2d5d54f80acdc845c98e48fc5": {
      "model_module": "@jupyter-widgets/controls",
      "model_module_version": "1.5.0",
      "model_name": "HBoxModel",
      "state": {
       "children": [
        "IPY_MODEL_afb44ecb42aa47068a751846490292e6",
        "IPY_MODEL_b2cf47571f20419390dcd9938131ed16"
       ],
       "layout": "IPY_MODEL_fd49a4aecd8f46f1934c1a79b06b7b3b"
      }
     },
     "7a89f5eeb9104e038c08c6ebf88fac2d": {
      "model_module": "@jupyter-widgets/controls",
      "model_module_version": "1.5.0",
      "model_name": "FloatProgressModel",
      "state": {
       "bar_style": "success",
       "description": "100%",
       "layout": "IPY_MODEL_0a42f8fc69cb483c8866979cf0a97b60",
       "max": 30,
       "style": "IPY_MODEL_8aa26969ac2f4cc092b6c6cb6bb24ae1",
       "value": 30
      }
     },
     "7a920b1205ad46789d4d9288ea3c3fdb": {
      "model_module": "@jupyter-widgets/base",
      "model_module_version": "1.2.0",
      "model_name": "LayoutModel",
      "state": {}
     },
     "7b0c9e11d5f44abfb9c257c6f2651338": {
      "model_module": "@jupyter-widgets/base",
      "model_module_version": "1.2.0",
      "model_name": "LayoutModel",
      "state": {}
     },
     "7b45b833870f4b91a10225b18075e927": {
      "model_module": "@jupyter-widgets/controls",
      "model_module_version": "1.5.0",
      "model_name": "DescriptionStyleModel",
      "state": {
       "description_width": ""
      }
     },
     "7bb01a808c814de2bb42bb67eafbe59e": {
      "model_module": "@jupyter-widgets/base",
      "model_module_version": "1.2.0",
      "model_name": "LayoutModel",
      "state": {}
     },
     "7bbd72e854ba4295920d037cb48430f3": {
      "model_module": "@jupyter-widgets/controls",
      "model_module_version": "1.5.0",
      "model_name": "FloatProgressModel",
      "state": {
       "bar_style": "success",
       "description": "100%",
       "layout": "IPY_MODEL_76b5cef5f6094a5797e1374c13ec96bb",
       "max": 4,
       "style": "IPY_MODEL_b466ee5bf2ae4717a434be3a5db753be",
       "value": 4
      }
     },
     "7be8211cad7c4622b257cc4da226e277": {
      "model_module": "@jupyter-widgets/controls",
      "model_module_version": "1.5.0",
      "model_name": "HBoxModel",
      "state": {
       "children": [
        "IPY_MODEL_c9aaf6404c904c3680f0dd2b856db410",
        "IPY_MODEL_c2fff7b8654c4c5eb7b166cf01d96fbc"
       ],
       "layout": "IPY_MODEL_7d2db6e71f3e4ded8d25db1cab3dcd62"
      }
     },
     "7c007b6544124803b2c72bada8b7828d": {
      "model_module": "@jupyter-widgets/controls",
      "model_module_version": "1.5.0",
      "model_name": "ProgressStyleModel",
      "state": {
       "description_width": "initial"
      }
     },
     "7c0273a442184a1e9f6df8cb953c49f3": {
      "model_module": "@jupyter-widgets/controls",
      "model_module_version": "1.5.0",
      "model_name": "HTMLModel",
      "state": {
       "layout": "IPY_MODEL_b3f8367475404c3e810e08fd2240a039",
       "style": "IPY_MODEL_d38b3618042a4d7b8c830a8d282f5c54",
       "value": " 30/30 [00:47&lt;00:00,  1.58s/it]"
      }
     },
     "7cacdfb9eeeb49f08d6ce53974c66085": {
      "model_module": "@jupyter-widgets/controls",
      "model_module_version": "1.5.0",
      "model_name": "FloatProgressModel",
      "state": {
       "bar_style": "success",
       "description": "100%",
       "layout": "IPY_MODEL_74b744439c7e4ecc89a1b6edf8a4bfb5",
       "max": 4,
       "style": "IPY_MODEL_60504d83a632468b917d18b5d396eff3",
       "value": 4
      }
     },
     "7d1fb85f6c1648e4b6f09531d05f4ce2": {
      "model_module": "@jupyter-widgets/controls",
      "model_module_version": "1.5.0",
      "model_name": "DescriptionStyleModel",
      "state": {
       "description_width": ""
      }
     },
     "7d2a4b18277b44c1b662580084161088": {
      "model_module": "@jupyter-widgets/controls",
      "model_module_version": "1.5.0",
      "model_name": "ProgressStyleModel",
      "state": {
       "description_width": "initial"
      }
     },
     "7d2b2f92b52d46d7a409adfb7b1735cf": {
      "model_module": "@jupyter-widgets/controls",
      "model_module_version": "1.5.0",
      "model_name": "ProgressStyleModel",
      "state": {
       "description_width": "initial"
      }
     },
     "7d2db6e71f3e4ded8d25db1cab3dcd62": {
      "model_module": "@jupyter-widgets/base",
      "model_module_version": "1.2.0",
      "model_name": "LayoutModel",
      "state": {}
     },
     "7d3183d6adb240f2a4fce077017ac4a2": {
      "model_module": "@jupyter-widgets/base",
      "model_module_version": "1.2.0",
      "model_name": "LayoutModel",
      "state": {}
     },
     "7d42b0003db7456ea83c632c52510ad1": {
      "model_module": "@jupyter-widgets/base",
      "model_module_version": "1.2.0",
      "model_name": "LayoutModel",
      "state": {}
     },
     "7d473d8d287f49009982680ffceecff5": {
      "model_module": "@jupyter-widgets/controls",
      "model_module_version": "1.5.0",
      "model_name": "FloatProgressModel",
      "state": {
       "bar_style": "success",
       "description": "100%",
       "layout": "IPY_MODEL_de1a8fde74bf4ef39c6ff0952e5c8452",
       "max": 30,
       "style": "IPY_MODEL_81adecc7349e4b438355ced169a5edd0",
       "value": 30
      }
     },
     "7d83bd6737354b8a920287de61d29dd5": {
      "model_module": "@jupyter-widgets/controls",
      "model_module_version": "1.5.0",
      "model_name": "DescriptionStyleModel",
      "state": {
       "description_width": ""
      }
     },
     "7d8f969f390448ef80b3bd318b8d26b3": {
      "model_module": "@jupyter-widgets/base",
      "model_module_version": "1.2.0",
      "model_name": "LayoutModel",
      "state": {}
     },
     "7d9522f935df4b9eac30991b07e0d570": {
      "model_module": "@jupyter-widgets/controls",
      "model_module_version": "1.5.0",
      "model_name": "HBoxModel",
      "state": {
       "children": [
        "IPY_MODEL_1349b1ddce0f4fccab7ae590798bceb6",
        "IPY_MODEL_418b0ba9a8c34d40a3daf6d064aaec1e"
       ],
       "layout": "IPY_MODEL_db46f889f5c244deb3cf505c788123de"
      }
     },
     "7db69a19d7e84b82a97801bb1afbbe00": {
      "model_module": "@jupyter-widgets/controls",
      "model_module_version": "1.5.0",
      "model_name": "HBoxModel",
      "state": {
       "children": [
        "IPY_MODEL_77a097a5288449fc8352b5dc8a04bff8",
        "IPY_MODEL_ec7f8cb558f74b13812aad4531d576a2"
       ],
       "layout": "IPY_MODEL_937d8d1defc944c1977a37270cbc499d"
      }
     },
     "7db709123ae642f59663787dd7e509eb": {
      "model_module": "@jupyter-widgets/base",
      "model_module_version": "1.2.0",
      "model_name": "LayoutModel",
      "state": {}
     },
     "7dd85a347988433d8ba04925995ff255": {
      "model_module": "@jupyter-widgets/controls",
      "model_module_version": "1.5.0",
      "model_name": "DescriptionStyleModel",
      "state": {
       "description_width": ""
      }
     },
     "7e1c8ea65d6e486983d6cba6e8b77c84": {
      "model_module": "@jupyter-widgets/base",
      "model_module_version": "1.2.0",
      "model_name": "LayoutModel",
      "state": {}
     },
     "7e63122153cc4a908142be1b0e8dc2cd": {
      "model_module": "@jupyter-widgets/base",
      "model_module_version": "1.2.0",
      "model_name": "LayoutModel",
      "state": {}
     },
     "7e90e307e1354e2d888922e33af50560": {
      "model_module": "@jupyter-widgets/base",
      "model_module_version": "1.2.0",
      "model_name": "LayoutModel",
      "state": {}
     },
     "7f07691e8b014859a4b4e52b4a5d5b07": {
      "model_module": "@jupyter-widgets/base",
      "model_module_version": "1.2.0",
      "model_name": "LayoutModel",
      "state": {}
     },
     "7f26b43da623402088226a7169d4bf9b": {
      "model_module": "@jupyter-widgets/controls",
      "model_module_version": "1.5.0",
      "model_name": "FloatProgressModel",
      "state": {
       "bar_style": "success",
       "description": "100%",
       "layout": "IPY_MODEL_a8c5576c7bee4d89adb225c04e925ddd",
       "max": 30,
       "style": "IPY_MODEL_4d7557a9aa264917ae89db5525e449a0",
       "value": 30
      }
     },
     "7f5c4f156ad04d518a02ef7c4bb20b8b": {
      "model_module": "@jupyter-widgets/controls",
      "model_module_version": "1.5.0",
      "model_name": "HBoxModel",
      "state": {
       "children": [
        "IPY_MODEL_ee0d010b1fb249278bec346618508e21",
        "IPY_MODEL_f6a05e3354c74290af3a7efb9eadee2a"
       ],
       "layout": "IPY_MODEL_f988fd804a4d40dc92adf5b2e694f4fd"
      }
     },
     "7fd343f8c12c4a058ec5f1379ea6026c": {
      "model_module": "@jupyter-widgets/base",
      "model_module_version": "1.2.0",
      "model_name": "LayoutModel",
      "state": {}
     },
     "802776be669f4632ab4c657b33ae28df": {
      "model_module": "@jupyter-widgets/controls",
      "model_module_version": "1.5.0",
      "model_name": "DescriptionStyleModel",
      "state": {
       "description_width": ""
      }
     },
     "802ed6e122524508b29ab7946e40911b": {
      "model_module": "@jupyter-widgets/base",
      "model_module_version": "1.2.0",
      "model_name": "LayoutModel",
      "state": {}
     },
     "80491c5afaf5473cbe49d55e1b7f6f47": {
      "model_module": "@jupyter-widgets/controls",
      "model_module_version": "1.5.0",
      "model_name": "FloatProgressModel",
      "state": {
       "bar_style": "success",
       "description": "100%",
       "layout": "IPY_MODEL_9b6d4219aa804d90830b6b18bc6bf448",
       "max": 30,
       "style": "IPY_MODEL_dd253b39ec25410db04135d6c51184bc",
       "value": 30
      }
     },
     "807bce1b39874df18437311dee30c7d7": {
      "model_module": "@jupyter-widgets/controls",
      "model_module_version": "1.5.0",
      "model_name": "DescriptionStyleModel",
      "state": {
       "description_width": ""
      }
     },
     "808a8c2c6b6e45f88a636eb54ff19742": {
      "model_module": "@jupyter-widgets/base",
      "model_module_version": "1.2.0",
      "model_name": "LayoutModel",
      "state": {}
     },
     "809b1063a1e64f55b2d19be8a7ca5fbd": {
      "model_module": "@jupyter-widgets/controls",
      "model_module_version": "1.5.0",
      "model_name": "HBoxModel",
      "state": {
       "children": [
        "IPY_MODEL_e96bab91f84d4041b8c79bb436062fe0",
        "IPY_MODEL_52b7a687336745da9ec090f95700a8f1"
       ],
       "layout": "IPY_MODEL_1cb7f1002f4649d6830c06f253a1e9c4"
      }
     },
     "80d4cf56150147d88f06fc2659bf4eef": {
      "model_module": "@jupyter-widgets/base",
      "model_module_version": "1.2.0",
      "model_name": "LayoutModel",
      "state": {}
     },
     "80e055ba1f6c4604b15388fa032f7a11": {
      "model_module": "@jupyter-widgets/controls",
      "model_module_version": "1.5.0",
      "model_name": "ProgressStyleModel",
      "state": {
       "description_width": "initial"
      }
     },
     "811d3d2cbf9d44efb699f8a6f9a7f4f5": {
      "model_module": "@jupyter-widgets/controls",
      "model_module_version": "1.5.0",
      "model_name": "ProgressStyleModel",
      "state": {
       "description_width": "initial"
      }
     },
     "811f666be44f4d859d30ef0f85e85bb5": {
      "model_module": "@jupyter-widgets/controls",
      "model_module_version": "1.5.0",
      "model_name": "HTMLModel",
      "state": {
       "layout": "IPY_MODEL_6207da2ba1be4faca8fd167cec7bef1e",
       "style": "IPY_MODEL_45b6daf5e2044bbb865ab6827dbd7653",
       "value": " 4/4 [00:38&lt;00:00,  9.62s/it]"
      }
     },
     "812c018c06a549dd97cb2a4a42e2976b": {
      "model_module": "@jupyter-widgets/base",
      "model_module_version": "1.2.0",
      "model_name": "LayoutModel",
      "state": {}
     },
     "812ce6b6c3b94459a353d0c67fd6a4de": {
      "model_module": "@jupyter-widgets/base",
      "model_module_version": "1.2.0",
      "model_name": "LayoutModel",
      "state": {}
     },
     "814d56351e9c4d3a93ea371678aecd01": {
      "model_module": "@jupyter-widgets/controls",
      "model_module_version": "1.5.0",
      "model_name": "FloatProgressModel",
      "state": {
       "bar_style": "success",
       "description": "100%",
       "layout": "IPY_MODEL_0e732507c5df47348e9bc6ed630b91c0",
       "max": 4,
       "style": "IPY_MODEL_3c7e2adc51d84eb9b806a2f23badd617",
       "value": 4
      }
     },
     "8154955368184008816147493f21696d": {
      "model_module": "@jupyter-widgets/base",
      "model_module_version": "1.2.0",
      "model_name": "LayoutModel",
      "state": {}
     },
     "815a6d5b808247bf8f3556e0cfee08e4": {
      "model_module": "@jupyter-widgets/controls",
      "model_module_version": "1.5.0",
      "model_name": "HBoxModel",
      "state": {
       "children": [
        "IPY_MODEL_a35ba050bbbe4fb4be13e7cda4b1647b",
        "IPY_MODEL_54505c7a4410483a91117f75b47eb7c8"
       ],
       "layout": "IPY_MODEL_0a05daf08b174235b31753ca82667407"
      }
     },
     "816f4ddda6ed478a96321ff563a47d3f": {
      "model_module": "@jupyter-widgets/base",
      "model_module_version": "1.2.0",
      "model_name": "LayoutModel",
      "state": {}
     },
     "819fde25392b44479f345bcd9f54c96c": {
      "model_module": "@jupyter-widgets/base",
      "model_module_version": "1.2.0",
      "model_name": "LayoutModel",
      "state": {}
     },
     "81adecc7349e4b438355ced169a5edd0": {
      "model_module": "@jupyter-widgets/controls",
      "model_module_version": "1.5.0",
      "model_name": "ProgressStyleModel",
      "state": {
       "description_width": "initial"
      }
     },
     "81b0fe4e53b545b3a38ff9249218f175": {
      "model_module": "@jupyter-widgets/controls",
      "model_module_version": "1.5.0",
      "model_name": "FloatProgressModel",
      "state": {
       "bar_style": "success",
       "description": "100%",
       "layout": "IPY_MODEL_1f0c7a032fc94d11ad2d1f69b59f83a2",
       "max": 4,
       "style": "IPY_MODEL_799d378cef2847cd8c7bca1f0c4102b6",
       "value": 4
      }
     },
     "81d5b5917880449a89f7de0560b1f4bc": {
      "model_module": "@jupyter-widgets/controls",
      "model_module_version": "1.5.0",
      "model_name": "FloatProgressModel",
      "state": {
       "bar_style": "success",
       "description": "100%",
       "layout": "IPY_MODEL_a50018eb766e4e21b554f1618a983e0f",
       "max": 30,
       "style": "IPY_MODEL_ad06213190f648a898441f34cf0e1e08",
       "value": 30
      }
     },
     "8227c5c140db4a50a35a6f096ec4129c": {
      "model_module": "@jupyter-widgets/controls",
      "model_module_version": "1.5.0",
      "model_name": "ProgressStyleModel",
      "state": {
       "description_width": "initial"
      }
     },
     "82328be0026a4252816ac5a9fb33267b": {
      "model_module": "@jupyter-widgets/base",
      "model_module_version": "1.2.0",
      "model_name": "LayoutModel",
      "state": {}
     },
     "823fc25a82244d118d7d1872560e95ee": {
      "model_module": "@jupyter-widgets/controls",
      "model_module_version": "1.5.0",
      "model_name": "HBoxModel",
      "state": {
       "children": [
        "IPY_MODEL_2fbc1d93ab3841718094837ba26d81c4",
        "IPY_MODEL_987fb4e476d949ba92730994b0e84240"
       ],
       "layout": "IPY_MODEL_7fd343f8c12c4a058ec5f1379ea6026c"
      }
     },
     "8249ae5743ff4e07bac85915c5a26e25": {
      "model_module": "@jupyter-widgets/controls",
      "model_module_version": "1.5.0",
      "model_name": "ProgressStyleModel",
      "state": {
       "description_width": "initial"
      }
     },
     "825b4f6977584f3a9933a3f36984b688": {
      "model_module": "@jupyter-widgets/controls",
      "model_module_version": "1.5.0",
      "model_name": "ProgressStyleModel",
      "state": {
       "description_width": "initial"
      }
     },
     "825bd332a4724e4780706ba74d51cee7": {
      "model_module": "@jupyter-widgets/base",
      "model_module_version": "1.2.0",
      "model_name": "LayoutModel",
      "state": {}
     },
     "827bcdf45e39470b8ed5238b7c3bf568": {
      "model_module": "@jupyter-widgets/base",
      "model_module_version": "1.2.0",
      "model_name": "LayoutModel",
      "state": {}
     },
     "827e20cac48341bc83ec2ced0530b066": {
      "model_module": "@jupyter-widgets/base",
      "model_module_version": "1.2.0",
      "model_name": "LayoutModel",
      "state": {}
     },
     "828fb722403e4ce59dce37f75d8e8a42": {
      "model_module": "@jupyter-widgets/controls",
      "model_module_version": "1.5.0",
      "model_name": "FloatProgressModel",
      "state": {
       "bar_style": "success",
       "description": "100%",
       "layout": "IPY_MODEL_083dd1a33353418cb037a3a445bedff1",
       "max": 4,
       "style": "IPY_MODEL_ca8825a67a864692ba6f249c4ee2ed91",
       "value": 4
      }
     },
     "82ac25045c7445c6aaf04343f189c9b7": {
      "model_module": "@jupyter-widgets/base",
      "model_module_version": "1.2.0",
      "model_name": "LayoutModel",
      "state": {}
     },
     "82add0c2686448dbaf87af84761ce7bc": {
      "model_module": "@jupyter-widgets/base",
      "model_module_version": "1.2.0",
      "model_name": "LayoutModel",
      "state": {}
     },
     "82ceb134d980434bb07dcb8f6ecfc5e2": {
      "model_module": "@jupyter-widgets/controls",
      "model_module_version": "1.5.0",
      "model_name": "ProgressStyleModel",
      "state": {
       "description_width": "initial"
      }
     },
     "82da260b1b7f4699a15e0b5cf6511c98": {
      "model_module": "@jupyter-widgets/base",
      "model_module_version": "1.2.0",
      "model_name": "LayoutModel",
      "state": {}
     },
     "831f6a7590d94de582cc1eb19d9ebd59": {
      "model_module": "@jupyter-widgets/controls",
      "model_module_version": "1.5.0",
      "model_name": "HBoxModel",
      "state": {
       "children": [
        "IPY_MODEL_4ac7d36381bd4dc9961d66ac5d165891",
        "IPY_MODEL_716023be76f343c8aaea5ec0cb72b62a"
       ],
       "layout": "IPY_MODEL_c2ed01f3ce3a4d23824b9ae2fbdcb740"
      }
     },
     "8327028e67aa4ea3b8489d5cf3bdb30a": {
      "model_module": "@jupyter-widgets/controls",
      "model_module_version": "1.5.0",
      "model_name": "HBoxModel",
      "state": {
       "children": [
        "IPY_MODEL_a81f992ce89d40aaaf8dbd48feeb8361",
        "IPY_MODEL_45b0449bef3a4771867177fc9f51827a"
       ],
       "layout": "IPY_MODEL_1ee1aef0c95f4b0c87c489ea140d3f19"
      }
     },
     "8398cc0beb324fe7a0ad43a0fc49c91b": {
      "model_module": "@jupyter-widgets/base",
      "model_module_version": "1.2.0",
      "model_name": "LayoutModel",
      "state": {}
     },
     "839b388fa2e54a53b3f11df6c43d24ef": {
      "model_module": "@jupyter-widgets/controls",
      "model_module_version": "1.5.0",
      "model_name": "HBoxModel",
      "state": {
       "children": [
        "IPY_MODEL_b387711704e24bc989b6d8b9f4edbe20",
        "IPY_MODEL_3dfa010056fc4b08aa5d65ca5ffb14af"
       ],
       "layout": "IPY_MODEL_2001aabf25d64a0db07c7ffc1cbad01c"
      }
     },
     "839b6d5a3c854d5fbfdaaabd4db7a167": {
      "model_module": "@jupyter-widgets/controls",
      "model_module_version": "1.5.0",
      "model_name": "ProgressStyleModel",
      "state": {
       "description_width": "initial"
      }
     },
     "83bd630e36214b3d8ca18221151df8ee": {
      "model_module": "@jupyter-widgets/controls",
      "model_module_version": "1.5.0",
      "model_name": "HBoxModel",
      "state": {
       "children": [
        "IPY_MODEL_6628942f848f477eb860c0688e5a6adb",
        "IPY_MODEL_5524ec744c5b4c2fa3c78a63200d0201"
       ],
       "layout": "IPY_MODEL_8f3fb3a03bc342dc99e0f01a9672f4c1"
      }
     },
     "83e7f04e2c18470d874a7827d7a46d25": {
      "model_module": "@jupyter-widgets/controls",
      "model_module_version": "1.5.0",
      "model_name": "DescriptionStyleModel",
      "state": {
       "description_width": ""
      }
     },
     "840e2268b05d4a5793e98a77b41afd4a": {
      "model_module": "@jupyter-widgets/base",
      "model_module_version": "1.2.0",
      "model_name": "LayoutModel",
      "state": {}
     },
     "84301fa9be1b42dd8212c07506730040": {
      "model_module": "@jupyter-widgets/base",
      "model_module_version": "1.2.0",
      "model_name": "LayoutModel",
      "state": {}
     },
     "843ed198ff7a4e1f8c8bdcda76831764": {
      "model_module": "@jupyter-widgets/controls",
      "model_module_version": "1.5.0",
      "model_name": "HTMLModel",
      "state": {
       "layout": "IPY_MODEL_d8fa2704e109464d9ec16190fc71a746",
       "style": "IPY_MODEL_6ae19e6e317247f09546e8b0d4d9b470",
       "value": " 4/4 [00:00&lt;00:00, 11.33it/s]"
      }
     },
     "845cb1f1fd964134b18057739b59b8e8": {
      "model_module": "@jupyter-widgets/controls",
      "model_module_version": "1.5.0",
      "model_name": "FloatProgressModel",
      "state": {
       "bar_style": "success",
       "description": "100%",
       "layout": "IPY_MODEL_646698335bf74e8b8222a3eda92a2a0c",
       "max": 30,
       "style": "IPY_MODEL_1c96b79cbf5a494ba36d37161f36ec8c",
       "value": 30
      }
     },
     "8470b2d8e0e34c79bab36317647cc5d6": {
      "model_module": "@jupyter-widgets/controls",
      "model_module_version": "1.5.0",
      "model_name": "HBoxModel",
      "state": {
       "children": [
        "IPY_MODEL_bcd6df1dc43a4705957d98be3ade19b1",
        "IPY_MODEL_e0a9989ed5ae4fcaa373bac87e06a74b"
       ],
       "layout": "IPY_MODEL_db94bea64cea4c51b29044a317ce25b8"
      }
     },
     "84b8236e96ed42ddb48ddaa25575ef3a": {
      "model_module": "@jupyter-widgets/controls",
      "model_module_version": "1.5.0",
      "model_name": "HTMLModel",
      "state": {
       "layout": "IPY_MODEL_b4795189f20442e295a8668d1c79e45c",
       "style": "IPY_MODEL_934e25232ba2485dafa9e4dd41acb917",
       "value": " 30/30 [00:03&lt;00:00,  8.09it/s]"
      }
     },
     "850f7feda5eb4c818e5f045a475cc105": {
      "model_module": "@jupyter-widgets/base",
      "model_module_version": "1.2.0",
      "model_name": "LayoutModel",
      "state": {}
     },
     "8597dcf9e3aa4a0e8133ea75b524ed1b": {
      "model_module": "@jupyter-widgets/controls",
      "model_module_version": "1.5.0",
      "model_name": "HTMLModel",
      "state": {
       "layout": "IPY_MODEL_2c55d8a3c83e4c88a2f36afc2d03baaa",
       "style": "IPY_MODEL_29d7678f5bef485e8c21d1fe2dfef6cd",
       "value": " 30/30 [00:11&lt;00:00,  2.54it/s]"
      }
     },
     "85cfe321c32349369485f3bd5df1584f": {
      "model_module": "@jupyter-widgets/base",
      "model_module_version": "1.2.0",
      "model_name": "LayoutModel",
      "state": {}
     },
     "860bb9f5ab814d3c8ecdfb39b9abb47d": {
      "model_module": "@jupyter-widgets/controls",
      "model_module_version": "1.5.0",
      "model_name": "FloatProgressModel",
      "state": {
       "bar_style": "success",
       "description": "100%",
       "layout": "IPY_MODEL_26b3bc1014724ff98e18fd07ad0b3ce5",
       "max": 30,
       "style": "IPY_MODEL_3a04ab4e42f04532ba103d91c4011ce1",
       "value": 30
      }
     },
     "861f8c78e7a744c49f8d2eb09aa53a4f": {
      "model_module": "@jupyter-widgets/base",
      "model_module_version": "1.2.0",
      "model_name": "LayoutModel",
      "state": {}
     },
     "8669e91ed28d4c7b96f43d5827d96f9c": {
      "model_module": "@jupyter-widgets/controls",
      "model_module_version": "1.5.0",
      "model_name": "HBoxModel",
      "state": {
       "children": [
        "IPY_MODEL_7d473d8d287f49009982680ffceecff5",
        "IPY_MODEL_0b62f9956d7b41a1801b69e3f09e4ffd"
       ],
       "layout": "IPY_MODEL_af88cfad9d59490ab6820b189826d237"
      }
     },
     "86865df40c0a4ddc876ad1b093fdaca8": {
      "model_module": "@jupyter-widgets/controls",
      "model_module_version": "1.5.0",
      "model_name": "ProgressStyleModel",
      "state": {
       "description_width": "initial"
      }
     },
     "86c422bc3b65485c814758f53c9ec72e": {
      "model_module": "@jupyter-widgets/base",
      "model_module_version": "1.2.0",
      "model_name": "LayoutModel",
      "state": {}
     },
     "86da09e06f274994a88bcb1a291d9eba": {
      "model_module": "@jupyter-widgets/base",
      "model_module_version": "1.2.0",
      "model_name": "LayoutModel",
      "state": {}
     },
     "86f61d005ce5470681fdaac0487af64c": {
      "model_module": "@jupyter-widgets/base",
      "model_module_version": "1.2.0",
      "model_name": "LayoutModel",
      "state": {}
     },
     "8748916c7d23418bb54370e665f58649": {
      "model_module": "@jupyter-widgets/controls",
      "model_module_version": "1.5.0",
      "model_name": "ProgressStyleModel",
      "state": {
       "description_width": "initial"
      }
     },
     "87b76d5ae54843f0bf00e7924cfbd550": {
      "model_module": "@jupyter-widgets/controls",
      "model_module_version": "1.5.0",
      "model_name": "HBoxModel",
      "state": {
       "children": [
        "IPY_MODEL_537d59fb9bf644e1a6b5a1c214f74e74",
        "IPY_MODEL_ffd70a7c54ea47eab0b2643689518266"
       ],
       "layout": "IPY_MODEL_fa074c4adc6549be80c3e5f1eff44906"
      }
     },
     "87f9db636d9b4273acc9d6203e5df192": {
      "model_module": "@jupyter-widgets/controls",
      "model_module_version": "1.5.0",
      "model_name": "DescriptionStyleModel",
      "state": {
       "description_width": ""
      }
     },
     "88075bba18cc46fd8c9bf050a017bb8d": {
      "model_module": "@jupyter-widgets/base",
      "model_module_version": "1.2.0",
      "model_name": "LayoutModel",
      "state": {}
     },
     "889f9a80b82347288e58db7787da240b": {
      "model_module": "@jupyter-widgets/controls",
      "model_module_version": "1.5.0",
      "model_name": "ProgressStyleModel",
      "state": {
       "description_width": "initial"
      }
     },
     "890621abd5b24bd18814d71cc8b84b60": {
      "model_module": "@jupyter-widgets/controls",
      "model_module_version": "1.5.0",
      "model_name": "HBoxModel",
      "state": {
       "children": [
        "IPY_MODEL_b2858dbbe7da4189a66de7253c50b1b4",
        "IPY_MODEL_24b064a0a7974afc9700ceb0034e21ca"
       ],
       "layout": "IPY_MODEL_b32e9a7a7cbd41208d93b087592f8b30"
      }
     },
     "890d26da27bc4126923f994edb824583": {
      "model_module": "@jupyter-widgets/base",
      "model_module_version": "1.2.0",
      "model_name": "LayoutModel",
      "state": {}
     },
     "8926759baa794c1eb5ca9cc3e9c9ae0e": {
      "model_module": "@jupyter-widgets/controls",
      "model_module_version": "1.5.0",
      "model_name": "FloatProgressModel",
      "state": {
       "bar_style": "success",
       "description": "100%",
       "layout": "IPY_MODEL_3ba799ecf33e49ae97a4f010123b66c9",
       "max": 30,
       "style": "IPY_MODEL_256607bcb20c4a309effa7c453f8f5fa",
       "value": 30
      }
     },
     "8943d0586cca48379af4e6dc87280989": {
      "model_module": "@jupyter-widgets/controls",
      "model_module_version": "1.5.0",
      "model_name": "HTMLModel",
      "state": {
       "layout": "IPY_MODEL_2ccf8220d41f4a209ed21dcf304f31dd",
       "style": "IPY_MODEL_22d8e2b25f2a4efca090db4f5bbb6815",
       "value": " 30/30 [00:22&lt;00:00,  1.31it/s]"
      }
     },
     "897009b8837f4cb890e41fc13f8deaf7": {
      "model_module": "@jupyter-widgets/controls",
      "model_module_version": "1.5.0",
      "model_name": "ProgressStyleModel",
      "state": {
       "description_width": "initial"
      }
     },
     "8977f5a8edd74d388c91572a5d2eb7ed": {
      "model_module": "@jupyter-widgets/controls",
      "model_module_version": "1.5.0",
      "model_name": "HBoxModel",
      "state": {
       "children": [
        "IPY_MODEL_a59df5f8c99a4af59be06f84ef3a8f35",
        "IPY_MODEL_add8df94e03049819fad4b4bf1374e61"
       ],
       "layout": "IPY_MODEL_0a9fb97a13764a2793b244ecfc5ca798"
      }
     },
     "897de5611baf44638ca0ce84e248163d": {
      "model_module": "@jupyter-widgets/controls",
      "model_module_version": "1.5.0",
      "model_name": "ProgressStyleModel",
      "state": {
       "description_width": "initial"
      }
     },
     "898200fa73fc45a089f8dbd93f0798b5": {
      "model_module": "@jupyter-widgets/controls",
      "model_module_version": "1.5.0",
      "model_name": "FloatProgressModel",
      "state": {
       "bar_style": "success",
       "description": "100%",
       "layout": "IPY_MODEL_6516893d27e14d75822bf98a924c3768",
       "max": 4,
       "style": "IPY_MODEL_ffb6849902824de29066487a5eb75bab",
       "value": 4
      }
     },
     "89be7b82a3e242c78440ec5413dcb0b0": {
      "model_module": "@jupyter-widgets/controls",
      "model_module_version": "1.5.0",
      "model_name": "FloatProgressModel",
      "state": {
       "bar_style": "success",
       "description": "100%",
       "layout": "IPY_MODEL_5f3bc6dfec61426987a9c35a682b02f0",
       "max": 30,
       "style": "IPY_MODEL_962e681e6c2f4470b8459f26a8ace94f",
       "value": 30
      }
     },
     "89c5bbd82ee54046b8143008c41ec20f": {
      "model_module": "@jupyter-widgets/controls",
      "model_module_version": "1.5.0",
      "model_name": "HBoxModel",
      "state": {
       "children": [
        "IPY_MODEL_7bbd72e854ba4295920d037cb48430f3",
        "IPY_MODEL_f8e9dd337c6f4491a924e99200f5a2fd"
       ],
       "layout": "IPY_MODEL_f0eb360830044f579035dc0f8b30060d"
      }
     },
     "89f5a0a572814a6b897a8db4cd26fdc3": {
      "model_module": "@jupyter-widgets/base",
      "model_module_version": "1.2.0",
      "model_name": "LayoutModel",
      "state": {}
     },
     "8a56a3901a0a466d92d2a2fc9e80a240": {
      "model_module": "@jupyter-widgets/controls",
      "model_module_version": "1.5.0",
      "model_name": "HTMLModel",
      "state": {
       "layout": "IPY_MODEL_b192ac7bcde74f62bf2892540fec10d2",
       "style": "IPY_MODEL_db0ac94eaf064895b4a49554b7126b70",
       "value": " 4/4 [00:38&lt;00:00,  9.60s/it]"
      }
     },
     "8a9c19b836b14ce1822e82fd5b58e519": {
      "model_module": "@jupyter-widgets/controls",
      "model_module_version": "1.5.0",
      "model_name": "HTMLModel",
      "state": {
       "layout": "IPY_MODEL_be7395e591094d469d83dcab147fc184",
       "style": "IPY_MODEL_96a0dbfd5afb4fafa46be410756594a3",
       "value": " 30/30 [00:03&lt;00:00,  7.66it/s]"
      }
     },
     "8aa26969ac2f4cc092b6c6cb6bb24ae1": {
      "model_module": "@jupyter-widgets/controls",
      "model_module_version": "1.5.0",
      "model_name": "ProgressStyleModel",
      "state": {
       "description_width": "initial"
      }
     },
     "8ac522dbaabe4355aefac6c600e5d253": {
      "model_module": "@jupyter-widgets/base",
      "model_module_version": "1.2.0",
      "model_name": "LayoutModel",
      "state": {}
     },
     "8ae3dc89e11d413785efc37ca1e158f1": {
      "model_module": "@jupyter-widgets/controls",
      "model_module_version": "1.5.0",
      "model_name": "ProgressStyleModel",
      "state": {
       "description_width": "initial"
      }
     },
     "8af173439d514b708444c69cc94bd072": {
      "model_module": "@jupyter-widgets/base",
      "model_module_version": "1.2.0",
      "model_name": "LayoutModel",
      "state": {}
     },
     "8afb8e5185af4c64a7e9dedb3268d5c1": {
      "model_module": "@jupyter-widgets/controls",
      "model_module_version": "1.5.0",
      "model_name": "HBoxModel",
      "state": {
       "children": [
        "IPY_MODEL_5f0f1f20ba3147fe85e53cc1195d5fd5",
        "IPY_MODEL_99d51b366a2849ae88cae1830b8e63bd"
       ],
       "layout": "IPY_MODEL_cc2c50f97467442bb77a38ea6c937be7"
      }
     },
     "8b01ad21cc3849d5afd996bbc9825702": {
      "model_module": "@jupyter-widgets/base",
      "model_module_version": "1.2.0",
      "model_name": "LayoutModel",
      "state": {}
     },
     "8b2c33f3e935463ebae86dd4166e528b": {
      "model_module": "@jupyter-widgets/base",
      "model_module_version": "1.2.0",
      "model_name": "LayoutModel",
      "state": {}
     },
     "8b382ac07e514aed85d27be71f0f6f53": {
      "model_module": "@jupyter-widgets/controls",
      "model_module_version": "1.5.0",
      "model_name": "DescriptionStyleModel",
      "state": {
       "description_width": ""
      }
     },
     "8b9cec6779ff4d7ca412553b92259d72": {
      "model_module": "@jupyter-widgets/controls",
      "model_module_version": "1.5.0",
      "model_name": "HTMLModel",
      "state": {
       "layout": "IPY_MODEL_38af02c99727464996e846da829eb797",
       "style": "IPY_MODEL_793d480f5e08483b8eabe836d5303b36",
       "value": " 30/30 [00:03&lt;00:00,  7.75it/s]"
      }
     },
     "8bc78baf21d140ceb8b744a946a3ebec": {
      "model_module": "@jupyter-widgets/controls",
      "model_module_version": "1.5.0",
      "model_name": "ProgressStyleModel",
      "state": {
       "description_width": "initial"
      }
     },
     "8bcd10f2bdef47cea6d20a137704508b": {
      "model_module": "@jupyter-widgets/controls",
      "model_module_version": "1.5.0",
      "model_name": "FloatProgressModel",
      "state": {
       "bar_style": "success",
       "description": "100%",
       "layout": "IPY_MODEL_a8ea09884ee54d8f84d9f257440f2de3",
       "max": 30,
       "style": "IPY_MODEL_63d8ae81b0434aa89a2e6363d757e30a",
       "value": 30
      }
     },
     "8c5676ce3e5246fb8fcc668bbde9fea3": {
      "model_module": "@jupyter-widgets/base",
      "model_module_version": "1.2.0",
      "model_name": "LayoutModel",
      "state": {}
     },
     "8c625957974848e0a7cb8a5550898768": {
      "model_module": "@jupyter-widgets/controls",
      "model_module_version": "1.5.0",
      "model_name": "HTMLModel",
      "state": {
       "layout": "IPY_MODEL_febdb3d68a1d4214ab90766b1d064fbe",
       "style": "IPY_MODEL_bf86b01ab58d4cdaa7e6a1092d1f6a05",
       "value": " 30/30 [00:04&lt;00:00,  6.84it/s]"
      }
     },
     "8c66afc226b64b0c9b672be86c4078a9": {
      "model_module": "@jupyter-widgets/base",
      "model_module_version": "1.2.0",
      "model_name": "LayoutModel",
      "state": {}
     },
     "8c8843a22df649ca96d8c1a68f2780a2": {
      "model_module": "@jupyter-widgets/controls",
      "model_module_version": "1.5.0",
      "model_name": "HBoxModel",
      "state": {
       "children": [
        "IPY_MODEL_aaf25d1431b1423bba277f71f19d1685",
        "IPY_MODEL_5bbb3a4484344f7ab6b0241f7f6fab0a"
       ],
       "layout": "IPY_MODEL_f890acfea0a44c498aeda9e783626ca7"
      }
     },
     "8d45b01bfe4d4ff7a87055b0f6e27fd3": {
      "model_module": "@jupyter-widgets/controls",
      "model_module_version": "1.5.0",
      "model_name": "ProgressStyleModel",
      "state": {
       "description_width": "initial"
      }
     },
     "8d679f04fc274f7fa219bd6dcec88a32": {
      "model_module": "@jupyter-widgets/base",
      "model_module_version": "1.2.0",
      "model_name": "LayoutModel",
      "state": {}
     },
     "8d97e75b23144f4fa7a0678d9c38155a": {
      "model_module": "@jupyter-widgets/base",
      "model_module_version": "1.2.0",
      "model_name": "LayoutModel",
      "state": {}
     },
     "8e192bc7a86742e49b3cc214e5626bb2": {
      "model_module": "@jupyter-widgets/controls",
      "model_module_version": "1.5.0",
      "model_name": "DescriptionStyleModel",
      "state": {
       "description_width": ""
      }
     },
     "8e77d5004098400393756d810f57665a": {
      "model_module": "@jupyter-widgets/controls",
      "model_module_version": "1.5.0",
      "model_name": "FloatProgressModel",
      "state": {
       "bar_style": "success",
       "description": "100%",
       "layout": "IPY_MODEL_4ded2f6755884064bdc1397f08f9ae49",
       "max": 4,
       "style": "IPY_MODEL_5bc1ff6ec7ee4733827fb66b065b31f0",
       "value": 4
      }
     },
     "8e92ce70b9b64aab958b5aa3b0f6e85b": {
      "model_module": "@jupyter-widgets/controls",
      "model_module_version": "1.5.0",
      "model_name": "ProgressStyleModel",
      "state": {
       "description_width": "initial"
      }
     },
     "8e99930116c44f028999a56e2ab0c6c8": {
      "model_module": "@jupyter-widgets/base",
      "model_module_version": "1.2.0",
      "model_name": "LayoutModel",
      "state": {}
     },
     "8e9bd1a1eab94da0be83f601c50652e5": {
      "model_module": "@jupyter-widgets/controls",
      "model_module_version": "1.5.0",
      "model_name": "HBoxModel",
      "state": {
       "children": [
        "IPY_MODEL_addf898863c242e19b1f3cb113f5147b",
        "IPY_MODEL_d50f4bfe7803410dadf9ebfbb1b77a95"
       ],
       "layout": "IPY_MODEL_dcb27b017ab1420ab5e059d7940c27f1"
      }
     },
     "8eb7974b79f14847aaa3b7118a4b0b75": {
      "model_module": "@jupyter-widgets/base",
      "model_module_version": "1.2.0",
      "model_name": "LayoutModel",
      "state": {}
     },
     "8ee28efe41e24008864508e9416a6f8e": {
      "model_module": "@jupyter-widgets/base",
      "model_module_version": "1.2.0",
      "model_name": "LayoutModel",
      "state": {}
     },
     "8f183d117bd549bca6d9a4846f757153": {
      "model_module": "@jupyter-widgets/base",
      "model_module_version": "1.2.0",
      "model_name": "LayoutModel",
      "state": {}
     },
     "8f3fb3a03bc342dc99e0f01a9672f4c1": {
      "model_module": "@jupyter-widgets/base",
      "model_module_version": "1.2.0",
      "model_name": "LayoutModel",
      "state": {}
     },
     "8f65848af33345e2bb79b317d5be68fb": {
      "model_module": "@jupyter-widgets/controls",
      "model_module_version": "1.5.0",
      "model_name": "ProgressStyleModel",
      "state": {
       "description_width": "initial"
      }
     },
     "8fd4d0ed967b4c87b11f1222ab40d645": {
      "model_module": "@jupyter-widgets/controls",
      "model_module_version": "1.5.0",
      "model_name": "DescriptionStyleModel",
      "state": {
       "description_width": ""
      }
     },
     "8ff9bdf5a81c4d99aafb9809f7b1b03d": {
      "model_module": "@jupyter-widgets/controls",
      "model_module_version": "1.5.0",
      "model_name": "HTMLModel",
      "state": {
       "layout": "IPY_MODEL_b23fbfe32cac4798bfa09ea9ea71da93",
       "style": "IPY_MODEL_fd7945223a1a49b88996254d5b948d13",
       "value": " 4/4 [00:04&lt;00:00,  1.13s/it]"
      }
     },
     "8ffd18f7af8743ad8d2b64da0f8c9040": {
      "model_module": "@jupyter-widgets/controls",
      "model_module_version": "1.5.0",
      "model_name": "HBoxModel",
      "state": {
       "children": [
        "IPY_MODEL_4cdc0c4bb63e4da399d32cc1fc031919",
        "IPY_MODEL_be7f971101684176a24b514af5107014"
       ],
       "layout": "IPY_MODEL_92a7259614494a23b0aabc6510905b80"
      }
     },
     "8ffd3a025edc43169af1c29481de5766": {
      "model_module": "@jupyter-widgets/base",
      "model_module_version": "1.2.0",
      "model_name": "LayoutModel",
      "state": {}
     },
     "9005de87669a4ae2ae771dcb25c40750": {
      "model_module": "@jupyter-widgets/controls",
      "model_module_version": "1.5.0",
      "model_name": "DescriptionStyleModel",
      "state": {
       "description_width": ""
      }
     },
     "9028e30720484572ad9caf721f77a512": {
      "model_module": "@jupyter-widgets/base",
      "model_module_version": "1.2.0",
      "model_name": "LayoutModel",
      "state": {}
     },
     "9029479287c24413b8c05a915c409270": {
      "model_module": "@jupyter-widgets/controls",
      "model_module_version": "1.5.0",
      "model_name": "DescriptionStyleModel",
      "state": {
       "description_width": ""
      }
     },
     "90366444e1614d729dcd6827ee670be6": {
      "model_module": "@jupyter-widgets/base",
      "model_module_version": "1.2.0",
      "model_name": "LayoutModel",
      "state": {}
     },
     "9049c992263a4a75a4f2a276ca3f4bad": {
      "model_module": "@jupyter-widgets/base",
      "model_module_version": "1.2.0",
      "model_name": "LayoutModel",
      "state": {}
     },
     "90d2576b2b4c4e878949855787aded6b": {
      "model_module": "@jupyter-widgets/base",
      "model_module_version": "1.2.0",
      "model_name": "LayoutModel",
      "state": {}
     },
     "911a78b3dedd4474a430a00d9d42ae2f": {
      "model_module": "@jupyter-widgets/controls",
      "model_module_version": "1.5.0",
      "model_name": "FloatProgressModel",
      "state": {
       "bar_style": "success",
       "description": "100%",
       "layout": "IPY_MODEL_ac38713c15dc4a8c9cd2a886e279db1b",
       "max": 4,
       "style": "IPY_MODEL_0c5b6e200de54335896e4cf191224bbb",
       "value": 4
      }
     },
     "911aa1747eb8496c88c0f05414386a7b": {
      "model_module": "@jupyter-widgets/controls",
      "model_module_version": "1.5.0",
      "model_name": "HTMLModel",
      "state": {
       "layout": "IPY_MODEL_0a3dd1701f044ca8bdf078aa5f66b50e",
       "style": "IPY_MODEL_349494c7f3d644b7893ddc38f407578d",
       "value": " 4/4 [00:00&lt;00:00,  8.29it/s]"
      }
     },
     "912b56f3f25c4fee8e119279db7bcc3f": {
      "model_module": "@jupyter-widgets/controls",
      "model_module_version": "1.5.0",
      "model_name": "ProgressStyleModel",
      "state": {
       "description_width": "initial"
      }
     },
     "914119d8b96543f98c920807aa8392f8": {
      "model_module": "@jupyter-widgets/controls",
      "model_module_version": "1.5.0",
      "model_name": "ProgressStyleModel",
      "state": {
       "description_width": "initial"
      }
     },
     "914f934d07754235a5aa275f58a7a8e5": {
      "model_module": "@jupyter-widgets/controls",
      "model_module_version": "1.5.0",
      "model_name": "ProgressStyleModel",
      "state": {
       "description_width": "initial"
      }
     },
     "916fceaf33b8402f8628d86e3fc6e5f1": {
      "model_module": "@jupyter-widgets/base",
      "model_module_version": "1.2.0",
      "model_name": "LayoutModel",
      "state": {}
     },
     "9183ea1fbe3742aeb954a16e04079a3c": {
      "model_module": "@jupyter-widgets/controls",
      "model_module_version": "1.5.0",
      "model_name": "HTMLModel",
      "state": {
       "layout": "IPY_MODEL_b359a4c428de448188b666ba26c145d2",
       "style": "IPY_MODEL_5920f6ef5935487bbd237d4cfb215190",
       "value": " 4/4 [00:39&lt;00:00,  9.80s/it]"
      }
     },
     "91cc39d943584a9bb9931c7d24275f95": {
      "model_module": "@jupyter-widgets/controls",
      "model_module_version": "1.5.0",
      "model_name": "HBoxModel",
      "state": {
       "children": [
        "IPY_MODEL_9cf0b3012c644e7ebb647ffc6357a9e7",
        "IPY_MODEL_2f9d05f84d984c419bd5a14891b68441"
       ],
       "layout": "IPY_MODEL_b5ba4e91bd8d4134870565e57fc27fa1"
      }
     },
     "925528a78b804dca89c42c8161e4b4ce": {
      "model_module": "@jupyter-widgets/base",
      "model_module_version": "1.2.0",
      "model_name": "LayoutModel",
      "state": {}
     },
     "927492feffab4b028bc2e0ccb4a52201": {
      "model_module": "@jupyter-widgets/base",
      "model_module_version": "1.2.0",
      "model_name": "LayoutModel",
      "state": {}
     },
     "92a48a3456a54e7a87a30d2ae876b045": {
      "model_module": "@jupyter-widgets/controls",
      "model_module_version": "1.5.0",
      "model_name": "FloatProgressModel",
      "state": {
       "bar_style": "success",
       "description": "100%",
       "layout": "IPY_MODEL_c32ad072afb74f989b2bef7c1b523bd9",
       "max": 30,
       "style": "IPY_MODEL_897009b8837f4cb890e41fc13f8deaf7",
       "value": 30
      }
     },
     "92a7259614494a23b0aabc6510905b80": {
      "model_module": "@jupyter-widgets/base",
      "model_module_version": "1.2.0",
      "model_name": "LayoutModel",
      "state": {}
     },
     "92ba13b2af1745c7871240e910f5f7cc": {
      "model_module": "@jupyter-widgets/base",
      "model_module_version": "1.2.0",
      "model_name": "LayoutModel",
      "state": {}
     },
     "92c7b66e759f4fbf979ff71eba1ab572": {
      "model_module": "@jupyter-widgets/base",
      "model_module_version": "1.2.0",
      "model_name": "LayoutModel",
      "state": {}
     },
     "92de6f1c3b414f0488f7cc4b9ddf285b": {
      "model_module": "@jupyter-widgets/controls",
      "model_module_version": "1.5.0",
      "model_name": "ProgressStyleModel",
      "state": {
       "description_width": "initial"
      }
     },
     "92f100fe74b34fbd9b7b30188e2b81f8": {
      "model_module": "@jupyter-widgets/base",
      "model_module_version": "1.2.0",
      "model_name": "LayoutModel",
      "state": {}
     },
     "92fa866e5fdd4065800e0aa2bd4ffc8b": {
      "model_module": "@jupyter-widgets/controls",
      "model_module_version": "1.5.0",
      "model_name": "ProgressStyleModel",
      "state": {
       "description_width": "initial"
      }
     },
     "9312c5bee9c84be2ae49d9abb06a0481": {
      "model_module": "@jupyter-widgets/base",
      "model_module_version": "1.2.0",
      "model_name": "LayoutModel",
      "state": {}
     },
     "934e25232ba2485dafa9e4dd41acb917": {
      "model_module": "@jupyter-widgets/controls",
      "model_module_version": "1.5.0",
      "model_name": "DescriptionStyleModel",
      "state": {
       "description_width": ""
      }
     },
     "93626f0ec046421090c92b5587b019c8": {
      "model_module": "@jupyter-widgets/controls",
      "model_module_version": "1.5.0",
      "model_name": "HBoxModel",
      "state": {
       "children": [
        "IPY_MODEL_b5dd7545bcce41a0a37545fb16cf5eb1",
        "IPY_MODEL_cdb99f7d0fe54d2faddcb2e73085dde1"
       ],
       "layout": "IPY_MODEL_4b350c6f60a5442fa74bb9f34ea8390e"
      }
     },
     "937d8d1defc944c1977a37270cbc499d": {
      "model_module": "@jupyter-widgets/base",
      "model_module_version": "1.2.0",
      "model_name": "LayoutModel",
      "state": {}
     },
     "939a6048a69f41d198c1501b425296fb": {
      "model_module": "@jupyter-widgets/controls",
      "model_module_version": "1.5.0",
      "model_name": "FloatProgressModel",
      "state": {
       "bar_style": "success",
       "description": "100%",
       "layout": "IPY_MODEL_ed9ba29743f14564980f0ecb0035805f",
       "max": 30,
       "style": "IPY_MODEL_fc2b729cab234499abae0356caa66c4a",
       "value": 30
      }
     },
     "93c2d787ab9240b5aebffedee126b70e": {
      "model_module": "@jupyter-widgets/base",
      "model_module_version": "1.2.0",
      "model_name": "LayoutModel",
      "state": {}
     },
     "93ce28dab96f41d99ef5f3e5dcc711ec": {
      "model_module": "@jupyter-widgets/controls",
      "model_module_version": "1.5.0",
      "model_name": "HBoxModel",
      "state": {
       "children": [
        "IPY_MODEL_05ccd095243e4107943ed672430fae03",
        "IPY_MODEL_e0c15e7925f340a7ac5a2cd279adc130"
       ],
       "layout": "IPY_MODEL_54831b1ed3e84eff90100426b52383d3"
      }
     },
     "942eab98954c4e98b2b03372ae5fb524": {
      "model_module": "@jupyter-widgets/controls",
      "model_module_version": "1.5.0",
      "model_name": "DescriptionStyleModel",
      "state": {
       "description_width": ""
      }
     },
     "944a776247af413ca3959e807e5edb6a": {
      "model_module": "@jupyter-widgets/controls",
      "model_module_version": "1.5.0",
      "model_name": "DescriptionStyleModel",
      "state": {
       "description_width": ""
      }
     },
     "945579afa5154a5e96acdd9e7926d168": {
      "model_module": "@jupyter-widgets/base",
      "model_module_version": "1.2.0",
      "model_name": "LayoutModel",
      "state": {}
     },
     "94ab7dcecb494376b80b7ab6c977c46a": {
      "model_module": "@jupyter-widgets/base",
      "model_module_version": "1.2.0",
      "model_name": "LayoutModel",
      "state": {}
     },
     "94c147eb91494d8ba2b9a9c99d77f4d9": {
      "model_module": "@jupyter-widgets/controls",
      "model_module_version": "1.5.0",
      "model_name": "DescriptionStyleModel",
      "state": {
       "description_width": ""
      }
     },
     "94c4b26518a54adab03b8a6a4e707725": {
      "model_module": "@jupyter-widgets/controls",
      "model_module_version": "1.5.0",
      "model_name": "ProgressStyleModel",
      "state": {
       "description_width": "initial"
      }
     },
     "94e7866ea1d949c5998720f61a9235f0": {
      "model_module": "@jupyter-widgets/controls",
      "model_module_version": "1.5.0",
      "model_name": "FloatProgressModel",
      "state": {
       "bar_style": "success",
       "description": "100%",
       "layout": "IPY_MODEL_e4502264a8794777b87191040e61a15b",
       "max": 4,
       "style": "IPY_MODEL_e7eafe47caaa40169a7bd1d7098b595f",
       "value": 4
      }
     },
     "94f0112e6a1f40bda176c252103d1651": {
      "model_module": "@jupyter-widgets/controls",
      "model_module_version": "1.5.0",
      "model_name": "HTMLModel",
      "state": {
       "layout": "IPY_MODEL_961aea1b61a54049a911380fa379119e",
       "style": "IPY_MODEL_2acdda0532154b86b584845957aca79c",
       "value": " 30/30 [00:03&lt;00:00,  7.56it/s]"
      }
     },
     "954ffd287af34926bca8ce1d336a157c": {
      "model_module": "@jupyter-widgets/controls",
      "model_module_version": "1.5.0",
      "model_name": "ProgressStyleModel",
      "state": {
       "description_width": "initial"
      }
     },
     "9585ae7630634931979e9cba641810a6": {
      "model_module": "@jupyter-widgets/controls",
      "model_module_version": "1.5.0",
      "model_name": "HTMLModel",
      "state": {
       "layout": "IPY_MODEL_1f10f822d9b146fb8c6c2575689bd350",
       "style": "IPY_MODEL_bf6079533f734524b7333591905b4cec",
       "value": " 4/4 [00:01&lt;00:00,  2.67it/s]"
      }
     },
     "95a85991aa9c4a81beea8c6273e88b19": {
      "model_module": "@jupyter-widgets/controls",
      "model_module_version": "1.5.0",
      "model_name": "ProgressStyleModel",
      "state": {
       "description_width": "initial"
      }
     },
     "95d2971130eb4656a546b10d49f21896": {
      "model_module": "@jupyter-widgets/controls",
      "model_module_version": "1.5.0",
      "model_name": "HBoxModel",
      "state": {
       "children": [
        "IPY_MODEL_b16093a906b54224bdfafc5aa3dd88bf",
        "IPY_MODEL_f3841e46c5684417b6f5adc568b0d9ab"
       ],
       "layout": "IPY_MODEL_90366444e1614d729dcd6827ee670be6"
      }
     },
     "960a46b206f34dd2b44bc47cc206e5c7": {
      "model_module": "@jupyter-widgets/controls",
      "model_module_version": "1.5.0",
      "model_name": "HBoxModel",
      "state": {
       "children": [
        "IPY_MODEL_9731690a8c364d7c859723595cd2b90e",
        "IPY_MODEL_5af267ff17654286af7522bf7b0be6ff"
       ],
       "layout": "IPY_MODEL_a10b24feddf740fc92834f2a0582f653"
      }
     },
     "9611465861a849639539329a164b4c96": {
      "model_module": "@jupyter-widgets/controls",
      "model_module_version": "1.5.0",
      "model_name": "ProgressStyleModel",
      "state": {
       "description_width": "initial"
      }
     },
     "961164b8595a4f1494974f92a784658a": {
      "model_module": "@jupyter-widgets/base",
      "model_module_version": "1.2.0",
      "model_name": "LayoutModel",
      "state": {}
     },
     "961aea1b61a54049a911380fa379119e": {
      "model_module": "@jupyter-widgets/base",
      "model_module_version": "1.2.0",
      "model_name": "LayoutModel",
      "state": {}
     },
     "96216d752f06460abaaa739b9dfc1c06": {
      "model_module": "@jupyter-widgets/controls",
      "model_module_version": "1.5.0",
      "model_name": "HBoxModel",
      "state": {
       "children": [
        "IPY_MODEL_0835b8aa0974411f96b4621ae54f4eeb",
        "IPY_MODEL_5f60dd52d68242ada1ad27367c0f86c6"
       ],
       "layout": "IPY_MODEL_3b075fab00544bc5a34533c2c3a27874"
      }
     },
     "962e681e6c2f4470b8459f26a8ace94f": {
      "model_module": "@jupyter-widgets/controls",
      "model_module_version": "1.5.0",
      "model_name": "ProgressStyleModel",
      "state": {
       "description_width": "initial"
      }
     },
     "9655fe27e9294be1a0f3f33eedf44eeb": {
      "model_module": "@jupyter-widgets/controls",
      "model_module_version": "1.5.0",
      "model_name": "DescriptionStyleModel",
      "state": {
       "description_width": ""
      }
     },
     "965d30f6299c4860bba89c540c80abbe": {
      "model_module": "@jupyter-widgets/controls",
      "model_module_version": "1.5.0",
      "model_name": "DescriptionStyleModel",
      "state": {
       "description_width": ""
      }
     },
     "96767a1558814c04877d4ce977e4557a": {
      "model_module": "@jupyter-widgets/base",
      "model_module_version": "1.2.0",
      "model_name": "LayoutModel",
      "state": {}
     },
     "9676af352e554084a02b87511c38fe66": {
      "model_module": "@jupyter-widgets/controls",
      "model_module_version": "1.5.0",
      "model_name": "HBoxModel",
      "state": {
       "children": [
        "IPY_MODEL_397af8683f3c40629717c7f1f85714fb",
        "IPY_MODEL_40f45ad03fe04b82ab62f93923c48398"
       ],
       "layout": "IPY_MODEL_42bc843f636f41459c2801473caa4dbc"
      }
     },
     "968108e1d9e0418886e8fc92a3d3ba2d": {
      "model_module": "@jupyter-widgets/controls",
      "model_module_version": "1.5.0",
      "model_name": "DescriptionStyleModel",
      "state": {
       "description_width": ""
      }
     },
     "9697919dc4f14f0db27275e695559f74": {
      "model_module": "@jupyter-widgets/controls",
      "model_module_version": "1.5.0",
      "model_name": "ProgressStyleModel",
      "state": {
       "description_width": "initial"
      }
     },
     "96a0dbfd5afb4fafa46be410756594a3": {
      "model_module": "@jupyter-widgets/controls",
      "model_module_version": "1.5.0",
      "model_name": "DescriptionStyleModel",
      "state": {
       "description_width": ""
      }
     },
     "970837f1b108404684cc8349dce2af57": {
      "model_module": "@jupyter-widgets/base",
      "model_module_version": "1.2.0",
      "model_name": "LayoutModel",
      "state": {}
     },
     "9709d9b5631e46b9874516cb4be957cd": {
      "model_module": "@jupyter-widgets/base",
      "model_module_version": "1.2.0",
      "model_name": "LayoutModel",
      "state": {}
     },
     "9731690a8c364d7c859723595cd2b90e": {
      "model_module": "@jupyter-widgets/controls",
      "model_module_version": "1.5.0",
      "model_name": "FloatProgressModel",
      "state": {
       "bar_style": "success",
       "description": "100%",
       "layout": "IPY_MODEL_fb95b85cafa7420dbaeea9e2f0335364",
       "max": 30,
       "style": "IPY_MODEL_2b916d4e4ec440c28ef11a4476203b77",
       "value": 30
      }
     },
     "97367ee338dc474288b0d767edaf30b4": {
      "model_module": "@jupyter-widgets/controls",
      "model_module_version": "1.5.0",
      "model_name": "HBoxModel",
      "state": {
       "children": [
        "IPY_MODEL_3e0f8b5c67fd4274a42e302f478c8ca8",
        "IPY_MODEL_b9bae2f3b6724203ba8e0021e0cf888b"
       ],
       "layout": "IPY_MODEL_18f5a9bb1c954557abf5ecd05d486fd4"
      }
     },
     "974be80494b94ca49913b1fea39ed898": {
      "model_module": "@jupyter-widgets/base",
      "model_module_version": "1.2.0",
      "model_name": "LayoutModel",
      "state": {}
     },
     "9768c690427144a39a8f0aef9522fba0": {
      "model_module": "@jupyter-widgets/controls",
      "model_module_version": "1.5.0",
      "model_name": "ProgressStyleModel",
      "state": {
       "description_width": "initial"
      }
     },
     "97805b04dc6e4c82832624bec8ff9f38": {
      "model_module": "@jupyter-widgets/base",
      "model_module_version": "1.2.0",
      "model_name": "LayoutModel",
      "state": {}
     },
     "978b164856364b77909cb34d5f501aa5": {
      "model_module": "@jupyter-widgets/controls",
      "model_module_version": "1.5.0",
      "model_name": "HTMLModel",
      "state": {
       "layout": "IPY_MODEL_e4673f52d0464d71aba24988f22f31c2",
       "style": "IPY_MODEL_9029479287c24413b8c05a915c409270",
       "value": " 4/4 [00:04&lt;00:00,  1.07s/it]"
      }
     },
     "9798521694094005ae5bfeea1d22c224": {
      "model_module": "@jupyter-widgets/controls",
      "model_module_version": "1.5.0",
      "model_name": "HBoxModel",
      "state": {
       "children": [
        "IPY_MODEL_50789f4e0dea42aaa58ad676498a9d7e",
        "IPY_MODEL_e11f2ea26ed44fe6b40e881fcd1618c0"
       ],
       "layout": "IPY_MODEL_8ee28efe41e24008864508e9416a6f8e"
      }
     },
     "979eeb089714452ab748954f001cf5fc": {
      "model_module": "@jupyter-widgets/controls",
      "model_module_version": "1.5.0",
      "model_name": "ProgressStyleModel",
      "state": {
       "description_width": "initial"
      }
     },
     "97b2c3d3c0924bf9bc7874c9bcab463b": {
      "model_module": "@jupyter-widgets/controls",
      "model_module_version": "1.5.0",
      "model_name": "HBoxModel",
      "state": {
       "children": [
        "IPY_MODEL_48d4d1fdbc80415794807ac00d2a8998",
        "IPY_MODEL_7c0273a442184a1e9f6df8cb953c49f3"
       ],
       "layout": "IPY_MODEL_8b2c33f3e935463ebae86dd4166e528b"
      }
     },
     "97c93f36f6704c5889c607f6df29dc28": {
      "model_module": "@jupyter-widgets/base",
      "model_module_version": "1.2.0",
      "model_name": "LayoutModel",
      "state": {}
     },
     "97d6bce2951e4ddc90f28122880700cc": {
      "model_module": "@jupyter-widgets/base",
      "model_module_version": "1.2.0",
      "model_name": "LayoutModel",
      "state": {}
     },
     "980756005c8e459691aa79b276311897": {
      "model_module": "@jupyter-widgets/base",
      "model_module_version": "1.2.0",
      "model_name": "LayoutModel",
      "state": {}
     },
     "9814a6c342df4ab7ae3827b5f2a37efa": {
      "model_module": "@jupyter-widgets/controls",
      "model_module_version": "1.5.0",
      "model_name": "HTMLModel",
      "state": {
       "layout": "IPY_MODEL_c09e48c0f48b433398a2332fd48fe736",
       "style": "IPY_MODEL_02b2df0b6dc94d0e8aabb02e1a9d135e",
       "value": " 30/30 [00:04&lt;00:00,  6.97it/s]"
      }
     },
     "9817dd62a44a49589f8b27d54295e721": {
      "model_module": "@jupyter-widgets/controls",
      "model_module_version": "1.5.0",
      "model_name": "HBoxModel",
      "state": {
       "children": [
        "IPY_MODEL_c91d9a51e7e34f7a9447083b51486342",
        "IPY_MODEL_b540e9ea8a554dbab4287dbee359505a"
       ],
       "layout": "IPY_MODEL_3f9e2f4d739a4010a66a413e10533412"
      }
     },
     "9841bf72c12542e39b44ce2f9a37f818": {
      "model_module": "@jupyter-widgets/controls",
      "model_module_version": "1.5.0",
      "model_name": "FloatProgressModel",
      "state": {
       "bar_style": "success",
       "description": "100%",
       "layout": "IPY_MODEL_82328be0026a4252816ac5a9fb33267b",
       "max": 4,
       "style": "IPY_MODEL_0c0e6973193c4a009f00baef050be18f",
       "value": 4
      }
     },
     "98771db4b6734e3ca086efa951e9befc": {
      "model_module": "@jupyter-widgets/base",
      "model_module_version": "1.2.0",
      "model_name": "LayoutModel",
      "state": {}
     },
     "987fb4e476d949ba92730994b0e84240": {
      "model_module": "@jupyter-widgets/controls",
      "model_module_version": "1.5.0",
      "model_name": "HTMLModel",
      "state": {
       "layout": "IPY_MODEL_92c7b66e759f4fbf979ff71eba1ab572",
       "style": "IPY_MODEL_723ddbc2339c44eabb31cef77380cb69",
       "value": " 4/4 [00:00&lt;00:00, 10.63it/s]"
      }
     },
     "98ae3a2d6b424d9ea8708d00595f04d8": {
      "model_module": "@jupyter-widgets/controls",
      "model_module_version": "1.5.0",
      "model_name": "HBoxModel",
      "state": {
       "children": [
        "IPY_MODEL_68ffefcd23284861a7fb5b52b7368bdd",
        "IPY_MODEL_3d1f62bb0e94445db2e4b278b88aa745"
       ],
       "layout": "IPY_MODEL_b52c899a84824314923617277c46bea5"
      }
     },
     "98ae642156564aeb9e74eb1f03574202": {
      "model_module": "@jupyter-widgets/controls",
      "model_module_version": "1.5.0",
      "model_name": "HBoxModel",
      "state": {
       "children": [
        "IPY_MODEL_c3266d6d63be41569ff1b690cdf8628d",
        "IPY_MODEL_702fc0a7fe584c3eba4a62166a7b44df"
       ],
       "layout": "IPY_MODEL_90d2576b2b4c4e878949855787aded6b"
      }
     },
     "98d70b15506543baad2a242b0eb64f19": {
      "model_module": "@jupyter-widgets/base",
      "model_module_version": "1.2.0",
      "model_name": "LayoutModel",
      "state": {}
     },
     "990a0c3d132243ee9921865963b55eb3": {
      "model_module": "@jupyter-widgets/base",
      "model_module_version": "1.2.0",
      "model_name": "LayoutModel",
      "state": {}
     },
     "992fbdd059b14c0eb13f7987f16805b1": {
      "model_module": "@jupyter-widgets/controls",
      "model_module_version": "1.5.0",
      "model_name": "HTMLModel",
      "state": {
       "layout": "IPY_MODEL_e29f446628d64ee9b2d3e7506f8b3986",
       "style": "IPY_MODEL_a039aa15d07e4980a8028c75869cd5c8",
       "value": " 30/30 [00:11&lt;00:00,  2.63it/s]"
      }
     },
     "998b75cd3e9e43eb9e00a2ca9b1a1d55": {
      "model_module": "@jupyter-widgets/base",
      "model_module_version": "1.2.0",
      "model_name": "LayoutModel",
      "state": {}
     },
     "999248f3cd9a4aad864e242fdb517131": {
      "model_module": "@jupyter-widgets/base",
      "model_module_version": "1.2.0",
      "model_name": "LayoutModel",
      "state": {}
     },
     "99b5cb2fe2a44606aa6fd06e31dfb464": {
      "model_module": "@jupyter-widgets/base",
      "model_module_version": "1.2.0",
      "model_name": "LayoutModel",
      "state": {}
     },
     "99d51b366a2849ae88cae1830b8e63bd": {
      "model_module": "@jupyter-widgets/controls",
      "model_module_version": "1.5.0",
      "model_name": "HTMLModel",
      "state": {
       "layout": "IPY_MODEL_44899a9a851646869629166a7a3057d7",
       "style": "IPY_MODEL_3c0ccf9293b148728eb8669a7539faff",
       "value": " 4/4 [00:01&lt;00:00,  2.34it/s]"
      }
     },
     "99f2669059774cefac1a7447d7243df2": {
      "model_module": "@jupyter-widgets/controls",
      "model_module_version": "1.5.0",
      "model_name": "HTMLModel",
      "state": {
       "layout": "IPY_MODEL_15e3f00a57d5454b95513809e3362ab5",
       "style": "IPY_MODEL_145b594f909f4ccfa7bf8f6238113c53",
       "value": " 4/4 [00:03&lt;00:00,  1.01it/s]"
      }
     },
     "9a26cd31bbbe445c8ba556bfb660f7d8": {
      "model_module": "@jupyter-widgets/base",
      "model_module_version": "1.2.0",
      "model_name": "LayoutModel",
      "state": {}
     },
     "9a40b9c4a0fc474787ffc4814e31f308": {
      "model_module": "@jupyter-widgets/controls",
      "model_module_version": "1.5.0",
      "model_name": "ProgressStyleModel",
      "state": {
       "description_width": "initial"
      }
     },
     "9a45e976844249e3ad7a34a8cb5a5f4d": {
      "model_module": "@jupyter-widgets/base",
      "model_module_version": "1.2.0",
      "model_name": "LayoutModel",
      "state": {}
     },
     "9a527d2946d64c73b6721e867fe61b97": {
      "model_module": "@jupyter-widgets/controls",
      "model_module_version": "1.5.0",
      "model_name": "DescriptionStyleModel",
      "state": {
       "description_width": ""
      }
     },
     "9ac24b8baf3a47c8a4c4a9e86997f088": {
      "model_module": "@jupyter-widgets/controls",
      "model_module_version": "1.5.0",
      "model_name": "HBoxModel",
      "state": {
       "children": [
        "IPY_MODEL_e64d180b45774d76927570a5e44fed7d",
        "IPY_MODEL_e92204863afe447981c5f75c014f1c72"
       ],
       "layout": "IPY_MODEL_10c4be74e71e42ec93a6ae6404a94fba"
      }
     },
     "9acc116b6e734da785d159b18a1b9558": {
      "model_module": "@jupyter-widgets/controls",
      "model_module_version": "1.5.0",
      "model_name": "HTMLModel",
      "state": {
       "layout": "IPY_MODEL_21c93a174161422aa6a3220ec5d9806d",
       "style": "IPY_MODEL_bf605b93059448319369af75814e8d0a",
       "value": " 30/30 [00:03&lt;00:00,  7.82it/s]"
      }
     },
     "9b26f7977da54af98d685276628ede87": {
      "model_module": "@jupyter-widgets/base",
      "model_module_version": "1.2.0",
      "model_name": "LayoutModel",
      "state": {}
     },
     "9b27527c9b804a0aa34348d759693484": {
      "model_module": "@jupyter-widgets/controls",
      "model_module_version": "1.5.0",
      "model_name": "HTMLModel",
      "state": {
       "layout": "IPY_MODEL_6e4f7b64c32944e690ce6db688ae9c8c",
       "style": "IPY_MODEL_c75d7f63a8d8449a8a3122844de3d71e",
       "value": " 30/30 [00:04&lt;00:00,  6.99it/s]"
      }
     },
     "9b60ee72df714793961056593ffda86b": {
      "model_module": "@jupyter-widgets/base",
      "model_module_version": "1.2.0",
      "model_name": "LayoutModel",
      "state": {}
     },
     "9b6d4219aa804d90830b6b18bc6bf448": {
      "model_module": "@jupyter-widgets/base",
      "model_module_version": "1.2.0",
      "model_name": "LayoutModel",
      "state": {}
     },
     "9bccaf9a90d840668dcd9b7f9a5e96db": {
      "model_module": "@jupyter-widgets/controls",
      "model_module_version": "1.5.0",
      "model_name": "ProgressStyleModel",
      "state": {
       "description_width": "initial"
      }
     },
     "9bd784106cc147d0970d84c49288857b": {
      "model_module": "@jupyter-widgets/controls",
      "model_module_version": "1.5.0",
      "model_name": "DescriptionStyleModel",
      "state": {
       "description_width": ""
      }
     },
     "9c1f1349354047c786bfe6df9220e77f": {
      "model_module": "@jupyter-widgets/controls",
      "model_module_version": "1.5.0",
      "model_name": "HBoxModel",
      "state": {
       "children": [
        "IPY_MODEL_ce922ba40e9c4350899aae406f0e5cc5",
        "IPY_MODEL_30de6f075b384fffbbf78e06cec619cc"
       ],
       "layout": "IPY_MODEL_7e63122153cc4a908142be1b0e8dc2cd"
      }
     },
     "9c3decee08fc49e38c21d376465cab63": {
      "model_module": "@jupyter-widgets/base",
      "model_module_version": "1.2.0",
      "model_name": "LayoutModel",
      "state": {}
     },
     "9c49e291b8584303b3c0156932080063": {
      "model_module": "@jupyter-widgets/base",
      "model_module_version": "1.2.0",
      "model_name": "LayoutModel",
      "state": {}
     },
     "9c5a53730f4a48ea84eb0568363ddbb5": {
      "model_module": "@jupyter-widgets/base",
      "model_module_version": "1.2.0",
      "model_name": "LayoutModel",
      "state": {}
     },
     "9c7860d3ad634444bcb9ab6fe43a49bf": {
      "model_module": "@jupyter-widgets/base",
      "model_module_version": "1.2.0",
      "model_name": "LayoutModel",
      "state": {}
     },
     "9c9070200e5d413e99ad24d290596271": {
      "model_module": "@jupyter-widgets/base",
      "model_module_version": "1.2.0",
      "model_name": "LayoutModel",
      "state": {}
     },
     "9cf0b3012c644e7ebb647ffc6357a9e7": {
      "model_module": "@jupyter-widgets/controls",
      "model_module_version": "1.5.0",
      "model_name": "FloatProgressModel",
      "state": {
       "bar_style": "success",
       "description": "100%",
       "layout": "IPY_MODEL_aa1a5b90676444648b0d07cd17d35300",
       "max": 4,
       "style": "IPY_MODEL_7d2b2f92b52d46d7a409adfb7b1735cf",
       "value": 4
      }
     },
     "9cf968509d5b44afa9129739364bb1c7": {
      "model_module": "@jupyter-widgets/base",
      "model_module_version": "1.2.0",
      "model_name": "LayoutModel",
      "state": {}
     },
     "9cfa5f8dc4bc4af19a1e9d9d4f0e14bf": {
      "model_module": "@jupyter-widgets/controls",
      "model_module_version": "1.5.0",
      "model_name": "HTMLModel",
      "state": {
       "layout": "IPY_MODEL_b5930bdc980e4bcb9da04f2525ae4333",
       "style": "IPY_MODEL_2d000dc2b5064d4d8d0ae4ac841a4dad",
       "value": " 4/4 [00:00&lt;00:00, 10.42it/s]"
      }
     },
     "9d18689bec574ec687db4a6a316f2082": {
      "model_module": "@jupyter-widgets/controls",
      "model_module_version": "1.5.0",
      "model_name": "FloatProgressModel",
      "state": {
       "bar_style": "success",
       "description": "100%",
       "layout": "IPY_MODEL_14a2d4724ab84e7084a76aa14e3f4821",
       "max": 30,
       "style": "IPY_MODEL_4bb37b7c16924722aee8473fbc4ae15e",
       "value": 30
      }
     },
     "9d338e8e3e004665bd5dbe87c3f1811d": {
      "model_module": "@jupyter-widgets/controls",
      "model_module_version": "1.5.0",
      "model_name": "ProgressStyleModel",
      "state": {
       "description_width": "initial"
      }
     },
     "9d87b26e630f44c38de419aaa928a248": {
      "model_module": "@jupyter-widgets/controls",
      "model_module_version": "1.5.0",
      "model_name": "FloatProgressModel",
      "state": {
       "bar_style": "success",
       "description": "100%",
       "layout": "IPY_MODEL_512af2a88a314be092a53246fd5cbfb9",
       "max": 4,
       "style": "IPY_MODEL_b0c5578ed9d648c89b623acad080f786",
       "value": 4
      }
     },
     "9d97c92a4ee14b5f8a2f0e45879fa183": {
      "model_module": "@jupyter-widgets/base",
      "model_module_version": "1.2.0",
      "model_name": "LayoutModel",
      "state": {}
     },
     "9db1fbb9b874424089f33499bf3b53d8": {
      "model_module": "@jupyter-widgets/base",
      "model_module_version": "1.2.0",
      "model_name": "LayoutModel",
      "state": {}
     },
     "9dc37ad5ef0c488aacfd9e5d519c7252": {
      "model_module": "@jupyter-widgets/base",
      "model_module_version": "1.2.0",
      "model_name": "LayoutModel",
      "state": {}
     },
     "9de3147c234745b6bef987462c4456e7": {
      "model_module": "@jupyter-widgets/controls",
      "model_module_version": "1.5.0",
      "model_name": "HBoxModel",
      "state": {
       "children": [
        "IPY_MODEL_409fed98b65e457fb5fcc56fa966d9f5",
        "IPY_MODEL_70a7497b28b54c18b4f0222a2f76a7d5"
       ],
       "layout": "IPY_MODEL_540c46e1b0ba459db113cb94c3dcd0c3"
      }
     },
     "9de6e6a4387244a3b7823f48100c7884": {
      "model_module": "@jupyter-widgets/base",
      "model_module_version": "1.2.0",
      "model_name": "LayoutModel",
      "state": {}
     },
     "9de9f3623a0c4402af26c7114a70941b": {
      "model_module": "@jupyter-widgets/controls",
      "model_module_version": "1.5.0",
      "model_name": "HTMLModel",
      "state": {
       "layout": "IPY_MODEL_01957a1c027143d6a0572ee477dd6fca",
       "style": "IPY_MODEL_6b28fa65406b4f29a717a62ccf60641a",
       "value": " 30/30 [00:04&lt;00:00,  7.31it/s]"
      }
     },
     "9e3567d56a2d4a3086c9c51cbc38e5c8": {
      "model_module": "@jupyter-widgets/controls",
      "model_module_version": "1.5.0",
      "model_name": "DescriptionStyleModel",
      "state": {
       "description_width": ""
      }
     },
     "9e537d7eff174a36b2dc32a6420febea": {
      "model_module": "@jupyter-widgets/base",
      "model_module_version": "1.2.0",
      "model_name": "LayoutModel",
      "state": {}
     },
     "9e5a5ae147c94caa98ce1853acc71ef7": {
      "model_module": "@jupyter-widgets/controls",
      "model_module_version": "1.5.0",
      "model_name": "HBoxModel",
      "state": {
       "children": [
        "IPY_MODEL_898200fa73fc45a089f8dbd93f0798b5",
        "IPY_MODEL_e67a7db9ab2d433e80a5681f87e779af"
       ],
       "layout": "IPY_MODEL_6d9f35119caa4a7f9d77817ca0519a8e"
      }
     },
     "9e6e3ccf24774f77af25af640cc8cf98": {
      "model_module": "@jupyter-widgets/controls",
      "model_module_version": "1.5.0",
      "model_name": "HBoxModel",
      "state": {
       "children": [
        "IPY_MODEL_ec88b95131d74262b265750dc516e89c",
        "IPY_MODEL_eb8d54a870bd49b4b21dd68049b787c3"
       ],
       "layout": "IPY_MODEL_7d42b0003db7456ea83c632c52510ad1"
      }
     },
     "9e76813d5b614e289571605007ca8567": {
      "model_module": "@jupyter-widgets/base",
      "model_module_version": "1.2.0",
      "model_name": "LayoutModel",
      "state": {}
     },
     "9e9028d9efe24256af837965c1c14698": {
      "model_module": "@jupyter-widgets/base",
      "model_module_version": "1.2.0",
      "model_name": "LayoutModel",
      "state": {}
     },
     "9e93debfcc014f3f8592960eb968b866": {
      "model_module": "@jupyter-widgets/base",
      "model_module_version": "1.2.0",
      "model_name": "LayoutModel",
      "state": {}
     },
     "9ec68e06a61447739d8276f87e19d257": {
      "model_module": "@jupyter-widgets/controls",
      "model_module_version": "1.5.0",
      "model_name": "HBoxModel",
      "state": {
       "children": [
        "IPY_MODEL_21ce19af9e1942b498a96c029071c726",
        "IPY_MODEL_1deb8600fff0403abea1735dfcdb55ca"
       ],
       "layout": "IPY_MODEL_a028cbeeb9a64a16840d6aa6208385a7"
      }
     },
     "9edf3a439b7e4f52924c33dcef2659b1": {
      "model_module": "@jupyter-widgets/base",
      "model_module_version": "1.2.0",
      "model_name": "LayoutModel",
      "state": {}
     },
     "9eef93203d224d01badb7b6c24bf9a9a": {
      "model_module": "@jupyter-widgets/controls",
      "model_module_version": "1.5.0",
      "model_name": "HBoxModel",
      "state": {
       "children": [
        "IPY_MODEL_89be7b82a3e242c78440ec5413dcb0b0",
        "IPY_MODEL_08227fea58f1450d980451c8bc045ea4"
       ],
       "layout": "IPY_MODEL_0b13e8cb62784f9eb9a0ecca17735016"
      }
     },
     "9f1d274b6e1547c5b4c7ed2812e92776": {
      "model_module": "@jupyter-widgets/controls",
      "model_module_version": "1.5.0",
      "model_name": "HBoxModel",
      "state": {
       "children": [
        "IPY_MODEL_24810cfdeeef4e5f8c669995453fef7b",
        "IPY_MODEL_99f2669059774cefac1a7447d7243df2"
       ],
       "layout": "IPY_MODEL_fa6ee5f705334e65b8a07cdc334fa5aa"
      }
     },
     "9f29d2d7871249b4b8725abad715e6b9": {
      "model_module": "@jupyter-widgets/controls",
      "model_module_version": "1.5.0",
      "model_name": "FloatProgressModel",
      "state": {
       "bar_style": "success",
       "description": "100%",
       "layout": "IPY_MODEL_a08804a3e42e451685a62d6e743e9343",
       "max": 30,
       "style": "IPY_MODEL_d8ee6c806a0f4887bf06df50688462be",
       "value": 30
      }
     },
     "9f3395fa61d44c65a03a6bd3619cfff3": {
      "model_module": "@jupyter-widgets/controls",
      "model_module_version": "1.5.0",
      "model_name": "DescriptionStyleModel",
      "state": {
       "description_width": ""
      }
     },
     "9f9970e797394ec8961663ce2b347b3b": {
      "model_module": "@jupyter-widgets/controls",
      "model_module_version": "1.5.0",
      "model_name": "ProgressStyleModel",
      "state": {
       "description_width": "initial"
      }
     },
     "9ff8297638cf48a7b2d73ff8b50ecb44": {
      "model_module": "@jupyter-widgets/base",
      "model_module_version": "1.2.0",
      "model_name": "LayoutModel",
      "state": {}
     },
     "a00f985bc2c44a4a8be985c104384da6": {
      "model_module": "@jupyter-widgets/controls",
      "model_module_version": "1.5.0",
      "model_name": "HBoxModel",
      "state": {
       "children": [
        "IPY_MODEL_12a38c3add0c4cceb808fd922209b473",
        "IPY_MODEL_ba878a7736c54f31bf52c0d015d9467f"
       ],
       "layout": "IPY_MODEL_c1174c25ba54486aab03527069daef91"
      }
     },
     "a028cbeeb9a64a16840d6aa6208385a7": {
      "model_module": "@jupyter-widgets/base",
      "model_module_version": "1.2.0",
      "model_name": "LayoutModel",
      "state": {}
     },
     "a039aa15d07e4980a8028c75869cd5c8": {
      "model_module": "@jupyter-widgets/controls",
      "model_module_version": "1.5.0",
      "model_name": "DescriptionStyleModel",
      "state": {
       "description_width": ""
      }
     },
     "a05c0d2ce1d54d80ad1a54f2557c65fc": {
      "model_module": "@jupyter-widgets/controls",
      "model_module_version": "1.5.0",
      "model_name": "DescriptionStyleModel",
      "state": {
       "description_width": ""
      }
     },
     "a08804a3e42e451685a62d6e743e9343": {
      "model_module": "@jupyter-widgets/base",
      "model_module_version": "1.2.0",
      "model_name": "LayoutModel",
      "state": {}
     },
     "a0a55f7578d2476697f4f79ec6ebb46b": {
      "model_module": "@jupyter-widgets/controls",
      "model_module_version": "1.5.0",
      "model_name": "FloatProgressModel",
      "state": {
       "bar_style": "success",
       "description": "100%",
       "layout": "IPY_MODEL_3d5eb9ba9c2145a58dbd91adc68a876b",
       "max": 4,
       "style": "IPY_MODEL_889f9a80b82347288e58db7787da240b",
       "value": 4
      }
     },
     "a0d73423bbc9479db940bff5a8575791": {
      "model_module": "@jupyter-widgets/controls",
      "model_module_version": "1.5.0",
      "model_name": "HTMLModel",
      "state": {
       "layout": "IPY_MODEL_5dc4d0344945486e97c8e4e15089ad40",
       "style": "IPY_MODEL_2f9e7a64e1f044378645dd928fe9abad",
       "value": " 4/4 [00:02&lt;00:00,  1.61it/s]"
      }
     },
     "a0f9957ed67a4dec87f290e734966589": {
      "model_module": "@jupyter-widgets/controls",
      "model_module_version": "1.5.0",
      "model_name": "HBoxModel",
      "state": {
       "children": [
        "IPY_MODEL_e1a8bcd0fa2440268bbc929347fea8f1",
        "IPY_MODEL_fcda6d7d0e564bcf8efca92f687e08a4"
       ],
       "layout": "IPY_MODEL_b62c23946d664dac8157c855042c0e35"
      }
     },
     "a10b24feddf740fc92834f2a0582f653": {
      "model_module": "@jupyter-widgets/base",
      "model_module_version": "1.2.0",
      "model_name": "LayoutModel",
      "state": {}
     },
     "a124bed73036427a8d69aefdca14fbb9": {
      "model_module": "@jupyter-widgets/controls",
      "model_module_version": "1.5.0",
      "model_name": "DescriptionStyleModel",
      "state": {
       "description_width": ""
      }
     },
     "a1293db271b94623b94389edaadb2231": {
      "model_module": "@jupyter-widgets/base",
      "model_module_version": "1.2.0",
      "model_name": "LayoutModel",
      "state": {}
     },
     "a12a7f8b2ba548d5a027dba1ad3b646d": {
      "model_module": "@jupyter-widgets/controls",
      "model_module_version": "1.5.0",
      "model_name": "ProgressStyleModel",
      "state": {
       "description_width": "initial"
      }
     },
     "a133451cddb94c819c47144a1cd54cb4": {
      "model_module": "@jupyter-widgets/controls",
      "model_module_version": "1.5.0",
      "model_name": "HTMLModel",
      "state": {
       "layout": "IPY_MODEL_a1a64f0950c741eaaba7b2b7227956d3",
       "style": "IPY_MODEL_031481cc025a44db97046a9f114b90a0",
       "value": " 30/30 [00:03&lt;00:00,  7.75it/s]"
      }
     },
     "a13df71d10a94a7f89fd472dbc56f922": {
      "model_module": "@jupyter-widgets/base",
      "model_module_version": "1.2.0",
      "model_name": "LayoutModel",
      "state": {}
     },
     "a17b212a4adb482a8f0214a71f929ad5": {
      "model_module": "@jupyter-widgets/base",
      "model_module_version": "1.2.0",
      "model_name": "LayoutModel",
      "state": {}
     },
     "a1968a10f1d5423f94e1ba5faaf0cdd5": {
      "model_module": "@jupyter-widgets/controls",
      "model_module_version": "1.5.0",
      "model_name": "ProgressStyleModel",
      "state": {
       "description_width": "initial"
      }
     },
     "a1a64f0950c741eaaba7b2b7227956d3": {
      "model_module": "@jupyter-widgets/base",
      "model_module_version": "1.2.0",
      "model_name": "LayoutModel",
      "state": {}
     },
     "a22485b3042f45f2945da943d9e93ce3": {
      "model_module": "@jupyter-widgets/base",
      "model_module_version": "1.2.0",
      "model_name": "LayoutModel",
      "state": {}
     },
     "a2423b9d40e9452cb20fe198721fd26e": {
      "model_module": "@jupyter-widgets/base",
      "model_module_version": "1.2.0",
      "model_name": "LayoutModel",
      "state": {}
     },
     "a250471b35f545c79a2ef8ffdaf0790d": {
      "model_module": "@jupyter-widgets/controls",
      "model_module_version": "1.5.0",
      "model_name": "ProgressStyleModel",
      "state": {
       "description_width": "initial"
      }
     },
     "a30e9d00e741444b9121d9c1c4fd6f98": {
      "model_module": "@jupyter-widgets/controls",
      "model_module_version": "1.5.0",
      "model_name": "HBoxModel",
      "state": {
       "children": [
        "IPY_MODEL_5a21dc720b314e7e90e999ead79dad3b",
        "IPY_MODEL_b3f7fbc1de744657acd16e3c5d561208"
       ],
       "layout": "IPY_MODEL_4418a1d6e6ed4f29922d86a04778aff1"
      }
     },
     "a33961d848534b3d97461cb7c21d97f4": {
      "model_module": "@jupyter-widgets/controls",
      "model_module_version": "1.5.0",
      "model_name": "ProgressStyleModel",
      "state": {
       "description_width": "initial"
      }
     },
     "a3504139d0f8411eb006911b04261798": {
      "model_module": "@jupyter-widgets/controls",
      "model_module_version": "1.5.0",
      "model_name": "DescriptionStyleModel",
      "state": {
       "description_width": ""
      }
     },
     "a35ba050bbbe4fb4be13e7cda4b1647b": {
      "model_module": "@jupyter-widgets/controls",
      "model_module_version": "1.5.0",
      "model_name": "FloatProgressModel",
      "state": {
       "bar_style": "success",
       "description": "100%",
       "layout": "IPY_MODEL_999248f3cd9a4aad864e242fdb517131",
       "max": 30,
       "style": "IPY_MODEL_fac588057ec240a9af1953bb3bdbc110",
       "value": 30
      }
     },
     "a37bb365e8f949bfab86bdfde42c1a3e": {
      "model_module": "@jupyter-widgets/controls",
      "model_module_version": "1.5.0",
      "model_name": "HBoxModel",
      "state": {
       "children": [
        "IPY_MODEL_92a48a3456a54e7a87a30d2ae876b045",
        "IPY_MODEL_84b8236e96ed42ddb48ddaa25575ef3a"
       ],
       "layout": "IPY_MODEL_827bcdf45e39470b8ed5238b7c3bf568"
      }
     },
     "a3ee630c84074b82bf4898b28028559a": {
      "model_module": "@jupyter-widgets/controls",
      "model_module_version": "1.5.0",
      "model_name": "HBoxModel",
      "state": {
       "children": [
        "IPY_MODEL_3c389df0a6e74bbbaa884f8fb2338af6",
        "IPY_MODEL_d4cf4a5b244b462fb77bc96b42ef35db"
       ],
       "layout": "IPY_MODEL_1f69ee4db22b4ee685bf53824f4a0ff3"
      }
     },
     "a3f1cfa250524c968615960b8426b6ea": {
      "model_module": "@jupyter-widgets/controls",
      "model_module_version": "1.5.0",
      "model_name": "FloatProgressModel",
      "state": {
       "bar_style": "success",
       "description": "100%",
       "layout": "IPY_MODEL_444a6a9d44ae498b99e71f2e174b842d",
       "max": 4,
       "style": "IPY_MODEL_b0fc9112a226432cb783fba5e68d2b4c",
       "value": 4
      }
     },
     "a461f2f454674ca1adfc4875b3e41897": {
      "model_module": "@jupyter-widgets/base",
      "model_module_version": "1.2.0",
      "model_name": "LayoutModel",
      "state": {}
     },
     "a49d62f974c0463eb5c9cf9eb9a37bca": {
      "model_module": "@jupyter-widgets/controls",
      "model_module_version": "1.5.0",
      "model_name": "HBoxModel",
      "state": {
       "children": [
        "IPY_MODEL_7cacdfb9eeeb49f08d6ce53974c66085",
        "IPY_MODEL_4188f819c32a437c8cd6ee0aa2a5313a"
       ],
       "layout": "IPY_MODEL_61ebcb5ccd9d44339ad81494ec9fdd71"
      }
     },
     "a4cd0b85a409492795bf1147a406a50b": {
      "model_module": "@jupyter-widgets/controls",
      "model_module_version": "1.5.0",
      "model_name": "HTMLModel",
      "state": {
       "layout": "IPY_MODEL_74ce4401b47a48238e908729360e489d",
       "style": "IPY_MODEL_f14a369c4dd24044a2b939e1f462f45f",
       "value": " 30/30 [00:33&lt;00:00,  1.12s/it]"
      }
     },
     "a50018eb766e4e21b554f1618a983e0f": {
      "model_module": "@jupyter-widgets/base",
      "model_module_version": "1.2.0",
      "model_name": "LayoutModel",
      "state": {}
     },
     "a504d3eddd494f5c8ac18d6919160426": {
      "model_module": "@jupyter-widgets/controls",
      "model_module_version": "1.5.0",
      "model_name": "HBoxModel",
      "state": {
       "children": [
        "IPY_MODEL_55fda7e2d9434ee3ad4d0ee439fd3086",
        "IPY_MODEL_3343470169fc4a5797304baed60f2651"
       ],
       "layout": "IPY_MODEL_4377acb051b14c408bd97c207dbd04e2"
      }
     },
     "a57062ab1aba4245bdd58555a3a67052": {
      "model_module": "@jupyter-widgets/controls",
      "model_module_version": "1.5.0",
      "model_name": "FloatProgressModel",
      "state": {
       "bar_style": "success",
       "description": "100%",
       "layout": "IPY_MODEL_8af173439d514b708444c69cc94bd072",
       "max": 30,
       "style": "IPY_MODEL_95a85991aa9c4a81beea8c6273e88b19",
       "value": 30
      }
     },
     "a57c02d5aa17468b83f724c70b589a5a": {
      "model_module": "@jupyter-widgets/controls",
      "model_module_version": "1.5.0",
      "model_name": "HTMLModel",
      "state": {
       "layout": "IPY_MODEL_80d4cf56150147d88f06fc2659bf4eef",
       "style": "IPY_MODEL_7d83bd6737354b8a920287de61d29dd5",
       "value": " 30/30 [00:45&lt;00:00,  1.52s/it]"
      }
     },
     "a59df5f8c99a4af59be06f84ef3a8f35": {
      "model_module": "@jupyter-widgets/controls",
      "model_module_version": "1.5.0",
      "model_name": "FloatProgressModel",
      "state": {
       "bar_style": "success",
       "description": "100%",
       "layout": "IPY_MODEL_d8a0f66e28a04eceb5c701fba9c8b207",
       "max": 4,
       "style": "IPY_MODEL_d064a8adb08e4e528179fcbfb8e0b58b",
       "value": 4
      }
     },
     "a5a288eb4e9a42f3aa6827544036805d": {
      "model_module": "@jupyter-widgets/base",
      "model_module_version": "1.2.0",
      "model_name": "LayoutModel",
      "state": {}
     },
     "a5be7808121742929e17d734eae95901": {
      "model_module": "@jupyter-widgets/controls",
      "model_module_version": "1.5.0",
      "model_name": "HBoxModel",
      "state": {
       "children": [
        "IPY_MODEL_9f29d2d7871249b4b8725abad715e6b9",
        "IPY_MODEL_5047674892304a4fa4c6bf83799609b0"
       ],
       "layout": "IPY_MODEL_4f043cccfbe742afbab9f902c76f6f48"
      }
     },
     "a5ce8cb48cba46fdb115d056942dff7c": {
      "model_module": "@jupyter-widgets/controls",
      "model_module_version": "1.5.0",
      "model_name": "ProgressStyleModel",
      "state": {
       "description_width": "initial"
      }
     },
     "a5e62821f6224324b5f3a421f8d971f7": {
      "model_module": "@jupyter-widgets/controls",
      "model_module_version": "1.5.0",
      "model_name": "HTMLModel",
      "state": {
       "layout": "IPY_MODEL_3d6d64c5da894cfea61aa868189f1c79",
       "style": "IPY_MODEL_be92f37533ff4421bc081499fa97a41a",
       "value": " 30/30 [01:03&lt;00:00,  2.13s/it]"
      }
     },
     "a5fde63aca6c4faab1f3cbdb89f93a6e": {
      "model_module": "@jupyter-widgets/controls",
      "model_module_version": "1.5.0",
      "model_name": "HTMLModel",
      "state": {
       "layout": "IPY_MODEL_75581ad5352249daa0a63014fc64d814",
       "style": "IPY_MODEL_83e7f04e2c18470d874a7827d7a46d25",
       "value": " 30/30 [00:12&lt;00:00,  2.33it/s]"
      }
     },
     "a64ac16df3514916ac09c916af0f5b6e": {
      "model_module": "@jupyter-widgets/controls",
      "model_module_version": "1.5.0",
      "model_name": "HBoxModel",
      "state": {
       "children": [
        "IPY_MODEL_5c325d5f6ae845efb31dda2ad3753712",
        "IPY_MODEL_cf213f17ab4f495fa206b464bfdbfd75"
       ],
       "layout": "IPY_MODEL_d33c6dba07b44a6dacf63bd45a44c893"
      }
     },
     "a652128942294e8b858799e5b28fcad7": {
      "model_module": "@jupyter-widgets/controls",
      "model_module_version": "1.5.0",
      "model_name": "DescriptionStyleModel",
      "state": {
       "description_width": ""
      }
     },
     "a6735bb802224fc3a6adfa9071927205": {
      "model_module": "@jupyter-widgets/base",
      "model_module_version": "1.2.0",
      "model_name": "LayoutModel",
      "state": {}
     },
     "a67436685fa0413b9fcf1bc842bce42d": {
      "model_module": "@jupyter-widgets/base",
      "model_module_version": "1.2.0",
      "model_name": "LayoutModel",
      "state": {}
     },
     "a6c6befbccc7400d9c703514be9c587a": {
      "model_module": "@jupyter-widgets/controls",
      "model_module_version": "1.5.0",
      "model_name": "ProgressStyleModel",
      "state": {
       "description_width": "initial"
      }
     },
     "a6da872e51a943ca82bae4cf86664898": {
      "model_module": "@jupyter-widgets/controls",
      "model_module_version": "1.5.0",
      "model_name": "HBoxModel",
      "state": {
       "children": [
        "IPY_MODEL_f72b5fa65ad642d5b5e41b316172d7cd",
        "IPY_MODEL_db5361a537624c77bc4aff2a35213f0a"
       ],
       "layout": "IPY_MODEL_7115d9ca1f8c4ab3ae9b5fe034feb35b"
      }
     },
     "a6f3676ef3ff4df4bffa54dc60eb4824": {
      "model_module": "@jupyter-widgets/base",
      "model_module_version": "1.2.0",
      "model_name": "LayoutModel",
      "state": {}
     },
     "a704a13330f24eac81f61eef2fcef079": {
      "model_module": "@jupyter-widgets/controls",
      "model_module_version": "1.5.0",
      "model_name": "FloatProgressModel",
      "state": {
       "bar_style": "success",
       "description": "100%",
       "layout": "IPY_MODEL_79eb232ea6be404281734765c5e50f02",
       "max": 4,
       "style": "IPY_MODEL_0328399cf71740c0a040118c3324c458",
       "value": 4
      }
     },
     "a7391737a5764501a91b87403e973519": {
      "model_module": "@jupyter-widgets/controls",
      "model_module_version": "1.5.0",
      "model_name": "HTMLModel",
      "state": {
       "layout": "IPY_MODEL_890d26da27bc4126923f994edb824583",
       "style": "IPY_MODEL_f23e7fba5ce5450b8468f664b27bf9be",
       "value": " 30/30 [00:04&lt;00:00,  7.39it/s]"
      }
     },
     "a7450240e4fd4e868ad86c37fc032261": {
      "model_module": "@jupyter-widgets/base",
      "model_module_version": "1.2.0",
      "model_name": "LayoutModel",
      "state": {}
     },
     "a81f992ce89d40aaaf8dbd48feeb8361": {
      "model_module": "@jupyter-widgets/controls",
      "model_module_version": "1.5.0",
      "model_name": "FloatProgressModel",
      "state": {
       "bar_style": "success",
       "description": "100%",
       "layout": "IPY_MODEL_65bd390bf44d45a4b46c12b6a2ec2c37",
       "max": 30,
       "style": "IPY_MODEL_f0e006bfa22b42049e342851850d8dd6",
       "value": 30
      }
     },
     "a861c0c14bd242e1826236ef15706a77": {
      "model_module": "@jupyter-widgets/controls",
      "model_module_version": "1.5.0",
      "model_name": "HBoxModel",
      "state": {
       "children": [
        "IPY_MODEL_351b3a94031d4f12ae95cadeaaaf9675",
        "IPY_MODEL_ee94d8f1b1c3476099749588f3003bb9"
       ],
       "layout": "IPY_MODEL_1bd161202c6a42a7b93ff9da7b0ccf2d"
      }
     },
     "a8c5576c7bee4d89adb225c04e925ddd": {
      "model_module": "@jupyter-widgets/base",
      "model_module_version": "1.2.0",
      "model_name": "LayoutModel",
      "state": {}
     },
     "a8ca6b1cb3554c3591742c501b262ef0": {
      "model_module": "@jupyter-widgets/base",
      "model_module_version": "1.2.0",
      "model_name": "LayoutModel",
      "state": {}
     },
     "a8d42342fbf146289c160e2d187e781b": {
      "model_module": "@jupyter-widgets/base",
      "model_module_version": "1.2.0",
      "model_name": "LayoutModel",
      "state": {}
     },
     "a8d88b3aaff843b6a246907c0105b554": {
      "model_module": "@jupyter-widgets/base",
      "model_module_version": "1.2.0",
      "model_name": "LayoutModel",
      "state": {}
     },
     "a8ea09884ee54d8f84d9f257440f2de3": {
      "model_module": "@jupyter-widgets/base",
      "model_module_version": "1.2.0",
      "model_name": "LayoutModel",
      "state": {}
     },
     "a8ebe2dafbb74dbe897ec8bd9f4cae95": {
      "model_module": "@jupyter-widgets/controls",
      "model_module_version": "1.5.0",
      "model_name": "HTMLModel",
      "state": {
       "layout": "IPY_MODEL_36815501c0c14be7b8a690c05cf01a68",
       "style": "IPY_MODEL_6ead86c83fa24520a890c3d5d7f3076c",
       "value": " 30/30 [00:03&lt;00:00,  8.28it/s]"
      }
     },
     "a91e13dce05e4754aa433d57151ef7e6": {
      "model_module": "@jupyter-widgets/base",
      "model_module_version": "1.2.0",
      "model_name": "LayoutModel",
      "state": {}
     },
     "a973839515ad4ce19b9cbcb8416c4cf1": {
      "model_module": "@jupyter-widgets/controls",
      "model_module_version": "1.5.0",
      "model_name": "DescriptionStyleModel",
      "state": {
       "description_width": ""
      }
     },
     "a9b20a2dc2cb4a93baf6b1f4de5b4bab": {
      "model_module": "@jupyter-widgets/controls",
      "model_module_version": "1.5.0",
      "model_name": "FloatProgressModel",
      "state": {
       "bar_style": "success",
       "description": "100%",
       "layout": "IPY_MODEL_0306ed553e054ce7a029831d4eee958e",
       "max": 30,
       "style": "IPY_MODEL_9697919dc4f14f0db27275e695559f74",
       "value": 30
      }
     },
     "a9d4aa5f8b624c6a8aa121653589e294": {
      "model_module": "@jupyter-widgets/controls",
      "model_module_version": "1.5.0",
      "model_name": "HTMLModel",
      "state": {
       "layout": "IPY_MODEL_ae8a4485add44805bdcd25990287e91e",
       "style": "IPY_MODEL_e6952f7e9aab461c836fcd7b4196a578",
       "value": " 30/30 [00:25&lt;00:00,  1.19it/s]"
      }
     },
     "aa1a5b90676444648b0d07cd17d35300": {
      "model_module": "@jupyter-widgets/base",
      "model_module_version": "1.2.0",
      "model_name": "LayoutModel",
      "state": {}
     },
     "aab11807474e466ab072878095e866aa": {
      "model_module": "@jupyter-widgets/controls",
      "model_module_version": "1.5.0",
      "model_name": "HTMLModel",
      "state": {
       "layout": "IPY_MODEL_94ab7dcecb494376b80b7ab6c977c46a",
       "style": "IPY_MODEL_113998821fa945d5977e6d3cf0a2e6bc",
       "value": " 30/30 [00:04&lt;00:00,  7.39it/s]"
      }
     },
     "aaf25d1431b1423bba277f71f19d1685": {
      "model_module": "@jupyter-widgets/controls",
      "model_module_version": "1.5.0",
      "model_name": "FloatProgressModel",
      "state": {
       "bar_style": "success",
       "description": "100%",
       "layout": "IPY_MODEL_97805b04dc6e4c82832624bec8ff9f38",
       "max": 4,
       "style": "IPY_MODEL_44c39abec63741dabde91057cc0885da",
       "value": 4
      }
     },
     "ab09e48eab064c6a85c2118667c568e2": {
      "model_module": "@jupyter-widgets/base",
      "model_module_version": "1.2.0",
      "model_name": "LayoutModel",
      "state": {}
     },
     "ab2b12352c334561a26981cd4d996e20": {
      "model_module": "@jupyter-widgets/controls",
      "model_module_version": "1.5.0",
      "model_name": "DescriptionStyleModel",
      "state": {
       "description_width": ""
      }
     },
     "ab7a3d9e0a13497b8d0d8809b6dbed69": {
      "model_module": "@jupyter-widgets/controls",
      "model_module_version": "1.5.0",
      "model_name": "ProgressStyleModel",
      "state": {
       "description_width": "initial"
      }
     },
     "ab8f636faf5941fba3192f7a5a7c3d75": {
      "model_module": "@jupyter-widgets/base",
      "model_module_version": "1.2.0",
      "model_name": "LayoutModel",
      "state": {}
     },
     "abb3d25604674a1c907011389b1fdafa": {
      "model_module": "@jupyter-widgets/base",
      "model_module_version": "1.2.0",
      "model_name": "LayoutModel",
      "state": {}
     },
     "abcb49e3da5e48d4bc569ce56778d855": {
      "model_module": "@jupyter-widgets/controls",
      "model_module_version": "1.5.0",
      "model_name": "HBoxModel",
      "state": {
       "children": [
        "IPY_MODEL_4c6bb2d887b4426e82f2da35497d86a3",
        "IPY_MODEL_f65598c1663645fcbc0f5d3bec3572d9"
       ],
       "layout": "IPY_MODEL_0da8cf39110e477ab375c20dbc12cd28"
      }
     },
     "abcb5e1f485c4f0ebbaf4efb114f0a75": {
      "model_module": "@jupyter-widgets/controls",
      "model_module_version": "1.5.0",
      "model_name": "DescriptionStyleModel",
      "state": {
       "description_width": ""
      }
     },
     "abd2eae6959349bbb695e017f170fc3f": {
      "model_module": "@jupyter-widgets/controls",
      "model_module_version": "1.5.0",
      "model_name": "ProgressStyleModel",
      "state": {
       "description_width": "initial"
      }
     },
     "abd363922fec4f2799b4a2733dd40df5": {
      "model_module": "@jupyter-widgets/controls",
      "model_module_version": "1.5.0",
      "model_name": "HTMLModel",
      "state": {
       "layout": "IPY_MODEL_4a0609f0713d4bbe8a27720bc3551911",
       "style": "IPY_MODEL_0a2a518f249e47cea2436478ff2166af",
       "value": " 4/4 [00:12&lt;00:00,  3.23s/it]"
      }
     },
     "ac172b0132864e49a6cd65a232f65a4c": {
      "model_module": "@jupyter-widgets/controls",
      "model_module_version": "1.5.0",
      "model_name": "FloatProgressModel",
      "state": {
       "bar_style": "success",
       "description": "100%",
       "layout": "IPY_MODEL_185c69da32204b3c8fe7ca6e6f2344cb",
       "max": 30,
       "style": "IPY_MODEL_38f6f049cadb4f3eb7575c880c2e2c95",
       "value": 30
      }
     },
     "ac38713c15dc4a8c9cd2a886e279db1b": {
      "model_module": "@jupyter-widgets/base",
      "model_module_version": "1.2.0",
      "model_name": "LayoutModel",
      "state": {}
     },
     "ac5917ed5de946ada02720f4dd74252d": {
      "model_module": "@jupyter-widgets/base",
      "model_module_version": "1.2.0",
      "model_name": "LayoutModel",
      "state": {}
     },
     "ac72ada582bc4b759b6ca4c87799f5e4": {
      "model_module": "@jupyter-widgets/base",
      "model_module_version": "1.2.0",
      "model_name": "LayoutModel",
      "state": {}
     },
     "aca4be6855dd414f95c4aa76008d1393": {
      "model_module": "@jupyter-widgets/base",
      "model_module_version": "1.2.0",
      "model_name": "LayoutModel",
      "state": {}
     },
     "ad06213190f648a898441f34cf0e1e08": {
      "model_module": "@jupyter-widgets/controls",
      "model_module_version": "1.5.0",
      "model_name": "ProgressStyleModel",
      "state": {
       "description_width": "initial"
      }
     },
     "ad1cc6ab07a349f2a34ecd2dc6ea13cd": {
      "model_module": "@jupyter-widgets/base",
      "model_module_version": "1.2.0",
      "model_name": "LayoutModel",
      "state": {}
     },
     "ad3fe572cca94afbb8517e7a300ad2e5": {
      "model_module": "@jupyter-widgets/base",
      "model_module_version": "1.2.0",
      "model_name": "LayoutModel",
      "state": {}
     },
     "ad8d552c0cba48728796252c5e8f448c": {
      "model_module": "@jupyter-widgets/controls",
      "model_module_version": "1.5.0",
      "model_name": "ProgressStyleModel",
      "state": {
       "description_width": "initial"
      }
     },
     "ad8efaac080246f3911886dd4edaaaf1": {
      "model_module": "@jupyter-widgets/controls",
      "model_module_version": "1.5.0",
      "model_name": "HTMLModel",
      "state": {
       "layout": "IPY_MODEL_9de6e6a4387244a3b7823f48100c7884",
       "style": "IPY_MODEL_733ee50f42924af18a1643a9286a7d2d",
       "value": " 4/4 [00:00&lt;00:00,  9.67it/s]"
      }
     },
     "ada50a4565634b41ba41b647213e9ce1": {
      "model_module": "@jupyter-widgets/controls",
      "model_module_version": "1.5.0",
      "model_name": "ProgressStyleModel",
      "state": {
       "description_width": "initial"
      }
     },
     "adb23f0011424694b62608c860966085": {
      "model_module": "@jupyter-widgets/controls",
      "model_module_version": "1.5.0",
      "model_name": "FloatProgressModel",
      "state": {
       "bar_style": "success",
       "description": "100%",
       "layout": "IPY_MODEL_40c77252317a4966a518fe5bf7073a22",
       "max": 30,
       "style": "IPY_MODEL_cb53cb208e14454a957f905c977cfe91",
       "value": 30
      }
     },
     "add8df94e03049819fad4b4bf1374e61": {
      "model_module": "@jupyter-widgets/controls",
      "model_module_version": "1.5.0",
      "model_name": "HTMLModel",
      "state": {
       "layout": "IPY_MODEL_a8ca6b1cb3554c3591742c501b262ef0",
       "style": "IPY_MODEL_4902f80843b74911bcab9de48b805cc5",
       "value": " 4/4 [00:04&lt;00:00,  1.08s/it]"
      }
     },
     "addf898863c242e19b1f3cb113f5147b": {
      "model_module": "@jupyter-widgets/controls",
      "model_module_version": "1.5.0",
      "model_name": "FloatProgressModel",
      "state": {
       "bar_style": "success",
       "description": "100%",
       "layout": "IPY_MODEL_8e99930116c44f028999a56e2ab0c6c8",
       "max": 30,
       "style": "IPY_MODEL_9a40b9c4a0fc474787ffc4814e31f308",
       "value": 30
      }
     },
     "ae4cc2d673d74579859403a1d5e2c769": {
      "model_module": "@jupyter-widgets/base",
      "model_module_version": "1.2.0",
      "model_name": "LayoutModel",
      "state": {}
     },
     "ae5411164b3c47f681d8c3d7e80aba2a": {
      "model_module": "@jupyter-widgets/controls",
      "model_module_version": "1.5.0",
      "model_name": "HBoxModel",
      "state": {
       "children": [
        "IPY_MODEL_3abb922524674aa8872706705ea17656",
        "IPY_MODEL_4535a36148574dd2aa045d20091f73e4"
       ],
       "layout": "IPY_MODEL_47b36e46c33143b29a739a03f65214cf"
      }
     },
     "ae544ba341a242d881c44e9dae9926d2": {
      "model_module": "@jupyter-widgets/base",
      "model_module_version": "1.2.0",
      "model_name": "LayoutModel",
      "state": {}
     },
     "ae8a4485add44805bdcd25990287e91e": {
      "model_module": "@jupyter-widgets/base",
      "model_module_version": "1.2.0",
      "model_name": "LayoutModel",
      "state": {}
     },
     "aea3f445dd3540c88b541af8964b9088": {
      "model_module": "@jupyter-widgets/controls",
      "model_module_version": "1.5.0",
      "model_name": "DescriptionStyleModel",
      "state": {
       "description_width": ""
      }
     },
     "aeb26812541d4c3fad230d5022f946f0": {
      "model_module": "@jupyter-widgets/controls",
      "model_module_version": "1.5.0",
      "model_name": "ProgressStyleModel",
      "state": {
       "description_width": "initial"
      }
     },
     "aec7169790a3401389a9d802ce49eaba": {
      "model_module": "@jupyter-widgets/controls",
      "model_module_version": "1.5.0",
      "model_name": "FloatProgressModel",
      "state": {
       "bar_style": "success",
       "description": "100%",
       "layout": "IPY_MODEL_9c9070200e5d413e99ad24d290596271",
       "max": 4,
       "style": "IPY_MODEL_6deee255ec264f77a04653523e02f07e",
       "value": 4
      }
     },
     "aec80b2df2344a28ba40fcce736a70a0": {
      "model_module": "@jupyter-widgets/base",
      "model_module_version": "1.2.0",
      "model_name": "LayoutModel",
      "state": {}
     },
     "aeec9e509257423d88083954d29c94cd": {
      "model_module": "@jupyter-widgets/controls",
      "model_module_version": "1.5.0",
      "model_name": "FloatProgressModel",
      "state": {
       "bar_style": "success",
       "description": "100%",
       "layout": "IPY_MODEL_2fcf62c609bf4107a14e08a775312542",
       "max": 30,
       "style": "IPY_MODEL_d6a10120676143129a67ffa0e1dcaa0f",
       "value": 30
      }
     },
     "af32dbc0a23b48ce9d7ff84fbf25b5d1": {
      "model_module": "@jupyter-widgets/controls",
      "model_module_version": "1.5.0",
      "model_name": "FloatProgressModel",
      "state": {
       "bar_style": "success",
       "description": "100%",
       "layout": "IPY_MODEL_5231674392114c8cb7ea23493322ab4a",
       "max": 4,
       "style": "IPY_MODEL_4f13395e00824c8ca9196ed17b535ecb",
       "value": 4
      }
     },
     "af50d86fdd734f61a97c3451b20d8d1d": {
      "model_module": "@jupyter-widgets/base",
      "model_module_version": "1.2.0",
      "model_name": "LayoutModel",
      "state": {}
     },
     "af80c7264f604efc8423a10b37f9c2d1": {
      "model_module": "@jupyter-widgets/controls",
      "model_module_version": "1.5.0",
      "model_name": "ProgressStyleModel",
      "state": {
       "description_width": "initial"
      }
     },
     "af88cfad9d59490ab6820b189826d237": {
      "model_module": "@jupyter-widgets/base",
      "model_module_version": "1.2.0",
      "model_name": "LayoutModel",
      "state": {}
     },
     "afb44ecb42aa47068a751846490292e6": {
      "model_module": "@jupyter-widgets/controls",
      "model_module_version": "1.5.0",
      "model_name": "FloatProgressModel",
      "state": {
       "bar_style": "success",
       "description": "100%",
       "layout": "IPY_MODEL_af50d86fdd734f61a97c3451b20d8d1d",
       "max": 4,
       "style": "IPY_MODEL_f54f70af624844e3a80d9b40505fdeea",
       "value": 4
      }
     },
     "afb8837611874f05b03d6402b4a8f1fa": {
      "model_module": "@jupyter-widgets/controls",
      "model_module_version": "1.5.0",
      "model_name": "DescriptionStyleModel",
      "state": {
       "description_width": ""
      }
     },
     "b002976800ad47718f1d3831dd11b1e4": {
      "model_module": "@jupyter-widgets/controls",
      "model_module_version": "1.5.0",
      "model_name": "FloatProgressModel",
      "state": {
       "bar_style": "success",
       "description": "100%",
       "layout": "IPY_MODEL_961164b8595a4f1494974f92a784658a",
       "max": 30,
       "style": "IPY_MODEL_fc003045f7264bb39e95651502559a1f",
       "value": 30
      }
     },
     "b04469b3fade4de1a9094e19961a83ed": {
      "model_module": "@jupyter-widgets/base",
      "model_module_version": "1.2.0",
      "model_name": "LayoutModel",
      "state": {}
     },
     "b04a19b0798f404c9e4de433dc71a0a7": {
      "model_module": "@jupyter-widgets/controls",
      "model_module_version": "1.5.0",
      "model_name": "FloatProgressModel",
      "state": {
       "bar_style": "success",
       "description": "100%",
       "layout": "IPY_MODEL_74c20b93e0c041f183617ee481551194",
       "max": 4,
       "style": "IPY_MODEL_600eb563f4c041a3b80b657a412521ad",
       "value": 4
      }
     },
     "b084f9311a504f6d905a4743d915d340": {
      "model_module": "@jupyter-widgets/controls",
      "model_module_version": "1.5.0",
      "model_name": "HTMLModel",
      "state": {
       "layout": "IPY_MODEL_f35de0cd080c4ea59181c1493adb7781",
       "style": "IPY_MODEL_b34df2113e3048559516978082703a8d",
       "value": " 30/30 [00:03&lt;00:00,  7.62it/s]"
      }
     },
     "b08b4b047478445ba0f4be5b1b6f08ea": {
      "model_module": "@jupyter-widgets/controls",
      "model_module_version": "1.5.0",
      "model_name": "FloatProgressModel",
      "state": {
       "bar_style": "success",
       "description": "100%",
       "layout": "IPY_MODEL_f23291dc7612426e97d2fa90e5a5d083",
       "max": 4,
       "style": "IPY_MODEL_1692a109d24a41d98d2762a74e5ce708",
       "value": 4
      }
     },
     "b0a378df167a43b48046fa56cc1aa12f": {
      "model_module": "@jupyter-widgets/base",
      "model_module_version": "1.2.0",
      "model_name": "LayoutModel",
      "state": {}
     },
     "b0b59a8fa3fb4b0081f3c1a96e571e53": {
      "model_module": "@jupyter-widgets/controls",
      "model_module_version": "1.5.0",
      "model_name": "ProgressStyleModel",
      "state": {
       "description_width": "initial"
      }
     },
     "b0c5578ed9d648c89b623acad080f786": {
      "model_module": "@jupyter-widgets/controls",
      "model_module_version": "1.5.0",
      "model_name": "ProgressStyleModel",
      "state": {
       "description_width": "initial"
      }
     },
     "b0d7d0f3f739407a8a7541aa1fd901e0": {
      "model_module": "@jupyter-widgets/controls",
      "model_module_version": "1.5.0",
      "model_name": "FloatProgressModel",
      "state": {
       "bar_style": "success",
       "description": "100%",
       "layout": "IPY_MODEL_35fbcb1e7686487f8935de7fc9802a28",
       "max": 30,
       "style": "IPY_MODEL_c2589fe4a2a4463aa325bd5447502fe0",
       "value": 30
      }
     },
     "b0f86b50d42545c3b1da36cdf4cf75ab": {
      "model_module": "@jupyter-widgets/controls",
      "model_module_version": "1.5.0",
      "model_name": "HBoxModel",
      "state": {
       "children": [
        "IPY_MODEL_75a48a797f9a41648eb62810d7959cc5",
        "IPY_MODEL_4829749ee4e1456ab774e0604ee01041"
       ],
       "layout": "IPY_MODEL_3eaf458b4b0f4eb4903eca38fc7df8b4"
      }
     },
     "b0fbab2fbbba48a6917b6f7b92ef7598": {
      "model_module": "@jupyter-widgets/controls",
      "model_module_version": "1.5.0",
      "model_name": "FloatProgressModel",
      "state": {
       "bar_style": "success",
       "description": "100%",
       "layout": "IPY_MODEL_fef039c608d54b0bae965acdc393e9ae",
       "max": 30,
       "style": "IPY_MODEL_662800c9adf94115a61b52b515591f40",
       "value": 30
      }
     },
     "b0fc9112a226432cb783fba5e68d2b4c": {
      "model_module": "@jupyter-widgets/controls",
      "model_module_version": "1.5.0",
      "model_name": "ProgressStyleModel",
      "state": {
       "description_width": "initial"
      }
     },
     "b10e6ef7ca5e4f9cbfd75e47ee9040f1": {
      "model_module": "@jupyter-widgets/controls",
      "model_module_version": "1.5.0",
      "model_name": "DescriptionStyleModel",
      "state": {
       "description_width": ""
      }
     },
     "b16093a906b54224bdfafc5aa3dd88bf": {
      "model_module": "@jupyter-widgets/controls",
      "model_module_version": "1.5.0",
      "model_name": "FloatProgressModel",
      "state": {
       "bar_style": "success",
       "description": "100%",
       "layout": "IPY_MODEL_ab8f636faf5941fba3192f7a5a7c3d75",
       "max": 30,
       "style": "IPY_MODEL_232ca27f6cc7485393862641ef2ef83f",
       "value": 30
      }
     },
     "b192ac7bcde74f62bf2892540fec10d2": {
      "model_module": "@jupyter-widgets/base",
      "model_module_version": "1.2.0",
      "model_name": "LayoutModel",
      "state": {}
     },
     "b1e024a2ad8948a28f63987d31403f90": {
      "model_module": "@jupyter-widgets/base",
      "model_module_version": "1.2.0",
      "model_name": "LayoutModel",
      "state": {}
     },
     "b202257237434122a30e11717c40a71c": {
      "model_module": "@jupyter-widgets/controls",
      "model_module_version": "1.5.0",
      "model_name": "FloatProgressModel",
      "state": {
       "bar_style": "success",
       "description": "100%",
       "layout": "IPY_MODEL_796480c2dff14f4daf4f1002cb636e8b",
       "max": 30,
       "style": "IPY_MODEL_92de6f1c3b414f0488f7cc4b9ddf285b",
       "value": 30
      }
     },
     "b23fbfe32cac4798bfa09ea9ea71da93": {
      "model_module": "@jupyter-widgets/base",
      "model_module_version": "1.2.0",
      "model_name": "LayoutModel",
      "state": {}
     },
     "b278a6e73d0f4598a5d11a3207da88ef": {
      "model_module": "@jupyter-widgets/controls",
      "model_module_version": "1.5.0",
      "model_name": "HBoxModel",
      "state": {
       "children": [
        "IPY_MODEL_23999cba4da3400390b564a6f18a21ae",
        "IPY_MODEL_9b27527c9b804a0aa34348d759693484"
       ],
       "layout": "IPY_MODEL_2f2c3a9d49fb44a9aae97a0df383a723"
      }
     },
     "b27e02841c0d48d0a3a16396f1931995": {
      "model_module": "@jupyter-widgets/base",
      "model_module_version": "1.2.0",
      "model_name": "LayoutModel",
      "state": {}
     },
     "b2858dbbe7da4189a66de7253c50b1b4": {
      "model_module": "@jupyter-widgets/controls",
      "model_module_version": "1.5.0",
      "model_name": "FloatProgressModel",
      "state": {
       "bar_style": "success",
       "description": "100%",
       "layout": "IPY_MODEL_e952681f645b459b873eb6099e8c753a",
       "max": 4,
       "style": "IPY_MODEL_25a34255d06447e0b1d4e56943d1ac09",
       "value": 4
      }
     },
     "b290cc38e86e403bbd283a0d795540d3": {
      "model_module": "@jupyter-widgets/controls",
      "model_module_version": "1.5.0",
      "model_name": "HTMLModel",
      "state": {
       "layout": "IPY_MODEL_e3723ed63332458b9fbf8cf854900ff2",
       "style": "IPY_MODEL_f57c17c1daf0488081589d377cd76896",
       "value": " 30/30 [00:04&lt;00:00,  6.79it/s]"
      }
     },
     "b2992e45d0624e709d2cc77548c53445": {
      "model_module": "@jupyter-widgets/controls",
      "model_module_version": "1.5.0",
      "model_name": "DescriptionStyleModel",
      "state": {
       "description_width": ""
      }
     },
     "b2b6cc9938c3476394f8c33371f1f9ae": {
      "model_module": "@jupyter-widgets/controls",
      "model_module_version": "1.5.0",
      "model_name": "DescriptionStyleModel",
      "state": {
       "description_width": ""
      }
     },
     "b2cf47571f20419390dcd9938131ed16": {
      "model_module": "@jupyter-widgets/controls",
      "model_module_version": "1.5.0",
      "model_name": "HTMLModel",
      "state": {
       "layout": "IPY_MODEL_86c422bc3b65485c814758f53c9ec72e",
       "style": "IPY_MODEL_68ed8ef35dc94da4abbd094de090baf6",
       "value": " 4/4 [00:04&lt;00:00,  1.07s/it]"
      }
     },
     "b2f39dc655054d3dbff4bc62b70faa93": {
      "model_module": "@jupyter-widgets/base",
      "model_module_version": "1.2.0",
      "model_name": "LayoutModel",
      "state": {}
     },
     "b31cc7f1f3474d7e820d5b9d15f622d9": {
      "model_module": "@jupyter-widgets/controls",
      "model_module_version": "1.5.0",
      "model_name": "DescriptionStyleModel",
      "state": {
       "description_width": ""
      }
     },
     "b32e9a7a7cbd41208d93b087592f8b30": {
      "model_module": "@jupyter-widgets/base",
      "model_module_version": "1.2.0",
      "model_name": "LayoutModel",
      "state": {}
     },
     "b34df2113e3048559516978082703a8d": {
      "model_module": "@jupyter-widgets/controls",
      "model_module_version": "1.5.0",
      "model_name": "DescriptionStyleModel",
      "state": {
       "description_width": ""
      }
     },
     "b34f735d171244be87b6f972cad2d554": {
      "model_module": "@jupyter-widgets/controls",
      "model_module_version": "1.5.0",
      "model_name": "HTMLModel",
      "state": {
       "layout": "IPY_MODEL_2a1c653d4bf746a6a594fa6e967eefef",
       "style": "IPY_MODEL_f93de0256c6543e9b6f556969359ffdb",
       "value": " 4/4 [00:00&lt;00:00, 10.83it/s]"
      }
     },
     "b3584542ef96456cb54f57fe55f7eb37": {
      "model_module": "@jupyter-widgets/controls",
      "model_module_version": "1.5.0",
      "model_name": "DescriptionStyleModel",
      "state": {
       "description_width": ""
      }
     },
     "b359a4c428de448188b666ba26c145d2": {
      "model_module": "@jupyter-widgets/base",
      "model_module_version": "1.2.0",
      "model_name": "LayoutModel",
      "state": {}
     },
     "b3613b49b9d14e298da81fcc89a06186": {
      "model_module": "@jupyter-widgets/base",
      "model_module_version": "1.2.0",
      "model_name": "LayoutModel",
      "state": {}
     },
     "b387711704e24bc989b6d8b9f4edbe20": {
      "model_module": "@jupyter-widgets/controls",
      "model_module_version": "1.5.0",
      "model_name": "FloatProgressModel",
      "state": {
       "bar_style": "success",
       "description": "100%",
       "layout": "IPY_MODEL_9c49e291b8584303b3c0156932080063",
       "max": 30,
       "style": "IPY_MODEL_e2260ef23d704338830afe0c781abadc",
       "value": 30
      }
     },
     "b39556d040b040f38008976ed6906843": {
      "model_module": "@jupyter-widgets/base",
      "model_module_version": "1.2.0",
      "model_name": "LayoutModel",
      "state": {}
     },
     "b3f7fbc1de744657acd16e3c5d561208": {
      "model_module": "@jupyter-widgets/controls",
      "model_module_version": "1.5.0",
      "model_name": "HTMLModel",
      "state": {
       "layout": "IPY_MODEL_6edcf6ff8cce4d629d4e2da162cd16ad",
       "style": "IPY_MODEL_30baeffc68a64027a85eeb7759a2e0ef",
       "value": " 4/4 [00:00&lt;00:00,  9.99it/s]"
      }
     },
     "b3f8367475404c3e810e08fd2240a039": {
      "model_module": "@jupyter-widgets/base",
      "model_module_version": "1.2.0",
      "model_name": "LayoutModel",
      "state": {}
     },
     "b43c292c561c40d2bb6751448469ac4d": {
      "model_module": "@jupyter-widgets/controls",
      "model_module_version": "1.5.0",
      "model_name": "HTMLModel",
      "state": {
       "layout": "IPY_MODEL_46a4950a50a34be08cea6ac2aaace801",
       "style": "IPY_MODEL_f0a03e8e4afc4510b8bc07d50edb4691",
       "value": " 4/4 [00:01&lt;00:00,  3.05it/s]"
      }
     },
     "b45f31d2d34f4ff1b2ca18f7fadbbbfc": {
      "model_module": "@jupyter-widgets/base",
      "model_module_version": "1.2.0",
      "model_name": "LayoutModel",
      "state": {}
     },
     "b466ee5bf2ae4717a434be3a5db753be": {
      "model_module": "@jupyter-widgets/controls",
      "model_module_version": "1.5.0",
      "model_name": "ProgressStyleModel",
      "state": {
       "description_width": "initial"
      }
     },
     "b478b1d8e4014a00845cd52e44ae8838": {
      "model_module": "@jupyter-widgets/controls",
      "model_module_version": "1.5.0",
      "model_name": "FloatProgressModel",
      "state": {
       "bar_style": "success",
       "description": "100%",
       "layout": "IPY_MODEL_f0a8b2d4a75b42f9a234cdf4e1a5e0dc",
       "max": 4,
       "style": "IPY_MODEL_0f4f419aa26f4b89b094147aebf2471e",
       "value": 4
      }
     },
     "b4795189f20442e295a8668d1c79e45c": {
      "model_module": "@jupyter-widgets/base",
      "model_module_version": "1.2.0",
      "model_name": "LayoutModel",
      "state": {}
     },
     "b495114141a04343b0b7041c7fba1435": {
      "model_module": "@jupyter-widgets/controls",
      "model_module_version": "1.5.0",
      "model_name": "FloatProgressModel",
      "state": {
       "bar_style": "success",
       "description": "100%",
       "layout": "IPY_MODEL_219cc1749f704648a8776ea35066927e",
       "max": 30,
       "style": "IPY_MODEL_69ff3fcb95c24e24b51a0c236ee33eff",
       "value": 30
      }
     },
     "b4bc9d27e9a84083b77e5f70b14eb9d8": {
      "model_module": "@jupyter-widgets/controls",
      "model_module_version": "1.5.0",
      "model_name": "DescriptionStyleModel",
      "state": {
       "description_width": ""
      }
     },
     "b4f0296a27c2442e93605caaef6e9d1d": {
      "model_module": "@jupyter-widgets/controls",
      "model_module_version": "1.5.0",
      "model_name": "FloatProgressModel",
      "state": {
       "bar_style": "success",
       "description": "100%",
       "layout": "IPY_MODEL_fb9c9272eca144cfa00053ed6a88a02f",
       "max": 4,
       "style": "IPY_MODEL_68666f59ecdf4e77b1ed62f79d82bbf1",
       "value": 4
      }
     },
     "b50811dbe9d4402b938b3f289694f5f3": {
      "model_module": "@jupyter-widgets/base",
      "model_module_version": "1.2.0",
      "model_name": "LayoutModel",
      "state": {}
     },
     "b52c899a84824314923617277c46bea5": {
      "model_module": "@jupyter-widgets/base",
      "model_module_version": "1.2.0",
      "model_name": "LayoutModel",
      "state": {}
     },
     "b540e9ea8a554dbab4287dbee359505a": {
      "model_module": "@jupyter-widgets/controls",
      "model_module_version": "1.5.0",
      "model_name": "HTMLModel",
      "state": {
       "layout": "IPY_MODEL_f43b7722ceb7416ab873dfb9021cdf26",
       "style": "IPY_MODEL_12bf70b63cdb4a53afb82c10973228cc",
       "value": " 30/30 [00:37&lt;00:00,  1.26s/it]"
      }
     },
     "b54496945b804a718e93f67ffea76e44": {
      "model_module": "@jupyter-widgets/base",
      "model_module_version": "1.2.0",
      "model_name": "LayoutModel",
      "state": {}
     },
     "b5579273f8ee4b79a74f82495a480601": {
      "model_module": "@jupyter-widgets/controls",
      "model_module_version": "1.5.0",
      "model_name": "FloatProgressModel",
      "state": {
       "bar_style": "success",
       "description": "100%",
       "layout": "IPY_MODEL_6747ae91da7f4bb4b943f013bb1ab104",
       "max": 4,
       "style": "IPY_MODEL_142a5fb835024056a450d08b14bc619f",
       "value": 4
      }
     },
     "b575c0372a634057bee9c364e3b39189": {
      "model_module": "@jupyter-widgets/base",
      "model_module_version": "1.2.0",
      "model_name": "LayoutModel",
      "state": {}
     },
     "b5930bdc980e4bcb9da04f2525ae4333": {
      "model_module": "@jupyter-widgets/base",
      "model_module_version": "1.2.0",
      "model_name": "LayoutModel",
      "state": {}
     },
     "b5abc4c558a84330a78155795e4af717": {
      "model_module": "@jupyter-widgets/controls",
      "model_module_version": "1.5.0",
      "model_name": "ProgressStyleModel",
      "state": {
       "description_width": "initial"
      }
     },
     "b5ba4e91bd8d4134870565e57fc27fa1": {
      "model_module": "@jupyter-widgets/base",
      "model_module_version": "1.2.0",
      "model_name": "LayoutModel",
      "state": {}
     },
     "b5dd7545bcce41a0a37545fb16cf5eb1": {
      "model_module": "@jupyter-widgets/controls",
      "model_module_version": "1.5.0",
      "model_name": "FloatProgressModel",
      "state": {
       "bar_style": "success",
       "description": "100%",
       "layout": "IPY_MODEL_125e945a73134bd98dd5c181759944fc",
       "max": 4,
       "style": "IPY_MODEL_672f03a9c1f4477c88cd5a0dd4b5520e",
       "value": 4
      }
     },
     "b609bd8bd7114aaea302241379c20b9c": {
      "model_module": "@jupyter-widgets/base",
      "model_module_version": "1.2.0",
      "model_name": "LayoutModel",
      "state": {}
     },
     "b618a4e4e9d441408f8e5d45aecfa9b4": {
      "model_module": "@jupyter-widgets/base",
      "model_module_version": "1.2.0",
      "model_name": "LayoutModel",
      "state": {}
     },
     "b62c23946d664dac8157c855042c0e35": {
      "model_module": "@jupyter-widgets/base",
      "model_module_version": "1.2.0",
      "model_name": "LayoutModel",
      "state": {}
     },
     "b647392ffeea4ec2ac692ba318df595b": {
      "model_module": "@jupyter-widgets/controls",
      "model_module_version": "1.5.0",
      "model_name": "ProgressStyleModel",
      "state": {
       "description_width": "initial"
      }
     },
     "b65e7320880745eeaae67ed89cc5647e": {
      "model_module": "@jupyter-widgets/base",
      "model_module_version": "1.2.0",
      "model_name": "LayoutModel",
      "state": {}
     },
     "b6b8f0253149425da4b021d4fa4e54a8": {
      "model_module": "@jupyter-widgets/base",
      "model_module_version": "1.2.0",
      "model_name": "LayoutModel",
      "state": {}
     },
     "b6c36b6b5d37414c8a8026dfc3ca5ba8": {
      "model_module": "@jupyter-widgets/base",
      "model_module_version": "1.2.0",
      "model_name": "LayoutModel",
      "state": {}
     },
     "b710d4b08db1442b8ca2fe50fb79b03e": {
      "model_module": "@jupyter-widgets/base",
      "model_module_version": "1.2.0",
      "model_name": "LayoutModel",
      "state": {}
     },
     "b78ae53a29674184a2cde2839053824b": {
      "model_module": "@jupyter-widgets/controls",
      "model_module_version": "1.5.0",
      "model_name": "DescriptionStyleModel",
      "state": {
       "description_width": ""
      }
     },
     "b796d3f6ae6c4be7ba84e0e46585c767": {
      "model_module": "@jupyter-widgets/base",
      "model_module_version": "1.2.0",
      "model_name": "LayoutModel",
      "state": {}
     },
     "b84372d0166441fb988f06dab2fcee81": {
      "model_module": "@jupyter-widgets/controls",
      "model_module_version": "1.5.0",
      "model_name": "DescriptionStyleModel",
      "state": {
       "description_width": ""
      }
     },
     "b87e657103a147a9a1f1183125a4b753": {
      "model_module": "@jupyter-widgets/base",
      "model_module_version": "1.2.0",
      "model_name": "LayoutModel",
      "state": {}
     },
     "b88e0a2711c14e00abece8ec955e478f": {
      "model_module": "@jupyter-widgets/base",
      "model_module_version": "1.2.0",
      "model_name": "LayoutModel",
      "state": {}
     },
     "b8925a4bfe864f4681465b6f150f663e": {
      "model_module": "@jupyter-widgets/controls",
      "model_module_version": "1.5.0",
      "model_name": "ProgressStyleModel",
      "state": {
       "description_width": "initial"
      }
     },
     "b8ef58ffe43a42a0b9496c45b1d40d78": {
      "model_module": "@jupyter-widgets/controls",
      "model_module_version": "1.5.0",
      "model_name": "ProgressStyleModel",
      "state": {
       "description_width": "initial"
      }
     },
     "b90214aaecca46b5b65a28adfc8aaa94": {
      "model_module": "@jupyter-widgets/base",
      "model_module_version": "1.2.0",
      "model_name": "LayoutModel",
      "state": {}
     },
     "b92a855dd00441b39422889ac243461f": {
      "model_module": "@jupyter-widgets/controls",
      "model_module_version": "1.5.0",
      "model_name": "DescriptionStyleModel",
      "state": {
       "description_width": ""
      }
     },
     "b95c3da4e02e465bb465ec86ff7ad198": {
      "model_module": "@jupyter-widgets/base",
      "model_module_version": "1.2.0",
      "model_name": "LayoutModel",
      "state": {}
     },
     "b98064a6a1954178bf27565711a8d61c": {
      "model_module": "@jupyter-widgets/base",
      "model_module_version": "1.2.0",
      "model_name": "LayoutModel",
      "state": {}
     },
     "b9bae2f3b6724203ba8e0021e0cf888b": {
      "model_module": "@jupyter-widgets/controls",
      "model_module_version": "1.5.0",
      "model_name": "HTMLModel",
      "state": {
       "layout": "IPY_MODEL_581a72500f63443eaf3a55f73c2702e2",
       "style": "IPY_MODEL_4233d125418d4f9b893568fcd10963f2",
       "value": " 4/4 [00:04&lt;00:00,  1.16s/it]"
      }
     },
     "ba5aeaa31a9e48769de5a04792251f30": {
      "model_module": "@jupyter-widgets/controls",
      "model_module_version": "1.5.0",
      "model_name": "HTMLModel",
      "state": {
       "layout": "IPY_MODEL_6703db34fe3a4007875236921456b878",
       "style": "IPY_MODEL_eed66c9c6e7d44c3aa1905762fd1a15f",
       "value": " 4/4 [00:04&lt;00:00,  1.16s/it]"
      }
     },
     "ba842a99401a4d78b78ebec66428c45c": {
      "model_module": "@jupyter-widgets/base",
      "model_module_version": "1.2.0",
      "model_name": "LayoutModel",
      "state": {}
     },
     "ba878a7736c54f31bf52c0d015d9467f": {
      "model_module": "@jupyter-widgets/controls",
      "model_module_version": "1.5.0",
      "model_name": "HTMLModel",
      "state": {
       "layout": "IPY_MODEL_304e8c25c0474ed2b5f6de38313abda8",
       "style": "IPY_MODEL_75f57f804313463db86eba7a252ce68a",
       "value": " 30/30 [00:50&lt;00:00,  1.70s/it]"
      }
     },
     "baf7e27a4bec4a729791256221a19888": {
      "model_module": "@jupyter-widgets/base",
      "model_module_version": "1.2.0",
      "model_name": "LayoutModel",
      "state": {}
     },
     "bb3e7b790114452ba2e5443312438a36": {
      "model_module": "@jupyter-widgets/base",
      "model_module_version": "1.2.0",
      "model_name": "LayoutModel",
      "state": {}
     },
     "bb5ab2130c1d4fecb1da91c9be562876": {
      "model_module": "@jupyter-widgets/controls",
      "model_module_version": "1.5.0",
      "model_name": "ProgressStyleModel",
      "state": {
       "description_width": "initial"
      }
     },
     "bb795cd264be4554ab0a2e2d8ab44548": {
      "model_module": "@jupyter-widgets/controls",
      "model_module_version": "1.5.0",
      "model_name": "HTMLModel",
      "state": {
       "layout": "IPY_MODEL_e967d54400cd4d3a8edcaf3da7676584",
       "style": "IPY_MODEL_2f9a5df1cb434f4ca7bf720ca8690e2f",
       "value": " 30/30 [00:03&lt;00:00,  8.48it/s]"
      }
     },
     "bb7d531723e544d48f7746373f3612f4": {
      "model_module": "@jupyter-widgets/base",
      "model_module_version": "1.2.0",
      "model_name": "LayoutModel",
      "state": {}
     },
     "bbcf0dea5c3745c1b66cab93ffc49e8b": {
      "model_module": "@jupyter-widgets/controls",
      "model_module_version": "1.5.0",
      "model_name": "DescriptionStyleModel",
      "state": {
       "description_width": ""
      }
     },
     "bbd959989c254130a97f3f09e86533fa": {
      "model_module": "@jupyter-widgets/controls",
      "model_module_version": "1.5.0",
      "model_name": "HBoxModel",
      "state": {
       "children": [
        "IPY_MODEL_b495114141a04343b0b7041c7fba1435",
        "IPY_MODEL_bf958ca7601d49b1822fe62159016d2d"
       ],
       "layout": "IPY_MODEL_63a73ac7196d47428bf2d21333238deb"
      }
     },
     "bc320a75dac747fb8807571483fc9c97": {
      "model_module": "@jupyter-widgets/controls",
      "model_module_version": "1.5.0",
      "model_name": "ProgressStyleModel",
      "state": {
       "description_width": "initial"
      }
     },
     "bc392247b4bc465b84a2f3051981fcec": {
      "model_module": "@jupyter-widgets/controls",
      "model_module_version": "1.5.0",
      "model_name": "ProgressStyleModel",
      "state": {
       "description_width": "initial"
      }
     },
     "bc53e78ab8734bb6b775c9ebea05d8e0": {
      "model_module": "@jupyter-widgets/controls",
      "model_module_version": "1.5.0",
      "model_name": "HTMLModel",
      "state": {
       "layout": "IPY_MODEL_76d992b94b4246b0909fa6fef801f84a",
       "style": "IPY_MODEL_23a31f9a0f654fee95e8aabef8360466",
       "value": " 4/4 [00:03&lt;00:00,  1.03it/s]"
      }
     },
     "bc5b872c268246fe8f068c2cf5fde2f5": {
      "model_module": "@jupyter-widgets/controls",
      "model_module_version": "1.5.0",
      "model_name": "HBoxModel",
      "state": {
       "children": [
        "IPY_MODEL_509880786d004795958061e87e48765b",
        "IPY_MODEL_8b9cec6779ff4d7ca412553b92259d72"
       ],
       "layout": "IPY_MODEL_ef990a75aabb42868a78b6c8d036288a"
      }
     },
     "bc63ae3e28414c9bbd01428935b9c77b": {
      "model_module": "@jupyter-widgets/controls",
      "model_module_version": "1.5.0",
      "model_name": "HTMLModel",
      "state": {
       "layout": "IPY_MODEL_22ff130712214a2986914fbbb8b1fc22",
       "style": "IPY_MODEL_1d9eea42843b4eb6affc7521e617cca2",
       "value": " 30/30 [00:04&lt;00:00,  6.94it/s]"
      }
     },
     "bc64199f40ca40cda15fb562c88e179c": {
      "model_module": "@jupyter-widgets/controls",
      "model_module_version": "1.5.0",
      "model_name": "HTMLModel",
      "state": {
       "layout": "IPY_MODEL_4f6c749d109d45afabf169f2ac587a52",
       "style": "IPY_MODEL_f608e9ee4ec846129751332a75ebad08",
       "value": " 30/30 [00:46&lt;00:00,  1.54s/it]"
      }
     },
     "bc658cfbd9314b63a40b7c1bff86fd74": {
      "model_module": "@jupyter-widgets/controls",
      "model_module_version": "1.5.0",
      "model_name": "HBoxModel",
      "state": {
       "children": [
        "IPY_MODEL_bf71e649233848e6a276045c65458292",
        "IPY_MODEL_9de9f3623a0c4402af26c7114a70941b"
       ],
       "layout": "IPY_MODEL_045dedfac38340df9d1942bfbe5b1de3"
      }
     },
     "bc6e25c06a164df085564e7253079e1a": {
      "model_module": "@jupyter-widgets/controls",
      "model_module_version": "1.5.0",
      "model_name": "DescriptionStyleModel",
      "state": {
       "description_width": ""
      }
     },
     "bcd6df1dc43a4705957d98be3ade19b1": {
      "model_module": "@jupyter-widgets/controls",
      "model_module_version": "1.5.0",
      "model_name": "FloatProgressModel",
      "state": {
       "bar_style": "success",
       "description": "100%",
       "layout": "IPY_MODEL_e25c86e07e36422f8da6001a3fed2929",
       "max": 4,
       "style": "IPY_MODEL_e041f75e7e4a474dbdc59686f38ebd70",
       "value": 4
      }
     },
     "bceb1da0be8043098bd762612c9c0b71": {
      "model_module": "@jupyter-widgets/controls",
      "model_module_version": "1.5.0",
      "model_name": "HTMLModel",
      "state": {
       "layout": "IPY_MODEL_b710d4b08db1442b8ca2fe50fb79b03e",
       "style": "IPY_MODEL_b4bc9d27e9a84083b77e5f70b14eb9d8",
       "value": " 30/30 [00:04&lt;00:00,  6.56it/s]"
      }
     },
     "bd2974db57144d8e901f2634441a96b7": {
      "model_module": "@jupyter-widgets/controls",
      "model_module_version": "1.5.0",
      "model_name": "ProgressStyleModel",
      "state": {
       "description_width": "initial"
      }
     },
     "bd7d54c6452c4fce92179f71401bdecb": {
      "model_module": "@jupyter-widgets/controls",
      "model_module_version": "1.5.0",
      "model_name": "HTMLModel",
      "state": {
       "layout": "IPY_MODEL_c85e479a38d44a55b78e5a5380290a31",
       "style": "IPY_MODEL_5430c5f681164d898717bcf0e2d9e7c1",
       "value": " 4/4 [00:00&lt;00:00, 13.31it/s]"
      }
     },
     "bd80fdd1f64649159c3bac1a5aec262a": {
      "model_module": "@jupyter-widgets/controls",
      "model_module_version": "1.5.0",
      "model_name": "ProgressStyleModel",
      "state": {
       "description_width": "initial"
      }
     },
     "be1a3d44af834d60b4b05ddaa1fb2fa0": {
      "model_module": "@jupyter-widgets/controls",
      "model_module_version": "1.5.0",
      "model_name": "HTMLModel",
      "state": {
       "layout": "IPY_MODEL_d06713d0e7b2483f923b429ddc275fa7",
       "style": "IPY_MODEL_b2b6cc9938c3476394f8c33371f1f9ae",
       "value": " 30/30 [00:03&lt;00:00,  7.59it/s]"
      }
     },
     "be23a633f1f84208bd2fbdb4f7d11aa7": {
      "model_module": "@jupyter-widgets/controls",
      "model_module_version": "1.5.0",
      "model_name": "ProgressStyleModel",
      "state": {
       "description_width": "initial"
      }
     },
     "be460309306841879e485fe18656c059": {
      "model_module": "@jupyter-widgets/controls",
      "model_module_version": "1.5.0",
      "model_name": "FloatProgressModel",
      "state": {
       "bar_style": "success",
       "description": "100%",
       "layout": "IPY_MODEL_2f67e1dd8df74fccaa6c7d7800c15cf7",
       "max": 30,
       "style": "IPY_MODEL_ca2f066ef84b46c2ba77787cc2b0bc60",
       "value": 30
      }
     },
     "be48e8a4a7eb4b2389137b4018907d87": {
      "model_module": "@jupyter-widgets/controls",
      "model_module_version": "1.5.0",
      "model_name": "ProgressStyleModel",
      "state": {
       "description_width": "initial"
      }
     },
     "be56bddd3a4c433781663ca5115ec440": {
      "model_module": "@jupyter-widgets/base",
      "model_module_version": "1.2.0",
      "model_name": "LayoutModel",
      "state": {}
     },
     "be6886bdcac84a5aaccf212c20bc53e1": {
      "model_module": "@jupyter-widgets/controls",
      "model_module_version": "1.5.0",
      "model_name": "ProgressStyleModel",
      "state": {
       "description_width": "initial"
      }
     },
     "be7395e591094d469d83dcab147fc184": {
      "model_module": "@jupyter-widgets/base",
      "model_module_version": "1.2.0",
      "model_name": "LayoutModel",
      "state": {}
     },
     "be73fa6221e04182a544bf7581b7c0c1": {
      "model_module": "@jupyter-widgets/controls",
      "model_module_version": "1.5.0",
      "model_name": "HBoxModel",
      "state": {
       "children": [
        "IPY_MODEL_b478b1d8e4014a00845cd52e44ae8838",
        "IPY_MODEL_13b1c4c8a5704c4987cfac5b5bb44347"
       ],
       "layout": "IPY_MODEL_ab09e48eab064c6a85c2118667c568e2"
      }
     },
     "be7f971101684176a24b514af5107014": {
      "model_module": "@jupyter-widgets/controls",
      "model_module_version": "1.5.0",
      "model_name": "HTMLModel",
      "state": {
       "layout": "IPY_MODEL_4b30bbb4aeb942b9a216274d73add477",
       "style": "IPY_MODEL_dfa951838dd748fa897719e2097862e9",
       "value": " 30/30 [00:04&lt;00:00,  6.12it/s]"
      }
     },
     "be92f37533ff4421bc081499fa97a41a": {
      "model_module": "@jupyter-widgets/controls",
      "model_module_version": "1.5.0",
      "model_name": "DescriptionStyleModel",
      "state": {
       "description_width": ""
      }
     },
     "becb4ff6220a41789471d5708a822f16": {
      "model_module": "@jupyter-widgets/controls",
      "model_module_version": "1.5.0",
      "model_name": "FloatProgressModel",
      "state": {
       "bar_style": "success",
       "description": "100%",
       "layout": "IPY_MODEL_c61e803f120d4d899b301e243a525efe",
       "max": 4,
       "style": "IPY_MODEL_07c56d8bb95b4a209a67a8e149e3218c",
       "value": 4
      }
     },
     "beed6050184646f3acc7bf0d9845658d": {
      "model_module": "@jupyter-widgets/controls",
      "model_module_version": "1.5.0",
      "model_name": "FloatProgressModel",
      "state": {
       "bar_style": "success",
       "description": "100%",
       "layout": "IPY_MODEL_f5bc71be44c44886a06db0f18a61f70c",
       "max": 4,
       "style": "IPY_MODEL_a33961d848534b3d97461cb7c21d97f4",
       "value": 4
      }
     },
     "bf107e4bcc4a402d8c2a80ba880c0d6e": {
      "model_module": "@jupyter-widgets/base",
      "model_module_version": "1.2.0",
      "model_name": "LayoutModel",
      "state": {}
     },
     "bf605b93059448319369af75814e8d0a": {
      "model_module": "@jupyter-widgets/controls",
      "model_module_version": "1.5.0",
      "model_name": "DescriptionStyleModel",
      "state": {
       "description_width": ""
      }
     },
     "bf6079533f734524b7333591905b4cec": {
      "model_module": "@jupyter-widgets/controls",
      "model_module_version": "1.5.0",
      "model_name": "DescriptionStyleModel",
      "state": {
       "description_width": ""
      }
     },
     "bf71e649233848e6a276045c65458292": {
      "model_module": "@jupyter-widgets/controls",
      "model_module_version": "1.5.0",
      "model_name": "FloatProgressModel",
      "state": {
       "bar_style": "success",
       "description": "100%",
       "layout": "IPY_MODEL_581a3e3697944bc0a0dbc8440e5bb280",
       "max": 30,
       "style": "IPY_MODEL_5771d87b5dec4345b2f116f650051b37",
       "value": 30
      }
     },
     "bf7d3bbcc8874d26b2a6074f40dc6be6": {
      "model_module": "@jupyter-widgets/controls",
      "model_module_version": "1.5.0",
      "model_name": "ProgressStyleModel",
      "state": {
       "description_width": "initial"
      }
     },
     "bf86b01ab58d4cdaa7e6a1092d1f6a05": {
      "model_module": "@jupyter-widgets/controls",
      "model_module_version": "1.5.0",
      "model_name": "DescriptionStyleModel",
      "state": {
       "description_width": ""
      }
     },
     "bf958ca7601d49b1822fe62159016d2d": {
      "model_module": "@jupyter-widgets/controls",
      "model_module_version": "1.5.0",
      "model_name": "HTMLModel",
      "state": {
       "layout": "IPY_MODEL_138ee33950564533b6ae86cb5c80273a",
       "style": "IPY_MODEL_64e33ac8ffbf4169a84793d1428fb5ed",
       "value": " 30/30 [00:22&lt;00:00,  1.32it/s]"
      }
     },
     "bfdbe19b37e1401c873c99ee78cc6e62": {
      "model_module": "@jupyter-widgets/controls",
      "model_module_version": "1.5.0",
      "model_name": "DescriptionStyleModel",
      "state": {
       "description_width": ""
      }
     },
     "c02000ad0cde48bdb688e13229c4082c": {
      "model_module": "@jupyter-widgets/base",
      "model_module_version": "1.2.0",
      "model_name": "LayoutModel",
      "state": {}
     },
     "c023d9ce9515432a9b59690b919e0059": {
      "model_module": "@jupyter-widgets/base",
      "model_module_version": "1.2.0",
      "model_name": "LayoutModel",
      "state": {}
     },
     "c02678b72d8e4b659a7d04366e29987d": {
      "model_module": "@jupyter-widgets/base",
      "model_module_version": "1.2.0",
      "model_name": "LayoutModel",
      "state": {}
     },
     "c042a3eaa46f4c94b5b4221dbd6d03d5": {
      "model_module": "@jupyter-widgets/controls",
      "model_module_version": "1.5.0",
      "model_name": "DescriptionStyleModel",
      "state": {
       "description_width": ""
      }
     },
     "c09e48c0f48b433398a2332fd48fe736": {
      "model_module": "@jupyter-widgets/base",
      "model_module_version": "1.2.0",
      "model_name": "LayoutModel",
      "state": {}
     },
     "c0a7bff6d3fa409a9bb6f8808a6e3b4d": {
      "model_module": "@jupyter-widgets/base",
      "model_module_version": "1.2.0",
      "model_name": "LayoutModel",
      "state": {}
     },
     "c0d7c81c102a42fc8bf3288ebddfef19": {
      "model_module": "@jupyter-widgets/controls",
      "model_module_version": "1.5.0",
      "model_name": "DescriptionStyleModel",
      "state": {
       "description_width": ""
      }
     },
     "c0ed8f0e00d446da9574a13258a058b3": {
      "model_module": "@jupyter-widgets/base",
      "model_module_version": "1.2.0",
      "model_name": "LayoutModel",
      "state": {}
     },
     "c116de101ede47cea2b72c0197d88778": {
      "model_module": "@jupyter-widgets/controls",
      "model_module_version": "1.5.0",
      "model_name": "FloatProgressModel",
      "state": {
       "bar_style": "success",
       "description": "100%",
       "layout": "IPY_MODEL_0a5c4e9ea57b46cbae01584e5a8723f6",
       "max": 4,
       "style": "IPY_MODEL_0a5652f6352d405c9dd0cc9e752a261f",
       "value": 4
      }
     },
     "c1174c25ba54486aab03527069daef91": {
      "model_module": "@jupyter-widgets/base",
      "model_module_version": "1.2.0",
      "model_name": "LayoutModel",
      "state": {}
     },
     "c12f571b5e334127bb44afb228156e21": {
      "model_module": "@jupyter-widgets/base",
      "model_module_version": "1.2.0",
      "model_name": "LayoutModel",
      "state": {}
     },
     "c157c451976c4514a7259c27badac34d": {
      "model_module": "@jupyter-widgets/base",
      "model_module_version": "1.2.0",
      "model_name": "LayoutModel",
      "state": {}
     },
     "c16852b180314480a7f12831e7a6f936": {
      "model_module": "@jupyter-widgets/base",
      "model_module_version": "1.2.0",
      "model_name": "LayoutModel",
      "state": {}
     },
     "c16d169ebc454b7a8409375ef6ea114b": {
      "model_module": "@jupyter-widgets/base",
      "model_module_version": "1.2.0",
      "model_name": "LayoutModel",
      "state": {}
     },
     "c18066e8157e48ca97df189b6a2911f3": {
      "model_module": "@jupyter-widgets/controls",
      "model_module_version": "1.5.0",
      "model_name": "FloatProgressModel",
      "state": {
       "bar_style": "success",
       "description": "100%",
       "layout": "IPY_MODEL_1fe8525160ef4c2493af545b70348a67",
       "max": 4,
       "style": "IPY_MODEL_305bbf6aba02467682342d876e91603b",
       "value": 4
      }
     },
     "c18656860f7b48ceabac2c250e5f421d": {
      "model_module": "@jupyter-widgets/base",
      "model_module_version": "1.2.0",
      "model_name": "LayoutModel",
      "state": {}
     },
     "c2376aa74d9a42f6a3d38988ee841bde": {
      "model_module": "@jupyter-widgets/controls",
      "model_module_version": "1.5.0",
      "model_name": "ProgressStyleModel",
      "state": {
       "description_width": "initial"
      }
     },
     "c247ff46df3f4f3393c4b40fbbdaa254": {
      "model_module": "@jupyter-widgets/base",
      "model_module_version": "1.2.0",
      "model_name": "LayoutModel",
      "state": {}
     },
     "c2589fe4a2a4463aa325bd5447502fe0": {
      "model_module": "@jupyter-widgets/controls",
      "model_module_version": "1.5.0",
      "model_name": "ProgressStyleModel",
      "state": {
       "description_width": "initial"
      }
     },
     "c279f681eaf94b7f86ab18d019fa884a": {
      "model_module": "@jupyter-widgets/controls",
      "model_module_version": "1.5.0",
      "model_name": "HTMLModel",
      "state": {
       "layout": "IPY_MODEL_808a8c2c6b6e45f88a636eb54ff19742",
       "style": "IPY_MODEL_4b0202c2d83d493a913b73fb03aadaf2",
       "value": " 4/4 [00:00&lt;00:00, 10.33it/s]"
      }
     },
     "c2b3cc8c4524435ca5f4d0ed0d7e34a2": {
      "model_module": "@jupyter-widgets/base",
      "model_module_version": "1.2.0",
      "model_name": "LayoutModel",
      "state": {}
     },
     "c2ed01f3ce3a4d23824b9ae2fbdcb740": {
      "model_module": "@jupyter-widgets/base",
      "model_module_version": "1.2.0",
      "model_name": "LayoutModel",
      "state": {}
     },
     "c2fff7b8654c4c5eb7b166cf01d96fbc": {
      "model_module": "@jupyter-widgets/controls",
      "model_module_version": "1.5.0",
      "model_name": "HTMLModel",
      "state": {
       "layout": "IPY_MODEL_02f13ad6c6fb4b29be3e32929f9f17a7",
       "style": "IPY_MODEL_ffc6a259c139499e880b3afb7452d037",
       "value": " 4/4 [00:38&lt;00:00,  9.67s/it]"
      }
     },
     "c3266d6d63be41569ff1b690cdf8628d": {
      "model_module": "@jupyter-widgets/controls",
      "model_module_version": "1.5.0",
      "model_name": "FloatProgressModel",
      "state": {
       "bar_style": "success",
       "description": "100%",
       "layout": "IPY_MODEL_819fde25392b44479f345bcd9f54c96c",
       "max": 30,
       "style": "IPY_MODEL_38e7e88674a64141ad6c8a9f2cb39c75",
       "value": 30
      }
     },
     "c32ad072afb74f989b2bef7c1b523bd9": {
      "model_module": "@jupyter-widgets/base",
      "model_module_version": "1.2.0",
      "model_name": "LayoutModel",
      "state": {}
     },
     "c356000bf7b9438db8502064e34c4fb7": {
      "model_module": "@jupyter-widgets/controls",
      "model_module_version": "1.5.0",
      "model_name": "HBoxModel",
      "state": {
       "children": [
        "IPY_MODEL_8bcd10f2bdef47cea6d20a137704508b",
        "IPY_MODEL_c96698f0171c40df94993720b587b8cb"
       ],
       "layout": "IPY_MODEL_d285fb76f36e47fe934d457bc02c5c27"
      }
     },
     "c365fe1c63ed4847a6ecdee5239acee0": {
      "model_module": "@jupyter-widgets/base",
      "model_module_version": "1.2.0",
      "model_name": "LayoutModel",
      "state": {}
     },
     "c3d44a649d0c4454a3e0478d083cf306": {
      "model_module": "@jupyter-widgets/controls",
      "model_module_version": "1.5.0",
      "model_name": "HBoxModel",
      "state": {
       "children": [
        "IPY_MODEL_77621951d53640afbc092ef064c07e6e",
        "IPY_MODEL_192bde3f3cc74b0b928df44edd3d9993"
       ],
       "layout": "IPY_MODEL_0cc73924f6074308ab01b51dd4661edf"
      }
     },
     "c50c9917d1d44daebfbbcf632237dd8c": {
      "model_module": "@jupyter-widgets/base",
      "model_module_version": "1.2.0",
      "model_name": "LayoutModel",
      "state": {}
     },
     "c51b8ad105604791bab16303d92828ab": {
      "model_module": "@jupyter-widgets/controls",
      "model_module_version": "1.5.0",
      "model_name": "DescriptionStyleModel",
      "state": {
       "description_width": ""
      }
     },
     "c51fe0f1826948968d45e8c55784b586": {
      "model_module": "@jupyter-widgets/controls",
      "model_module_version": "1.5.0",
      "model_name": "FloatProgressModel",
      "state": {
       "bar_style": "success",
       "description": "100%",
       "layout": "IPY_MODEL_a6735bb802224fc3a6adfa9071927205",
       "max": 4,
       "style": "IPY_MODEL_e436388f0a8b433ba7a04632819ea1b6",
       "value": 4
      }
     },
     "c58f7b3ef4a44fa69a4b6753599d6266": {
      "model_module": "@jupyter-widgets/controls",
      "model_module_version": "1.5.0",
      "model_name": "HTMLModel",
      "state": {
       "layout": "IPY_MODEL_8c66afc226b64b0c9b672be86c4078a9",
       "style": "IPY_MODEL_d75f63bf2fc64a5b87b2e381aafdd723",
       "value": " 4/4 [00:16&lt;00:00,  4.20s/it]"
      }
     },
     "c5e51549a92141d6af7a833926573be1": {
      "model_module": "@jupyter-widgets/base",
      "model_module_version": "1.2.0",
      "model_name": "LayoutModel",
      "state": {}
     },
     "c61727d5b3c14ce7b2b87903968b76db": {
      "model_module": "@jupyter-widgets/controls",
      "model_module_version": "1.5.0",
      "model_name": "HTMLModel",
      "state": {
       "layout": "IPY_MODEL_795022b8c84548cfa0a6ae78bb68eaba",
       "style": "IPY_MODEL_b10e6ef7ca5e4f9cbfd75e47ee9040f1",
       "value": " 4/4 [00:55&lt;00:00, 13.89s/it]"
      }
     },
     "c61e803f120d4d899b301e243a525efe": {
      "model_module": "@jupyter-widgets/base",
      "model_module_version": "1.2.0",
      "model_name": "LayoutModel",
      "state": {}
     },
     "c626c5f7289a48ec9ea4f90bad06dff1": {
      "model_module": "@jupyter-widgets/base",
      "model_module_version": "1.2.0",
      "model_name": "LayoutModel",
      "state": {}
     },
     "c658dcb2615a4179975bba08d07ed05b": {
      "model_module": "@jupyter-widgets/base",
      "model_module_version": "1.2.0",
      "model_name": "LayoutModel",
      "state": {}
     },
     "c6ac663565774d43a9fb2e0cc45005e7": {
      "model_module": "@jupyter-widgets/controls",
      "model_module_version": "1.5.0",
      "model_name": "FloatProgressModel",
      "state": {
       "bar_style": "success",
       "description": "100%",
       "layout": "IPY_MODEL_425fac6dd3e244d4bc7565eb43c20839",
       "max": 30,
       "style": "IPY_MODEL_dd8932d308c64b69bee2c5a2135a06dd",
       "value": 30
      }
     },
     "c6db99a2304349ae8fff5643f256aea8": {
      "model_module": "@jupyter-widgets/controls",
      "model_module_version": "1.5.0",
      "model_name": "FloatProgressModel",
      "state": {
       "bar_style": "success",
       "description": "100%",
       "layout": "IPY_MODEL_dd69e30e2e5c471399a8e37d254e8d38",
       "max": 4,
       "style": "IPY_MODEL_59d2c33ee9a141edb19dc7ef275f6685",
       "value": 4
      }
     },
     "c6fba024f80a4c34b3215f3f77447931": {
      "model_module": "@jupyter-widgets/controls",
      "model_module_version": "1.5.0",
      "model_name": "HBoxModel",
      "state": {
       "children": [
        "IPY_MODEL_9d18689bec574ec687db4a6a316f2082",
        "IPY_MODEL_a133451cddb94c819c47144a1cd54cb4"
       ],
       "layout": "IPY_MODEL_ddc09fe0fa4945039e7fe98b2c2366a5"
      }
     },
     "c70a936a82f549969772d031996ad3de": {
      "model_module": "@jupyter-widgets/base",
      "model_module_version": "1.2.0",
      "model_name": "LayoutModel",
      "state": {}
     },
     "c75d7f63a8d8449a8a3122844de3d71e": {
      "model_module": "@jupyter-widgets/controls",
      "model_module_version": "1.5.0",
      "model_name": "DescriptionStyleModel",
      "state": {
       "description_width": ""
      }
     },
     "c7abb6407cbe4ebca66b655e4b55b4a2": {
      "model_module": "@jupyter-widgets/base",
      "model_module_version": "1.2.0",
      "model_name": "LayoutModel",
      "state": {}
     },
     "c85e479a38d44a55b78e5a5380290a31": {
      "model_module": "@jupyter-widgets/base",
      "model_module_version": "1.2.0",
      "model_name": "LayoutModel",
      "state": {}
     },
     "c8bf31a5cdc84547ba1c471f98224c1f": {
      "model_module": "@jupyter-widgets/base",
      "model_module_version": "1.2.0",
      "model_name": "LayoutModel",
      "state": {}
     },
     "c91d9a51e7e34f7a9447083b51486342": {
      "model_module": "@jupyter-widgets/controls",
      "model_module_version": "1.5.0",
      "model_name": "FloatProgressModel",
      "state": {
       "bar_style": "success",
       "description": "100%",
       "layout": "IPY_MODEL_172786c1653747d68fedbc86bfc2be0a",
       "max": 30,
       "style": "IPY_MODEL_a6c6befbccc7400d9c703514be9c587a",
       "value": 30
      }
     },
     "c941058f866e48cfb9dc863763c44719": {
      "model_module": "@jupyter-widgets/controls",
      "model_module_version": "1.5.0",
      "model_name": "HTMLModel",
      "state": {
       "layout": "IPY_MODEL_7a5221379f2c462382cdb25807c3beb0",
       "style": "IPY_MODEL_e854670e110742eebeca4891158bd286",
       "value": " 30/30 [00:03&lt;00:00,  8.23it/s]"
      }
     },
     "c965c262125f4e8a918e28db3a5761e4": {
      "model_module": "@jupyter-widgets/controls",
      "model_module_version": "1.5.0",
      "model_name": "DescriptionStyleModel",
      "state": {
       "description_width": ""
      }
     },
     "c96698f0171c40df94993720b587b8cb": {
      "model_module": "@jupyter-widgets/controls",
      "model_module_version": "1.5.0",
      "model_name": "HTMLModel",
      "state": {
       "layout": "IPY_MODEL_07fea59952d744058faf21b6a49d32a2",
       "style": "IPY_MODEL_372a59ffc35945d9ae0236d88afd9e91",
       "value": " 30/30 [00:04&lt;00:00,  7.17it/s]"
      }
     },
     "c98c9ec28d0d4409afdaaa1b8a9c6dd7": {
      "model_module": "@jupyter-widgets/controls",
      "model_module_version": "1.5.0",
      "model_name": "DescriptionStyleModel",
      "state": {
       "description_width": ""
      }
     },
     "c9a3bcda4c30451e935e688be00fb0fc": {
      "model_module": "@jupyter-widgets/controls",
      "model_module_version": "1.5.0",
      "model_name": "FloatProgressModel",
      "state": {
       "bar_style": "success",
       "description": "100%",
       "layout": "IPY_MODEL_421675a8493548d9b095858f323263a1",
       "max": 4,
       "style": "IPY_MODEL_86865df40c0a4ddc876ad1b093fdaca8",
       "value": 4
      }
     },
     "c9aaf6404c904c3680f0dd2b856db410": {
      "model_module": "@jupyter-widgets/controls",
      "model_module_version": "1.5.0",
      "model_name": "FloatProgressModel",
      "state": {
       "bar_style": "success",
       "description": "100%",
       "layout": "IPY_MODEL_6253892f39a94b229aab35cd3fbb2439",
       "max": 4,
       "style": "IPY_MODEL_bf7d3bbcc8874d26b2a6074f40dc6be6",
       "value": 4
      }
     },
     "ca2f066ef84b46c2ba77787cc2b0bc60": {
      "model_module": "@jupyter-widgets/controls",
      "model_module_version": "1.5.0",
      "model_name": "ProgressStyleModel",
      "state": {
       "description_width": "initial"
      }
     },
     "ca3a2f14ad824570a1c6bb5092e60b71": {
      "model_module": "@jupyter-widgets/controls",
      "model_module_version": "1.5.0",
      "model_name": "DescriptionStyleModel",
      "state": {
       "description_width": ""
      }
     },
     "ca52aa3b4b794cffbe461dcaa1232b3d": {
      "model_module": "@jupyter-widgets/controls",
      "model_module_version": "1.5.0",
      "model_name": "HTMLModel",
      "state": {
       "layout": "IPY_MODEL_ae4cc2d673d74579859403a1d5e2c769",
       "style": "IPY_MODEL_45eb511129bb4ee0ab37fa29db9a9dbc",
       "value": " 4/4 [00:00&lt;00:00,  7.16it/s]"
      }
     },
     "ca82afeb9d034ff4a363c8ccae207c60": {
      "model_module": "@jupyter-widgets/base",
      "model_module_version": "1.2.0",
      "model_name": "LayoutModel",
      "state": {}
     },
     "ca8825a67a864692ba6f249c4ee2ed91": {
      "model_module": "@jupyter-widgets/controls",
      "model_module_version": "1.5.0",
      "model_name": "ProgressStyleModel",
      "state": {
       "description_width": "initial"
      }
     },
     "caca0d73758e4082b374890f58c2cd18": {
      "model_module": "@jupyter-widgets/controls",
      "model_module_version": "1.5.0",
      "model_name": "DescriptionStyleModel",
      "state": {
       "description_width": ""
      }
     },
     "caceeb6e072b43f1baf5e138e3f08d69": {
      "model_module": "@jupyter-widgets/controls",
      "model_module_version": "1.5.0",
      "model_name": "ProgressStyleModel",
      "state": {
       "description_width": "initial"
      }
     },
     "caddf9b8d1944b6da239472340dccdd6": {
      "model_module": "@jupyter-widgets/controls",
      "model_module_version": "1.5.0",
      "model_name": "HBoxModel",
      "state": {
       "children": [
        "IPY_MODEL_2bac10eec9924924af1af73689856aca",
        "IPY_MODEL_5aacc77ee8c141e5bd4f750dd82c12c2"
       ],
       "layout": "IPY_MODEL_cb05609e24c44f639b1dcd3fce372d6d"
      }
     },
     "cb05609e24c44f639b1dcd3fce372d6d": {
      "model_module": "@jupyter-widgets/base",
      "model_module_version": "1.2.0",
      "model_name": "LayoutModel",
      "state": {}
     },
     "cb53cb208e14454a957f905c977cfe91": {
      "model_module": "@jupyter-widgets/controls",
      "model_module_version": "1.5.0",
      "model_name": "ProgressStyleModel",
      "state": {
       "description_width": "initial"
      }
     },
     "cb5c4838a7c6406ba81e8bb3ddfa6c5b": {
      "model_module": "@jupyter-widgets/base",
      "model_module_version": "1.2.0",
      "model_name": "LayoutModel",
      "state": {}
     },
     "cb625d16c1104c10a7737cb3a1eda2dc": {
      "model_module": "@jupyter-widgets/controls",
      "model_module_version": "1.5.0",
      "model_name": "DescriptionStyleModel",
      "state": {
       "description_width": ""
      }
     },
     "cc0b2b7e968b40e7aeb7c3190060eb6c": {
      "model_module": "@jupyter-widgets/base",
      "model_module_version": "1.2.0",
      "model_name": "LayoutModel",
      "state": {}
     },
     "cc24e43492dc4fb4a0166b78492874cc": {
      "model_module": "@jupyter-widgets/base",
      "model_module_version": "1.2.0",
      "model_name": "LayoutModel",
      "state": {}
     },
     "cc2c50f97467442bb77a38ea6c937be7": {
      "model_module": "@jupyter-widgets/base",
      "model_module_version": "1.2.0",
      "model_name": "LayoutModel",
      "state": {}
     },
     "cc55457b125445b2b50dd15f2468f5a3": {
      "model_module": "@jupyter-widgets/controls",
      "model_module_version": "1.5.0",
      "model_name": "HTMLModel",
      "state": {
       "layout": "IPY_MODEL_484c50c919934650b31366a5295c3dca",
       "style": "IPY_MODEL_7b45b833870f4b91a10225b18075e927",
       "value": " 4/4 [00:42&lt;00:00, 10.66s/it]"
      }
     },
     "cc5ce1629a234a2384dce648aebdf59f": {
      "model_module": "@jupyter-widgets/controls",
      "model_module_version": "1.5.0",
      "model_name": "HBoxModel",
      "state": {
       "children": [
        "IPY_MODEL_9841bf72c12542e39b44ce2f9a37f818",
        "IPY_MODEL_abd363922fec4f2799b4a2733dd40df5"
       ],
       "layout": "IPY_MODEL_00025f97a729471b933978d6ccb25624"
      }
     },
     "cca88ebc9906462c9ba253f652819396": {
      "model_module": "@jupyter-widgets/base",
      "model_module_version": "1.2.0",
      "model_name": "LayoutModel",
      "state": {}
     },
     "ccbb978777e74978871ba9bfe19c02c1": {
      "model_module": "@jupyter-widgets/base",
      "model_module_version": "1.2.0",
      "model_name": "LayoutModel",
      "state": {}
     },
     "ccd00f4edf7e4e03b8b8c9aef0ffafc7": {
      "model_module": "@jupyter-widgets/controls",
      "model_module_version": "1.5.0",
      "model_name": "FloatProgressModel",
      "state": {
       "bar_style": "success",
       "description": "100%",
       "layout": "IPY_MODEL_f717daf4facc458c85bbe58169bf9f6e",
       "max": 30,
       "style": "IPY_MODEL_a5ce8cb48cba46fdb115d056942dff7c",
       "value": 30
      }
     },
     "cd23235a7bcc4174b71515cbf2b493dd": {
      "model_module": "@jupyter-widgets/base",
      "model_module_version": "1.2.0",
      "model_name": "LayoutModel",
      "state": {}
     },
     "cd2f0c6ca7464c6f9ecd102f50e3168d": {
      "model_module": "@jupyter-widgets/controls",
      "model_module_version": "1.5.0",
      "model_name": "DescriptionStyleModel",
      "state": {
       "description_width": ""
      }
     },
     "cdb99f7d0fe54d2faddcb2e73085dde1": {
      "model_module": "@jupyter-widgets/controls",
      "model_module_version": "1.5.0",
      "model_name": "HTMLModel",
      "state": {
       "layout": "IPY_MODEL_7f07691e8b014859a4b4e52b4a5d5b07",
       "style": "IPY_MODEL_a3504139d0f8411eb006911b04261798",
       "value": " 4/4 [00:01&lt;00:00,  2.76it/s]"
      }
     },
     "ce1a995643e94fc08d27600868509df8": {
      "model_module": "@jupyter-widgets/controls",
      "model_module_version": "1.5.0",
      "model_name": "DescriptionStyleModel",
      "state": {
       "description_width": ""
      }
     },
     "ce90ae7f259a4d9da5e06dcd1dc5952d": {
      "model_module": "@jupyter-widgets/controls",
      "model_module_version": "1.5.0",
      "model_name": "DescriptionStyleModel",
      "state": {
       "description_width": ""
      }
     },
     "ce922ba40e9c4350899aae406f0e5cc5": {
      "model_module": "@jupyter-widgets/controls",
      "model_module_version": "1.5.0",
      "model_name": "FloatProgressModel",
      "state": {
       "bar_style": "success",
       "description": "100%",
       "layout": "IPY_MODEL_fe1cc2b7a1654176a24aa07d4dd41643",
       "max": 4,
       "style": "IPY_MODEL_5e870a9c30a8445ba9f3757adb2530fa",
       "value": 4
      }
     },
     "cebec44e16964216a33c62a14425272c": {
      "model_module": "@jupyter-widgets/controls",
      "model_module_version": "1.5.0",
      "model_name": "HBoxModel",
      "state": {
       "children": [
        "IPY_MODEL_feec012a12f348d097ec22187be75d87",
        "IPY_MODEL_2f157d133c684e5f97f186b56a99291f"
       ],
       "layout": "IPY_MODEL_41808aadb36d4ed8af3bf3ffda09690f"
      }
     },
     "ced9d4eea99548679be6377dc5fcfa62": {
      "model_module": "@jupyter-widgets/controls",
      "model_module_version": "1.5.0",
      "model_name": "HTMLModel",
      "state": {
       "layout": "IPY_MODEL_92f100fe74b34fbd9b7b30188e2b81f8",
       "style": "IPY_MODEL_a124bed73036427a8d69aefdca14fbb9",
       "value": " 4/4 [00:03&lt;00:00,  1.09it/s]"
      }
     },
     "cf1fee1a01f442eda35840f257d9b4df": {
      "model_module": "@jupyter-widgets/base",
      "model_module_version": "1.2.0",
      "model_name": "LayoutModel",
      "state": {}
     },
     "cf213f17ab4f495fa206b464bfdbfd75": {
      "model_module": "@jupyter-widgets/controls",
      "model_module_version": "1.5.0",
      "model_name": "HTMLModel",
      "state": {
       "layout": "IPY_MODEL_a91e13dce05e4754aa433d57151ef7e6",
       "style": "IPY_MODEL_f5f317aa63bd40db92e360bb11e1ccda",
       "value": " 30/30 [00:04&lt;00:00,  6.58it/s]"
      }
     },
     "cf2b0ab044214866af555265074b69f9": {
      "model_module": "@jupyter-widgets/base",
      "model_module_version": "1.2.0",
      "model_name": "LayoutModel",
      "state": {}
     },
     "cf54194ec03040339e9c98a79ae6fff9": {
      "model_module": "@jupyter-widgets/base",
      "model_module_version": "1.2.0",
      "model_name": "LayoutModel",
      "state": {}
     },
     "cf6f9e3ca70242639f42187a8ef23069": {
      "model_module": "@jupyter-widgets/controls",
      "model_module_version": "1.5.0",
      "model_name": "DescriptionStyleModel",
      "state": {
       "description_width": ""
      }
     },
     "cfa5cc2f260f421ba735ccadcb50ddb8": {
      "model_module": "@jupyter-widgets/base",
      "model_module_version": "1.2.0",
      "model_name": "LayoutModel",
      "state": {}
     },
     "cfda3aa5fcf141ae821c902b82464e61": {
      "model_module": "@jupyter-widgets/base",
      "model_module_version": "1.2.0",
      "model_name": "LayoutModel",
      "state": {}
     },
     "d006988d4745410491286d2d328c5711": {
      "model_module": "@jupyter-widgets/controls",
      "model_module_version": "1.5.0",
      "model_name": "DescriptionStyleModel",
      "state": {
       "description_width": ""
      }
     },
     "d030b797873847bc82cd9f95f747797e": {
      "model_module": "@jupyter-widgets/base",
      "model_module_version": "1.2.0",
      "model_name": "LayoutModel",
      "state": {}
     },
     "d0366c5ca7ad43c5b0e0c7d39a527db6": {
      "model_module": "@jupyter-widgets/base",
      "model_module_version": "1.2.0",
      "model_name": "LayoutModel",
      "state": {}
     },
     "d03875918f494d02b08bd89f5e53a4d6": {
      "model_module": "@jupyter-widgets/controls",
      "model_module_version": "1.5.0",
      "model_name": "ProgressStyleModel",
      "state": {
       "description_width": "initial"
      }
     },
     "d04a45f68efc4146a0dbe80257d5491a": {
      "model_module": "@jupyter-widgets/controls",
      "model_module_version": "1.5.0",
      "model_name": "FloatProgressModel",
      "state": {
       "bar_style": "success",
       "description": "100%",
       "layout": "IPY_MODEL_9ff8297638cf48a7b2d73ff8b50ecb44",
       "max": 4,
       "style": "IPY_MODEL_78ccb51633cc4191a373a60faa602f41",
       "value": 4
      }
     },
     "d064a8adb08e4e528179fcbfb8e0b58b": {
      "model_module": "@jupyter-widgets/controls",
      "model_module_version": "1.5.0",
      "model_name": "ProgressStyleModel",
      "state": {
       "description_width": "initial"
      }
     },
     "d06713d0e7b2483f923b429ddc275fa7": {
      "model_module": "@jupyter-widgets/base",
      "model_module_version": "1.2.0",
      "model_name": "LayoutModel",
      "state": {}
     },
     "d09dedbe9b0f4da8ad05fa5f5abdd8c6": {
      "model_module": "@jupyter-widgets/controls",
      "model_module_version": "1.5.0",
      "model_name": "HBoxModel",
      "state": {
       "children": [
        "IPY_MODEL_e12273778f7c4c5486142dad9e2a7cc1",
        "IPY_MODEL_78338c51eeb24a8db36e65855f623888"
       ],
       "layout": "IPY_MODEL_ba842a99401a4d78b78ebec66428c45c"
      }
     },
     "d0ab70710e674f08b3b1e0fc1af4389f": {
      "model_module": "@jupyter-widgets/base",
      "model_module_version": "1.2.0",
      "model_name": "LayoutModel",
      "state": {}
     },
     "d201126d70e7470390b34b7bd6556674": {
      "model_module": "@jupyter-widgets/base",
      "model_module_version": "1.2.0",
      "model_name": "LayoutModel",
      "state": {}
     },
     "d260d434f1e14e5695af0c2da7dc1fca": {
      "model_module": "@jupyter-widgets/controls",
      "model_module_version": "1.5.0",
      "model_name": "HBoxModel",
      "state": {
       "children": [
        "IPY_MODEL_8e77d5004098400393756d810f57665a",
        "IPY_MODEL_66028db985254a1f8eb525c3536fef99"
       ],
       "layout": "IPY_MODEL_392880b7667b4c40b698ce86494adb9e"
      }
     },
     "d27d78d3572c4a8a91a91635f37b97f6": {
      "model_module": "@jupyter-widgets/controls",
      "model_module_version": "1.5.0",
      "model_name": "HTMLModel",
      "state": {
       "layout": "IPY_MODEL_e6893c7440a6446cb4a8a5a90fc0b1f5",
       "style": "IPY_MODEL_3f0b8e0c99e94e6594a00e13297e7d10",
       "value": " 30/30 [00:04&lt;00:00,  7.36it/s]"
      }
     },
     "d285fb76f36e47fe934d457bc02c5c27": {
      "model_module": "@jupyter-widgets/base",
      "model_module_version": "1.2.0",
      "model_name": "LayoutModel",
      "state": {}
     },
     "d2be0f9bf76e4b41b1553e82d96f8ae1": {
      "model_module": "@jupyter-widgets/base",
      "model_module_version": "1.2.0",
      "model_name": "LayoutModel",
      "state": {}
     },
     "d31446e3e11b4ff8880267c51145716d": {
      "model_module": "@jupyter-widgets/controls",
      "model_module_version": "1.5.0",
      "model_name": "HTMLModel",
      "state": {
       "layout": "IPY_MODEL_120dae4d9e724322ae31e2842284d9e3",
       "style": "IPY_MODEL_cf6f9e3ca70242639f42187a8ef23069",
       "value": " 4/4 [01:14&lt;00:00, 18.58s/it]"
      }
     },
     "d33c6dba07b44a6dacf63bd45a44c893": {
      "model_module": "@jupyter-widgets/base",
      "model_module_version": "1.2.0",
      "model_name": "LayoutModel",
      "state": {}
     },
     "d37895afb5d94138b3a81f8b351c035d": {
      "model_module": "@jupyter-widgets/controls",
      "model_module_version": "1.5.0",
      "model_name": "FloatProgressModel",
      "state": {
       "bar_style": "success",
       "description": "100%",
       "layout": "IPY_MODEL_debc1dc205964c3aad3ada127bbbc267",
       "max": 30,
       "style": "IPY_MODEL_b5abc4c558a84330a78155795e4af717",
       "value": 30
      }
     },
     "d38b3618042a4d7b8c830a8d282f5c54": {
      "model_module": "@jupyter-widgets/controls",
      "model_module_version": "1.5.0",
      "model_name": "DescriptionStyleModel",
      "state": {
       "description_width": ""
      }
     },
     "d3a447d07ab146e09463d38dfae45f1a": {
      "model_module": "@jupyter-widgets/base",
      "model_module_version": "1.2.0",
      "model_name": "LayoutModel",
      "state": {}
     },
     "d40e579f4ad540e99bd280c11a85249e": {
      "model_module": "@jupyter-widgets/controls",
      "model_module_version": "1.5.0",
      "model_name": "HTMLModel",
      "state": {
       "layout": "IPY_MODEL_aca4be6855dd414f95c4aa76008d1393",
       "style": "IPY_MODEL_bc6e25c06a164df085564e7253079e1a",
       "value": " 4/4 [00:27&lt;00:00,  6.85s/it]"
      }
     },
     "d41a3f13c6a846d29179f16d525e4302": {
      "model_module": "@jupyter-widgets/controls",
      "model_module_version": "1.5.0",
      "model_name": "HTMLModel",
      "state": {
       "layout": "IPY_MODEL_6f335ee0781f4c009688943fe19933e5",
       "style": "IPY_MODEL_a973839515ad4ce19b9cbcb8416c4cf1",
       "value": " 30/30 [00:07&lt;00:00,  4.07it/s]"
      }
     },
     "d456441500cb400ea0240ae4b4047d43": {
      "model_module": "@jupyter-widgets/controls",
      "model_module_version": "1.5.0",
      "model_name": "HBoxModel",
      "state": {
       "children": [
        "IPY_MODEL_911a78b3dedd4474a430a00d9d42ae2f",
        "IPY_MODEL_348989e224314348b5cc91fe1fa729cb"
       ],
       "layout": "IPY_MODEL_cf1fee1a01f442eda35840f257d9b4df"
      }
     },
     "d47933f5a88645ebbd163435719289fc": {
      "model_module": "@jupyter-widgets/base",
      "model_module_version": "1.2.0",
      "model_name": "LayoutModel",
      "state": {}
     },
     "d4cf4a5b244b462fb77bc96b42ef35db": {
      "model_module": "@jupyter-widgets/controls",
      "model_module_version": "1.5.0",
      "model_name": "HTMLModel",
      "state": {
       "layout": "IPY_MODEL_1a15bc621c3d448cb80548a898ef5399",
       "style": "IPY_MODEL_c98c9ec28d0d4409afdaaa1b8a9c6dd7",
       "value": " 4/4 [00:00&lt;00:00, 12.47it/s]"
      }
     },
     "d50c94c9c9ff49aeab9da28e339ab4d4": {
      "model_module": "@jupyter-widgets/base",
      "model_module_version": "1.2.0",
      "model_name": "LayoutModel",
      "state": {}
     },
     "d50f4bfe7803410dadf9ebfbb1b77a95": {
      "model_module": "@jupyter-widgets/controls",
      "model_module_version": "1.5.0",
      "model_name": "HTMLModel",
      "state": {
       "layout": "IPY_MODEL_9a26cd31bbbe445c8ba556bfb660f7d8",
       "style": "IPY_MODEL_ef3af52fd80043218b70eab57c56ad49",
       "value": " 30/30 [00:49&lt;00:00,  1.65s/it]"
      }
     },
     "d54465481aab4521b367d8ad2de2c05e": {
      "model_module": "@jupyter-widgets/base",
      "model_module_version": "1.2.0",
      "model_name": "LayoutModel",
      "state": {}
     },
     "d584da0933e04db59b27339ddc3075d2": {
      "model_module": "@jupyter-widgets/base",
      "model_module_version": "1.2.0",
      "model_name": "LayoutModel",
      "state": {}
     },
     "d6a10120676143129a67ffa0e1dcaa0f": {
      "model_module": "@jupyter-widgets/controls",
      "model_module_version": "1.5.0",
      "model_name": "ProgressStyleModel",
      "state": {
       "description_width": "initial"
      }
     },
     "d6aa8be14f954c6cbc2720c9663834b4": {
      "model_module": "@jupyter-widgets/base",
      "model_module_version": "1.2.0",
      "model_name": "LayoutModel",
      "state": {}
     },
     "d6f275ea57c149c7963a8a7a6805a31e": {
      "model_module": "@jupyter-widgets/controls",
      "model_module_version": "1.5.0",
      "model_name": "HBoxModel",
      "state": {
       "children": [
        "IPY_MODEL_845cb1f1fd964134b18057739b59b8e8",
        "IPY_MODEL_451ee1024cb547dbb99453f5c920988e"
       ],
       "layout": "IPY_MODEL_6aa031631bd54f65a2eb8f0b1a5b4912"
      }
     },
     "d70f69e178b44c5c9253d5c9294da709": {
      "model_module": "@jupyter-widgets/controls",
      "model_module_version": "1.5.0",
      "model_name": "FloatProgressModel",
      "state": {
       "bar_style": "success",
       "description": "100%",
       "layout": "IPY_MODEL_f2e66c4554694a148d69ed7ffac2bbd1",
       "max": 4,
       "style": "IPY_MODEL_f0d9336ea30f46c688b993943ada8972",
       "value": 4
      }
     },
     "d75f63bf2fc64a5b87b2e381aafdd723": {
      "model_module": "@jupyter-widgets/controls",
      "model_module_version": "1.5.0",
      "model_name": "DescriptionStyleModel",
      "state": {
       "description_width": ""
      }
     },
     "d76222b4df7441e5a47319f7c04b0432": {
      "model_module": "@jupyter-widgets/base",
      "model_module_version": "1.2.0",
      "model_name": "LayoutModel",
      "state": {}
     },
     "d76ddb7edcc6467ca9d780dc36e6c224": {
      "model_module": "@jupyter-widgets/controls",
      "model_module_version": "1.5.0",
      "model_name": "HTMLModel",
      "state": {
       "layout": "IPY_MODEL_04d68efab6164237bf99930a70057f9a",
       "style": "IPY_MODEL_61b7b466be954680ab25433ac2610461",
       "value": " 30/30 [00:03&lt;00:00,  8.28it/s]"
      }
     },
     "d7885c93e3a54c5fbfe54a42639dd4b8": {
      "model_module": "@jupyter-widgets/controls",
      "model_module_version": "1.5.0",
      "model_name": "HTMLModel",
      "state": {
       "layout": "IPY_MODEL_1cb66c185d11486ca7780cf58139e9a3",
       "style": "IPY_MODEL_8fd4d0ed967b4c87b11f1222ab40d645",
       "value": " 4/4 [00:00&lt;00:00, 12.88it/s]"
      }
     },
     "d78a86e9faad46aeb3da359c4000fadd": {
      "model_module": "@jupyter-widgets/base",
      "model_module_version": "1.2.0",
      "model_name": "LayoutModel",
      "state": {}
     },
     "d79882b79b0e4205b7c50105932b490f": {
      "model_module": "@jupyter-widgets/base",
      "model_module_version": "1.2.0",
      "model_name": "LayoutModel",
      "state": {}
     },
     "d7d75115776b4ea4a868f997ef3696b1": {
      "model_module": "@jupyter-widgets/controls",
      "model_module_version": "1.5.0",
      "model_name": "FloatProgressModel",
      "state": {
       "bar_style": "success",
       "description": "100%",
       "layout": "IPY_MODEL_7a2c8c19fecc4efdb041188baef2bc9b",
       "max": 4,
       "style": "IPY_MODEL_be6886bdcac84a5aaccf212c20bc53e1",
       "value": 4
      }
     },
     "d8263b0f45224de3830df98f38856cf0": {
      "model_module": "@jupyter-widgets/base",
      "model_module_version": "1.2.0",
      "model_name": "LayoutModel",
      "state": {}
     },
     "d88535d6c14a47669e0fc508c9d095c9": {
      "model_module": "@jupyter-widgets/base",
      "model_module_version": "1.2.0",
      "model_name": "LayoutModel",
      "state": {}
     },
     "d886e2d617b04c4b8261806350832a0f": {
      "model_module": "@jupyter-widgets/controls",
      "model_module_version": "1.5.0",
      "model_name": "ProgressStyleModel",
      "state": {
       "description_width": "initial"
      }
     },
     "d89fc02ca7824494b933ea37098a50bf": {
      "model_module": "@jupyter-widgets/base",
      "model_module_version": "1.2.0",
      "model_name": "LayoutModel",
      "state": {}
     },
     "d8a0f66e28a04eceb5c701fba9c8b207": {
      "model_module": "@jupyter-widgets/base",
      "model_module_version": "1.2.0",
      "model_name": "LayoutModel",
      "state": {}
     },
     "d8b86d34c0c64933aabb9b07c745a682": {
      "model_module": "@jupyter-widgets/controls",
      "model_module_version": "1.5.0",
      "model_name": "HBoxModel",
      "state": {
       "children": [
        "IPY_MODEL_becb4ff6220a41789471d5708a822f16",
        "IPY_MODEL_d7885c93e3a54c5fbfe54a42639dd4b8"
       ],
       "layout": "IPY_MODEL_2078815e8b3c479f931baf4454e1f628"
      }
     },
     "d8ee6c806a0f4887bf06df50688462be": {
      "model_module": "@jupyter-widgets/controls",
      "model_module_version": "1.5.0",
      "model_name": "ProgressStyleModel",
      "state": {
       "description_width": "initial"
      }
     },
     "d8f78cfc6f744527aa3b565d933fc870": {
      "model_module": "@jupyter-widgets/base",
      "model_module_version": "1.2.0",
      "model_name": "LayoutModel",
      "state": {}
     },
     "d8fa2704e109464d9ec16190fc71a746": {
      "model_module": "@jupyter-widgets/base",
      "model_module_version": "1.2.0",
      "model_name": "LayoutModel",
      "state": {}
     },
     "d90d13d8879e4392b55bdea54141f0ef": {
      "model_module": "@jupyter-widgets/base",
      "model_module_version": "1.2.0",
      "model_name": "LayoutModel",
      "state": {}
     },
     "d9393fd975284ed8b6b2320239747c7f": {
      "model_module": "@jupyter-widgets/controls",
      "model_module_version": "1.5.0",
      "model_name": "ProgressStyleModel",
      "state": {
       "description_width": "initial"
      }
     },
     "d9f96b40324946ac98046086709d4805": {
      "model_module": "@jupyter-widgets/controls",
      "model_module_version": "1.5.0",
      "model_name": "ProgressStyleModel",
      "state": {
       "description_width": "initial"
      }
     },
     "da34f0315e07421a93bdd6a60f93e247": {
      "model_module": "@jupyter-widgets/base",
      "model_module_version": "1.2.0",
      "model_name": "LayoutModel",
      "state": {}
     },
     "da3d4dbd792d4643bec071513e700f2c": {
      "model_module": "@jupyter-widgets/controls",
      "model_module_version": "1.5.0",
      "model_name": "FloatProgressModel",
      "state": {
       "bar_style": "success",
       "description": "100%",
       "layout": "IPY_MODEL_1a01a5064784477a96afe768f40c23dc",
       "max": 30,
       "style": "IPY_MODEL_3ec6fb7d10a54b73af5159dc1ff4ac24",
       "value": 30
      }
     },
     "da3e8b20a38a4649a324d18eb7053405": {
      "model_module": "@jupyter-widgets/controls",
      "model_module_version": "1.5.0",
      "model_name": "HTMLModel",
      "state": {
       "layout": "IPY_MODEL_b618a4e4e9d441408f8e5d45aecfa9b4",
       "style": "IPY_MODEL_fdbed406696d4b7ea498bb155b7007a2",
       "value": " 30/30 [00:07&lt;00:00,  3.97it/s]"
      }
     },
     "da4e1c8dc70342d287078e08fb648111": {
      "model_module": "@jupyter-widgets/controls",
      "model_module_version": "1.5.0",
      "model_name": "HBoxModel",
      "state": {
       "children": [
        "IPY_MODEL_d7d75115776b4ea4a868f997ef3696b1",
        "IPY_MODEL_0fb6460dfa214c3eb2c26ac509164477"
       ],
       "layout": "IPY_MODEL_c658dcb2615a4179975bba08d07ed05b"
      }
     },
     "da7c1413f36247bdaab514d0a7154db0": {
      "model_module": "@jupyter-widgets/controls",
      "model_module_version": "1.5.0",
      "model_name": "HBoxModel",
      "state": {
       "children": [
        "IPY_MODEL_a9b20a2dc2cb4a93baf6b1f4de5b4bab",
        "IPY_MODEL_0561c0b94de14fa39d3a299a0377b851"
       ],
       "layout": "IPY_MODEL_6af63d2853a64311a3e5b9796b9a8994"
      }
     },
     "dab31c45801c4f488d36aa7b1014f40b": {
      "model_module": "@jupyter-widgets/controls",
      "model_module_version": "1.5.0",
      "model_name": "HBoxModel",
      "state": {
       "children": [
        "IPY_MODEL_11b9950a1687400db02ceadc07cfefca",
        "IPY_MODEL_8ff9bdf5a81c4d99aafb9809f7b1b03d"
       ],
       "layout": "IPY_MODEL_2832d1f581b147e2bebcbe0c41a3110a"
      }
     },
     "dabcc465ac444bbe82572e3f1af3d6f0": {
      "model_module": "@jupyter-widgets/controls",
      "model_module_version": "1.5.0",
      "model_name": "HTMLModel",
      "state": {
       "layout": "IPY_MODEL_a2423b9d40e9452cb20fe198721fd26e",
       "style": "IPY_MODEL_c042a3eaa46f4c94b5b4221dbd6d03d5",
       "value": " 4/4 [00:25&lt;00:00,  6.44s/it]"
      }
     },
     "dac8c4be9f9b4e31888a60f7b92b9cc6": {
      "model_module": "@jupyter-widgets/controls",
      "model_module_version": "1.5.0",
      "model_name": "DescriptionStyleModel",
      "state": {
       "description_width": ""
      }
     },
     "dacdda6c670f48718184cf77daee3488": {
      "model_module": "@jupyter-widgets/base",
      "model_module_version": "1.2.0",
      "model_name": "LayoutModel",
      "state": {}
     },
     "dadc6938366149b78cb60f46cd269b0b": {
      "model_module": "@jupyter-widgets/controls",
      "model_module_version": "1.5.0",
      "model_name": "FloatProgressModel",
      "state": {
       "bar_style": "success",
       "description": "100%",
       "layout": "IPY_MODEL_eaf6c380193a4b50a27deff2135d9dd1",
       "max": 4,
       "style": "IPY_MODEL_798425cfc7354b009858f4e3d4b73a2a",
       "value": 4
      }
     },
     "db0ac94eaf064895b4a49554b7126b70": {
      "model_module": "@jupyter-widgets/controls",
      "model_module_version": "1.5.0",
      "model_name": "DescriptionStyleModel",
      "state": {
       "description_width": ""
      }
     },
     "db46f889f5c244deb3cf505c788123de": {
      "model_module": "@jupyter-widgets/base",
      "model_module_version": "1.2.0",
      "model_name": "LayoutModel",
      "state": {}
     },
     "db5361a537624c77bc4aff2a35213f0a": {
      "model_module": "@jupyter-widgets/controls",
      "model_module_version": "1.5.0",
      "model_name": "HTMLModel",
      "state": {
       "layout": "IPY_MODEL_43a6ddf720124adca038dcc16d182f76",
       "style": "IPY_MODEL_9655fe27e9294be1a0f3f33eedf44eeb",
       "value": " 30/30 [00:04&lt;00:00,  7.48it/s]"
      }
     },
     "db59ee9821da47589fb4893f67df7bc0": {
      "model_module": "@jupyter-widgets/controls",
      "model_module_version": "1.5.0",
      "model_name": "HBoxModel",
      "state": {
       "children": [
        "IPY_MODEL_138cd9e3a21643c7a814d6a3363ff84c",
        "IPY_MODEL_f2cfa01304a248ef8af3749b435df9e5"
       ],
       "layout": "IPY_MODEL_b87e657103a147a9a1f1183125a4b753"
      }
     },
     "db7268dc56e547fd83cb3793ce1f6c71": {
      "model_module": "@jupyter-widgets/base",
      "model_module_version": "1.2.0",
      "model_name": "LayoutModel",
      "state": {}
     },
     "db94bea64cea4c51b29044a317ce25b8": {
      "model_module": "@jupyter-widgets/base",
      "model_module_version": "1.2.0",
      "model_name": "LayoutModel",
      "state": {}
     },
     "dbdfe0042c5d487fadda7edf130bd314": {
      "model_module": "@jupyter-widgets/base",
      "model_module_version": "1.2.0",
      "model_name": "LayoutModel",
      "state": {}
     },
     "dc7dee95a61348a386e57858a691237a": {
      "model_module": "@jupyter-widgets/base",
      "model_module_version": "1.2.0",
      "model_name": "LayoutModel",
      "state": {}
     },
     "dc894403d739432eb1dbff72cdd317fa": {
      "model_module": "@jupyter-widgets/controls",
      "model_module_version": "1.5.0",
      "model_name": "FloatProgressModel",
      "state": {
       "bar_style": "success",
       "description": "100%",
       "layout": "IPY_MODEL_ff11c2bc82dc410fac3d78b36469681c",
       "max": 4,
       "style": "IPY_MODEL_9768c690427144a39a8f0aef9522fba0",
       "value": 4
      }
     },
     "dcb27b017ab1420ab5e059d7940c27f1": {
      "model_module": "@jupyter-widgets/base",
      "model_module_version": "1.2.0",
      "model_name": "LayoutModel",
      "state": {}
     },
     "dcc02fa0b8ae459188aa75f73ce8489f": {
      "model_module": "@jupyter-widgets/controls",
      "model_module_version": "1.5.0",
      "model_name": "HTMLModel",
      "state": {
       "layout": "IPY_MODEL_c626c5f7289a48ec9ea4f90bad06dff1",
       "style": "IPY_MODEL_fb9f9a2fdbb24cfea4e9a226ac81e3b6",
       "value": " 30/30 [00:04&lt;00:00,  7.44it/s]"
      }
     },
     "dcc11d89691548f4b3a7a2f6065ed354": {
      "model_module": "@jupyter-widgets/base",
      "model_module_version": "1.2.0",
      "model_name": "LayoutModel",
      "state": {}
     },
     "dd253b39ec25410db04135d6c51184bc": {
      "model_module": "@jupyter-widgets/controls",
      "model_module_version": "1.5.0",
      "model_name": "ProgressStyleModel",
      "state": {
       "description_width": "initial"
      }
     },
     "dd54738e8d1349b9b215208f612ddb74": {
      "model_module": "@jupyter-widgets/base",
      "model_module_version": "1.2.0",
      "model_name": "LayoutModel",
      "state": {}
     },
     "dd69e30e2e5c471399a8e37d254e8d38": {
      "model_module": "@jupyter-widgets/base",
      "model_module_version": "1.2.0",
      "model_name": "LayoutModel",
      "state": {}
     },
     "dd8932d308c64b69bee2c5a2135a06dd": {
      "model_module": "@jupyter-widgets/controls",
      "model_module_version": "1.5.0",
      "model_name": "ProgressStyleModel",
      "state": {
       "description_width": "initial"
      }
     },
     "dd8bc092c7524f14961df575c5c8bf98": {
      "model_module": "@jupyter-widgets/base",
      "model_module_version": "1.2.0",
      "model_name": "LayoutModel",
      "state": {}
     },
     "ddab47306a46414cac1acc7f28d4bd46": {
      "model_module": "@jupyter-widgets/controls",
      "model_module_version": "1.5.0",
      "model_name": "HBoxModel",
      "state": {
       "children": [
        "IPY_MODEL_2c728e2bd6164dcc806be7d967bbda37",
        "IPY_MODEL_761bf52bacfa4f0a8f049e4e86c369a5"
       ],
       "layout": "IPY_MODEL_c02000ad0cde48bdb688e13229c4082c"
      }
     },
     "ddc09fe0fa4945039e7fe98b2c2366a5": {
      "model_module": "@jupyter-widgets/base",
      "model_module_version": "1.2.0",
      "model_name": "LayoutModel",
      "state": {}
     },
     "dde18e183b9b49aab496032e44ab7418": {
      "model_module": "@jupyter-widgets/base",
      "model_module_version": "1.2.0",
      "model_name": "LayoutModel",
      "state": {}
     },
     "ddfd856ee7a746eab3bb8f12f02af415": {
      "model_module": "@jupyter-widgets/base",
      "model_module_version": "1.2.0",
      "model_name": "LayoutModel",
      "state": {}
     },
     "de0a6952055442568d0c8db5575c9047": {
      "model_module": "@jupyter-widgets/controls",
      "model_module_version": "1.5.0",
      "model_name": "FloatProgressModel",
      "state": {
       "bar_style": "success",
       "description": "100%",
       "layout": "IPY_MODEL_186038a62f6644a5878997585146c8ac",
       "max": 4,
       "style": "IPY_MODEL_897de5611baf44638ca0ce84e248163d",
       "value": 4
      }
     },
     "de1a8fde74bf4ef39c6ff0952e5c8452": {
      "model_module": "@jupyter-widgets/base",
      "model_module_version": "1.2.0",
      "model_name": "LayoutModel",
      "state": {}
     },
     "de79a957698147fd81daa52e71d2af94": {
      "model_module": "@jupyter-widgets/base",
      "model_module_version": "1.2.0",
      "model_name": "LayoutModel",
      "state": {}
     },
     "debc1dc205964c3aad3ada127bbbc267": {
      "model_module": "@jupyter-widgets/base",
      "model_module_version": "1.2.0",
      "model_name": "LayoutModel",
      "state": {}
     },
     "df26d43543404338b8ac93f6576f5287": {
      "model_module": "@jupyter-widgets/controls",
      "model_module_version": "1.5.0",
      "model_name": "HTMLModel",
      "state": {
       "layout": "IPY_MODEL_945579afa5154a5e96acdd9e7926d168",
       "style": "IPY_MODEL_6dd8fe6ec2f94321a7c472cf7af3479f",
       "value": " 30/30 [00:04&lt;00:00,  7.03it/s]"
      }
     },
     "df393b82caa34b4bb5bf24ed2b4c349e": {
      "model_module": "@jupyter-widgets/base",
      "model_module_version": "1.2.0",
      "model_name": "LayoutModel",
      "state": {}
     },
     "df45c3c833c3481cb0307c3b85c35184": {
      "model_module": "@jupyter-widgets/base",
      "model_module_version": "1.2.0",
      "model_name": "LayoutModel",
      "state": {}
     },
     "df9a0ce697164008a9f225b1892bff32": {
      "model_module": "@jupyter-widgets/controls",
      "model_module_version": "1.5.0",
      "model_name": "ProgressStyleModel",
      "state": {
       "description_width": "initial"
      }
     },
     "dfa951838dd748fa897719e2097862e9": {
      "model_module": "@jupyter-widgets/controls",
      "model_module_version": "1.5.0",
      "model_name": "DescriptionStyleModel",
      "state": {
       "description_width": ""
      }
     },
     "dfc47e6d59854d5dbc754308887e9cc9": {
      "model_module": "@jupyter-widgets/base",
      "model_module_version": "1.2.0",
      "model_name": "LayoutModel",
      "state": {}
     },
     "dfc98f63708b4ae29e2b95207d3e0854": {
      "model_module": "@jupyter-widgets/controls",
      "model_module_version": "1.5.0",
      "model_name": "FloatProgressModel",
      "state": {
       "bar_style": "success",
       "description": "100%",
       "layout": "IPY_MODEL_cf2b0ab044214866af555265074b69f9",
       "max": 30,
       "style": "IPY_MODEL_8748916c7d23418bb54370e665f58649",
       "value": 30
      }
     },
     "dfdc1c275fae4fe9b5449680d2c84ee1": {
      "model_module": "@jupyter-widgets/controls",
      "model_module_version": "1.5.0",
      "model_name": "HTMLModel",
      "state": {
       "layout": "IPY_MODEL_28efc9768f054b15910f069764323bfe",
       "style": "IPY_MODEL_2f33bb5387174619ba90cab691d1dc9f",
       "value": " 4/4 [00:00&lt;00:00, 10.66it/s]"
      }
     },
     "dffbede387e3408c9588535b4a7c173d": {
      "model_module": "@jupyter-widgets/controls",
      "model_module_version": "1.5.0",
      "model_name": "ProgressStyleModel",
      "state": {
       "description_width": "initial"
      }
     },
     "e01d1e7f1a3d438791cf5db35550a189": {
      "model_module": "@jupyter-widgets/controls",
      "model_module_version": "1.5.0",
      "model_name": "DescriptionStyleModel",
      "state": {
       "description_width": ""
      }
     },
     "e041f75e7e4a474dbdc59686f38ebd70": {
      "model_module": "@jupyter-widgets/controls",
      "model_module_version": "1.5.0",
      "model_name": "ProgressStyleModel",
      "state": {
       "description_width": "initial"
      }
     },
     "e05d96ec33b34ecaad810f309fab5a22": {
      "model_module": "@jupyter-widgets/controls",
      "model_module_version": "1.5.0",
      "model_name": "HBoxModel",
      "state": {
       "children": [
        "IPY_MODEL_4a81fecb7a754072806533b1807cec76",
        "IPY_MODEL_6563403998f346b48bc7f24a741be184"
       ],
       "layout": "IPY_MODEL_da34f0315e07421a93bdd6a60f93e247"
      }
     },
     "e0a9989ed5ae4fcaa373bac87e06a74b": {
      "model_module": "@jupyter-widgets/controls",
      "model_module_version": "1.5.0",
      "model_name": "HTMLModel",
      "state": {
       "layout": "IPY_MODEL_780be7892ac2484b8b8c07ecf27b3a24",
       "style": "IPY_MODEL_58f4bcfda007432a92435b4ccb836b0b",
       "value": " 4/4 [00:26&lt;00:00,  6.73s/it]"
      }
     },
     "e0ba174733d24d4e8cade70c703eec01": {
      "model_module": "@jupyter-widgets/controls",
      "model_module_version": "1.5.0",
      "model_name": "HTMLModel",
      "state": {
       "layout": "IPY_MODEL_0dd1d68464ba4c328e0f32dee12a1f06",
       "style": "IPY_MODEL_3cd838da3cf54603a98411e20fead690",
       "value": " 4/4 [00:00&lt;00:00,  9.86it/s]"
      }
     },
     "e0c15e7925f340a7ac5a2cd279adc130": {
      "model_module": "@jupyter-widgets/controls",
      "model_module_version": "1.5.0",
      "model_name": "HTMLModel",
      "state": {
       "layout": "IPY_MODEL_b50811dbe9d4402b938b3f289694f5f3",
       "style": "IPY_MODEL_31010e52e366475ea340cbac71f1d4b5",
       "value": " 4/4 [00:00&lt;00:00, 10.27it/s]"
      }
     },
     "e0c96f8461d44e61b9837154c66eff06": {
      "model_module": "@jupyter-widgets/base",
      "model_module_version": "1.2.0",
      "model_name": "LayoutModel",
      "state": {}
     },
     "e0d8d97267714ee9a539da4b298f7577": {
      "model_module": "@jupyter-widgets/controls",
      "model_module_version": "1.5.0",
      "model_name": "HTMLModel",
      "state": {
       "layout": "IPY_MODEL_fb4dc83d61874873b0321a9a7dfcf800",
       "style": "IPY_MODEL_6074d7ab533a4acd8089e28160353282",
       "value": " 30/30 [00:04&lt;00:00,  6.88it/s]"
      }
     },
     "e11f2ea26ed44fe6b40e881fcd1618c0": {
      "model_module": "@jupyter-widgets/controls",
      "model_module_version": "1.5.0",
      "model_name": "HTMLModel",
      "state": {
       "layout": "IPY_MODEL_abb3d25604674a1c907011389b1fdafa",
       "style": "IPY_MODEL_caca0d73758e4082b374890f58c2cd18",
       "value": " 30/30 [00:04&lt;00:00,  6.74it/s]"
      }
     },
     "e12273778f7c4c5486142dad9e2a7cc1": {
      "model_module": "@jupyter-widgets/controls",
      "model_module_version": "1.5.0",
      "model_name": "FloatProgressModel",
      "state": {
       "bar_style": "success",
       "description": "100%",
       "layout": "IPY_MODEL_6e27b7a24ecc4ff28324cf19e8cc411f",
       "max": 4,
       "style": "IPY_MODEL_8227c5c140db4a50a35a6f096ec4129c",
       "value": 4
      }
     },
     "e13ef6f880f645d1ba613ffd49285a6d": {
      "model_module": "@jupyter-widgets/controls",
      "model_module_version": "1.5.0",
      "model_name": "HTMLModel",
      "state": {
       "layout": "IPY_MODEL_fa8074aba386426ea0ae4dee1d82152b",
       "style": "IPY_MODEL_9005de87669a4ae2ae771dcb25c40750",
       "value": " 4/4 [00:00&lt;00:00, 10.04it/s]"
      }
     },
     "e147ad3eb7b14cb1be391d645fb39f69": {
      "model_module": "@jupyter-widgets/controls",
      "model_module_version": "1.5.0",
      "model_name": "ProgressStyleModel",
      "state": {
       "description_width": "initial"
      }
     },
     "e149edbafa2a43f093bf92ded550ab4b": {
      "model_module": "@jupyter-widgets/controls",
      "model_module_version": "1.5.0",
      "model_name": "HTMLModel",
      "state": {
       "layout": "IPY_MODEL_e2eb3b5394a242a897ddb7e1eb1b8ad2",
       "style": "IPY_MODEL_20d298c373c44fafb5f1967c4a6989d9",
       "value": " 4/4 [00:15&lt;00:00,  3.87s/it]"
      }
     },
     "e1a8bcd0fa2440268bbc929347fea8f1": {
      "model_module": "@jupyter-widgets/controls",
      "model_module_version": "1.5.0",
      "model_name": "FloatProgressModel",
      "state": {
       "bar_style": "danger",
       "description": " 20%",
       "layout": "IPY_MODEL_6ff9352fec1e47b082354b662e120746",
       "max": 30,
       "style": "IPY_MODEL_d9393fd975284ed8b6b2320239747c7f",
       "value": 6
      }
     },
     "e1b83e8f5882499881e90bf9205e9826": {
      "model_module": "@jupyter-widgets/controls",
      "model_module_version": "1.5.0",
      "model_name": "DescriptionStyleModel",
      "state": {
       "description_width": ""
      }
     },
     "e1ce6c2ea6ba4de29be9f6b0da201da6": {
      "model_module": "@jupyter-widgets/controls",
      "model_module_version": "1.5.0",
      "model_name": "HBoxModel",
      "state": {
       "children": [
        "IPY_MODEL_4e577b28202048329ce49d8a72b0f770",
        "IPY_MODEL_52c1238871e74fa5a8b72ce614745d6d"
       ],
       "layout": "IPY_MODEL_09dc0b49d83847f29faa245afa56872d"
      }
     },
     "e1d30eb3eae54066b1e713f24675f140": {
      "model_module": "@jupyter-widgets/controls",
      "model_module_version": "1.5.0",
      "model_name": "ProgressStyleModel",
      "state": {
       "description_width": "initial"
      }
     },
     "e1de82212d7641b780be1218b26e7bd7": {
      "model_module": "@jupyter-widgets/controls",
      "model_module_version": "1.5.0",
      "model_name": "HBoxModel",
      "state": {
       "children": [
        "IPY_MODEL_47e8a95e5cda45128c44f0fc82fe4293",
        "IPY_MODEL_e7c0c5f6dc1f4327be70a42198698f49"
       ],
       "layout": "IPY_MODEL_6a52fd71891944578d10eb22807f55e0"
      }
     },
     "e1e111e1c9f84d6797cc00268082be15": {
      "model_module": "@jupyter-widgets/base",
      "model_module_version": "1.2.0",
      "model_name": "LayoutModel",
      "state": {}
     },
     "e20cd01b4404464385d54e45b2dbfa21": {
      "model_module": "@jupyter-widgets/controls",
      "model_module_version": "1.5.0",
      "model_name": "FloatProgressModel",
      "state": {
       "bar_style": "success",
       "description": "100%",
       "layout": "IPY_MODEL_27abee41f0d2404bbe6c381260ebeec6",
       "max": 30,
       "style": "IPY_MODEL_ece9cc9fd17344a19059323f8b9fa3d1",
       "value": 30
      }
     },
     "e2260ef23d704338830afe0c781abadc": {
      "model_module": "@jupyter-widgets/controls",
      "model_module_version": "1.5.0",
      "model_name": "ProgressStyleModel",
      "state": {
       "description_width": "initial"
      }
     },
     "e248a22540724119b099d6b3bbeea601": {
      "model_module": "@jupyter-widgets/base",
      "model_module_version": "1.2.0",
      "model_name": "LayoutModel",
      "state": {}
     },
     "e25c86e07e36422f8da6001a3fed2929": {
      "model_module": "@jupyter-widgets/base",
      "model_module_version": "1.2.0",
      "model_name": "LayoutModel",
      "state": {}
     },
     "e285194de95f456fa4fe6f5a483bfb84": {
      "model_module": "@jupyter-widgets/controls",
      "model_module_version": "1.5.0",
      "model_name": "DescriptionStyleModel",
      "state": {
       "description_width": ""
      }
     },
     "e298b7e1092d450797106fcefbb9ea64": {
      "model_module": "@jupyter-widgets/controls",
      "model_module_version": "1.5.0",
      "model_name": "HTMLModel",
      "state": {
       "layout": "IPY_MODEL_9e76813d5b614e289571605007ca8567",
       "style": "IPY_MODEL_aea3f445dd3540c88b541af8964b9088",
       "value": " 4/4 [00:00&lt;00:00, 12.90it/s]"
      }
     },
     "e29f446628d64ee9b2d3e7506f8b3986": {
      "model_module": "@jupyter-widgets/base",
      "model_module_version": "1.2.0",
      "model_name": "LayoutModel",
      "state": {}
     },
     "e2eb3b5394a242a897ddb7e1eb1b8ad2": {
      "model_module": "@jupyter-widgets/base",
      "model_module_version": "1.2.0",
      "model_name": "LayoutModel",
      "state": {}
     },
     "e3723ed63332458b9fbf8cf854900ff2": {
      "model_module": "@jupyter-widgets/base",
      "model_module_version": "1.2.0",
      "model_name": "LayoutModel",
      "state": {}
     },
     "e436388f0a8b433ba7a04632819ea1b6": {
      "model_module": "@jupyter-widgets/controls",
      "model_module_version": "1.5.0",
      "model_name": "ProgressStyleModel",
      "state": {
       "description_width": "initial"
      }
     },
     "e43f82e149f84457a5cabfe03b68aa85": {
      "model_module": "@jupyter-widgets/controls",
      "model_module_version": "1.5.0",
      "model_name": "FloatProgressModel",
      "state": {
       "bar_style": "success",
       "description": "100%",
       "layout": "IPY_MODEL_e248a22540724119b099d6b3bbeea601",
       "max": 30,
       "style": "IPY_MODEL_825b4f6977584f3a9933a3f36984b688",
       "value": 30
      }
     },
     "e4502264a8794777b87191040e61a15b": {
      "model_module": "@jupyter-widgets/base",
      "model_module_version": "1.2.0",
      "model_name": "LayoutModel",
      "state": {}
     },
     "e4673f52d0464d71aba24988f22f31c2": {
      "model_module": "@jupyter-widgets/base",
      "model_module_version": "1.2.0",
      "model_name": "LayoutModel",
      "state": {}
     },
     "e51fdc86d8d1424a902937d5ee00e4f6": {
      "model_module": "@jupyter-widgets/base",
      "model_module_version": "1.2.0",
      "model_name": "LayoutModel",
      "state": {}
     },
     "e5369cf7889942629a433ccb82d7ba5e": {
      "model_module": "@jupyter-widgets/base",
      "model_module_version": "1.2.0",
      "model_name": "LayoutModel",
      "state": {}
     },
     "e55300d9eda44a078b146cf181d3e9d9": {
      "model_module": "@jupyter-widgets/base",
      "model_module_version": "1.2.0",
      "model_name": "LayoutModel",
      "state": {}
     },
     "e556d17435e54026858de86e398da11b": {
      "model_module": "@jupyter-widgets/controls",
      "model_module_version": "1.5.0",
      "model_name": "ProgressStyleModel",
      "state": {
       "description_width": "initial"
      }
     },
     "e6476ece82cd467786123d5c0b2a3065": {
      "model_module": "@jupyter-widgets/base",
      "model_module_version": "1.2.0",
      "model_name": "LayoutModel",
      "state": {}
     },
     "e64d180b45774d76927570a5e44fed7d": {
      "model_module": "@jupyter-widgets/controls",
      "model_module_version": "1.5.0",
      "model_name": "FloatProgressModel",
      "state": {
       "bar_style": "success",
       "description": "100%",
       "layout": "IPY_MODEL_72bf09a6ba18486383f74ef57e21bd31",
       "max": 30,
       "style": "IPY_MODEL_5d55435cfc5b47849f0b2a386d021ee6",
       "value": 30
      }
     },
     "e65373fe284744f98cdd4cf75e94b640": {
      "model_module": "@jupyter-widgets/controls",
      "model_module_version": "1.5.0",
      "model_name": "HBoxModel",
      "state": {
       "children": [
        "IPY_MODEL_537aa04b73124f11bc531d8c7fc19227",
        "IPY_MODEL_2def342f97014a158388fe3ceac4fd97"
       ],
       "layout": "IPY_MODEL_9e537d7eff174a36b2dc32a6420febea"
      }
     },
     "e65759a0421840aa8143d8760b491a20": {
      "model_module": "@jupyter-widgets/base",
      "model_module_version": "1.2.0",
      "model_name": "LayoutModel",
      "state": {}
     },
     "e67a7db9ab2d433e80a5681f87e779af": {
      "model_module": "@jupyter-widgets/controls",
      "model_module_version": "1.5.0",
      "model_name": "HTMLModel",
      "state": {
       "layout": "IPY_MODEL_84301fa9be1b42dd8212c07506730040",
       "style": "IPY_MODEL_5b47625046b240529fed32cdfa84546d",
       "value": " 4/4 [00:01&lt;00:00,  3.45it/s]"
      }
     },
     "e67e61d16380470489b45de9853afd32": {
      "model_module": "@jupyter-widgets/base",
      "model_module_version": "1.2.0",
      "model_name": "LayoutModel",
      "state": {}
     },
     "e67ea1fdf69f413ba58514ddb1a53ac6": {
      "model_module": "@jupyter-widgets/base",
      "model_module_version": "1.2.0",
      "model_name": "LayoutModel",
      "state": {}
     },
     "e6893c7440a6446cb4a8a5a90fc0b1f5": {
      "model_module": "@jupyter-widgets/base",
      "model_module_version": "1.2.0",
      "model_name": "LayoutModel",
      "state": {}
     },
     "e6952f7e9aab461c836fcd7b4196a578": {
      "model_module": "@jupyter-widgets/controls",
      "model_module_version": "1.5.0",
      "model_name": "DescriptionStyleModel",
      "state": {
       "description_width": ""
      }
     },
     "e6b300d715314dfd8b94e1fcea3adfe5": {
      "model_module": "@jupyter-widgets/controls",
      "model_module_version": "1.5.0",
      "model_name": "HBoxModel",
      "state": {
       "children": [
        "IPY_MODEL_ff494cd41846496d81d1921b61134f96",
        "IPY_MODEL_9585ae7630634931979e9cba641810a6"
       ],
       "layout": "IPY_MODEL_3644db087d304e5eb3d6847512c8e1cb"
      }
     },
     "e731711fa7e74d7f8bb8f573a432f9f3": {
      "model_module": "@jupyter-widgets/base",
      "model_module_version": "1.2.0",
      "model_name": "LayoutModel",
      "state": {}
     },
     "e7accbf78e834b4488565f415a88c4c1": {
      "model_module": "@jupyter-widgets/controls",
      "model_module_version": "1.5.0",
      "model_name": "DescriptionStyleModel",
      "state": {
       "description_width": ""
      }
     },
     "e7c0c5f6dc1f4327be70a42198698f49": {
      "model_module": "@jupyter-widgets/controls",
      "model_module_version": "1.5.0",
      "model_name": "HTMLModel",
      "state": {
       "layout": "IPY_MODEL_5a70d8193b0242898263eb7225ba5883",
       "style": "IPY_MODEL_1ad9a9bd35ca468da24268393a4cb7e1",
       "value": " 4/4 [00:00&lt;00:00, 10.53it/s]"
      }
     },
     "e7eafe47caaa40169a7bd1d7098b595f": {
      "model_module": "@jupyter-widgets/controls",
      "model_module_version": "1.5.0",
      "model_name": "ProgressStyleModel",
      "state": {
       "description_width": "initial"
      }
     },
     "e854670e110742eebeca4891158bd286": {
      "model_module": "@jupyter-widgets/controls",
      "model_module_version": "1.5.0",
      "model_name": "DescriptionStyleModel",
      "state": {
       "description_width": ""
      }
     },
     "e8596d91cd984337836535cdbfc9d761": {
      "model_module": "@jupyter-widgets/controls",
      "model_module_version": "1.5.0",
      "model_name": "HBoxModel",
      "state": {
       "children": [
        "IPY_MODEL_ccd00f4edf7e4e03b8b8c9aef0ffafc7",
        "IPY_MODEL_a9d4aa5f8b624c6a8aa121653589e294"
       ],
       "layout": "IPY_MODEL_9028e30720484572ad9caf721f77a512"
      }
     },
     "e87f802cc12b4d10a009bcc56a70ce21": {
      "model_module": "@jupyter-widgets/controls",
      "model_module_version": "1.5.0",
      "model_name": "FloatProgressModel",
      "state": {
       "bar_style": "success",
       "description": "100%",
       "layout": "IPY_MODEL_02fcee1f378843b68f99b134e3c48a76",
       "max": 30,
       "style": "IPY_MODEL_10e0b2987e774417b3b4f47fc0d43856",
       "value": 30
      }
     },
     "e8dd40faa15e4c869fb8e95bd6299354": {
      "model_module": "@jupyter-widgets/controls",
      "model_module_version": "1.5.0",
      "model_name": "HBoxModel",
      "state": {
       "children": [
        "IPY_MODEL_31868e74e8fa49c48dc505aa670f6a7c",
        "IPY_MODEL_a7391737a5764501a91b87403e973519"
       ],
       "layout": "IPY_MODEL_36b42316c3454e7f8e1e0f30b2e12281"
      }
     },
     "e92204863afe447981c5f75c014f1c72": {
      "model_module": "@jupyter-widgets/controls",
      "model_module_version": "1.5.0",
      "model_name": "HTMLModel",
      "state": {
       "layout": "IPY_MODEL_d0366c5ca7ad43c5b0e0c7d39a527db6",
       "style": "IPY_MODEL_802776be669f4632ab4c657b33ae28df",
       "value": " 30/30 [00:34&lt;00:00,  1.16s/it]"
      }
     },
     "e9237c37916b4511806ad99fb0042522": {
      "model_module": "@jupyter-widgets/base",
      "model_module_version": "1.2.0",
      "model_name": "LayoutModel",
      "state": {}
     },
     "e952681f645b459b873eb6099e8c753a": {
      "model_module": "@jupyter-widgets/base",
      "model_module_version": "1.2.0",
      "model_name": "LayoutModel",
      "state": {}
     },
     "e958d0f3b13343c8b49902ea98bdd37b": {
      "model_module": "@jupyter-widgets/base",
      "model_module_version": "1.2.0",
      "model_name": "LayoutModel",
      "state": {}
     },
     "e967d54400cd4d3a8edcaf3da7676584": {
      "model_module": "@jupyter-widgets/base",
      "model_module_version": "1.2.0",
      "model_name": "LayoutModel",
      "state": {}
     },
     "e96bab91f84d4041b8c79bb436062fe0": {
      "model_module": "@jupyter-widgets/controls",
      "model_module_version": "1.5.0",
      "model_name": "FloatProgressModel",
      "state": {
       "bar_style": "success",
       "description": "100%",
       "layout": "IPY_MODEL_634b6d9829a84bc68a1615afeaa0f5df",
       "max": 4,
       "style": "IPY_MODEL_8f65848af33345e2bb79b317d5be68fb",
       "value": 4
      }
     },
     "e9946a095d42490087ecab2f4494482c": {
      "model_module": "@jupyter-widgets/controls",
      "model_module_version": "1.5.0",
      "model_name": "HBoxModel",
      "state": {
       "children": [
        "IPY_MODEL_ec4f48768b19485bb70c70e21331fb29",
        "IPY_MODEL_5cd6c438a3ab47808d90c21d9f9daaa0"
       ],
       "layout": "IPY_MODEL_88075bba18cc46fd8c9bf050a017bb8d"
      }
     },
     "e9e0069d3646426880a977d8f8a8aa6c": {
      "model_module": "@jupyter-widgets/controls",
      "model_module_version": "1.5.0",
      "model_name": "FloatProgressModel",
      "state": {
       "bar_style": "success",
       "description": "100%",
       "layout": "IPY_MODEL_151b9e34dece4f149d8cd4bcf73a9647",
       "max": 4,
       "style": "IPY_MODEL_5ef061f97e8a422a9262b75c1b62ca56",
       "value": 4
      }
     },
     "ea54e771884845ffaf0073ccb904ca35": {
      "model_module": "@jupyter-widgets/controls",
      "model_module_version": "1.5.0",
      "model_name": "HBoxModel",
      "state": {
       "children": [
        "IPY_MODEL_c6db99a2304349ae8fff5643f256aea8",
        "IPY_MODEL_cc55457b125445b2b50dd15f2468f5a3"
       ],
       "layout": "IPY_MODEL_927492feffab4b028bc2e0ccb4a52201"
      }
     },
     "ea7804a0da85457992cca6349bab69ee": {
      "model_module": "@jupyter-widgets/base",
      "model_module_version": "1.2.0",
      "model_name": "LayoutModel",
      "state": {}
     },
     "eabec0e70b31477fa32d8e150795e4cc": {
      "model_module": "@jupyter-widgets/controls",
      "model_module_version": "1.5.0",
      "model_name": "HBoxModel",
      "state": {
       "children": [
        "IPY_MODEL_30d5c38ee7ea45e2b0beffee1c6536f0",
        "IPY_MODEL_f8397ecf9b764aa384b2fef4420aec91"
       ],
       "layout": "IPY_MODEL_772e28cf0f684ac48189ee5efd86f927"
      }
     },
     "ead9ac8c66584217ae2394e747fa9d61": {
      "model_module": "@jupyter-widgets/controls",
      "model_module_version": "1.5.0",
      "model_name": "HBoxModel",
      "state": {
       "children": [
        "IPY_MODEL_b04a19b0798f404c9e4de433dc71a0a7",
        "IPY_MODEL_64c1a3a3d3e44f45ba13c1d6ff243ec8"
       ],
       "layout": "IPY_MODEL_840e2268b05d4a5793e98a77b41afd4a"
      }
     },
     "eaf07b2c42f5478da55996dde97bef5c": {
      "model_module": "@jupyter-widgets/controls",
      "model_module_version": "1.5.0",
      "model_name": "HBoxModel",
      "state": {
       "children": [
        "IPY_MODEL_adb23f0011424694b62608c860966085",
        "IPY_MODEL_20d6052fa1954b059a5e446a12f6974b"
       ],
       "layout": "IPY_MODEL_a5a288eb4e9a42f3aa6827544036805d"
      }
     },
     "eaf6c380193a4b50a27deff2135d9dd1": {
      "model_module": "@jupyter-widgets/base",
      "model_module_version": "1.2.0",
      "model_name": "LayoutModel",
      "state": {}
     },
     "eb3f4fae83a54e08b53f8e44fcb518f8": {
      "model_module": "@jupyter-widgets/base",
      "model_module_version": "1.2.0",
      "model_name": "LayoutModel",
      "state": {}
     },
     "eb811874bed54464b1b74942e6ee8006": {
      "model_module": "@jupyter-widgets/controls",
      "model_module_version": "1.5.0",
      "model_name": "ProgressStyleModel",
      "state": {
       "description_width": "initial"
      }
     },
     "eb8d54a870bd49b4b21dd68049b787c3": {
      "model_module": "@jupyter-widgets/controls",
      "model_module_version": "1.5.0",
      "model_name": "HTMLModel",
      "state": {
       "layout": "IPY_MODEL_ccbb978777e74978871ba9bfe19c02c1",
       "style": "IPY_MODEL_a05c0d2ce1d54d80ad1a54f2557c65fc",
       "value": " 30/30 [00:04&lt;00:00,  6.93it/s]"
      }
     },
     "ebbc2648cd3d43b3bff93e57064583cc": {
      "model_module": "@jupyter-widgets/base",
      "model_module_version": "1.2.0",
      "model_name": "LayoutModel",
      "state": {}
     },
     "ec016d0ebb094b11b0c05d7e20048152": {
      "model_module": "@jupyter-widgets/controls",
      "model_module_version": "1.5.0",
      "model_name": "FloatProgressModel",
      "state": {
       "bar_style": "success",
       "description": "100%",
       "layout": "IPY_MODEL_c0ed8f0e00d446da9574a13258a058b3",
       "max": 4,
       "style": "IPY_MODEL_bb5ab2130c1d4fecb1da91c9be562876",
       "value": 4
      }
     },
     "ec287edb913c43e6878336ba286e068a": {
      "model_module": "@jupyter-widgets/controls",
      "model_module_version": "1.5.0",
      "model_name": "HBoxModel",
      "state": {
       "children": [
        "IPY_MODEL_783435f52b8448afbebe682b8f4f463c",
        "IPY_MODEL_ef76bf6432d9499a9217c1623ceed862"
       ],
       "layout": "IPY_MODEL_f8ec420f7d864f209fbb7f090c2aaf55"
      }
     },
     "ec4f48768b19485bb70c70e21331fb29": {
      "model_module": "@jupyter-widgets/controls",
      "model_module_version": "1.5.0",
      "model_name": "FloatProgressModel",
      "state": {
       "bar_style": "success",
       "description": "100%",
       "layout": "IPY_MODEL_20ffb2794e744df2827b56a01e8a534d",
       "max": 30,
       "style": "IPY_MODEL_dffbede387e3408c9588535b4a7c173d",
       "value": 30
      }
     },
     "ec7d744b902348fd8fffa42604f206b2": {
      "model_module": "@jupyter-widgets/controls",
      "model_module_version": "1.5.0",
      "model_name": "FloatProgressModel",
      "state": {
       "bar_style": "success",
       "description": "100%",
       "layout": "IPY_MODEL_c12f571b5e334127bb44afb228156e21",
       "max": 30,
       "style": "IPY_MODEL_ab7a3d9e0a13497b8d0d8809b6dbed69",
       "value": 30
      }
     },
     "ec7f8cb558f74b13812aad4531d576a2": {
      "model_module": "@jupyter-widgets/controls",
      "model_module_version": "1.5.0",
      "model_name": "HTMLModel",
      "state": {
       "layout": "IPY_MODEL_f3592c8edcd14d42836defdb34292a79",
       "style": "IPY_MODEL_39c4cd5f4df6406b9de2e52e8e93d749",
       "value": " 30/30 [00:03&lt;00:00,  8.26it/s]"
      }
     },
     "ec88b95131d74262b265750dc516e89c": {
      "model_module": "@jupyter-widgets/controls",
      "model_module_version": "1.5.0",
      "model_name": "FloatProgressModel",
      "state": {
       "bar_style": "success",
       "description": "100%",
       "layout": "IPY_MODEL_9c5a53730f4a48ea84eb0568363ddbb5",
       "max": 30,
       "style": "IPY_MODEL_4277b1b98cfd4a9ba5684778c507b63e",
       "value": 30
      }
     },
     "ec9243d951dd4fb1b23453e50a93ff97": {
      "model_module": "@jupyter-widgets/controls",
      "model_module_version": "1.5.0",
      "model_name": "HBoxModel",
      "state": {
       "children": [
        "IPY_MODEL_dadc6938366149b78cb60f46cd269b0b",
        "IPY_MODEL_28f2b3b223414a8b8ef06c7c1c6cff7e"
       ],
       "layout": "IPY_MODEL_812c018c06a549dd97cb2a4a42e2976b"
      }
     },
     "ecbff2d625a4426eb9123fabf7fe4873": {
      "model_module": "@jupyter-widgets/controls",
      "model_module_version": "1.5.0",
      "model_name": "DescriptionStyleModel",
      "state": {
       "description_width": ""
      }
     },
     "ecd237f1aa534bad8ccbc97755b27dd8": {
      "model_module": "@jupyter-widgets/controls",
      "model_module_version": "1.5.0",
      "model_name": "DescriptionStyleModel",
      "state": {
       "description_width": ""
      }
     },
     "ece9cc9fd17344a19059323f8b9fa3d1": {
      "model_module": "@jupyter-widgets/controls",
      "model_module_version": "1.5.0",
      "model_name": "ProgressStyleModel",
      "state": {
       "description_width": "initial"
      }
     },
     "ed02d5b6c5e54863b1efbc60f523b494": {
      "model_module": "@jupyter-widgets/controls",
      "model_module_version": "1.5.0",
      "model_name": "HTMLModel",
      "state": {
       "layout": "IPY_MODEL_e0c96f8461d44e61b9837154c66eff06",
       "style": "IPY_MODEL_12e9030198c047b78a447aa2d270d40d",
       "value": " 30/30 [00:03&lt;00:00,  8.12it/s]"
      }
     },
     "ed9ba29743f14564980f0ecb0035805f": {
      "model_module": "@jupyter-widgets/base",
      "model_module_version": "1.2.0",
      "model_name": "LayoutModel",
      "state": {}
     },
     "edabe0a7a4a748439279593b33bf97ac": {
      "model_module": "@jupyter-widgets/controls",
      "model_module_version": "1.5.0",
      "model_name": "HBoxModel",
      "state": {
       "children": [
        "IPY_MODEL_52710d73932e49729412017090188d20",
        "IPY_MODEL_62dc3d24edc241418a8d18ff0e717db4"
       ],
       "layout": "IPY_MODEL_97d6bce2951e4ddc90f28122880700cc"
      }
     },
     "ee0d010b1fb249278bec346618508e21": {
      "model_module": "@jupyter-widgets/controls",
      "model_module_version": "1.5.0",
      "model_name": "FloatProgressModel",
      "state": {
       "bar_style": "success",
       "description": "100%",
       "layout": "IPY_MODEL_ef46e5a19d6c427d8396936ba971131c",
       "max": 30,
       "style": "IPY_MODEL_6cb3809630ea481bb40084c8fce115d8",
       "value": 30
      }
     },
     "ee7b7d7b9a3146bca1954d6dc31bf89b": {
      "model_module": "@jupyter-widgets/base",
      "model_module_version": "1.2.0",
      "model_name": "LayoutModel",
      "state": {}
     },
     "ee94d8f1b1c3476099749588f3003bb9": {
      "model_module": "@jupyter-widgets/controls",
      "model_module_version": "1.5.0",
      "model_name": "HTMLModel",
      "state": {
       "layout": "IPY_MODEL_38a05fd44ed64914b1b059b8abbe2963",
       "style": "IPY_MODEL_c51b8ad105604791bab16303d92828ab",
       "value": " 4/4 [00:03&lt;00:00,  1.02it/s]"
      }
     },
     "eed66c9c6e7d44c3aa1905762fd1a15f": {
      "model_module": "@jupyter-widgets/controls",
      "model_module_version": "1.5.0",
      "model_name": "DescriptionStyleModel",
      "state": {
       "description_width": ""
      }
     },
     "ef33cba4208c450e80c73daa9737e0d0": {
      "model_module": "@jupyter-widgets/controls",
      "model_module_version": "1.5.0",
      "model_name": "HTMLModel",
      "state": {
       "layout": "IPY_MODEL_56d16d4ba67d467ea6666e974ee8a70d",
       "style": "IPY_MODEL_2138f5408e214cd7ab64d7e3ab34d864",
       "value": " 4/4 [00:00&lt;00:00, 10.80it/s]"
      }
     },
     "ef3af52fd80043218b70eab57c56ad49": {
      "model_module": "@jupyter-widgets/controls",
      "model_module_version": "1.5.0",
      "model_name": "DescriptionStyleModel",
      "state": {
       "description_width": ""
      }
     },
     "ef46e5a19d6c427d8396936ba971131c": {
      "model_module": "@jupyter-widgets/base",
      "model_module_version": "1.2.0",
      "model_name": "LayoutModel",
      "state": {}
     },
     "ef715a73cfd34c1d8d7fed07786dce0b": {
      "model_module": "@jupyter-widgets/base",
      "model_module_version": "1.2.0",
      "model_name": "LayoutModel",
      "state": {}
     },
     "ef76bf6432d9499a9217c1623ceed862": {
      "model_module": "@jupyter-widgets/controls",
      "model_module_version": "1.5.0",
      "model_name": "HTMLModel",
      "state": {
       "layout": "IPY_MODEL_10e21f8e235d4208828c7c1104160209",
       "style": "IPY_MODEL_530acfc2938b4b1fb9baa245718ec0ec",
       "value": " 4/4 [00:04&lt;00:00,  1.09s/it]"
      }
     },
     "ef990a75aabb42868a78b6c8d036288a": {
      "model_module": "@jupyter-widgets/base",
      "model_module_version": "1.2.0",
      "model_name": "LayoutModel",
      "state": {}
     },
     "f054f75d3c6243cb9c6fe9518dd39b94": {
      "model_module": "@jupyter-widgets/base",
      "model_module_version": "1.2.0",
      "model_name": "LayoutModel",
      "state": {}
     },
     "f09ced4b9b1345c7b720bb4006f606a3": {
      "model_module": "@jupyter-widgets/controls",
      "model_module_version": "1.5.0",
      "model_name": "DescriptionStyleModel",
      "state": {
       "description_width": ""
      }
     },
     "f0a03e8e4afc4510b8bc07d50edb4691": {
      "model_module": "@jupyter-widgets/controls",
      "model_module_version": "1.5.0",
      "model_name": "DescriptionStyleModel",
      "state": {
       "description_width": ""
      }
     },
     "f0a8b2d4a75b42f9a234cdf4e1a5e0dc": {
      "model_module": "@jupyter-widgets/base",
      "model_module_version": "1.2.0",
      "model_name": "LayoutModel",
      "state": {}
     },
     "f0aba1e6a0894713b12e83f8326694d1": {
      "model_module": "@jupyter-widgets/controls",
      "model_module_version": "1.5.0",
      "model_name": "DescriptionStyleModel",
      "state": {
       "description_width": ""
      }
     },
     "f0d9336ea30f46c688b993943ada8972": {
      "model_module": "@jupyter-widgets/controls",
      "model_module_version": "1.5.0",
      "model_name": "ProgressStyleModel",
      "state": {
       "description_width": "initial"
      }
     },
     "f0e006bfa22b42049e342851850d8dd6": {
      "model_module": "@jupyter-widgets/controls",
      "model_module_version": "1.5.0",
      "model_name": "ProgressStyleModel",
      "state": {
       "description_width": "initial"
      }
     },
     "f0eb360830044f579035dc0f8b30060d": {
      "model_module": "@jupyter-widgets/base",
      "model_module_version": "1.2.0",
      "model_name": "LayoutModel",
      "state": {}
     },
     "f142532ec2a347ef85d599f514ddd75a": {
      "model_module": "@jupyter-widgets/controls",
      "model_module_version": "1.5.0",
      "model_name": "DescriptionStyleModel",
      "state": {
       "description_width": ""
      }
     },
     "f14a369c4dd24044a2b939e1f462f45f": {
      "model_module": "@jupyter-widgets/controls",
      "model_module_version": "1.5.0",
      "model_name": "DescriptionStyleModel",
      "state": {
       "description_width": ""
      }
     },
     "f161345aac60401a86ab422f2100d2ba": {
      "model_module": "@jupyter-widgets/controls",
      "model_module_version": "1.5.0",
      "model_name": "ProgressStyleModel",
      "state": {
       "description_width": "initial"
      }
     },
     "f18171c088f8427c83e7522ecce1d939": {
      "model_module": "@jupyter-widgets/controls",
      "model_module_version": "1.5.0",
      "model_name": "ProgressStyleModel",
      "state": {
       "description_width": "initial"
      }
     },
     "f19964cf620b46fbbf92b267d70a3175": {
      "model_module": "@jupyter-widgets/controls",
      "model_module_version": "1.5.0",
      "model_name": "FloatProgressModel",
      "state": {
       "bar_style": "success",
       "description": "100%",
       "layout": "IPY_MODEL_52376650e55646d9a3988f290e04746f",
       "max": 4,
       "style": "IPY_MODEL_20728bdd9e8243bea068728e78c41cfa",
       "value": 4
      }
     },
     "f1b152b833674dbaa5fa4f6e5af38b18": {
      "model_module": "@jupyter-widgets/controls",
      "model_module_version": "1.5.0",
      "model_name": "ProgressStyleModel",
      "state": {
       "description_width": "initial"
      }
     },
     "f1bd6bca9f9946d583a16b08ee5257b8": {
      "model_module": "@jupyter-widgets/controls",
      "model_module_version": "1.5.0",
      "model_name": "DescriptionStyleModel",
      "state": {
       "description_width": ""
      }
     },
     "f2155104c7fe4e66b4542fb2b611aa7b": {
      "model_module": "@jupyter-widgets/base",
      "model_module_version": "1.2.0",
      "model_name": "LayoutModel",
      "state": {}
     },
     "f23291dc7612426e97d2fa90e5a5d083": {
      "model_module": "@jupyter-widgets/base",
      "model_module_version": "1.2.0",
      "model_name": "LayoutModel",
      "state": {}
     },
     "f23aa33e91814304a391c3f38c86cc8e": {
      "model_module": "@jupyter-widgets/controls",
      "model_module_version": "1.5.0",
      "model_name": "DescriptionStyleModel",
      "state": {
       "description_width": ""
      }
     },
     "f23e7fba5ce5450b8468f664b27bf9be": {
      "model_module": "@jupyter-widgets/controls",
      "model_module_version": "1.5.0",
      "model_name": "DescriptionStyleModel",
      "state": {
       "description_width": ""
      }
     },
     "f240abeb86454e78a1f63af2ff66c590": {
      "model_module": "@jupyter-widgets/controls",
      "model_module_version": "1.5.0",
      "model_name": "FloatProgressModel",
      "state": {
       "bar_style": "success",
       "description": "100%",
       "layout": "IPY_MODEL_d47933f5a88645ebbd163435719289fc",
       "max": 30,
       "style": "IPY_MODEL_b647392ffeea4ec2ac692ba318df595b",
       "value": 30
      }
     },
     "f2a700c458454cd1ab683e7d4b067251": {
      "model_module": "@jupyter-widgets/base",
      "model_module_version": "1.2.0",
      "model_name": "LayoutModel",
      "state": {}
     },
     "f2cfa01304a248ef8af3749b435df9e5": {
      "model_module": "@jupyter-widgets/controls",
      "model_module_version": "1.5.0",
      "model_name": "HTMLModel",
      "state": {
       "layout": "IPY_MODEL_eb3f4fae83a54e08b53f8e44fcb518f8",
       "style": "IPY_MODEL_18916f9c6c554c7aae1c54bc70d0df85",
       "value": " 30/30 [00:23&lt;00:00,  1.29it/s]"
      }
     },
     "f2e66c4554694a148d69ed7ffac2bbd1": {
      "model_module": "@jupyter-widgets/base",
      "model_module_version": "1.2.0",
      "model_name": "LayoutModel",
      "state": {}
     },
     "f3592c8edcd14d42836defdb34292a79": {
      "model_module": "@jupyter-widgets/base",
      "model_module_version": "1.2.0",
      "model_name": "LayoutModel",
      "state": {}
     },
     "f35de0cd080c4ea59181c1493adb7781": {
      "model_module": "@jupyter-widgets/base",
      "model_module_version": "1.2.0",
      "model_name": "LayoutModel",
      "state": {}
     },
     "f3841e46c5684417b6f5adc568b0d9ab": {
      "model_module": "@jupyter-widgets/controls",
      "model_module_version": "1.5.0",
      "model_name": "HTMLModel",
      "state": {
       "layout": "IPY_MODEL_c16852b180314480a7f12831e7a6f936",
       "style": "IPY_MODEL_ab2b12352c334561a26981cd4d996e20",
       "value": " 30/30 [00:04&lt;00:00,  7.34it/s]"
      }
     },
     "f42f4bbd5bf94f6e8a8a090fd9198451": {
      "model_module": "@jupyter-widgets/base",
      "model_module_version": "1.2.0",
      "model_name": "LayoutModel",
      "state": {}
     },
     "f43188efc23e4527afff3d1fd5164f88": {
      "model_module": "@jupyter-widgets/base",
      "model_module_version": "1.2.0",
      "model_name": "LayoutModel",
      "state": {}
     },
     "f43b7722ceb7416ab873dfb9021cdf26": {
      "model_module": "@jupyter-widgets/base",
      "model_module_version": "1.2.0",
      "model_name": "LayoutModel",
      "state": {}
     },
     "f4d8ea940a014be6a753000e10efc7db": {
      "model_module": "@jupyter-widgets/controls",
      "model_module_version": "1.5.0",
      "model_name": "FloatProgressModel",
      "state": {
       "bar_style": "success",
       "description": "100%",
       "layout": "IPY_MODEL_4ecab56b863f44a1b263285182429937",
       "max": 4,
       "style": "IPY_MODEL_1beae7139d1846ffa404136dd475b8d5",
       "value": 4
      }
     },
     "f54f70af624844e3a80d9b40505fdeea": {
      "model_module": "@jupyter-widgets/controls",
      "model_module_version": "1.5.0",
      "model_name": "ProgressStyleModel",
      "state": {
       "description_width": "initial"
      }
     },
     "f57c17c1daf0488081589d377cd76896": {
      "model_module": "@jupyter-widgets/controls",
      "model_module_version": "1.5.0",
      "model_name": "DescriptionStyleModel",
      "state": {
       "description_width": ""
      }
     },
     "f5967c42c55b49b2bce50784362c237d": {
      "model_module": "@jupyter-widgets/controls",
      "model_module_version": "1.5.0",
      "model_name": "HTMLModel",
      "state": {
       "layout": "IPY_MODEL_fcb1e8b2450c4394b9f07aeabb3c462f",
       "style": "IPY_MODEL_9bd784106cc147d0970d84c49288857b",
       "value": " 30/30 [02:12&lt;00:00,  4.42s/it]"
      }
     },
     "f5b4fa736c43487f8caf0f29108cc521": {
      "model_module": "@jupyter-widgets/controls",
      "model_module_version": "1.5.0",
      "model_name": "HBoxModel",
      "state": {
       "children": [
        "IPY_MODEL_7f26b43da623402088226a7169d4bf9b",
        "IPY_MODEL_3067ae0bc80b48cc8d4d0ac364fc9274"
       ],
       "layout": "IPY_MODEL_ac72ada582bc4b759b6ca4c87799f5e4"
      }
     },
     "f5bc71be44c44886a06db0f18a61f70c": {
      "model_module": "@jupyter-widgets/base",
      "model_module_version": "1.2.0",
      "model_name": "LayoutModel",
      "state": {}
     },
     "f5f317aa63bd40db92e360bb11e1ccda": {
      "model_module": "@jupyter-widgets/controls",
      "model_module_version": "1.5.0",
      "model_name": "DescriptionStyleModel",
      "state": {
       "description_width": ""
      }
     },
     "f608e9ee4ec846129751332a75ebad08": {
      "model_module": "@jupyter-widgets/controls",
      "model_module_version": "1.5.0",
      "model_name": "DescriptionStyleModel",
      "state": {
       "description_width": ""
      }
     },
     "f62b158105784e58bb0a474a9b38f79f": {
      "model_module": "@jupyter-widgets/controls",
      "model_module_version": "1.5.0",
      "model_name": "FloatProgressModel",
      "state": {
       "bar_style": "success",
       "description": "100%",
       "layout": "IPY_MODEL_44a4488dca7447259b0625d8ea6e4a58",
       "max": 4,
       "style": "IPY_MODEL_df9a0ce697164008a9f225b1892bff32",
       "value": 4
      }
     },
     "f64e167c19d04d5fbe0c0871df4a6e12": {
      "model_module": "@jupyter-widgets/controls",
      "model_module_version": "1.5.0",
      "model_name": "FloatProgressModel",
      "state": {
       "bar_style": "success",
       "description": "100%",
       "layout": "IPY_MODEL_16cfa296cb7f4286bc1797fcab56bcd4",
       "max": 30,
       "style": "IPY_MODEL_8ae3dc89e11d413785efc37ca1e158f1",
       "value": 30
      }
     },
     "f65598c1663645fcbc0f5d3bec3572d9": {
      "model_module": "@jupyter-widgets/controls",
      "model_module_version": "1.5.0",
      "model_name": "HTMLModel",
      "state": {
       "layout": "IPY_MODEL_1c18b871020646648ca3bc46f440b0bc",
       "style": "IPY_MODEL_0224444df06545a192e4d5b8d43342c1",
       "value": " 30/30 [00:57&lt;00:00,  1.93s/it]"
      }
     },
     "f65fb1ba5d4242259e555f2c49d6366b": {
      "model_module": "@jupyter-widgets/controls",
      "model_module_version": "1.5.0",
      "model_name": "ProgressStyleModel",
      "state": {
       "description_width": "initial"
      }
     },
     "f698937b5ab44360af7f4750c77b061f": {
      "model_module": "@jupyter-widgets/controls",
      "model_module_version": "1.5.0",
      "model_name": "ProgressStyleModel",
      "state": {
       "description_width": "initial"
      }
     },
     "f69f5531dcd74c1cac0f7f6d5895d4ac": {
      "model_module": "@jupyter-widgets/controls",
      "model_module_version": "1.5.0",
      "model_name": "FloatProgressModel",
      "state": {
       "bar_style": "success",
       "description": "100%",
       "layout": "IPY_MODEL_09bb86f9f9fc4e50b6a9238af8a02e27",
       "max": 30,
       "style": "IPY_MODEL_129ffa9894a24e39824bb9e67d1b91ff",
       "value": 30
      }
     },
     "f6a05e3354c74290af3a7efb9eadee2a": {
      "model_module": "@jupyter-widgets/controls",
      "model_module_version": "1.5.0",
      "model_name": "HTMLModel",
      "state": {
       "layout": "IPY_MODEL_8eb7974b79f14847aaa3b7118a4b0b75",
       "style": "IPY_MODEL_0acfdb701f1c44d0add90b50b1aed3df",
       "value": " 30/30 [00:51&lt;00:00,  1.71s/it]"
      }
     },
     "f6b0cc9a9fc445d8aeab0e6e3bda236f": {
      "model_module": "@jupyter-widgets/controls",
      "model_module_version": "1.5.0",
      "model_name": "FloatProgressModel",
      "state": {
       "bar_style": "success",
       "description": "100%",
       "layout": "IPY_MODEL_9312c5bee9c84be2ae49d9abb06a0481",
       "max": 4,
       "style": "IPY_MODEL_57d458ec2e8946bcb9660bbe89a8f083",
       "value": 4
      }
     },
     "f717daf4facc458c85bbe58169bf9f6e": {
      "model_module": "@jupyter-widgets/base",
      "model_module_version": "1.2.0",
      "model_name": "LayoutModel",
      "state": {}
     },
     "f72b5fa65ad642d5b5e41b316172d7cd": {
      "model_module": "@jupyter-widgets/controls",
      "model_module_version": "1.5.0",
      "model_name": "FloatProgressModel",
      "state": {
       "bar_style": "success",
       "description": "100%",
       "layout": "IPY_MODEL_ea7804a0da85457992cca6349bab69ee",
       "max": 30,
       "style": "IPY_MODEL_ad8d552c0cba48728796252c5e8f448c",
       "value": 30
      }
     },
     "f7741792d1f24a14bb8496630174c5fc": {
      "model_module": "@jupyter-widgets/controls",
      "model_module_version": "1.5.0",
      "model_name": "FloatProgressModel",
      "state": {
       "bar_style": "success",
       "description": "100%",
       "layout": "IPY_MODEL_97c93f36f6704c5889c607f6df29dc28",
       "max": 4,
       "style": "IPY_MODEL_1c3f6329f95c4899a6611c5e0a8802f9",
       "value": 4
      }
     },
     "f7a6cf48ec0b487e9309bd65da6c8bb2": {
      "model_module": "@jupyter-widgets/base",
      "model_module_version": "1.2.0",
      "model_name": "LayoutModel",
      "state": {}
     },
     "f8397ecf9b764aa384b2fef4420aec91": {
      "model_module": "@jupyter-widgets/controls",
      "model_module_version": "1.5.0",
      "model_name": "HTMLModel",
      "state": {
       "layout": "IPY_MODEL_89f5a0a572814a6b897a8db4cd26fdc3",
       "style": "IPY_MODEL_13bebc21a1724695a46b43f397ec14c5",
       "value": " 30/30 [00:34&lt;00:00,  1.15s/it]"
      }
     },
     "f873ab2754f14cd9bc05b9c283d7a275": {
      "model_module": "@jupyter-widgets/base",
      "model_module_version": "1.2.0",
      "model_name": "LayoutModel",
      "state": {}
     },
     "f890acfea0a44c498aeda9e783626ca7": {
      "model_module": "@jupyter-widgets/base",
      "model_module_version": "1.2.0",
      "model_name": "LayoutModel",
      "state": {}
     },
     "f8c0e839224747d58692172c70bccea7": {
      "model_module": "@jupyter-widgets/base",
      "model_module_version": "1.2.0",
      "model_name": "LayoutModel",
      "state": {}
     },
     "f8e9dd337c6f4491a924e99200f5a2fd": {
      "model_module": "@jupyter-widgets/controls",
      "model_module_version": "1.5.0",
      "model_name": "HTMLModel",
      "state": {
       "layout": "IPY_MODEL_96767a1558814c04877d4ce977e4557a",
       "style": "IPY_MODEL_4cd92b249a5249b5bccf8fa18b19dd85",
       "value": " 4/4 [00:00&lt;00:00,  9.74it/s]"
      }
     },
     "f8ec420f7d864f209fbb7f090c2aaf55": {
      "model_module": "@jupyter-widgets/base",
      "model_module_version": "1.2.0",
      "model_name": "LayoutModel",
      "state": {}
     },
     "f8f766cc99f5433b8c6e2ad7f9247659": {
      "model_module": "@jupyter-widgets/controls",
      "model_module_version": "1.5.0",
      "model_name": "ProgressStyleModel",
      "state": {
       "description_width": "initial"
      }
     },
     "f93de0256c6543e9b6f556969359ffdb": {
      "model_module": "@jupyter-widgets/controls",
      "model_module_version": "1.5.0",
      "model_name": "DescriptionStyleModel",
      "state": {
       "description_width": ""
      }
     },
     "f948ba4892aa481c878ed93a3343fa94": {
      "model_module": "@jupyter-widgets/controls",
      "model_module_version": "1.5.0",
      "model_name": "HBoxModel",
      "state": {
       "children": [
        "IPY_MODEL_80491c5afaf5473cbe49d55e1b7f6f47",
        "IPY_MODEL_4f1eda19bf714093949d6c03dac2f079"
       ],
       "layout": "IPY_MODEL_dfc47e6d59854d5dbc754308887e9cc9"
      }
     },
     "f988fd804a4d40dc92adf5b2e694f4fd": {
      "model_module": "@jupyter-widgets/base",
      "model_module_version": "1.2.0",
      "model_name": "LayoutModel",
      "state": {}
     },
     "f98a8fdadc9b4f9f90222aa57bc688cc": {
      "model_module": "@jupyter-widgets/controls",
      "model_module_version": "1.5.0",
      "model_name": "HBoxModel",
      "state": {
       "children": [
        "IPY_MODEL_e43f82e149f84457a5cabfe03b68aa85",
        "IPY_MODEL_a5fde63aca6c4faab1f3cbdb89f93a6e"
       ],
       "layout": "IPY_MODEL_980756005c8e459691aa79b276311897"
      }
     },
     "f9a2764706e04d32918881ef07507da9": {
      "model_module": "@jupyter-widgets/controls",
      "model_module_version": "1.5.0",
      "model_name": "HTMLModel",
      "state": {
       "layout": "IPY_MODEL_7443b99e56834b259de33b64e00d68c9",
       "style": "IPY_MODEL_94c147eb91494d8ba2b9a9c99d77f4d9",
       "value": " 4/4 [00:04&lt;00:00,  1.07s/it]"
      }
     },
     "f9cd0d3c0b38430f8f5a80ffdd356cfe": {
      "model_module": "@jupyter-widgets/base",
      "model_module_version": "1.2.0",
      "model_name": "LayoutModel",
      "state": {}
     },
     "fa074c4adc6549be80c3e5f1eff44906": {
      "model_module": "@jupyter-widgets/base",
      "model_module_version": "1.2.0",
      "model_name": "LayoutModel",
      "state": {}
     },
     "fa2635958df24968ad023493be051332": {
      "model_module": "@jupyter-widgets/base",
      "model_module_version": "1.2.0",
      "model_name": "LayoutModel",
      "state": {}
     },
     "fa6ee5f705334e65b8a07cdc334fa5aa": {
      "model_module": "@jupyter-widgets/base",
      "model_module_version": "1.2.0",
      "model_name": "LayoutModel",
      "state": {}
     },
     "fa8074aba386426ea0ae4dee1d82152b": {
      "model_module": "@jupyter-widgets/base",
      "model_module_version": "1.2.0",
      "model_name": "LayoutModel",
      "state": {}
     },
     "fa9e661ee66f4c1da4f040e21cc3c31a": {
      "model_module": "@jupyter-widgets/controls",
      "model_module_version": "1.5.0",
      "model_name": "FloatProgressModel",
      "state": {
       "bar_style": "success",
       "description": "100%",
       "layout": "IPY_MODEL_dcc11d89691548f4b3a7a2f6065ed354",
       "max": 30,
       "style": "IPY_MODEL_225c6981d3564fafb55e49697f3d302a",
       "value": 30
      }
     },
     "fac588057ec240a9af1953bb3bdbc110": {
      "model_module": "@jupyter-widgets/controls",
      "model_module_version": "1.5.0",
      "model_name": "ProgressStyleModel",
      "state": {
       "description_width": "initial"
      }
     },
     "facdb51ac220484e9fcc4121aeda5a02": {
      "model_module": "@jupyter-widgets/base",
      "model_module_version": "1.2.0",
      "model_name": "LayoutModel",
      "state": {}
     },
     "fafcbbf85c1a45558b5bf29abab85af5": {
      "model_module": "@jupyter-widgets/controls",
      "model_module_version": "1.5.0",
      "model_name": "FloatProgressModel",
      "state": {
       "bar_style": "success",
       "description": "100%",
       "layout": "IPY_MODEL_990a0c3d132243ee9921865963b55eb3",
       "max": 4,
       "style": "IPY_MODEL_aeb26812541d4c3fad230d5022f946f0",
       "value": 4
      }
     },
     "fb0c6e6c08c24647b0d9db0a4d5c1d15": {
      "model_module": "@jupyter-widgets/controls",
      "model_module_version": "1.5.0",
      "model_name": "HTMLModel",
      "state": {
       "layout": "IPY_MODEL_00b132f3b5364c1fa085db2edd7062b6",
       "style": "IPY_MODEL_52d0edbe65a343f8b1ca57c645d29960",
       "value": " 4/4 [00:00&lt;00:00,  9.85it/s]"
      }
     },
     "fb4d7d13a5374f60afdfe3ee380db63c": {
      "model_module": "@jupyter-widgets/base",
      "model_module_version": "1.2.0",
      "model_name": "LayoutModel",
      "state": {}
     },
     "fb4dc83d61874873b0321a9a7dfcf800": {
      "model_module": "@jupyter-widgets/base",
      "model_module_version": "1.2.0",
      "model_name": "LayoutModel",
      "state": {}
     },
     "fb95b85cafa7420dbaeea9e2f0335364": {
      "model_module": "@jupyter-widgets/base",
      "model_module_version": "1.2.0",
      "model_name": "LayoutModel",
      "state": {}
     },
     "fb9c9272eca144cfa00053ed6a88a02f": {
      "model_module": "@jupyter-widgets/base",
      "model_module_version": "1.2.0",
      "model_name": "LayoutModel",
      "state": {}
     },
     "fb9f9a2fdbb24cfea4e9a226ac81e3b6": {
      "model_module": "@jupyter-widgets/controls",
      "model_module_version": "1.5.0",
      "model_name": "DescriptionStyleModel",
      "state": {
       "description_width": ""
      }
     },
     "fba227cc644849e99fd0979ad1b4116c": {
      "model_module": "@jupyter-widgets/controls",
      "model_module_version": "1.5.0",
      "model_name": "HTMLModel",
      "state": {
       "layout": "IPY_MODEL_78268e3c123b4c63aa6ffe7c243b837f",
       "style": "IPY_MODEL_ce90ae7f259a4d9da5e06dcd1dc5952d",
       "value": " 30/30 [00:04&lt;00:00,  6.85it/s]"
      }
     },
     "fbf9c391caff4575ad9f9b1661f3e7e7": {
      "model_module": "@jupyter-widgets/base",
      "model_module_version": "1.2.0",
      "model_name": "LayoutModel",
      "state": {}
     },
     "fc003045f7264bb39e95651502559a1f": {
      "model_module": "@jupyter-widgets/controls",
      "model_module_version": "1.5.0",
      "model_name": "ProgressStyleModel",
      "state": {
       "description_width": "initial"
      }
     },
     "fc2b729cab234499abae0356caa66c4a": {
      "model_module": "@jupyter-widgets/controls",
      "model_module_version": "1.5.0",
      "model_name": "ProgressStyleModel",
      "state": {
       "description_width": "initial"
      }
     },
     "fc34c6879bd2441ea194f16992cb13f4": {
      "model_module": "@jupyter-widgets/controls",
      "model_module_version": "1.5.0",
      "model_name": "HTMLModel",
      "state": {
       "layout": "IPY_MODEL_7b0c9e11d5f44abfb9c257c6f2651338",
       "style": "IPY_MODEL_3a208906b2fc4376831c2062ec5dc1ea",
       "value": " 30/30 [00:03&lt;00:00,  8.13it/s]"
      }
     },
     "fc5dff2c47cb419980faa4c565b7d7d8": {
      "model_module": "@jupyter-widgets/controls",
      "model_module_version": "1.5.0",
      "model_name": "DescriptionStyleModel",
      "state": {
       "description_width": ""
      }
     },
     "fc5fba94ba7e456892757879882498cf": {
      "model_module": "@jupyter-widgets/controls",
      "model_module_version": "1.5.0",
      "model_name": "FloatProgressModel",
      "state": {
       "bar_style": "success",
       "description": "100%",
       "layout": "IPY_MODEL_29a299fae3344dd29476007c9575cd0c",
       "max": 30,
       "style": "IPY_MODEL_328e5415e59c46b3a75fc91a555641b6",
       "value": 30
      }
     },
     "fc792f2acb9043a08ebefa6bbd49e9ec": {
      "model_module": "@jupyter-widgets/base",
      "model_module_version": "1.2.0",
      "model_name": "LayoutModel",
      "state": {}
     },
     "fc870fb2ba25483e90a7ab3730eca954": {
      "model_module": "@jupyter-widgets/controls",
      "model_module_version": "1.5.0",
      "model_name": "HTMLModel",
      "state": {
       "layout": "IPY_MODEL_5219f3b8c78a4b6caef5a5869f965b6e",
       "style": "IPY_MODEL_ca3a2f14ad824570a1c6bb5092e60b71",
       "value": " 30/30 [00:03&lt;00:00,  7.54it/s]"
      }
     },
     "fca992242e0242cda4803877e26d2b58": {
      "model_module": "@jupyter-widgets/controls",
      "model_module_version": "1.5.0",
      "model_name": "ProgressStyleModel",
      "state": {
       "description_width": "initial"
      }
     },
     "fcb1e8b2450c4394b9f07aeabb3c462f": {
      "model_module": "@jupyter-widgets/base",
      "model_module_version": "1.2.0",
      "model_name": "LayoutModel",
      "state": {}
     },
     "fcda6d7d0e564bcf8efca92f687e08a4": {
      "model_module": "@jupyter-widgets/controls",
      "model_module_version": "1.5.0",
      "model_name": "HTMLModel",
      "state": {
       "layout": "IPY_MODEL_a1293db271b94623b94389edaadb2231",
       "style": "IPY_MODEL_e285194de95f456fa4fe6f5a483bfb84",
       "value": " 6/30 [00:01&lt;00:04,  5.73it/s]"
      }
     },
     "fd49a4aecd8f46f1934c1a79b06b7b3b": {
      "model_module": "@jupyter-widgets/base",
      "model_module_version": "1.2.0",
      "model_name": "LayoutModel",
      "state": {}
     },
     "fd7945223a1a49b88996254d5b948d13": {
      "model_module": "@jupyter-widgets/controls",
      "model_module_version": "1.5.0",
      "model_name": "DescriptionStyleModel",
      "state": {
       "description_width": ""
      }
     },
     "fdbed406696d4b7ea498bb155b7007a2": {
      "model_module": "@jupyter-widgets/controls",
      "model_module_version": "1.5.0",
      "model_name": "DescriptionStyleModel",
      "state": {
       "description_width": ""
      }
     },
     "fddb9e44159747a5930f0be7dc765f75": {
      "model_module": "@jupyter-widgets/base",
      "model_module_version": "1.2.0",
      "model_name": "LayoutModel",
      "state": {}
     },
     "fddfa9869185448ca986be27f0a3036e": {
      "model_module": "@jupyter-widgets/controls",
      "model_module_version": "1.5.0",
      "model_name": "DescriptionStyleModel",
      "state": {
       "description_width": ""
      }
     },
     "fdf37cce4b8c47d1aa98f2797060635b": {
      "model_module": "@jupyter-widgets/base",
      "model_module_version": "1.2.0",
      "model_name": "LayoutModel",
      "state": {}
     },
     "fe1cc2b7a1654176a24aa07d4dd41643": {
      "model_module": "@jupyter-widgets/base",
      "model_module_version": "1.2.0",
      "model_name": "LayoutModel",
      "state": {}
     },
     "fe26015ca3c54fb1ad6005fed81a70da": {
      "model_module": "@jupyter-widgets/base",
      "model_module_version": "1.2.0",
      "model_name": "LayoutModel",
      "state": {}
     },
     "fe2ff2bbb9ba49a8b3799846b1384a5c": {
      "model_module": "@jupyter-widgets/controls",
      "model_module_version": "1.5.0",
      "model_name": "HBoxModel",
      "state": {
       "children": [
        "IPY_MODEL_1393a7f32e2140af9259ee14723ebbcc",
        "IPY_MODEL_d31446e3e11b4ff8880267c51145716d"
       ],
       "layout": "IPY_MODEL_c02678b72d8e4b659a7d04366e29987d"
      }
     },
     "fe5a8d75bcb543bfb166d9bb96382020": {
      "model_module": "@jupyter-widgets/controls",
      "model_module_version": "1.5.0",
      "model_name": "FloatProgressModel",
      "state": {
       "bar_style": "success",
       "description": "100%",
       "layout": "IPY_MODEL_051ec944d906442aaef9f4ca62980850",
       "max": 30,
       "style": "IPY_MODEL_f161345aac60401a86ab422f2100d2ba",
       "value": 30
      }
     },
     "fe78deac4a5349f29dea18497d562069": {
      "model_module": "@jupyter-widgets/base",
      "model_module_version": "1.2.0",
      "model_name": "LayoutModel",
      "state": {}
     },
     "fe8c38816cbe401b9e649765e7dd1c60": {
      "model_module": "@jupyter-widgets/controls",
      "model_module_version": "1.5.0",
      "model_name": "ProgressStyleModel",
      "state": {
       "description_width": "initial"
      }
     },
     "febdb3d68a1d4214ab90766b1d064fbe": {
      "model_module": "@jupyter-widgets/base",
      "model_module_version": "1.2.0",
      "model_name": "LayoutModel",
      "state": {}
     },
     "feec012a12f348d097ec22187be75d87": {
      "model_module": "@jupyter-widgets/controls",
      "model_module_version": "1.5.0",
      "model_name": "FloatProgressModel",
      "state": {
       "bar_style": "success",
       "description": "100%",
       "layout": "IPY_MODEL_13d60e16638e48708de6e2ff6f1a56fc",
       "max": 4,
       "style": "IPY_MODEL_b8925a4bfe864f4681465b6f150f663e",
       "value": 4
      }
     },
     "fef039c608d54b0bae965acdc393e9ae": {
      "model_module": "@jupyter-widgets/base",
      "model_module_version": "1.2.0",
      "model_name": "LayoutModel",
      "state": {}
     },
     "fef0e5aa6b1649f0849651969cce7793": {
      "model_module": "@jupyter-widgets/controls",
      "model_module_version": "1.5.0",
      "model_name": "ProgressStyleModel",
      "state": {
       "description_width": "initial"
      }
     },
     "ff11c2bc82dc410fac3d78b36469681c": {
      "model_module": "@jupyter-widgets/base",
      "model_module_version": "1.2.0",
      "model_name": "LayoutModel",
      "state": {}
     },
     "ff3138c967da4c57a7ad5d3c7a0c8826": {
      "model_module": "@jupyter-widgets/controls",
      "model_module_version": "1.5.0",
      "model_name": "HTMLModel",
      "state": {
       "layout": "IPY_MODEL_86f61d005ce5470681fdaac0487af64c",
       "style": "IPY_MODEL_944a776247af413ca3959e807e5edb6a",
       "value": " 4/4 [00:00&lt;00:00, 13.46it/s]"
      }
     },
     "ff494cd41846496d81d1921b61134f96": {
      "model_module": "@jupyter-widgets/controls",
      "model_module_version": "1.5.0",
      "model_name": "FloatProgressModel",
      "state": {
       "bar_style": "success",
       "description": "100%",
       "layout": "IPY_MODEL_6d12eee364e24f44b86d8e3f7b4e65f7",
       "max": 4,
       "style": "IPY_MODEL_f698937b5ab44360af7f4750c77b061f",
       "value": 4
      }
     },
     "ffab6af87f36456b93732d586a9193e6": {
      "model_module": "@jupyter-widgets/base",
      "model_module_version": "1.2.0",
      "model_name": "LayoutModel",
      "state": {}
     },
     "ffb4576aa96e4731a6ccfb453597b040": {
      "model_module": "@jupyter-widgets/controls",
      "model_module_version": "1.5.0",
      "model_name": "HBoxModel",
      "state": {
       "children": [
        "IPY_MODEL_c18066e8157e48ca97df189b6a2911f3",
        "IPY_MODEL_a0d73423bbc9479db940bff5a8575791"
       ],
       "layout": "IPY_MODEL_7e1c8ea65d6e486983d6cba6e8b77c84"
      }
     },
     "ffb6849902824de29066487a5eb75bab": {
      "model_module": "@jupyter-widgets/controls",
      "model_module_version": "1.5.0",
      "model_name": "ProgressStyleModel",
      "state": {
       "description_width": "initial"
      }
     },
     "ffc6a259c139499e880b3afb7452d037": {
      "model_module": "@jupyter-widgets/controls",
      "model_module_version": "1.5.0",
      "model_name": "DescriptionStyleModel",
      "state": {
       "description_width": ""
      }
     },
     "ffcdd315449441aaa8afd7ca89813e83": {
      "model_module": "@jupyter-widgets/controls",
      "model_module_version": "1.5.0",
      "model_name": "ProgressStyleModel",
      "state": {
       "description_width": "initial"
      }
     },
     "ffd70a7c54ea47eab0b2643689518266": {
      "model_module": "@jupyter-widgets/controls",
      "model_module_version": "1.5.0",
      "model_name": "HTMLModel",
      "state": {
       "layout": "IPY_MODEL_9a45e976844249e3ad7a34a8cb5a5f4d",
       "style": "IPY_MODEL_75001853543541159c1c9040cc0f3256",
       "value": " 30/30 [00:53&lt;00:00,  1.79s/it]"
      }
     },
     "fff97404169f44f0a338bccece9bfa0c": {
      "model_module": "@jupyter-widgets/controls",
      "model_module_version": "1.5.0",
      "model_name": "FloatProgressModel",
      "state": {
       "bar_style": "success",
       "description": "100%",
       "layout": "IPY_MODEL_31b1b52e53534f88a86f68f4ad3f70eb",
       "max": 30,
       "style": "IPY_MODEL_caceeb6e072b43f1baf5e138e3f08d69",
       "value": 30
      }
     }
    },
    "version_major": 2,
    "version_minor": 0
   }
  }
 },
 "nbformat": 4,
 "nbformat_minor": 4
}
